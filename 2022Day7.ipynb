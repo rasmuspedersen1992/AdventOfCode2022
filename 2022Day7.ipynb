{
 "cells": [
  {
   "cell_type": "code",
   "execution_count": 398,
   "metadata": {},
   "outputs": [],
   "source": [
    "# Import packages\n",
    "import numpy as np\n",
    "curDay = 7\n",
    "\n",
    "# Download input file\n",
    "from download_inputs import download_inputs\n",
    "\n",
    "# download_inputs(curDay)"
   ]
  },
  {
   "cell_type": "code",
   "execution_count": 399,
   "metadata": {},
   "outputs": [
    {
     "name": "stdout",
     "output_type": "stream",
     "text": [
      "Done loading input\n"
     ]
    }
   ],
   "source": [
    "# Load input into workspace\n",
    "filename = f'inputs\\\\day{curDay}.txt'\n",
    "# curIn = np.loadtxt(filename)\n",
    "\n",
    "inputFile = open(filename)\n",
    "inputs = []\n",
    "inputs = [s for s in inputFile.read().splitlines()]\n",
    "\n",
    "print('Done loading input')"
   ]
  },
  {
   "cell_type": "code",
   "execution_count": 400,
   "metadata": {},
   "outputs": [
    {
     "name": "stdout",
     "output_type": "stream",
     "text": [
      "Done loading test-input\n"
     ]
    }
   ],
   "source": [
    "# Load test-input into workspace\n",
    "filenameTest = f'inputs\\\\day{curDay}test.txt'\n",
    "\n",
    "inputFileTest = open(filenameTest)\n",
    "inputsTest = []\n",
    "inputsTest = [s for s in inputFileTest.read().splitlines()]\n",
    "\n",
    "print('Done loading test-input')"
   ]
  },
  {
   "cell_type": "markdown",
   "metadata": {},
   "source": [
    "# Solving didn't go well, and solution was a quick-fix\n",
    "# Leaving everything a mess for posterity..."
   ]
  },
  {
   "cell_type": "code",
   "execution_count": 401,
   "metadata": {},
   "outputs": [],
   "source": [
    "# curInput = inputsTest\n",
    "# curInput"
   ]
  },
  {
   "cell_type": "code",
   "execution_count": 402,
   "metadata": {},
   "outputs": [
    {
     "data": {
      "text/plain": [
       "10"
      ]
     },
     "execution_count": 402,
     "metadata": {},
     "output_type": "execute_result"
    }
   ],
   "source": [
    "# Part 1\n",
    "inputsTest\n",
    "# inputs \n",
    "# mainTree = list() \n",
    "\n",
    "class di:\n",
    "    def __init__(self,name, parent,ownSize,children):\n",
    "        self.name = name \n",
    "        self.parent = parent \n",
    "        self.subDirs = children \n",
    "        self.size = ownSize \n",
    "\n",
    "    def getFullSize(self):\n",
    "        chiSize = 0\n",
    "        # print(self.subDirs)\n",
    "        if len(self.subDirs) > 0:\n",
    "\n",
    "            \n",
    "            for chi in self.subDirs:\n",
    "                # print(chi)\n",
    "                chiSize += chi.getFullSize()\n",
    "        return chiSize + self.size \n",
    "\n",
    "# Test cases\n",
    "testDir = di('q',[],3,[])\n",
    "testDir2 = di('q',[],7,[testDir])\n",
    "testDir.getFullSize()\n",
    "testDir2.getFullSize()\n",
    "\n",
    "\n"
   ]
  },
  {
   "cell_type": "code",
   "execution_count": 403,
   "metadata": {},
   "outputs": [
    {
     "data": {
      "text/plain": [
       "True"
      ]
     },
     "execution_count": 403,
     "metadata": {},
     "output_type": "execute_result"
    }
   ],
   "source": [
    "allNames =[]\n",
    "allNames.append('asdf')\n",
    "allNames.append('asdf43')\n",
    "np.any(np.array(allNames) == 'asdf')"
   ]
  },
  {
   "cell_type": "code",
   "execution_count": 404,
   "metadata": {},
   "outputs": [
    {
     "name": "stdout",
     "output_type": "stream",
     "text": [
      "\n",
      "/ ['_/_bsnqsfm', '_/_dtqvbspj', '_/_hhhtrws', '_/_ldmsq', '_/_pqcndb', '_/_pwtqzwv'] / 519758\n",
      "bsnqsfm [] /_bsnqsfm 179236\n",
      "dtqvbspj [] /_dtqvbspj 494450\n",
      "hhhtrws ['_/_hhhtrws_gcbg', '_/_hhhtrws_jjgpvcqv', '_/_hhhtrws_mgvdbtl', '_/_hhhtrws_qhv'] /_hhhtrws 29144\n",
      "gcbg ['_/_hhhtrws_gcbg_bgcwh', '_/_hhhtrws_gcbg_bsnqsfm', '_/_hhhtrws_gcbg_jjgpvcqv', '_/_hhhtrws_gcbg_rqbnd'] /_hhhtrws_gcbg 219627\n",
      "bgcwh [] /_hhhtrws_gcbg_bgcwh 211273\n",
      "bsnqsfm ['_/_hhhtrws_gcbg_bsnqsfm_bsnqsfm', '_/_hhhtrws_gcbg_bsnqsfm_gpcpgfh'] /_hhhtrws_gcbg_bsnqsfm 599380\n",
      "bsnqsfm [] /_hhhtrws_gcbg_bsnqsfm_bsnqsfm 292856\n",
      "gpcpgfh [] /_hhhtrws_gcbg_bsnqsfm_gpcpgfh 177703\n",
      "jjgpvcqv ['_/_hhhtrws_gcbg_jjgpvcqv_jjgpvcqv'] /_hhhtrws_gcbg_jjgpvcqv 582753\n"
     ]
    }
   ],
   "source": [
    "# Construct tree\n",
    "allDirs = []\n",
    "curPar = []\n",
    "curSubDirs = [] \n",
    "curOwnSize = 0\n",
    "newDirName = ''\n",
    "\n",
    "curPath = ''\n",
    "\n",
    "# for i in inputsTest:\n",
    "for i in inputs:\n",
    "# for i in inputs[:100]:\n",
    "    # print(i)\n",
    "    curObj = []\n",
    "    if i[0] == \"$\":\n",
    "        if i[2] == \"c\":\n",
    "            # cd\n",
    "            \n",
    "            if (newDirName != '') &  (newDirName != '..'):\n",
    "                curObj = di(newDirName,[],curOwnSize,curSubDirs)\n",
    "                curObj.path = curPath[1:]\n",
    "                allDirs.append(curObj)\n",
    "            newDirName = i.split('$ cd ')[1]\n",
    "\n",
    "            \n",
    "            curPath = curPath + '_'+newDirName\n",
    "            # print(curPath.split('_'))\n",
    "            if newDirName == '..':\n",
    "                # print(curPath.split('_')[:-2])\n",
    "                newPath = ''\n",
    "                for c in curPath.split('_')[:-2]:\n",
    "                    newPath = newPath+'_'+c \n",
    "                curPath = newPath[1:]\n",
    "            else:\n",
    "                2+2\n",
    "                \n",
    "            # print(curPath)\n",
    "\n",
    "            # print(newDirName)\n",
    "            \n",
    "        if i[2] == \"l\":\n",
    "            # ls\n",
    "            2+2\n",
    "            curSubDirs = [] \n",
    "            curOwnSize = 0\n",
    "    else:\n",
    "        if i[0] == \"d\":\n",
    "            subDirName = i.split('dir ')[1]\n",
    "            # curSubDirs.append(subDirName)\n",
    "            curSubDirs.append(curPath + '_' + subDirName)\n",
    "            # print(curSubDirs)\n",
    "        else:\n",
    "            curFileSize = i.split(' ')[0]\n",
    "            curOwnSize += int(curFileSize)\n",
    "\n",
    "\n",
    "# allDirs = allDirs[1:]\n",
    "curObj = di(newDirName,[],curOwnSize,curSubDirs)\n",
    "curObj.path = curPath[1:]\n",
    "allDirs.append(curObj)\n",
    "# print(allDirs)\n",
    "# allDirs[2].subDirs\n",
    "# allDirs[2].name\n",
    "\n",
    "# for i in range(len(allDirs)-1,-1,-1):\n",
    "#     print(allDirs[i].name)\n",
    "#     if \n",
    "\n",
    "print('')\n",
    "for curDi in allDirs[:10]:\n",
    "    print(curDi.name,curDi.subDirs,curDi.path,curDi.size)\n",
    "\n"
   ]
  },
  {
   "cell_type": "code",
   "execution_count": 405,
   "metadata": {},
   "outputs": [],
   "source": [
    "import copy \n",
    "fixedDirs = copy.deepcopy(allDirs)"
   ]
  },
  {
   "cell_type": "code",
   "execution_count": 406,
   "metadata": {},
   "outputs": [],
   "source": [
    "\n",
    "def FindChildren(curI):\n",
    "    allChildren = []\n",
    "    \n",
    "    # for curI in range(len(allDirs)):\n",
    "    #     if (allDirs[curI].name == curDirName):\n",
    "    #         curChildren = allDirs[curI].subDirs\n",
    "\n",
    "    curChildren = allDirs[curI].subDirs\n",
    "    # print(allDirs[curI].path)\n",
    "    # print(curChildren)\n",
    "    for childPath in curChildren:\n",
    "        # print(childPath)\n",
    "        for i in range(len(allDirs)):\n",
    "            # print(allDirs[i].path)\n",
    "            if (allDirs[i].path == childPath[1:]):\n",
    "                # print(childPath)\n",
    "                allChildren.append(allDirs[i])\n",
    "    # print(allChildren)\n",
    "    return allChildren \n",
    "\n",
    "\n",
    "# for k in FindChildren(3):\n",
    "#     print(k.path)\n",
    "for i in range(len(allDirs)):\n",
    "    curDir = allDirs[i]\n",
    "    allChildren = FindChildren(i)\n",
    "    fixedDirs[i].subDirs = allChildren\n",
    "    allDirs[i].subDirs = allChildren\n"
   ]
  },
  {
   "cell_type": "code",
   "execution_count": 407,
   "metadata": {},
   "outputs": [],
   "source": [
    "\n",
    "# print('')\n",
    "# for curDi in allDirs[:10]:\n",
    "#     print(curDi.name,curDi.subDirs,curDi.path,curDi.size)\n",
    "# # print('')\n",
    "# # for curDi in fixedDirs[:10]:\n",
    "# #     print(curDi.name,curDi.subDirs,curDi.path,curDi.size)"
   ]
  },
  {
   "cell_type": "code",
   "execution_count": 408,
   "metadata": {},
   "outputs": [],
   "source": [
    "\n",
    "# for curDi in fixedDirs:\n",
    "#     # print(curDi.getFullSize())\n",
    "#     # print(curDi.subDirs)\n",
    "#     # subDirs =  curDi.subDirs\n",
    "#     # chiSize= 0 \n",
    "#     # if len(subDirs) > 0:\n",
    "#     #     for chi in subDirs:\n",
    "#     #         print(chi)\n",
    "#     #         chiSize += chi.getFullSize()\n",
    "\n",
    "#     # print(curDi.name,curDi.path,curDi.subDirs,curDi.size)\n",
    "#     curDi.FullSize = curDi.getFullSize()\n",
    "#     print(curDi.name,curDi.size,curDi.FullSize)"
   ]
  },
  {
   "cell_type": "code",
   "execution_count": 409,
   "metadata": {},
   "outputs": [],
   "source": [
    "# fixedDirs[1].subDirs[0]"
   ]
  },
  {
   "cell_type": "code",
   "execution_count": 410,
   "metadata": {},
   "outputs": [],
   "source": [
    "\n",
    "\n",
    "# def FindChildren(curDirName):\n",
    "#     allChildren = []\n",
    "    \n",
    "#     for curI in range(len(allDirs)):\n",
    "#         if (allDirs[curI].name == curDirName):\n",
    "#             curChildren = allDirs[curI].subDirs\n",
    "\n",
    "#     for childDirName in curChildren:\n",
    "#         for i in range(len(allDirs)):\n",
    "#             if (allDirs[i].name == childDirName):\n",
    "#                 # print(childDirName)\n",
    "#                 allChildren.append(allDirs[i])\n",
    "#     # print(allChildren)\n",
    "#     return allChildren \n",
    "\n",
    "\n",
    "# # FindChildren('a')\n",
    "# for i in range(len(allDirs)):\n",
    "#     curDir = allDirs[i]\n",
    "#     allChildren = FindChildren(curDir.name)\n",
    "#     allDirs[i].subDirs = allChildren\n",
    "\n"
   ]
  },
  {
   "cell_type": "code",
   "execution_count": 411,
   "metadata": {},
   "outputs": [],
   "source": [
    "# # print(allDirs[2].name)\n",
    "# # print(allDirs[2].subDirs)\n",
    "# # print(allDirs[2].subDirs[0].name)\n",
    "# print(allDirs[3].name)\n",
    "# print(allDirs[3].subDirs)\n",
    "# print(allDirs[3].children[0].name)\n",
    "# print(allDirs[3].children[0].subDirs)"
   ]
  },
  {
   "cell_type": "code",
   "execution_count": 412,
   "metadata": {},
   "outputs": [],
   "source": [
    "# allDirs[0].getFullSize()"
   ]
  },
  {
   "cell_type": "code",
   "execution_count": 413,
   "metadata": {},
   "outputs": [
    {
     "name": "stdout",
     "output_type": "stream",
     "text": [
      "/ 519758 42476859\n",
      "bsnqsfm 179236 179236\n",
      "dtqvbspj 494450 494450\n",
      "hhhtrws 29144 10632043\n",
      "gcbg 219627 3658797\n",
      "bgcwh 211273 211273\n",
      "bsnqsfm 599380 1069939\n",
      "bsnqsfm 292856 292856\n",
      "gpcpgfh 177703 177703\n",
      "jjgpvcqv 582753 2003950\n",
      "jjgpvcqv 512610 1421197\n",
      "bqnctqvn 406184 418596\n",
      "nzrst 0 12412\n",
      "whtfvrl 12412 12412\n",
      "bsnqsfm 293832 293832\n",
      "gpcpgfh 196159 196159\n",
      "rqbnd 154008 154008\n",
      "jjgpvcqv 253414 6259122\n",
      "dvsst 805852 805852\n",
      "gpcpgfh 169960 2165662\n",
      "tbrbw 777297 1406757\n",
      "rmqlpvq 323946 629460\n",
      "gjgfvt 242867 242867\n",
      "wqfcnlzq 0 62647\n",
      "vhhscrvb 62647 62647\n",
      "vvm 296046 296046\n",
      "wplf 292899 292899\n",
      "jjgpvcqv 0 2134045\n",
      "dhfcbc 421258 421258\n",
      "jjgpvcqv 406609 406609\n",
      "ltclg 585714 1066921\n",
      "fdfn 32987 32987\n",
      "mgvdbtl 448220 448220\n",
      "ptbsgmlr 239257 239257\n",
      "mhrzj 493324 493324\n",
      "tmh 152958 152958\n",
      "vmwz 253867 253867\n",
      "mgvdbtl 24916 24916\n",
      "qhv 153239 660064\n",
      "hncvrlbw 506825 506825\n",
      "ldmsq 0 8687846\n",
      "jngnzc 0 1069913\n",
      "dzlcq 70984 70984\n",
      "gpcpgfh 288159 288159\n",
      "rlwwwngc 641181 641181\n",
      "swrlvd 69589 69589\n",
      "psgrjgr 932728 1142486\n",
      "fcvqsp 209758 209758\n",
      "rgwp 11060 11060\n",
      "rtsmnzm 0 2842225\n",
      "rdv 291554 291554\n",
      "sdwmbsz 140827 2083367\n",
      "dfzw 168631 168631\n",
      "jbnsvcv 104377 659560\n",
      "bsnqsfm 74345 74345\n",
      "qfmj 0 480838\n",
      "bfvwng 0 207083\n",
      "qzdpp 0 207083\n",
      "jjgpvcqv 207083 207083\n",
      "jjgpvcqv 273755 273755\n",
      "jjgpvcqv 544471 1114349\n",
      "vtbln 395727 395727\n",
      "wph 174151 174151\n",
      "tjwht 136586 467304\n",
      "mgvdbtl 0 330718\n",
      "gtmbf 330718 330718\n",
      "wsd 777352 3622162\n",
      "gpcpgfh 217225 460025\n",
      "qtnqzql 242800 242800\n",
      "jdnfsqzd 604210 604210\n",
      "lspqh 0 367991\n",
      "pspghgw 367991 367991\n",
      "pfcmb 662181 1412584\n",
      "dmlsqf 553324 553324\n",
      "dtqvbspj 99045 197079\n",
      "fpq 98034 98034\n",
      "pqcndb 302354 17831881\n",
      "dtqvbspj 134541 134541\n",
      "fvrtmdg 536526 600719\n",
      "gpcpgfh 64193 64193\n",
      "gpcpgfh 535984 5416300\n",
      "cmg 552005 1331103\n",
      "vsjs 293526 779098\n",
      "dqpqvsfn 91215 91215\n",
      "ghw 333056 394357\n",
      "bwhn 0 61301\n",
      "gpcpgfh 61301 61301\n",
      "jjgpvcqv 281936 281936\n",
      "lmb 0 60362\n",
      "mmqr 60362 60362\n",
      "lzgc 211543 211543\n",
      "nqvzvfb 513390 513390\n",
      "rbh 75165 2481982\n",
      "cwgc 254910 254910\n",
      "gpcpgfh 419940 419940\n",
      "hdmmgms 437820 1266376\n",
      "dtqvbspj 61268 61268\n",
      "gpcpgfh 306663 306663\n",
      "tgqbtw 0 460625\n",
      "bsnqsfm 279305 279305\n",
      "nnn 181320 181320\n",
      "jwqdv 306471 306471\n",
      "mzt 159120 159120\n",
      "jjgpvcqv 351424 4424554\n",
      "drmmqldt 0 690999\n",
      "bsnqsfm 200217 200217\n",
      "gpcpgfh 302915 302915\n",
      "jjgpvcqv 0 187867\n",
      "bzhsjfq 37713 37713\n",
      "lptnp 150154 150154\n",
      "jjgpvcqv 0 149237\n",
      "csvpf 149237 149237\n",
      "mzj 216100 216100\n",
      "qcclcdd 408103 550287\n",
      "mgvdbtl 0 142184\n",
      "dtqvbspj 142184 142184\n",
      "rtnnjct 0 2247380\n",
      "bsnqsfm 0 157447\n",
      "gbp 0 157447\n",
      "gpcpgfh 157447 157447\n",
      "dtqvbspj 0 882344\n",
      "fbpz 118001 118001\n",
      "mgvdbtl 0 764343\n",
      "gtbpnhhm 422909 422909\n",
      "rvjdhdvf 242078 341434\n",
      "vnlq 0 99356\n",
      "zwtwvdb 99356 99356\n",
      "ftlr 0 439951\n",
      "fdm 0 439951\n",
      "pdzbthz 318878 439951\n",
      "gmpzrfv 121073 121073\n",
      "grpln 0 351247\n",
      "thsbgczd 231385 231385\n",
      "vdmt 0 119862\n",
      "qzwzwlpr 119862 119862\n",
      "wtjfbzjq 416391 416391\n",
      "trgbfqb 59890 219127\n",
      "mhhbp 0 159237\n",
      "bsnqsfm 80555 80555\n",
      "hvjtmr 78682 78682\n",
      "mgvdbtl 678110 1399019\n",
      "gpcpgfh 172798 695093\n",
      "bfjb 9385 9385\n",
      "dtqvbspj 0 115949\n",
      "zrtpvzh 115949 115949\n",
      "lwtj 396961 396961\n",
      "tdnhp 25816 25816\n",
      "pftswtnl 465868 5349656\n",
      "cjzl 51636 51636\n",
      "mgvdbtl 447189 490254\n",
      "dtlr 43065 43065\n",
      "rdhdqvm 108607 108607\n",
      "swgdh 726705 2615714\n",
      "dwznjd 379176 379176\n",
      "mgvdbtl 637494 880115\n",
      "pbw 242621 242621\n",
      "nbpdfrv 629718 629718\n",
      "tgwws 0 1617577\n",
      "bhr 0 1310649\n",
      "wfjfvb 51860 1310649\n",
      "jgfbpwjh 1061696 1258789\n",
      "vsmgcv 0 197093\n",
      "dpdmspz 0 197093\n",
      "bsnqsfm 197093 197093\n",
      "gpcpgfh 306928 306928\n",
      "zwph 0 204738\n",
      "cmznd 0 204738\n",
      "zhhm 204738 204738\n",
      "pwtqzwv 283938 4131645\n",
      "hthq 0 2002618\n",
      "dtqvbspj 40333 417341\n",
      "lrvftwzb 125914 125914\n",
      "nzvbpcwd 0 251094\n",
      "tzvclhw 251094 251094\n",
      "mgvdbtl 817653 817653\n",
      "wgcss 650791 767624\n",
      "jjgpvcqv 116833 116833\n",
      "jcsmcf 146144 146144\n",
      "jjgpvcqv 0 977695\n",
      "gdrqbn 151579 151579\n",
      "nwbqdd 550283 826116\n",
      "gpcpgfh 275833 275833\n",
      "twrjfd 322963 503531\n",
      "gqlqnpvm 180568 180568\n",
      "zzclqz 217719 217719\n"
     ]
    }
   ],
   "source": [
    "\n",
    "for curDi in fixedDirs:\n",
    "    # print(curDi.getFullSize())\n",
    "    # print(curDi.subDirs)\n",
    "    # subDirs =  curDi.subDirs\n",
    "    # chiSize= 0 \n",
    "    # if len(subDirs) > 0:\n",
    "    #     for chi in subDirs:\n",
    "    #         print(chi)\n",
    "    #         chiSize += chi.getFullSize()\n",
    "\n",
    "    curDi.FullSize = curDi.getFullSize()\n",
    "    print(curDi.name,curDi.size,curDi.FullSize)"
   ]
  },
  {
   "cell_type": "code",
   "execution_count": 414,
   "metadata": {},
   "outputs": [
    {
     "name": "stdout",
     "output_type": "stream",
     "text": [
      "nzrst [<__main__.di object at 0x0000026F021C6020>] 0 12412\n",
      "whtfvrl [] 12412 12412\n",
      "wqfcnlzq [<__main__.di object at 0x0000026F021C70A0>] 0 62647\n",
      "vhhscrvb [] 62647 62647\n",
      "fdfn [] 32987 32987\n",
      "mgvdbtl [] 24916 24916\n",
      "dzlcq [] 70984 70984\n",
      "swrlvd [] 69589 69589\n",
      "rgwp [] 11060 11060\n",
      "bsnqsfm [] 74345 74345\n",
      "fpq [] 98034 98034\n",
      "gpcpgfh [] 64193 64193\n",
      "dqpqvsfn [] 91215 91215\n",
      "bwhn [<__main__.di object at 0x0000026F0205E440>] 0 61301\n",
      "gpcpgfh [] 61301 61301\n",
      "lmb [<__main__.di object at 0x0000026F0205E560>] 0 60362\n",
      "mmqr [] 60362 60362\n",
      "dtqvbspj [] 61268 61268\n",
      "bzhsjfq [] 37713 37713\n",
      "vnlq [<__main__.di object at 0x0000026F02213340>] 0 99356\n",
      "zwtwvdb [] 99356 99356\n",
      "bsnqsfm [] 80555 80555\n",
      "hvjtmr [] 78682 78682\n",
      "bfjb [] 9385 9385\n",
      "tdnhp [] 25816 25816\n",
      "cjzl [] 51636 51636\n",
      "dtlr [] 43065 43065\n"
     ]
    }
   ],
   "source": [
    "\n",
    "for curDi in fixedDirs:\n",
    "    if curDi.getFullSize() < 100000:\n",
    "        \n",
    "        print(curDi.name,curDi.subDirs,curDi.size,curDi.FullSize)"
   ]
  },
  {
   "cell_type": "code",
   "execution_count": null,
   "metadata": {},
   "outputs": [],
   "source": []
  },
  {
   "cell_type": "code",
   "execution_count": 415,
   "metadata": {},
   "outputs": [],
   "source": [
    "# len(allDirs)\n",
    "\n",
    "# np.sum(allPosSizes < 100000)\n",
    "# # allPosSizes "
   ]
  },
  {
   "cell_type": "code",
   "execution_count": 416,
   "metadata": {},
   "outputs": [],
   "source": [
    "\n",
    "# # for curDi in allDirs:        \n",
    "# #     print(curDi.name,curDi.size,curDi.getFullSize()) \n",
    "# np.sum(allPosSizes[allPosSizes < 100000] != 0)"
   ]
  },
  {
   "cell_type": "code",
   "execution_count": 417,
   "metadata": {},
   "outputs": [
    {
     "name": "stdout",
     "output_type": "stream",
     "text": [
      "1517599\n"
     ]
    },
    {
     "data": {
      "text/plain": [
       "array([12412, 12412, 62647, 62647, 32987, 24916, 70984, 69589, 11060,\n",
       "       74345, 98034, 64193, 91215, 61301, 61301, 60362, 60362, 61268,\n",
       "       37713, 99356, 99356, 80555, 78682,  9385, 25816, 51636, 43065])"
      ]
     },
     "execution_count": 417,
     "metadata": {},
     "output_type": "execute_result"
    }
   ],
   "source": [
    "allPosSizes = []\n",
    "\n",
    "for curDi in allDirs:\n",
    "    allPosSizes.append(curDi.getFullSize())\n",
    "\n",
    "allPosSizes = np.array(allPosSizes) \n",
    "allPosSizes < 100000\n",
    "p1 = allPosSizes[allPosSizes < 100000].sum()\n",
    "print(p1)\n",
    "\n",
    "allPosSizes[allPosSizes < 100000]"
   ]
  },
  {
   "cell_type": "code",
   "execution_count": 418,
   "metadata": {},
   "outputs": [
    {
     "data": {
      "text/plain": [
       "2481982"
      ]
     },
     "execution_count": 418,
     "metadata": {},
     "output_type": "execute_result"
    }
   ],
   "source": [
    "# Part 2\n",
    "totUsed = allDirs[0].getFullSize()\n",
    "\n",
    "freeSpace = 70000000 - totUsed \n",
    "toDelete = 30000000 - freeSpace\n",
    "totUsed\n",
    "toDelete\n",
    "\n",
    "p2 = np.min(allPosSizes[allPosSizes > toDelete])\n",
    "p2 "
   ]
  },
  {
   "cell_type": "code",
   "execution_count": null,
   "metadata": {},
   "outputs": [],
   "source": []
  },
  {
   "cell_type": "code",
   "execution_count": 419,
   "metadata": {},
   "outputs": [],
   "source": [
    "# Part 2"
   ]
  }
 ],
 "metadata": {
  "kernelspec": {
   "display_name": "Python 3.10.0 ('main')",
   "language": "python",
   "name": "python3"
  },
  "language_info": {
   "codemirror_mode": {
    "name": "ipython",
    "version": 3
   },
   "file_extension": ".py",
   "mimetype": "text/x-python",
   "name": "python",
   "nbconvert_exporter": "python",
   "pygments_lexer": "ipython3",
   "version": "3.10.0"
  },
  "orig_nbformat": 4,
  "vscode": {
   "interpreter": {
    "hash": "e6af94e5c5af6f455ad39eba9e20d9ee46a7c0c9ebf8b81ae3b0b6f1a6d45f70"
   }
  }
 },
 "nbformat": 4,
 "nbformat_minor": 2
}
