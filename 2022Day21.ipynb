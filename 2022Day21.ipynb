{
 "cells": [
  {
   "cell_type": "code",
   "execution_count": 1,
   "metadata": {},
   "outputs": [],
   "source": [
    "# Import packages\n",
    "import numpy as np\n",
    "curDay = 21\n",
    "\n",
    "# Download input file\n",
    "from download_inputs import download_inputs\n",
    "\n",
    "# download_inputs(curDay)"
   ]
  },
  {
   "cell_type": "code",
   "execution_count": 2,
   "metadata": {},
   "outputs": [
    {
     "name": "stdout",
     "output_type": "stream",
     "text": [
      "Done loading input\n"
     ]
    }
   ],
   "source": [
    "# Load input into workspace\n",
    "filename = f'inputs\\\\day{curDay}.txt'\n",
    "# curIn = np.loadtxt(filename)\n",
    "\n",
    "inputFile = open(filename)\n",
    "inputs = []\n",
    "inputs = [s for s in inputFile.read().splitlines()]\n",
    "\n",
    "print('Done loading input')"
   ]
  },
  {
   "cell_type": "code",
   "execution_count": 3,
   "metadata": {},
   "outputs": [
    {
     "name": "stdout",
     "output_type": "stream",
     "text": [
      "Done loading test-input\n"
     ]
    }
   ],
   "source": [
    "# Load test-input into workspace\n",
    "filenameTest = f'inputs\\\\day{curDay}test.txt'\n",
    "\n",
    "inputFileTest = open(filenameTest)\n",
    "inputsTest = []\n",
    "inputsTest = [s for s in inputFileTest.read().splitlines()]\n",
    "\n",
    "print('Done loading test-input') "
   ]
  },
  {
   "cell_type": "code",
   "execution_count": 49,
   "metadata": {},
   "outputs": [],
   "source": [
    "curIn = inputsTest\n",
    "curIn = inputs\n",
    "# curIn"
   ]
  },
  {
   "cell_type": "code",
   "execution_count": 50,
   "metadata": {},
   "outputs": [],
   "source": [
    "# curIn\n",
    "mDict = dict()\n",
    "for li in curIn:\n",
    "    curName,curCommand = li.split(': ')\n",
    "    mDict[curName] =curCommand"
   ]
  },
  {
   "cell_type": "code",
   "execution_count": 51,
   "metadata": {},
   "outputs": [
    {
     "data": {
      "text/plain": [
       "22382838633806"
      ]
     },
     "execution_count": 51,
     "metadata": {},
     "output_type": "execute_result"
    }
   ],
   "source": [
    "\n",
    "# li = mDict['humn']\n",
    "# li = mDict['cczh']\n",
    "\n",
    "def getVal(mName):\n",
    "    li = mDict[mName]\n",
    "    # print(mName)\n",
    "    # print(li)\n",
    "    if (len(li.split(' ')) == 1):\n",
    "        # Output is a number, so return it\n",
    "        toReturn = int(li)\n",
    "    else:\n",
    "        name1,oper,name2 = li.split(' ')\n",
    "        val1 = getVal(name1)\n",
    "        val2 = getVal(name2)\n",
    "\n",
    "        if oper == '+':\n",
    "            toReturn = val1 + val2 \n",
    "        elif oper == '-':\n",
    "            toReturn = val1 - val2 \n",
    "        elif oper == '*':\n",
    "            toReturn = val1 * val2 \n",
    "        elif oper == '/':\n",
    "            toReturn = val1 / val2 \n",
    "            \n",
    "    return toReturn \n",
    "    \n",
    "# toReturn\n",
    "int(getVal('root'))\n",
    "# mDict"
   ]
  },
  {
   "cell_type": "markdown",
   "metadata": {},
   "source": [
    "# Part 2\n",
    "sol2 = 301\n",
    "\n",
    "rootComp = 150"
   ]
  },
  {
   "cell_type": "code",
   "execution_count": 84,
   "metadata": {},
   "outputs": [],
   "source": [
    "def getVal2(mName,huval):\n",
    "    \n",
    "    li = mDict[mName]\n",
    "\n",
    "    if mName == 'root':\n",
    "        \n",
    "        name1,oper,name2 = li.split(' ')\n",
    "        val1 = getVal2(name1,huval)\n",
    "        val2 = getVal2(name2,huval)\n",
    "        # print(val1,val2)\n",
    "        return (val1 - val2)\n",
    "    elif mName == 'humn':\n",
    "        return huval\n",
    "    \n",
    "    # print(mName)\n",
    "    # print(li)\n",
    "    elif (len(li.split(' ')) == 1):\n",
    "        # Output is a number, so return it\n",
    "        toReturn = int(li)\n",
    "    else:\n",
    "        name1,oper,name2 = li.split(' ')\n",
    "        val1 = getVal2(name1,huval)\n",
    "        val2 = getVal2(name2,huval)\n",
    "\n",
    "        if oper == '+':\n",
    "            toReturn = val1 + val2 \n",
    "        elif oper == '-':\n",
    "            toReturn = val1 - val2 \n",
    "        elif oper == '*':\n",
    "            toReturn = val1 * val2 \n",
    "        elif oper == '/':\n",
    "            toReturn = val1 / val2 \n",
    "            \n",
    "    return toReturn \n",
    "    "
   ]
  },
  {
   "cell_type": "markdown",
   "metadata": {},
   "source": [
    "# Automatic solution, using Newton's Method"
   ]
  },
  {
   "cell_type": "code",
   "execution_count": 197,
   "metadata": {},
   "outputs": [
    {
     "name": "stdout",
     "output_type": "stream",
     "text": [
      "Starting at -12\n",
      "After  0 iterations: 3101489569283\n",
      "After  1 iterations: 3099529597238\n",
      "After  2 iterations: 3099532690586\n",
      "After  3 iterations: 3099532691300\n",
      "After  4 iterations: 3099532691300\n",
      "After  5 iterations: 3099532691300\n",
      "After  6 iterations: 3099532691300\n",
      "After  7 iterations: 3099532691300\n",
      "After  8 iterations: 3099532691300\n",
      "After  9 iterations: 3099532691300\n",
      "After  10 iterations: 3099532691300\n",
      "After  11 iterations: 3099532691300\n",
      "After  12 iterations: 3099532691300\n",
      "After  13 iterations: 3099532691300\n",
      "After  14 iterations: 3099532691300\n",
      "After  15 iterations: 3099532691300\n",
      "After  16 iterations: 3099532691300\n",
      "After  17 iterations: 3099532691300\n",
      "After  18 iterations: 3099532691300\n",
      "After  19 iterations: 3099532691300\n",
      "Solution to part 2: 3099532691300\n"
     ]
    }
   ],
   "source": [
    "def getAppSlope(x,dx):\n",
    "    y1 = getVal2('root',x)\n",
    "    y2 = getVal2('root',x + dx)\n",
    "\n",
    "    curSlope = (y2-y1)/(dx)\n",
    "    return curSlope\n",
    "\n",
    "def newtonIter(curX,curdx):\n",
    "    \n",
    "    curSlope = getAppSlope(curX,curdx)\n",
    "    curY = getVal2('root',curX)\n",
    "\n",
    "    curX = curX - (curY/curSlope)\n",
    "    return curX\n",
    "\n",
    "curX = -12 \n",
    "print('Starting at',curX)\n",
    "curdx = 1\n",
    "numIter = 20\n",
    "for i in range(numIter):\n",
    "    curX = newtonIter(curX,curdx)\n",
    "    print('After ',i,'iterations:',int(curX))\n",
    "\n",
    "p2 = int(curX)\n",
    "print('Solution to part 2:',p2)"
   ]
  },
  {
   "cell_type": "markdown",
   "metadata": {},
   "source": [
    "# Manual solution"
   ]
  },
  {
   "cell_type": "code",
   "execution_count": 137,
   "metadata": {},
   "outputs": [
    {
     "data": {
      "application/vnd.jupyter.widget-view+json": {
       "model_id": "a5f886af3d4c4497988cc4798101f030",
       "version_major": 2,
       "version_minor": 0
      },
      "image/png": "[encoded data removed]",
      "text/html": [
       "\n",
       "            <div style=\"display: inline-block;\">\n",
       "                <div class=\"jupyter-widgets widget-label\" style=\"text-align: center;\">\n",
       "                    Figure\n",
       "                </div>\n",
       "                <img src='data:image/png;base64,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' width=640.0/>\n",
       "            </div>\n",
       "        "
      ],
      "text/plain": [
       "Canvas(toolbar=Toolbar(toolitems=[('Home', 'Reset original view', 'home', 'home'), ('Back', 'Back to previous …"
      ]
     },
     "metadata": {},
     "output_type": "display_data"
    }
   ],
   "source": [
    "import matplotlib.pyplot as plt\n",
    "%matplotlib widget\n",
    "\n",
    "fig,ax = plt.subplots()\n",
    "\n",
    "xs = [21000000000,2500000000000,5000000000000]\n",
    "x = 3099532691300\n",
    "dx = 10\n",
    "xs = np.linspace(x - dx,x+dx)\n",
    "ys = [getVal2('root',xx) for xx in xs]\n",
    "ys\n",
    "\n",
    "ax.plot(xs,ys,'*-')\n",
    "ax.grid(True)"
   ]
  },
  {
   "cell_type": "code",
   "execution_count": null,
   "metadata": {},
   "outputs": [],
   "source": [
    "\n",
    "x = 3099532691300\n",
    "y = getVal2('root',x)"
   ]
  },
  {
   "cell_type": "code",
   "execution_count": 136,
   "metadata": {},
   "outputs": [
    {
     "data": {
      "text/plain": [
       "0.0"
      ]
     },
     "execution_count": 136,
     "metadata": {},
     "output_type": "execute_result"
    }
   ],
   "source": []
  },
  {
   "cell_type": "code",
   "execution_count": null,
   "metadata": {},
   "outputs": [],
   "source": []
  }
 ],
 "metadata": {
  "kernelspec": {
   "display_name": "Python 3.10.0 ('main')",
   "language": "python",
   "name": "python3"
  },
  "language_info": {
   "codemirror_mode": {
    "name": "ipython",
    "version": 3
   },
   "file_extension": ".py",
   "mimetype": "text/x-python",
   "name": "python",
   "nbconvert_exporter": "python",
   "pygments_lexer": "ipython3",
   "version": "3.10.0"
  },
  "orig_nbformat": 4,
  "vscode": {
   "interpreter": {
    "hash": "e6af94e5c5af6f455ad39eba9e20d9ee46a7c0c9ebf8b81ae3b0b6f1a6d45f70"
   }
  }
 },
 "nbformat": 4,
 "nbformat_minor": 2
}
