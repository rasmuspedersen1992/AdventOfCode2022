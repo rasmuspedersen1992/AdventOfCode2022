{
 "cells": [
  {
   "cell_type": "code",
   "execution_count": 5,
   "metadata": {},
   "outputs": [
    {
     "name": "stdout",
     "output_type": "stream",
     "text": [
      "200\n"
     ]
    }
   ],
   "source": [
    "# Import packages\n",
    "import numpy as np\n",
    "curDay = 9\n",
    "\n",
    "# Download input file\n",
    "from download_inputs import download_inputs\n",
    "\n",
    "download_inputs(curDay)"
   ]
  },
  {
   "cell_type": "code",
   "execution_count": 6,
   "metadata": {},
   "outputs": [
    {
     "name": "stdout",
     "output_type": "stream",
     "text": [
      "Done loading input\n"
     ]
    }
   ],
   "source": [
    "# Load input into workspace\n",
    "filename = f'inputs\\\\day{curDay}.txt'\n",
    "# curIn = np.loadtxt(filename)\n",
    "\n",
    "inputFile = open(filename)\n",
    "inputs = []\n",
    "inputs = [s for s in inputFile.read().splitlines()]\n",
    "\n",
    "print('Done loading input')"
   ]
  },
  {
   "cell_type": "code",
   "execution_count": 10,
   "metadata": {},
   "outputs": [
    {
     "name": "stdout",
     "output_type": "stream",
     "text": [
      "Done loading test-input\n"
     ]
    }
   ],
   "source": [
    "# Load test-input into workspace\n",
    "filenameTest = f'inputs\\\\day{curDay}test.txt'\n",
    "\n",
    "inputFileTest = open(filenameTest)\n",
    "inputsTest = []\n",
    "inputsTest = [s for s in inputFileTest.read().splitlines()]\n",
    "\n",
    "print('Done loading test-input')"
   ]
  },
  {
   "cell_type": "markdown",
   "metadata": {},
   "source": [
    "# Part 1"
   ]
  },
  {
   "cell_type": "code",
   "execution_count": 58,
   "metadata": {},
   "outputs": [
    {
     "data": {
      "text/plain": [
       "array([0, 0])"
      ]
     },
     "execution_count": 58,
     "metadata": {},
     "output_type": "execute_result"
    }
   ],
   "source": []
  },
  {
   "cell_type": "code",
   "execution_count": 78,
   "metadata": {},
   "outputs": [],
   "source": [
    "curIn = inputsTest\n",
    "curIn = inputs\n",
    "\n",
    "startPos = np.array([0,0])\n",
    "\n",
    "# Start with head movement\n",
    "curHpos = startPos.copy()\n",
    "curTpos = startPos.copy()\n",
    "\n",
    "def getNewTpos(Tpos,Hpos,prevHpos):\n",
    "    # Check if distance is too large\n",
    "    diffX = Tpos[0] - Hpos[0]\n",
    "    diffY = Tpos[1] - Hpos[1]\n",
    "    toMove = False \n",
    "    if np.abs(diffX) > 1:\n",
    "        toMove = True\n",
    "    elif np.abs(diffY) > 1:\n",
    "        toMove = True \n",
    "    \n",
    "    # print(diffX,diffY)\n",
    "    newTpos = Tpos.copy()\n",
    "    if toMove:\n",
    "        \n",
    "        newTpos = prevHpos.copy()\n",
    "        # # Figure out direction\n",
    "        # if (diffY == 0):\n",
    "        #     if diffX < 0:\n",
    "        #         newTpos = Tpos + [1,0]\n",
    "        #     else:\n",
    "        #         newTpos = Tpos + [-1,0]\n",
    "        # elif (diffX == 0):\n",
    "        #     if diffY < 0:\n",
    "        #         newTpos = Tpos + [0,1]\n",
    "        #     else:\n",
    "        #         newTpos = Tpos + [0,-1]\n",
    "        # # If both are non-zero, move diagonally\n",
    "        # elif (np.abs(diffX) > np.abs(diffY)):\n",
    "        #     newTpos = Hpos.copy()\n",
    "\n",
    "\n",
    "        # if np.abs(diffX) > np.abs(diffY):\n",
    "        #     if diffX < 0:\n",
    "        #         newTpos = Tpos + [1,0]\n",
    "        #     else:\n",
    "        #         newTpos = Tpos + [-1,0]\n",
    "        # else:\n",
    "        #     if diffY < 0:\n",
    "        #         newTpos = Tpos + [0,1]\n",
    "        #     else:\n",
    "        #         newTpos = Tpos + [0,-1]\n",
    "\n",
    "    return newTpos\n",
    "\n",
    "allTpos = []\n",
    "for m in curIn:\n",
    "    curD,num = m.split(' ')\n",
    "    num = int(num)\n",
    "\n",
    "    for k in range(num):\n",
    "        # print(curD)\n",
    "        prevHpos = curHpos.copy()\n",
    "        if (curD == 'R'):\n",
    "            curHpos += [1,0]\n",
    "        if (curD == 'U'):\n",
    "            curHpos += [0,1]\n",
    "        if (curD == 'D'):\n",
    "            curHpos += [0,-1]\n",
    "        if (curD == 'L'):\n",
    "            curHpos += [-1,0]\n",
    "        curTpos = getNewTpos(curTpos,curHpos,prevHpos)\n",
    "        # print(curHpos,curTpos)\n",
    "        allTpos.append(curTpos)"
   ]
  },
  {
   "cell_type": "code",
   "execution_count": 79,
   "metadata": {},
   "outputs": [
    {
     "data": {
      "text/plain": [
       "6026"
      ]
     },
     "execution_count": 79,
     "metadata": {},
     "output_type": "execute_result"
    }
   ],
   "source": [
    "p1 = len(np.unique(allTpos,axis=0))\n",
    "p1"
   ]
  },
  {
   "cell_type": "code",
   "execution_count": 214,
   "metadata": {},
   "outputs": [
    {
     "data": {
      "text/plain": [
       "6026"
      ]
     },
     "execution_count": 214,
     "metadata": {},
     "output_type": "execute_result"
    }
   ],
   "source": [
    "curIn = inputsTest\n",
    "curIn = inputs\n",
    "\n",
    "startPos = np.array([0,0])\n",
    "\n",
    "# Start with head movement\n",
    "curHpos = startPos.copy()\n",
    "curTpos = startPos.copy()\n",
    "\n",
    "def getNewTpos(Tpos,Hpos):\n",
    "    # Check if distance is too large\n",
    "    diffX = Tpos[0] - Hpos[0]\n",
    "    diffY = Tpos[1] - Hpos[1]\n",
    "    toMove = False \n",
    "    if np.abs(diffX) > 1:\n",
    "        toMove = True\n",
    "    elif np.abs(diffY) > 1:\n",
    "        toMove = True \n",
    "\n",
    "        \n",
    "    # if (diffX == 0) | (diffY == 0):\n",
    "    #     newTpos = Tpos.copy()\n",
    "    # else:\n",
    "    #     if np.abs(diffX) > np.abs(diffY):\n",
    "\n",
    "    # return newTpos\n",
    "    \n",
    "    # print(diffX,diffY)\n",
    "    newTpos = Tpos.copy()\n",
    "    if toMove:\n",
    "        \n",
    "        # newTpos = prevHpos.copy()\n",
    "        # Figure out direction\n",
    "\n",
    "        if (diffY == 0):\n",
    "            if diffX < 0:\n",
    "                newTpos = Tpos + [1,0]\n",
    "            else:\n",
    "                newTpos = Tpos + [-1,0]\n",
    "        elif (diffX == 0):\n",
    "            if diffY < 0:\n",
    "                newTpos = Tpos + [0,1]\n",
    "            else:\n",
    "                newTpos = Tpos + [0,-1]\n",
    "        # If both are non-zero, move diagonally\n",
    "        else:\n",
    "            newTpos = Tpos + [-np.sign(diffX),-np.sign(diffY)]\n",
    "        # elif (np.abs(diffX) > np.abs(diffY)):\n",
    "        #     newTpos = Hpos.copy()\n",
    "\n",
    "\n",
    "        # if np.abs(diffX) > np.abs(diffY):\n",
    "        #     if diffX < 0:\n",
    "        #         newTpos = Tpos + [1,0]\n",
    "        #     else:\n",
    "        #         newTpos = Tpos + [-1,0]\n",
    "        # else:\n",
    "        #     if diffY < 0:\n",
    "        #         newTpos = Tpos + [0,1]\n",
    "        #     else:\n",
    "        #         newTpos = Tpos + [0,-1]\n",
    "\n",
    "    return newTpos\n",
    "\n",
    "allTpos = []\n",
    "for m in curIn:\n",
    "    curD,num = m.split(' ')\n",
    "    num = int(num)\n",
    "\n",
    "    for k in range(num):\n",
    "        # print(curD)\n",
    "        prevHpos = curHpos.copy()\n",
    "        if (curD == 'R'):\n",
    "            curHpos += [1,0]\n",
    "        if (curD == 'U'):\n",
    "            curHpos += [0,1]\n",
    "        if (curD == 'D'):\n",
    "            curHpos += [0,-1]\n",
    "        if (curD == 'L'):\n",
    "            curHpos += [-1,0]\n",
    "        curTpos = getNewTpos(curTpos,curHpos)\n",
    "        # print(curHpos,curTpos)\n",
    "        allTpos.append(curTpos)\n",
    "p1 = len(np.unique(allTpos,axis=0))\n",
    "p1"
   ]
  },
  {
   "cell_type": "code",
   "execution_count": 80,
   "metadata": {},
   "outputs": [
    {
     "name": "stdout",
     "output_type": "stream",
     "text": [
      "Done loading test-input\n"
     ]
    }
   ],
   "source": [
    "# Load test-input into workspace\n",
    "filenameTest2 = f'inputs\\\\day{curDay}test2.txt'\n",
    "\n",
    "inputFileTest2 = open(filenameTest2)\n",
    "inputsTest2 = []\n",
    "inputsTest2 = [s for s in inputFileTest2.read().splitlines()]\n",
    "\n",
    "print('Done loading test-input')"
   ]
  },
  {
   "cell_type": "code",
   "execution_count": 92,
   "metadata": {},
   "outputs": [
    {
     "data": {
      "text/plain": [
       "array([[0., 0.],\n",
       "       [0., 0.],\n",
       "       [0., 0.],\n",
       "       [0., 0.],\n",
       "       [0., 0.],\n",
       "       [0., 0.],\n",
       "       [0., 0.],\n",
       "       [0., 0.],\n",
       "       [0., 0.]])"
      ]
     },
     "execution_count": 92,
     "metadata": {},
     "output_type": "execute_result"
    }
   ],
   "source": [
    "ropeParts = np.zeros((9,2))\n",
    "ropeParts"
   ]
  },
  {
   "cell_type": "code",
   "execution_count": 251,
   "metadata": {},
   "outputs": [],
   "source": [
    "curIn = inputsTest2\n",
    "curIn = inputs\n",
    "\n",
    "startPos = np.array([0,0])\n",
    "\n",
    "# Start with head movement\n",
    "curHpos = startPos.copy()\n",
    "curTpos = startPos.copy()\n",
    "ropeParts = np.zeros((9,2))\n",
    "\n",
    "\n",
    "def getNewTpos(Tpos,Hpos):\n",
    "    # Check if distance is too large\n",
    "    diffX = Tpos[0] - Hpos[0]\n",
    "    diffY = Tpos[1] - Hpos[1]\n",
    "    toMove = False \n",
    "    if np.abs(diffX) > 1:\n",
    "        toMove = True\n",
    "    elif np.abs(diffY) > 1:\n",
    "        toMove = True \n",
    "    \n",
    "    newTpos = Tpos.copy()\n",
    "    if toMove:\n",
    "        \n",
    "        # newTpos = prevHpos.copy()\n",
    "        # Figure out direction\n",
    "\n",
    "        if (diffY == 0):\n",
    "            if diffX < 0:\n",
    "                newTpos = Tpos + [1,0]\n",
    "            else:\n",
    "                newTpos = Tpos + [-1,0]\n",
    "        elif (diffX == 0):\n",
    "            if diffY < 0:\n",
    "                newTpos = Tpos + [0,1]\n",
    "            else:\n",
    "                newTpos = Tpos + [0,-1]\n",
    "        # If both are non-zero, move diagonally\n",
    "        else:\n",
    "            newTpos = Tpos + [-np.sign(diffX),-np.sign(diffY)]\n",
    "    return newTpos\n",
    "\n",
    "allTpos = []\n",
    "for m in curIn:\n",
    "# for m in curIn[:2]:\n",
    "    # print(m)\n",
    "    curD,num = m.split(' ')\n",
    "    num = int(num)\n",
    "\n",
    "    for k in range(num):\n",
    "        prevHpos = curHpos.copy()\n",
    "        if (curD == 'R'):\n",
    "            curHpos += [1,0]\n",
    "        if (curD == 'U'):\n",
    "            curHpos += [0,1]\n",
    "        if (curD == 'D'):\n",
    "            curHpos += [0,-1]\n",
    "        if (curD == 'L'):\n",
    "            curHpos += [-1,0]\n",
    "\n",
    "        curPrev = prevHpos \n",
    "        curMoveTo = curHpos \n",
    "        # print('H:' ,curPrev,curMoveTo)\n",
    "        # print(curD,k)\n",
    "\n",
    "        for p in range(9):\n",
    "            curPpos = ropeParts[p]\n",
    "            newPpos = getNewTpos(curPpos,curMoveTo)\n",
    "            # print('-')\n",
    "            # print(curPpos,'to',newPpos)\n",
    "            # print('prev',curPrev)\n",
    "            \n",
    "            curMoveTo = curPpos.copy()\n",
    "            if np.any(newPpos != curPpos):\n",
    "                ropeParts[p] = newPpos \n",
    "                # curPrev = curPpos \n",
    "                curMoveTo = newPpos\n",
    "            # print(curPrev,curMoveTo)\n",
    "            # print(ropeParts)\n",
    "        # curTpos = getNewTpos(curTpos,curHpos,prevHpos)\n",
    "        # # print(curHpos,curTpos)\n",
    "        # print(ropeParts[-1])\n",
    "        # print(allTpos)\n",
    "        # allTpos = np.vstack([allTpos,ropeParts[-1]])\n",
    "        curTpos = ropeParts[-1].copy()\n",
    "        # print(curTpos.shape)\n",
    "        allTpos.append(curTpos)\n",
    "        # print(allTpos.shape)\n",
    "        # allTpos.append(ropeParts[-1].copy())\n",
    "        \n",
    "        # print(curHpos)\n",
    "        # print(ropeParts)\n",
    "    # print(curHpos)\n",
    "    # print(ropeParts)\n",
    "    \n",
    "    # import matplotlib.pyplot as plt\n",
    "    # fig,ax = plt.subplots()\n",
    "    # ax.plot(curHpos[0],curHpos[1],'rs')\n",
    "    # ax.plot(ropeParts[:,0],ropeParts[:,1],'b*')\n",
    "\n",
    "    # ax.set_xlim([-16,16])\n",
    "    # ax.set_ylim([-16,16])\n",
    "# np.unique(allTpos,axis=0)"
   ]
  },
  {
   "cell_type": "code",
   "execution_count": null,
   "metadata": {},
   "outputs": [],
   "source": []
  },
  {
   "cell_type": "code",
   "execution_count": 252,
   "metadata": {},
   "outputs": [
    {
     "data": {
      "text/plain": [
       "array([[153., -47.],\n",
       "       [153., -48.],\n",
       "       [153., -49.],\n",
       "       [153., -50.],\n",
       "       [153., -51.],\n",
       "       [153., -52.],\n",
       "       [153., -53.],\n",
       "       [153., -54.],\n",
       "       [153., -55.]])"
      ]
     },
     "execution_count": 252,
     "metadata": {},
     "output_type": "execute_result"
    }
   ],
   "source": [
    "ropeParts"
   ]
  },
  {
   "cell_type": "code",
   "execution_count": 253,
   "metadata": {},
   "outputs": [],
   "source": [
    "allTpos= np.array(allTpos)"
   ]
  },
  {
   "cell_type": "code",
   "execution_count": 256,
   "metadata": {},
   "outputs": [],
   "source": [
    "# import matplotlib.pyplot as plt \n",
    "\n",
    "# fig,ax = plt.subplots()\n",
    "# # ax.plot(curHpos[0],curHpos[1],'rs')\n",
    "# # ax.plot(ropeParts[:,0],ropeParts[:,1],'b*')\n",
    "# ax.plot(allTpos[:,0],allTpos[:,1],'b*')\n",
    "\n",
    "# ax.set_xlim([-12,12])\n",
    "# ax.set_ylim([-16,16])\n",
    "# # ax.set_xlim([-1,6])\n",
    "# # ax.set_ylim([-1,6])\n",
    "\n"
   ]
  },
  {
   "cell_type": "code",
   "execution_count": 255,
   "metadata": {},
   "outputs": [
    {
     "data": {
      "text/plain": [
       "2273"
      ]
     },
     "execution_count": 255,
     "metadata": {},
     "output_type": "execute_result"
    }
   ],
   "source": [
    "p2 = len(np.unique(allTpos,axis=0))\n",
    "p2 "
   ]
  },
  {
   "cell_type": "code",
   "execution_count": 223,
   "metadata": {},
   "outputs": [
    {
     "data": {
      "text/plain": [
       "2527"
      ]
     },
     "execution_count": 223,
     "metadata": {},
     "output_type": "execute_result"
    }
   ],
   "source": [
    "\n",
    "p2 = len(np.unique(allTpos,axis=0))\n",
    "p2"
   ]
  },
  {
   "cell_type": "code",
   "execution_count": 143,
   "metadata": {},
   "outputs": [
    {
     "data": {
      "text/plain": [
       "[array([4., 0.]),\n",
       " array([4., 0.]),\n",
       " array([4., 0.]),\n",
       " array([4., 0.]),\n",
       " array([4., 0.]),\n",
       " array([4., 0.]),\n",
       " array([4., 0.]),\n",
       " array([4., 0.]),\n",
       " array([4., 0.]),\n",
       " array([4., 0.]),\n",
       " array([4., 0.]),\n",
       " array([4., 0.]),\n",
       " array([4., 0.])]"
      ]
     },
     "execution_count": 143,
     "metadata": {},
     "output_type": "execute_result"
    }
   ],
   "source": [
    "allTpos"
   ]
  }
 ],
 "metadata": {
  "kernelspec": {
   "display_name": "Python 3.10.0 ('main')",
   "language": "python",
   "name": "python3"
  },
  "language_info": {
   "codemirror_mode": {
    "name": "ipython",
    "version": 3
   },
   "file_extension": ".py",
   "mimetype": "text/x-python",
   "name": "python",
   "nbconvert_exporter": "python",
   "pygments_lexer": "ipython3",
   "version": "3.10.0"
  },
  "orig_nbformat": 4,
  "vscode": {
   "interpreter": {
    "hash": "e6af94e5c5af6f455ad39eba9e20d9ee46a7c0c9ebf8b81ae3b0b6f1a6d45f70"
   }
  }
 },
 "nbformat": 4,
 "nbformat_minor": 2
}
