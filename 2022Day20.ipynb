{
 "cells": [
  {
   "cell_type": "code",
   "execution_count": 1,
   "metadata": {},
   "outputs": [
    {
     "name": "stdout",
     "output_type": "stream",
     "text": [
      "200\n"
     ]
    }
   ],
   "source": [
    "# Import packages\n",
    "import numpy as np\n",
    "curDay = 20\n",
    "\n",
    "# Download input file\n",
    "from download_inputs import download_inputs\n",
    "\n",
    "download_inputs(curDay)"
   ]
  },
  {
   "cell_type": "code",
   "execution_count": 2,
   "metadata": {},
   "outputs": [
    {
     "name": "stdout",
     "output_type": "stream",
     "text": [
      "Done loading input\n"
     ]
    }
   ],
   "source": [
    "# Load input into workspace\n",
    "filename = f'inputs\\\\day{curDay}.txt'\n",
    "# curIn = np.loadtxt(filename)\n",
    "\n",
    "inputFile = open(filename)\n",
    "inputs = []\n",
    "inputs = [s for s in inputFile.read().splitlines()]\n",
    "\n",
    "print('Done loading input')"
   ]
  },
  {
   "cell_type": "code",
   "execution_count": 241,
   "metadata": {},
   "outputs": [
    {
     "name": "stdout",
     "output_type": "stream",
     "text": [
      "Done loading test-input\n"
     ]
    }
   ],
   "source": [
    "# Load test-input into workspace\n",
    "filenameTest = f'inputs\\\\day{curDay}test.txt'\n",
    "\n",
    "inputFileTest = open(filenameTest)\n",
    "inputsTest = []\n",
    "inputsTest = [s for s in inputFileTest.read().splitlines()]\n",
    "\n",
    "print('Done loading test-input') "
   ]
  },
  {
   "cell_type": "code",
   "execution_count": 523,
   "metadata": {},
   "outputs": [],
   "source": [
    "curIn = np.array([4, 5, 6, 1, 7, 8, 9])\n",
    "curIn = np.array([4, -2, 5, 6, 7, 8, 9])\n",
    "curIn = np.loadtxt(filenameTest)\n",
    "curIn = np.loadtxt(filename)"
   ]
  },
  {
   "cell_type": "code",
   "execution_count": 524,
   "metadata": {},
   "outputs": [
    {
     "name": "stdout",
     "output_type": "stream",
     "text": [
      "[ 9688.   470. -3016. ...  4936.  8347.  3988.] [   0    1    2 ... 4997 4998 4999]\n"
     ]
    }
   ],
   "source": [
    "ar = curIn.copy()\n",
    "curOrd = np.arange(len(ar))\n",
    "curInd = 0\n",
    "nextInd = curInd\n",
    "curPos = np.where(curOrd == nextInd)[0][0]\n",
    "oldPos = curOrd[curPos]\n",
    "\n",
    "curInd = -1 \n",
    "\n",
    "print(ar,curOrd)\n",
    "\n",
    "for k in range(len(ar)):\n",
    "    # print('--')\n",
    "    # Get next\n",
    "    nextInd = curInd + 1\n",
    "    curPos = np.where(curOrd == nextInd)[0][0]\n",
    "    curInd = nextInd\n",
    "\n",
    "    # oldPos = curOrd[curInd]\n",
    "    # oldPos = curInd  \n",
    "    # oldPos = curOrd[curPos]\n",
    "    oldPos = curPos \n",
    "    # print(ar,'Start, move',int(ar[oldPos]),curOrd)\n",
    "    toMove = int(ar[oldPos]) \n",
    "    \n",
    "    # print('Move',toMove)\n",
    "    # print(ar)\n",
    "\n",
    "    toMoveFixed = (oldPos + toMove) % (len(ar)-1) \n",
    "\n",
    "    ar = np.delete(ar,oldPos)\n",
    "    ar = np.insert(ar,toMoveFixed,toMove)\n",
    "\n",
    "    curOrd = np.delete(curOrd,oldPos)\n",
    "    curOrd = np.insert(curOrd,toMoveFixed,curInd)\n",
    "\n",
    "    if (toMoveFixed == 0):\n",
    "        ar = np.roll(ar,-1)\n",
    "        curOrd = np.roll(curOrd,-1)\n",
    "\n",
    "\n",
    "    # print(ar,curOrd)\n",
    "    # print(ar)\n",
    "\n",
    "    # print('--')\n",
    "    # # Get next\n",
    "    # nextInd = curInd + 1\n",
    "    # curPos = np.where(curOrd == nextInd)[0][0]\n",
    "    # curInd = nextInd\n",
    "\n"
   ]
  },
  {
   "cell_type": "code",
   "execution_count": 525,
   "metadata": {},
   "outputs": [
    {
     "data": {
      "text/plain": [
       "9687"
      ]
     },
     "execution_count": 525,
     "metadata": {},
     "output_type": "execute_result"
    }
   ],
   "source": [
    "zeroPos = np.where(ar == 0)[0][0]\n",
    "\n",
    "v1 = int(np.roll(ar,-zeroPos - 1000)[0])\n",
    "v2 = int(np.roll(ar,-zeroPos - 2000)[0])\n",
    "v3 = int(np.roll(ar,-zeroPos - 3000)[0])\n",
    "\n",
    "p1 = v1+v2+v3 \n",
    "p1 "
   ]
  },
  {
   "cell_type": "markdown",
   "metadata": {},
   "source": [
    "# Part 2"
   ]
  },
  {
   "cell_type": "code",
   "execution_count": 587,
   "metadata": {},
   "outputs": [],
   "source": [
    "curIn = np.array([4, 5, 6, 1, 7, 8, 9])\n",
    "curIn = np.array([4, -2, 5, 6, 7, 8, 9])\n",
    "curIn = np.loadtxt(filenameTest)\n",
    "curIn = np.loadtxt(filename)\n",
    "encKey = 811589153"
   ]
  },
  {
   "cell_type": "code",
   "execution_count": 588,
   "metadata": {},
   "outputs": [
    {
     "data": {
      "text/plain": [
       "array([ 9688.,   470., -3016., ...,  4936.,  8347.,  3988.])"
      ]
     },
     "execution_count": 588,
     "metadata": {},
     "output_type": "execute_result"
    }
   ],
   "source": [
    "curIn * encKey\n",
    "curIn"
   ]
  },
  {
   "cell_type": "code",
   "execution_count": 589,
   "metadata": {},
   "outputs": [],
   "source": [
    "actVal = curIn * encKey \n",
    "modVal = actVal % len(curIn)"
   ]
  },
  {
   "cell_type": "code",
   "execution_count": 590,
   "metadata": {},
   "outputs": [
    {
     "name": "stdout",
     "output_type": "stream",
     "text": [
      "[ 7.86267571e+12  3.81446902e+11 -2.44775289e+12 ...  4.00600406e+12\n",
      "  6.77433466e+12  3.23661754e+12]\n",
      "[ 4.85086837e+12 -8.09803657e+12  4.18130732e+12 ... -8.76516285e+11\n",
      "  3.43951483e+12  7.40169308e+11]\n",
      "[-6.06338256e+12 -3.24635661e+10  6.01955675e+12 ... -7.82534261e+12\n",
      " -1.85448121e+12  5.10246100e+12]\n",
      "[-6.76946513e+12  4.18130732e+12  2.63928793e+12 ... -7.24830273e+12\n",
      "  1.49738199e+12 -4.06362689e+12]\n",
      "[-1.42920850e+12 -5.63648667e+12 -3.48821018e+12 ...  7.80424130e+12\n",
      " -3.44844231e+12  7.37734540e+12]\n",
      "[-1.38375951e+12 -4.52055158e+11  5.79718132e+12 ...  3.33644301e+12\n",
      " -5.47173407e+12  3.58803565e+12]\n",
      "[ 7.43091028e+12 -4.31440794e+12 -1.54445416e+12 ...  8.61907680e+11\n",
      "  4.54976879e+12 -6.48784369e+12]\n",
      "[ 2.04033513e+12 -2.84786634e+12 -8.63530859e+11 ... -7.85212506e+12\n",
      " -6.25329442e+12 -5.97654252e+12]\n",
      "[1.02503710e+12 4.58953666e+12 1.36915090e+12 ... 2.30491319e+12\n",
      " 4.63904360e+12 6.31172884e+12]\n",
      "[ 3.41516716e+12  9.33327526e+10  3.09053149e+12 ... -3.18629901e+12\n",
      " -3.32021122e+12 -6.01387562e+11]\n",
      "[-6.86766741e+12 -2.94525704e+12 -7.77664726e+12 ...  6.81734889e+11\n",
      " -1.48033862e+12  6.59984299e+12]\n"
     ]
    }
   ],
   "source": [
    "ar = curIn.copy()\n",
    "ar = ar * encKey\n",
    "curOrd = np.arange(len(ar))\n",
    "curInd = 0\n",
    "nextInd = curInd\n",
    "curPos = np.where(curOrd == nextInd)[0][0]\n",
    "oldPos = curOrd[curPos]\n",
    "\n",
    "curInd = -1 \n",
    "\n",
    "print(ar)\n",
    "\n",
    "for i in range(10):\n",
    "    curInd = -1\n",
    "    for k in range(len(ar)):\n",
    "        # print('--')\n",
    "        # Get next\n",
    "        nextInd = curInd + 1\n",
    "        curPos = np.where(curOrd == nextInd)[0][0]\n",
    "        curInd = nextInd\n",
    "\n",
    "        # oldPos = curOrd[curInd]\n",
    "        # oldPos = curInd  \n",
    "        # oldPos = curOrd[curPos]\n",
    "        oldPos = curPos \n",
    "        # print(ar,'Start, move',int(ar[oldPos]),curOrd)\n",
    "        toMove = int(ar[oldPos]) \n",
    "        \n",
    "        # print('Move',toMove)\n",
    "        # print(ar)\n",
    "\n",
    "        toMoveFixed = (oldPos + toMove) % (len(ar)-1) \n",
    "        # print(toMove,toMoveFixed)\n",
    "\n",
    "        ar = np.delete(ar,oldPos)\n",
    "        ar = np.insert(ar,toMoveFixed,toMove)\n",
    "\n",
    "        curOrd = np.delete(curOrd,oldPos)\n",
    "        curOrd = np.insert(curOrd,toMoveFixed,curInd)\n",
    "\n",
    "        if (toMoveFixed == 0):\n",
    "            ar = np.roll(ar,-1)\n",
    "            curOrd = np.roll(curOrd,-1)\n",
    "\n",
    "    # print(ar.astype(int))\n",
    "    print(np.roll(ar,1))"
   ]
  },
  {
   "cell_type": "code",
   "execution_count": 591,
   "metadata": {},
   "outputs": [
    {
     "data": {
      "text/plain": [
       "1338310513297"
      ]
     },
     "execution_count": 591,
     "metadata": {},
     "output_type": "execute_result"
    }
   ],
   "source": [
    "zeroPos = np.where(ar == 0)[0][0]\n",
    "\n",
    "v1 = int(np.roll(ar,-zeroPos - 1000)[0])\n",
    "v2 = int(np.roll(ar,-zeroPos - 2000)[0])\n",
    "v3 = int(np.roll(ar,-zeroPos - 3000)[0])\n",
    "\n",
    "p2 = v1+v2+v3 \n",
    "p2"
   ]
  },
  {
   "cell_type": "markdown",
   "metadata": {},
   "source": [
    "# Old below"
   ]
  },
  {
   "cell_type": "code",
   "execution_count": 571,
   "metadata": {},
   "outputs": [
    {
     "name": "stdout",
     "output_type": "stream",
     "text": [
      "[-2147483648 -2147483648 -1623178306 -2147483648  1623178306   811589153\n",
      "           0]\n"
     ]
    }
   ],
   "source": [
    "ar = curIn.copy()\n",
    "actVal = ar * encKey \n",
    "modVal = actVal % len(ar)\n",
    "curOrd = np.arange(len(ar))\n",
    "\n",
    "curInd = -1 \n",
    "for k in range(len(ar)):\n",
    "    # print('--')\n",
    "    # Get next\n",
    "    nextInd = curInd + 1\n",
    "    curPos = np.where(curOrd == nextInd)[0][0]\n",
    "    curInd = nextInd\n",
    "\n",
    "    oldPos = curPos\n",
    "    # print(actVal,'Start, move',int(modVal[oldPos]),curOrd)\n",
    "    toMove = int(actVal[oldPos]) \n",
    "    \n",
    "    # print('Move',toMove)\n",
    "    # print(modVal)\n",
    "\n",
    "    toMoveFixed = (oldPos + toMove) % (len(actVal)-1) \n",
    "\n",
    "\n",
    "    curOrd = np.delete(curOrd,oldPos)\n",
    "    curOrd = np.insert(curOrd,toMoveFixed,curInd)\n",
    "    \n",
    "    actVal = np.delete(actVal,oldPos)\n",
    "    actVal = np.insert(actVal,toMoveFixed,toMove)\n",
    "\n",
    "    if (toMoveFixed == 0):\n",
    "        actVal = np.roll(actVal,-1)\n",
    "        curOrd = np.roll(curOrd,-1)\n",
    "\n",
    "\n",
    "print(actVal.astype(int))"
   ]
  },
  {
   "cell_type": "code",
   "execution_count": 566,
   "metadata": {},
   "outputs": [
    {
     "name": "stdout",
     "output_type": "stream",
     "text": [
      "[ 1.  2. -3.  3. -2.  0.  4.] [0 1 2 3 4 5 6]\n",
      "[ 0.00000000e+00 -2.43476746e+09 -1.62317831e+09  2.43476746e+09\n",
      "  8.11589153e+08  1.62317831e+09  3.24635661e+09]\n",
      "[ 0.00000000e+00  1.62317831e+09 -1.62317831e+09  8.11589153e+08\n",
      "  2.43476746e+09 -2.43476746e+09  3.24635661e+09]\n",
      "[ 0.00000000e+00 -1.62317831e+09  8.11589153e+08 -2.43476746e+09\n",
      "  1.62317831e+09  2.43476746e+09  3.24635661e+09]\n",
      "[-2.43476746e+09  0.00000000e+00  1.62317831e+09  8.11589153e+08\n",
      "  2.43476746e+09 -1.62317831e+09  3.24635661e+09]\n",
      "[ 2.43476746e+09  1.62317831e+09 -1.62317831e+09 -2.43476746e+09\n",
      "  0.00000000e+00  8.11589153e+08  3.24635661e+09]\n",
      "[ 2.43476746e+09  8.11589153e+08  3.24635661e+09 -1.62317831e+09\n",
      "  0.00000000e+00  1.62317831e+09 -2.43476746e+09]\n",
      "[-2.43476746e+09  2.43476746e+09  3.24635661e+09 -1.62317831e+09\n",
      "  1.62317831e+09  0.00000000e+00  8.11589153e+08]\n",
      "[-2.43476746e+09 -1.62317831e+09  3.24635661e+09  2.43476746e+09\n",
      "  8.11589153e+08  1.62317831e+09  0.00000000e+00]\n",
      "[ 2.43476746e+09 -1.62317831e+09  3.24635661e+09 -2.43476746e+09\n",
      "  1.62317831e+09  8.11589153e+08  0.00000000e+00]\n",
      "[ 0.00000000e+00  3.24635661e+09 -2.43476746e+09  1.62317831e+09\n",
      "  2.43476746e+09 -1.62317831e+09  8.11589153e+08]\n"
     ]
    }
   ],
   "source": [
    "ar = curIn.copy()\n",
    "actVal = ar * encKey \n",
    "modVal = actVal % len(ar)\n",
    "curOrd = np.arange(len(ar))\n",
    "\n",
    "curInd = -1 \n",
    "\n",
    "print(ar,curOrd)\n",
    "\n",
    "for i in range(10):\n",
    "    curInd = -1 \n",
    "    for k in range(len(ar)):\n",
    "        # print('--')\n",
    "        # Get next\n",
    "        nextInd = curInd + 1\n",
    "        curPos = np.where(curOrd == nextInd)[0][0]\n",
    "        curInd = nextInd\n",
    "\n",
    "        oldPos = curPos\n",
    "        # print(actVal,'Start, move',int(modVal[oldPos]),curOrd)\n",
    "        toMove = int(actVal[oldPos]) \n",
    "        \n",
    "        # print('Move',toMove)\n",
    "        # print(modVal)\n",
    "\n",
    "        toMoveFixed = (oldPos + toMove) % (len(modVal)-1) \n",
    "\n",
    "\n",
    "        curOrd = np.delete(curOrd,oldPos)\n",
    "        curOrd = np.insert(curOrd,toMoveFixed,curInd)\n",
    "        \n",
    "        actVal = np.delete(actVal,oldPos)\n",
    "        actVal = np.insert(actVal,toMoveFixed,toMove)\n",
    "\n",
    "        if (toMoveFixed == 0):\n",
    "            modVal = np.roll(modVal,-1)\n",
    "            curOrd = np.roll(curOrd,-1)\n",
    "\n",
    "\n",
    "    print(actVal)"
   ]
  },
  {
   "cell_type": "code",
   "execution_count": 555,
   "metadata": {},
   "outputs": [
    {
     "name": "stdout",
     "output_type": "stream",
     "text": [
      "[ 1.  2. -3.  3. -2.  0.  4.] [0 1 2 3 4 5 6]\n",
      "--\n",
      "[4. 1. 2. 5. 6. 0. 2.]\n",
      "[ 8.11589153e+08  1.62317831e+09 -2.43476746e+09  2.43476746e+09\n",
      " -1.62317831e+09  0.00000000e+00  3.24635661e+09] Start, move 4 [0 1 2 3 4 5 6]\n",
      "--\n",
      "[1.00000000e+00 2.00000000e+00 5.00000000e+00 6.00000000e+00\n",
      " 0.00000000e+00 8.11589153e+08 2.00000000e+00]\n",
      "[ 1.62317831e+09 -2.43476746e+09  2.43476746e+09 -1.62317831e+09\n",
      "  0.00000000e+00  8.11589153e+08  3.24635661e+09] Start, move 1 [1 2 3 4 5 0 6]\n",
      "--\n",
      "[2.00000000e+00 5.00000000e+00 6.00000000e+00 0.00000000e+00\n",
      " 1.62317831e+09 8.11589153e+08 2.00000000e+00]\n",
      "[-2.43476746e+09  2.43476746e+09 -1.62317831e+09  0.00000000e+00\n",
      "  1.62317831e+09  8.11589153e+08  3.24635661e+09] Start, move 2 [2 3 4 5 1 0 6]\n",
      "--\n",
      "[ 5.00000000e+00  6.00000000e+00  0.00000000e+00 -2.43476746e+09\n",
      "  1.62317831e+09  8.11589153e+08  2.00000000e+00]\n",
      "[ 2.43476746e+09 -1.62317831e+09  0.00000000e+00 -2.43476746e+09\n",
      "  1.62317831e+09  8.11589153e+08  3.24635661e+09] Start, move 5 [3 4 5 2 1 0 6]\n",
      "--\n",
      "[ 6.00000000e+00  0.00000000e+00 -2.43476746e+09  2.43476746e+09\n",
      "  1.62317831e+09  8.11589153e+08  2.00000000e+00]\n",
      "[-1.62317831e+09  0.00000000e+00 -2.43476746e+09  2.43476746e+09\n",
      "  1.62317831e+09  8.11589153e+08  3.24635661e+09] Start, move 6 [4 5 2 3 1 0 6]\n",
      "--\n",
      "[ 0.00000000e+00 -2.43476746e+09 -1.62317831e+09  2.43476746e+09\n",
      "  1.62317831e+09  8.11589153e+08  2.00000000e+00]\n",
      "[ 0.00000000e+00 -2.43476746e+09 -1.62317831e+09  2.43476746e+09\n",
      "  1.62317831e+09  8.11589153e+08  3.24635661e+09] Start, move 0 [5 2 4 3 1 0 6]\n",
      "--\n",
      "[-2.43476746e+09 -1.62317831e+09  2.43476746e+09  1.62317831e+09\n",
      "  8.11589153e+08  2.00000000e+00  0.00000000e+00]\n",
      "[ 0.00000000e+00 -2.43476746e+09 -1.62317831e+09  2.43476746e+09\n",
      "  1.62317831e+09  8.11589153e+08  3.24635661e+09] Start, move 2 [2 4 3 1 0 6 5]\n"
     ]
    }
   ],
   "source": [
    "ar = curIn.copy()\n",
    "actVal = ar * encKey \n",
    "modVal = actVal % len(ar)\n",
    "curOrd = np.arange(len(ar))\n",
    "\n",
    "curInd = -1 \n",
    "\n",
    "print(ar,curOrd)\n",
    "\n",
    "for k in range(len(ar)):\n",
    "    print('--')\n",
    "    # Get next\n",
    "    nextInd = curInd + 1\n",
    "    curPos = np.where(curOrd == nextInd)[0][0]\n",
    "    curInd = nextInd\n",
    "\n",
    "    oldPos = curPos \n",
    "    # print(modVal,'Start, move',int(modVal[oldPos]),curOrd)\n",
    "    print(modVal)\n",
    "    print(actVal,'Start, move',int(modVal[oldPos]),curOrd)\n",
    "    toMove = int(actVal[oldPos]) \n",
    "    \n",
    "    # print('Move',toMove)\n",
    "    # print(modVal)\n",
    "\n",
    "    toMoveFixed = (oldPos + toMove) % (len(modVal)-1) \n",
    "\n",
    "    # modVal = np.delete(modVal,oldPos)\n",
    "    # modVal = np.insert(modVal,toMoveFixed,toMove)\n",
    "    \n",
    "    modVal = np.delete(modVal,oldPos)\n",
    "    modVal = np.insert(modVal,toMoveFixed,toMove)\n",
    "\n",
    "    curOrd = np.delete(curOrd,oldPos)\n",
    "    curOrd = np.insert(curOrd,toMoveFixed,curInd)\n",
    "    \n",
    "    actVal = np.delete(actVal,oldPos)\n",
    "    actVal = np.insert(actVal,toMoveFixed,toMove)\n",
    "\n",
    "    if (toMoveFixed == 0):\n",
    "        modVal = np.roll(modVal,-1)\n",
    "        curOrd = np.roll(curOrd,-1)\n",
    "\n",
    "\n"
   ]
  },
  {
   "cell_type": "code",
   "execution_count": null,
   "metadata": {},
   "outputs": [],
   "source": []
  },
  {
   "cell_type": "markdown",
   "metadata": {},
   "source": [
    "# Old below"
   ]
  },
  {
   "cell_type": "code",
   "execution_count": 476,
   "metadata": {},
   "outputs": [
    {
     "name": "stdout",
     "output_type": "stream",
     "text": [
      "[ 1.  2. -3.  3. -2.  0.  4.] Start, move 1 [0 1 2 3 4 5 6]\n",
      "[ 2.  1. -3.  3. -2.  0.  4.] [1 0 2 3 4 5 6]\n"
     ]
    }
   ],
   "source": [
    "## WORKING!\n",
    "\n",
    "ar = curIn.copy()\n",
    "od = np.arange(len(ar))\n",
    "curInd = 0\n",
    "oldPos = od[curInd]\n",
    "\n",
    "print(ar,'Start, move',int(ar[oldPos]),od)\n",
    "toMove = int(ar[oldPos]) \n",
    "\n",
    "toMoveFixed = (oldPos + toMove) % (len(ar)-1) \n",
    "\n",
    "ar = np.delete(ar,oldPos)\n",
    "ar = np.insert(ar,toMoveFixed,toMove)\n",
    "\n",
    "od = np.delete(od,oldPos)\n",
    "od = np.insert(od,toMoveFixed,curInd)\n",
    "\n",
    "\n",
    "\n",
    "print(ar,od)"
   ]
  },
  {
   "cell_type": "code",
   "execution_count": 454,
   "metadata": {},
   "outputs": [
    {
     "name": "stdout",
     "output_type": "stream",
     "text": [
      "[ 4 -2  5  6  7  8  9] Start, move 4\n"
     ]
    }
   ],
   "source": [
    "ar = curIn.copy()\n",
    "oldPos = 0\n",
    "\n",
    "print(ar,'Start, move',int(ar[oldPos]))\n",
    "curVal = int(ar[oldPos]) \n",
    "# curVal = 99\n",
    "toMove = curVal \n",
    "\n",
    "\n",
    "if toMove > 0:\n",
    "    toMoveFixed = (oldPos + toMove) % (len(ar)-1) \n",
    "else:\n",
    "    toMoveFixed = (oldPos + toMove) % (len(ar)-1)\n",
    "\n",
    "ar = np.delete(ar,oldPos)\n",
    "\n",
    "ar = np.insert(ar,toMoveFixed,curVal)\n",
    "# print(ar,'insert')\n",
    "\n",
    "\n"
   ]
  },
  {
   "cell_type": "code",
   "execution_count": null,
   "metadata": {},
   "outputs": [],
   "source": []
  },
  {
   "cell_type": "code",
   "execution_count": 395,
   "metadata": {},
   "outputs": [
    {
     "name": "stdout",
     "output_type": "stream",
     "text": [
      "[ 4 -2  5  6  7  8  9] Start\n",
      "[ 4 -2  5  6  7  7  8  9] insert\n",
      "[ 4 -2  5  6  7  8  9] Delete\n"
     ]
    }
   ],
   "source": [
    "# Working solution, but the number should be popped before moving, otherwise it will be in the way for itself (and x > len(ar) will be one to small)\n",
    "ar = curIn.copy()\n",
    "oldPos = 4\n",
    "\n",
    "print(ar,'Start')\n",
    "toMove = int(ar[oldPos])\n",
    "\n",
    "if toMove > 0:\n",
    "    toMoveFixed = (oldPos + toMove + 1) % len(ar)\n",
    "else:\n",
    "    toMoveFixed = (oldPos + toMove) % len(ar)\n",
    "\n",
    "ar = np.insert(ar,toMoveFixed,toMove)\n",
    "print(ar,'insert')\n",
    "\n",
    "if (toMoveFixed < oldPos):\n",
    "    ar = np.delete(ar,oldPos+1)\n",
    "    print(ar,'Delete')\n",
    "else:\n",
    "    ar = np.delete(ar,oldPos)\n",
    "    print(ar,'Delete')"
   ]
  },
  {
   "cell_type": "code",
   "execution_count": 394,
   "metadata": {},
   "outputs": [
    {
     "name": "stdout",
     "output_type": "stream",
     "text": [
      "[ 4 -2  5  6  7  8  9] Start, move 6\n",
      "[ 6  7  8  9  4 -2  5] Roll to oldpos\n",
      "[ 7  8  9  4 -2  5] Delete first\n",
      "[ 7  8  9  4 -2  5] Roll to new pos\n",
      "[ 6  7  8  9  4 -2  5] Insert in front\n",
      "[ 7  8  9  4 -2  5  6] Roll back to old pos\n",
      "False\n",
      "[-2  5  6  7  8  9  4] Roll back to original\n"
     ]
    }
   ],
   "source": [
    "ar = curIn.copy()\n",
    "oldPos = 3\n",
    "toMove = int(ar[oldPos])\n",
    "print(ar,'Start, move',toMove)\n",
    "\n",
    "# if toMove > 0:\n",
    "#     toMoveFixed = (oldPos + toMove + 1) % len(ar)\n",
    "# else:\n",
    "#     toMoveFixed = (oldPos + toMove) % len(ar) \n",
    "if toMove > 0:\n",
    "    toMoveFixed = (toMove + 1) % len(ar)\n",
    "else:\n",
    "    toMoveFixed = (toMove) % len(ar) \n",
    "\n",
    "ar = np.roll(ar,-oldPos) \n",
    "print(ar,'Roll to oldpos')\n",
    "\n",
    "ar = np.delete(ar,0)\n",
    "print(ar,'Delete first')\n",
    "\n",
    "ar = np.roll(ar,-(toMoveFixed))\n",
    "print(ar,'Roll to new pos')\n",
    "\n",
    "ar = np.insert(ar,0,toMove)\n",
    "print(ar,'Insert in front')\n",
    "\n",
    "ar = np.roll(ar,toMoveFixed-1)\n",
    "print(ar,'Roll back to old pos')\n",
    "\n",
    "newPos = (oldPos+toMoveFixed)%len(ar)\n",
    "print(newPos < oldPos)\n",
    "ar = np.roll(ar,oldPos)\n",
    "print(ar,'Roll back to original')\n",
    "\n",
    "# if toMove > 0:\n",
    "\n",
    "# else:\n"
   ]
  },
  {
   "cell_type": "code",
   "execution_count": 388,
   "metadata": {},
   "outputs": [
    {
     "data": {
      "text/plain": [
       "7"
      ]
     },
     "execution_count": 388,
     "metadata": {},
     "output_type": "execute_result"
    }
   ],
   "source": []
  },
  {
   "cell_type": "code",
   "execution_count": 348,
   "metadata": {},
   "outputs": [
    {
     "name": "stdout",
     "output_type": "stream",
     "text": [
      "[ 4 -2  5  6  7  8  9] Start, move 8\n",
      "[ 4 -2  5  6  7  9] Delete\n",
      "[ 8  4 -2  5  6  7  9] insert\n"
     ]
    }
   ],
   "source": [
    "ar = curIn.copy()\n",
    "oldPos = 5\n",
    "\n",
    "toMove = int(ar[oldPos])\n",
    "\n",
    "print(ar,'Start, move',toMove)\n",
    "\n",
    "\n",
    "if toMove > 0:\n",
    "    toMoveFixed = (oldPos + toMove + 1) % len(ar)\n",
    "else:\n",
    "    toMoveFixed = (oldPos + toMove) % len(ar)\n",
    "\n",
    "# print(toMoveFixed,oldPos)\n",
    "if (toMoveFixed < oldPos):\n",
    "    ar = np.delete(ar,oldPos)\n",
    "    print(ar,'Delete')\n",
    "else:\n",
    "    ar = np.delete(ar,oldPos)\n",
    "    print(ar,'Delete')\n",
    "\n",
    "    \n",
    "ar = np.insert(ar,toMoveFixed,toMove)\n",
    "print(ar,'insert')\n"
   ]
  },
  {
   "cell_type": "code",
   "execution_count": 329,
   "metadata": {},
   "outputs": [
    {
     "name": "stdout",
     "output_type": "stream",
     "text": [
      "[ 1.  2. -3.  3. -2.  0.  4.] Start\n",
      "[ 1.  2. -2. -3.  3. -2.  0.  4.] insert\n",
      "[ 1.  2. -2. -3.  3.  0.  4.] Delete\n"
     ]
    }
   ],
   "source": [
    "# Working solution, but the number should be popped before moving, otherwise it will be in the way for itself (and x > len(ar) will be one to small)\n",
    "ar = curIn.copy()\n",
    "oldPos = 4\n",
    "\n",
    "print(ar,'Start')\n",
    "toMove = int(ar[oldPos])\n",
    "\n",
    "if toMove > 0:\n",
    "    toMoveFixed = (oldPos + toMove + 1) % len(ar)\n",
    "else:\n",
    "    toMoveFixed = (oldPos + toMove) % len(ar)\n",
    "\n",
    "ar = np.insert(ar,toMoveFixed,toMove)\n",
    "print(ar,'insert')\n",
    "\n",
    "if (toMoveFixed < oldPos):\n",
    "    ar = np.delete(ar,oldPos+1)\n",
    "    print(ar,'Delete')\n",
    "else:\n",
    "    ar = np.delete(ar,oldPos)\n",
    "    print(ar,'Delete')"
   ]
  },
  {
   "cell_type": "code",
   "execution_count": 284,
   "metadata": {},
   "outputs": [
    {
     "name": "stdout",
     "output_type": "stream",
     "text": [
      "[ 4 -2  5  6  7  8  9] Start\n",
      "[ 5  6  7  8  9  4 -2] To old pos\n",
      "[-2  5  6  7  8  9  4] To new pos, positive\n",
      "[-2  5  6  7  8  9  4  5] Insert\n",
      "[-2  5  6  8  9  4  5] Pop original\n",
      "[ 5  6  8  9  4  5 -2] Roll back to old pos\n",
      "[ 5 -2  5  6  8  9  4] Roll back to origial\n"
     ]
    }
   ],
   "source": [
    "ar = curIn.copy()\n",
    "oldPos = 2\n",
    "\n",
    "print(ar,'Start')\n",
    "toMove = int(ar[oldPos])\n",
    "\n",
    "ar = np.roll(ar,-oldPos)\n",
    "print(ar,'To old pos')\n",
    "\n",
    "if toMove > 0:\n",
    "    ar = np.roll(ar,-toMove-1)\n",
    "    print(ar,'To new pos, positive')\n",
    "    ar = np.insert(ar,len(ar),toMove)\n",
    "    print(ar,'Insert')\n",
    "    \n",
    "    ar = np.delete(ar,toMove-2)\n",
    "    print(ar,'Pop original')\n",
    "\n",
    "    ar = np.roll(ar,toMove+1)\n",
    "    print(ar,'Roll back to old pos')\n",
    "\n",
    "else:\n",
    "    ar = np.roll(ar,-toMove)\n",
    "    print(ar,'To new pos, negative')\n",
    "    ar = np.insert(ar,len(ar),toMove)\n",
    "    print(ar,'Insert')\n",
    "\n",
    "    ar = np.delete(ar,-toMove)\n",
    "    print(ar,'Pop original')\n",
    "\n",
    "    ar = np.roll(ar,toMove)\n",
    "    print(ar,'Roll back to old pos')\n",
    "\n",
    "\n",
    "\n",
    "\n",
    "\n",
    "\n",
    "ar = np.roll(ar,oldPos)\n",
    "print(ar,'Roll back to origial')\n",
    "\n"
   ]
  },
  {
   "cell_type": "code",
   "execution_count": 240,
   "metadata": {},
   "outputs": [
    {
     "name": "stdout",
     "output_type": "stream",
     "text": [
      "[4 5 6 1 7 8 9] Start\n",
      "1 toMove\n"
     ]
    },
    {
     "data": {
      "text/plain": [
       "array([5, 6, 1, 7, 8, 9, 4])"
      ]
     },
     "execution_count": 240,
     "metadata": {},
     "output_type": "execute_result"
    }
   ],
   "source": [
    "curAr = curIn.copy()\n",
    "print(curAr,'Start')\n",
    "oldPos = 1\n",
    "oldPos = 3\n",
    "toMove = int(curAr[oldPos])\n",
    "\n",
    "print(toMove,'toMove')\n",
    "np.roll(curAr,-toMove)\n",
    "# newPos = ((oldPos+toMove-1)%len(curAr)) + 1\n",
    "# # print((oldPos+toMove))\n",
    "# curAr = np.insert(curAr,newPos,toMove)\n",
    "# print(curAr,'Insert')\n",
    "# curAr = np.delete(curAr,oldPos)\n",
    "# print(curAr,'Delete')"
   ]
  },
  {
   "cell_type": "code",
   "execution_count": 196,
   "metadata": {},
   "outputs": [
    {
     "name": "stdout",
     "output_type": "stream",
     "text": [
      "[ 1.  2. -3.  3. -2.  0.  4.] Start\n",
      "3\n",
      "3\n",
      "-1\n",
      "[ 1.  2. -3. -2.  0.  4.] Delete old\n",
      "[ 1.  2. -3. -2.  0.  3.  4.] insert\n"
     ]
    }
   ],
   "source": [
    "curAr = curIn.copy()\n",
    "curOrd = np.arange(len(curIn))\n",
    "oldPos = 3\n",
    "toMove = int(curAr[oldPos])\n",
    "newPos =((oldPos+toMove+1) % len(curIn)-1)\n",
    "print(curAr,'Start')\n",
    "# newPos =((oldPos+toMove) % len(curIn))\n",
    "print(oldPos)\n",
    "print(toMove) \n",
    "print(newPos)\n",
    "# # print(((newPos+1) % len(curIn)-1))\n",
    "# curAr =np.insert(curAr,newPos,toMove)\n",
    "# print(curAr,'insert')\n",
    "curAr =np.delete(curAr,oldPos)\n",
    "print(curAr,'Delete old')\n",
    "curAr =np.insert(curAr,newPos,toMove)\n",
    "print(curAr,'insert')"
   ]
  },
  {
   "cell_type": "code",
   "execution_count": 158,
   "metadata": {},
   "outputs": [
    {
     "name": "stdout",
     "output_type": "stream",
     "text": [
      "[ 1.  2. -3.  3. -2.  0.  4.]\n",
      "[ 1.  2. -3.  3. -2.  0.  4.] Roll to front\n",
      "[ 2. -3.  3. -2.  0.  4.] Delete\n",
      "[-3.  3. -2.  0.  4.  2.] Roll to new pos\n",
      "[-3.  3. -2.  0.  4.  2.  1.] Append\n",
      "[ 1. -3.  3. -2.  0.  4.  2.] Roll to have appended in front\n",
      "[ 4.  2.  1. -3.  3. -2.  0.] Roll back 1\n"
     ]
    }
   ],
   "source": [
    "curAr = curIn.copy()\n",
    "curOrd = np.arange(len(curIn))\n",
    "oldPos = 0\n",
    "toMove = int(curAr[oldPos])\n",
    "print(curAr)\n",
    "curAr = np.roll(curAr,-oldPos)\n",
    "print(curAr,'Roll to front')\n",
    "curAr = np.delete(curAr,0)\n",
    "# curAr = np.delete(curAr,oldPos)\n",
    "print(curAr,'Delete')\n",
    "curAr = np.roll(curAr,-toMove)\n",
    "print(curAr,'Roll to new pos')\n",
    "curAr = np.append(curAr,toMove)\n",
    "print(curAr,'Append')\n",
    "curAr = np.roll(curAr,1)\n",
    "print(curAr,'Roll to have appended in front')\n",
    "curAr = np.roll(curAr,toMove+1)\n",
    "print(curAr,'Roll back',toMove)\n",
    "# # curAr = np.roll(curAr,oldPos)\n",
    "# # curAr = np.roll(curAr,oldPos+toMove)\n",
    "# # print(curAr,'Roll back to main configuration')"
   ]
  },
  {
   "cell_type": "code",
   "execution_count": null,
   "metadata": {},
   "outputs": [],
   "source": []
  },
  {
   "cell_type": "code",
   "execution_count": 85,
   "metadata": {},
   "outputs": [
    {
     "name": "stdout",
     "output_type": "stream",
     "text": [
      "[ 1.  2. -3.  3. -2.  0.  4.]\n",
      "1 moves, or  1\n",
      "Delete: [ 2. -3.  3. -2.  0.  4.]\n",
      "Roll to position: [ 2. -3.  3. -2.  0.  4.]\n",
      "Roll to new position: [-3.  3. -2.  0.  4.  2.]\n",
      "Append: [-3.  3. -2.  0.  4.  2.  1.]\n",
      "Roll back to new position: [ 2.  1. -3.  3. -2.  0.  4.]\n",
      "[ 2.  1. -3.  3. -2.  0.  4.]\n",
      "[1 0 2 3 4 5 6]\n",
      "2 moves, or  2\n",
      "Delete: [ 1. -3.  3. -2.  0.  4.]\n",
      "Roll to position: [ 1. -3.  3. -2.  0.  4.]\n",
      "Roll to new position: [ 3. -2.  0.  4.  1. -3.]\n",
      "Append: [ 3. -2.  0.  4.  1. -3.  2.]\n",
      "Roll back to new position: [ 1. -3.  2.  3. -2.  0.  4.]\n",
      "[ 1. -3.  2.  3. -2.  0.  4.]\n",
      "[0 2 1 3 4 5 6]\n",
      "-3 moves, or  3\n",
      "Delete: [ 1.  2.  3. -2.  0.  4.]\n",
      "Roll to position: [ 2.  3. -2.  0.  4.  1.]\n",
      "Roll to new position: [ 0.  4.  1.  2.  3. -2.]\n",
      "Append: [ 0.  4.  1.  2.  3. -2. -3.]\n",
      "Roll back to new position: [ 2.  3. -2. -3.  0.  4.  1.]\n",
      "[ 1.  2.  3. -2. -3.  0.  4.]\n",
      "[0 1 3 2 4 5 6]\n"
     ]
    }
   ],
   "source": [
    "curAr = curIn.copy()\n",
    "curOrd = np.arange(len(curIn))\n",
    "\n",
    "curPos = 0\n",
    "# curInd = curOrd[curPos]\n",
    "curInd = 0\n",
    "\n",
    "\n",
    "\n",
    "print(curAr)\n",
    "\n",
    "# while curInd < len(curIn):\n",
    "for k in range(3):\n",
    "    toMove = int(curAr[curPos])\n",
    "    toMovePlace = toMove % (len(curAr)-1)\n",
    "\n",
    "    print(toMove,'moves, or ',toMovePlace)\n",
    "\n",
    "\n",
    "    curAr = np.delete(curAr,curPos)\n",
    "    print('Delete:',curAr)\n",
    "\n",
    "    curAr = np.roll(curAr,-curPos)\n",
    "    print('Roll to position:',curAr)\n",
    "\n",
    "    curAr = np.roll(curAr,-toMovePlace)\n",
    "    print('Roll to new position:',curAr)\n",
    "\n",
    "    curAr = np.append(curAr,toMove)\n",
    "    print('Append:',curAr)\n",
    "\n",
    "    curAr = np.roll(curAr ,toMovePlace+1)\n",
    "    print('Roll back to new position:',curAr)\n",
    "\n",
    "    curAr = np.roll(curAr,curPos)\n",
    "\n",
    "    # Do the same with the order array\n",
    "    curOrd = np.delete(curOrd,curPos)\n",
    "    curOrd = np.append(np.roll(curOrd,-toMovePlace),curInd)\n",
    "    curOrd = np.roll(curOrd ,toMovePlace+1)\n",
    "\n",
    "    print(curAr)\n",
    "    print(curOrd)\n",
    "\n",
    "    # Get next\n",
    "    nextInd = curInd + 1\n",
    "    curPos = np.where(curOrd == nextInd)[0][0]\n",
    "    curInd = curOrd[curPos]\n",
    "\n",
    "    # toMove = int(curAr[curPos])\n",
    "    # # if toMove \n",
    "    # toMove = toMove % len(curAr)\n",
    "\n",
    "    # print('--')\n",
    "    # curAr = np.delete(curAr,curPos)\n",
    "    # curAr = np.append(np.roll(curAr,-toMove),toMove)\n",
    "    # curAr = np.roll(curAr ,toMove+1)\n",
    "    # # Do the same with the order array\n",
    "    # curOrd = np.delete(curOrd,curPos)\n",
    "    # curOrd = np.append(np.roll(curOrd,-toMove),curInd)\n",
    "    # curOrd = np.roll(curOrd ,toMove+1)\n",
    "\n",
    "    # print(curAr)\n",
    "    # print(curOrd)"
   ]
  }
 ],
 "metadata": {
  "kernelspec": {
   "display_name": "Python 3.10.0 ('main')",
   "language": "python",
   "name": "python3"
  },
  "language_info": {
   "codemirror_mode": {
    "name": "ipython",
    "version": 3
   },
   "file_extension": ".py",
   "mimetype": "text/x-python",
   "name": "python",
   "nbconvert_exporter": "python",
   "pygments_lexer": "ipython3",
   "version": "3.10.0"
  },
  "orig_nbformat": 4,
  "vscode": {
   "interpreter": {
    "hash": "e6af94e5c5af6f455ad39eba9e20d9ee46a7c0c9ebf8b81ae3b0b6f1a6d45f70"
   }
  }
 },
 "nbformat": 4,
 "nbformat_minor": 2
}
