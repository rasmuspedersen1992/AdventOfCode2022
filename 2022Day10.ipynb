{
 "cells": [
  {
   "cell_type": "code",
   "execution_count": 1,
   "metadata": {},
   "outputs": [
    {
     "name": "stdout",
     "output_type": "stream",
     "text": [
      "200\n"
     ]
    }
   ],
   "source": [
    "# Import packages\n",
    "import numpy as np\n",
    "curDay = 10\n",
    "\n",
    "# Download input file\n",
    "from download_inputs import download_inputs\n",
    "\n",
    "download_inputs(curDay)"
   ]
  },
  {
   "cell_type": "code",
   "execution_count": 2,
   "metadata": {},
   "outputs": [
    {
     "name": "stdout",
     "output_type": "stream",
     "text": [
      "Done loading input\n"
     ]
    }
   ],
   "source": [
    "# Load input into workspace\n",
    "filename = f'inputs\\\\day{curDay}.txt'\n",
    "# curIn = np.loadtxt(filename)\n",
    "\n",
    "inputFile = open(filename)\n",
    "inputs = []\n",
    "inputs = [s for s in inputFile.read().splitlines()]\n",
    "\n",
    "print('Done loading input')"
   ]
  },
  {
   "cell_type": "code",
   "execution_count": 4,
   "metadata": {},
   "outputs": [
    {
     "name": "stdout",
     "output_type": "stream",
     "text": [
      "Done loading test-input\n"
     ]
    }
   ],
   "source": [
    "# Load test-input into workspace\n",
    "filenameTest = f'inputs\\\\day{curDay}test.txt'\n",
    "\n",
    "inputFileTest = open(filenameTest)\n",
    "inputsTest = []\n",
    "inputsTest = [s for s in inputFileTest.read().splitlines()]\n",
    "\n",
    "print('Done loading test-input')"
   ]
  },
  {
   "cell_type": "markdown",
   "metadata": {},
   "source": [
    "# Part 1"
   ]
  },
  {
   "cell_type": "code",
   "execution_count": 33,
   "metadata": {},
   "outputs": [
    {
     "name": "stdout",
     "output_type": "stream",
     "text": [
      "20 21\n",
      "420\n",
      "60 21\n",
      "1260\n",
      "100 21\n",
      "2100\n",
      "140 17\n",
      "2380\n",
      "180 21\n",
      "3780\n",
      "220 21\n",
      "4620\n"
     ]
    },
    {
     "data": {
      "text/plain": [
       "14560"
      ]
     },
     "execution_count": 33,
     "metadata": {},
     "output_type": "execute_result"
    }
   ],
   "source": [
    "curInput = inputs\n",
    "# curInput = inputsTest\n",
    "# curInput = ['noop',\n",
    "#             'addx 3',\n",
    "#             'addx -5']\n",
    "\n",
    "curInput\n",
    "\n",
    "regi = 1\n",
    "cycle = 0\n",
    "p1 = 0\n",
    "for curI in curInput:\n",
    "    if curI == 'noop':\n",
    "        cycle += 1\n",
    "        if (cycle == 20) | (((cycle-20) % 40) == 0):\n",
    "            print(cycle,regi)\n",
    "            p1 += cycle * regi\n",
    "            print(cycle*regi)\n",
    "    else:\n",
    "        op,val = curI.split(' ')\n",
    "        cycle += 1\n",
    "        if (cycle == 20) | (((cycle-20) % 40) == 0):\n",
    "            print(cycle,regi)\n",
    "            p1 += cycle * regi\n",
    "            print(cycle*regi)\n",
    "            \n",
    "        cycle += 1\n",
    "        # if (cycle % 20) == 0:\n",
    "        if (cycle == 20) | (((cycle-20) % 40) == 0):\n",
    "            print(cycle,regi)\n",
    "            p1 += cycle * regi\n",
    "            print(cycle*regi)\n",
    "            \n",
    "        regi += int(val)\n",
    "            \n",
    "    # print(cycle,regi)\n",
    "p1"
   ]
  },
  {
   "cell_type": "markdown",
   "metadata": {},
   "source": [
    "# Part 2"
   ]
  },
  {
   "cell_type": "code",
   "execution_count": 113,
   "metadata": {},
   "outputs": [
    {
     "name": "stdout",
     "output_type": "stream",
     "text": [
      "####.#..#.###..#..#.####.###..#..#.#####\n",
      "#....#.#..#..#.#..#.#....#..#.#..#....#.\n",
      "###..##...#..#.####.###..#..#.#..#...#..\n",
      "#....#.#..###..#..#.#....###..#..#..#...\n",
      "#....#.#..#.#..#..#.#....#....#..#.#...#\n",
      "####.#..#.#..#.#..#.####.#.....##..####.\n",
      "\n"
     ]
    }
   ],
   "source": [
    "curInput = inputs\n",
    "# curInput = inputsTest\n",
    "\n",
    "regi = 1\n",
    "cycle = 0\n",
    "\n",
    "curOut = ''\n",
    "# for curI in curInput[:3]:\n",
    "for curI in curInput:\n",
    "    if curI == 'noop':\n",
    "        cycle += 1\n",
    "        if ((cycle % 40) == 0):\n",
    "            # print(cycle)\n",
    "            # Move to next line\n",
    "            2+2\n",
    "            # curOut += '\\n'\n",
    "            cycle = 0\n",
    "            # print('')\n",
    "        \n",
    "        if np.abs(cycle -1 - regi) < 2: \n",
    "            curOut += '#' \n",
    "            # print('#',end='')\n",
    "        else:\n",
    "            curOut += '.' \n",
    "            # print('.',end='')\n",
    "            \n",
    "        # print(cycle,regi,curI,curOut)\n",
    "\n",
    "    else:\n",
    "        op,val = curI.split(' ')\n",
    "        cycle += 1\n",
    "        if ((cycle % 40) == 0):\n",
    "            # print(cycle)\n",
    "            # Move to next line\n",
    "            2+2\n",
    "            # curOut += '\\n'\n",
    "            cycle = 0\n",
    "            # print('')\n",
    "        \n",
    "        if np.abs(cycle -1 - regi) < 2: \n",
    "            curOut += '#' \n",
    "            # print('#',end='')\n",
    "        else:\n",
    "            curOut += '.' \n",
    "            # print('.',end='')\n",
    "\n",
    "        # print(cycle,regi,curI,curOut)\n",
    "        # cycle += 1\n",
    "        \n",
    "        cycle += 1\n",
    "        if np.abs(cycle -1 - regi) < 2: \n",
    "            curOut += '#' \n",
    "            # print('#',end='')\n",
    "        else:\n",
    "            curOut += '.' \n",
    "            # print('.',end='')\n",
    "\n",
    "        if ((cycle % 40) == 0):\n",
    "            # Move to next line\n",
    "            2+2\n",
    "            # curOut += '\\n'\n",
    "            cycle = 0\n",
    "            # print('')\n",
    "            \n",
    "        \n",
    "        regi += int(val)\n",
    "\n",
    "        # print(cycle,regi,curI,curOut)\n",
    "            \n",
    "# p1\n",
    "# curOut\n",
    "for i in range(7):\n",
    "    print(curOut[i*40:(i+1)*40])"
   ]
  },
  {
   "cell_type": "code",
   "execution_count": 100,
   "metadata": {},
   "outputs": [
    {
     "name": "stdout",
     "output_type": "stream",
     "text": [
      "##..##....##....#####..##..##..##..##..#\n",
      "###..####..##....##....####..####.###...\n",
      "#.....######..###......###......#......#\n",
      "###.....##.........####.....####........\n",
      "##..##....##..##.......#####......##....\n",
      "##..#........###...........########.....\n",
      "\n"
     ]
    }
   ],
   "source": [
    "for i in range(7):\n",
    "    print(curOut[i*40:(i+1)*40])\n",
    "# print(curOut[:40])\n",
    "# print(curOut[40:80])\n",
    "# print(curOut[:40])\n",
    "# print(curOut[:40])\n",
    "# print(curOut[:40])\n",
    "# print(curOut)"
   ]
  },
  {
   "cell_type": "code",
   "execution_count": null,
   "metadata": {},
   "outputs": [],
   "source": []
  }
 ],
 "metadata": {
  "kernelspec": {
   "display_name": "Python 3.10.0 ('main')",
   "language": "python",
   "name": "python3"
  },
  "language_info": {
   "codemirror_mode": {
    "name": "ipython",
    "version": 3
   },
   "file_extension": ".py",
   "mimetype": "text/x-python",
   "name": "python",
   "nbconvert_exporter": "python",
   "pygments_lexer": "ipython3",
   "version": "3.10.0"
  },
  "orig_nbformat": 4,
  "vscode": {
   "interpreter": {
    "hash": "e6af94e5c5af6f455ad39eba9e20d9ee46a7c0c9ebf8b81ae3b0b6f1a6d45f70"
   }
  }
 },
 "nbformat": 4,
 "nbformat_minor": 2
}
