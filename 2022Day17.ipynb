{
 "cells": [
  {
   "cell_type": "code",
   "execution_count": null,
   "metadata": {},
   "outputs": [],
   "source": [
    "# Import packages\n",
    "import numpy as np\n",
    "curDay = 17\n",
    "\n",
    "# Download input file\n",
    "from download_inputs import download_inputs\n",
    "\n",
    "# download_inputs(curDay)"
   ]
  },
  {
   "cell_type": "code",
   "execution_count": null,
   "metadata": {},
   "outputs": [],
   "source": [
    "# Load input into workspace\n",
    "filename = f'inputs\\\\day{curDay}.txt'\n",
    "# curIn = np.loadtxt(filename)\n",
    "\n",
    "inputFile = open(filename)\n",
    "inputs = []\n",
    "inputs = [s for s in inputFile.read().splitlines()]\n",
    "\n",
    "print('Done loading input')"
   ]
  },
  {
   "cell_type": "code",
   "execution_count": null,
   "metadata": {},
   "outputs": [],
   "source": [
    "# Load test-input into workspace\n",
    "filenameTest = f'inputs\\\\day{curDay}test.txt'\n",
    "\n",
    "inputFileTest = open(filenameTest)\n",
    "inputsTest = []\n",
    "inputsTest = [s for s in inputFileTest.read().splitlines()]\n",
    "\n",
    "print('Done loading test-input') "
   ]
  },
  {
   "cell_type": "code",
   "execution_count": null,
   "metadata": {},
   "outputs": [],
   "source": [
    "curIn = inputs[0]\n",
    "# curIn = inputsTest[0]\n",
    "# inputsTest"
   ]
  },
  {
   "cell_type": "code",
   "execution_count": null,
   "metadata": {},
   "outputs": [],
   "source": [
    "allShapes = [\n",
    "    [\n",
    "        [0,0,0,0,0,0,0],\n",
    "        [0,0,0,0,0,0,0],\n",
    "        [0,0,0,0,0,0,0],\n",
    "        [0,0,1,1,1,1,0]\n",
    "    ],\n",
    "    [\n",
    "        [0,0,0,0,0,0,0],\n",
    "        [0,0,0,1,0,0,0],\n",
    "        [0,0,1,1,1,0,0],\n",
    "        [0,0,0,1,0,0,0]\n",
    "    ],\n",
    "    [\n",
    "        [0,0,0,0,0,0,0],\n",
    "        [0,0,0,0,1,0,0],\n",
    "        [0,0,0,0,1,0,0],\n",
    "        [0,0,1,1,1,0,0]\n",
    "    ],\n",
    "    [\n",
    "        [0,0,1,0,0,0,0],\n",
    "        [0,0,1,0,0,0,0],\n",
    "        [0,0,1,0,0,0,0],\n",
    "        [0,0,1,0,0,0,0]\n",
    "    ],\n",
    "    [\n",
    "        [0,0,0,0,0,0,0],\n",
    "        [0,0,0,0,0,0,0],\n",
    "        [0,0,1,1,0,0,0],\n",
    "        [0,0,1,1,0,0,0]\n",
    "    ]\n",
    "]"
   ]
  },
  {
   "cell_type": "code",
   "execution_count": null,
   "metadata": {},
   "outputs": [],
   "source": [
    "allShapes = [\n",
    "    np.array([\n",
    "        [0,0,1,1,1,1,0]\n",
    "    ]),\n",
    "    np.array([\n",
    "        [0,0,0,1,0,0,0],\n",
    "        [0,0,1,1,1,0,0],\n",
    "        [0,0,0,1,0,0,0]\n",
    "    ]),\n",
    "    np.array([\n",
    "        [0,0,0,0,1,0,0],\n",
    "        [0,0,0,0,1,0,0],\n",
    "        [0,0,1,1,1,0,0]\n",
    "    ]),\n",
    "    np.array([\n",
    "        [0,0,1,0,0,0,0],\n",
    "        [0,0,1,0,0,0,0],\n",
    "        [0,0,1,0,0,0,0],\n",
    "        [0,0,1,0,0,0,0]\n",
    "    ]),\n",
    "    np.array([\n",
    "        [0,0,1,1,0,0,0],\n",
    "        [0,0,1,1,0,0,0]\n",
    "    ])\n",
    "]"
   ]
  },
  {
   "cell_type": "code",
   "execution_count": null,
   "metadata": {},
   "outputs": [],
   "source": [
    "iniCham = np.array(\n",
    "    [\n",
    "        [0,0,0,0,0,0,0],\n",
    "        [0,0,0,0,0,0,0],\n",
    "        [0,0,0,0,0,0,0],\n",
    "        [2,2,2,2,2,2,2],\n",
    "    ]\n",
    ")"
   ]
  },
  {
   "cell_type": "code",
   "execution_count": null,
   "metadata": {},
   "outputs": [],
   "source": [
    "# curShape = allShapes[1]\n",
    "# curCham = iniCham.copy()\n",
    "\n",
    "\n",
    "def moveDown(curCham): \n",
    "    Ys,Xs = np.where(curCham == 1)\n",
    "\n",
    "    # Try to move down\n",
    "    newYs = [y+1 for y in Ys]\n",
    "\n",
    "    allFree = True\n",
    "    for k in range(len(Ys)):\n",
    "        \n",
    "        if (curCham[newYs[k],Xs[k]] == 2):\n",
    "            allFree = False \n",
    "            \n",
    "    if allFree:\n",
    "        # Update position, starting from the bottom\n",
    "        # print(Xs,Ys)\n",
    "        maxY = np.max(Ys)\n",
    "        # print(maxY)\n",
    "        for thisY in range(maxY,-1,-1):\n",
    "            # print(thisY)\n",
    "            for k in range(len(Ys)): \n",
    "                if (Ys[k] == thisY):\n",
    "                    curCham[Ys[k],Xs[k]] = 0\n",
    "                    curCham[newYs[k],Xs[k]] = 1\n",
    "\n",
    "\n",
    "        # for k in range(len(Ys)):\n",
    "        #     curCham[Ys[k],Xs[k]] = 0\n",
    "        #     curCham[newYs[k],Xs[k]] = 1\n",
    "    else:\n",
    "        for k in range(len(Ys)):\n",
    "            curCham[Ys[k],Xs[k]] = 2\n",
    "    return curCham\n",
    "\n",
    "# print('--')\n",
    "# curCham = moveDown(curCham)\n",
    "# # curCham = moveDown(curCham)\n",
    "# # curCham = moveDown(curCham)\n",
    "# print(curCham)\n",
    "\n",
    "# Loop here\n",
    "\n",
    "# curCham = np.vstack((curShape,curCham))\n",
    "# print(curCham)\n"
   ]
  },
  {
   "cell_type": "code",
   "execution_count": null,
   "metadata": {},
   "outputs": [],
   "source": [
    "def moveRight(curCham):\n",
    "    # Get current coordinates for thing to move\n",
    "    Ys,Xs = np.where(curCham == 1)\n",
    "\n",
    "    # If already at the right edge\n",
    "    if np.any(Xs == 6):\n",
    "        # Do nothing\n",
    "        return curCham\n",
    "    else:\n",
    "        # Try to move to the right\n",
    "        newXs = [x+1 for x in Xs]\n",
    "\n",
    "        allFree = True\n",
    "        for k in range(len(Ys)):\n",
    "            if (curCham[Ys[k],newXs[k]] == 2):\n",
    "                allFree = False \n",
    "                \n",
    "\n",
    "        if allFree:\n",
    "            # Update position, starting from the right\n",
    "            maxX = np.max(Xs)\n",
    "            \n",
    "            for thisX in range(maxX,-1,-1):\n",
    "                \n",
    "                for k in range(len(Xs)): \n",
    "                    if (Xs[k] == thisX):\n",
    "                        curCham[Ys[k],Xs[k]] = 0\n",
    "                        curCham[Ys[k],newXs[k]] = 1\n",
    "            \n",
    "        return curCham\n",
    "# curCham = moveRight(curCham.copy())\n",
    "# curCham "
   ]
  },
  {
   "cell_type": "code",
   "execution_count": null,
   "metadata": {},
   "outputs": [],
   "source": [
    "def moveLeft(curCham):\n",
    "    # Get current coordinates for thing to move\n",
    "    Ys,Xs = np.where(curCham == 1)\n",
    "\n",
    "    # If already at the left edge\n",
    "    if np.any(Xs == 0):\n",
    "        # Do nothing\n",
    "        return curCham\n",
    "    else:\n",
    "        # Try to move to the left\n",
    "        newXs = [x-1 for x in Xs]\n",
    "\n",
    "        allFree = True\n",
    "        for k in range(len(Ys)):\n",
    "            if (curCham[Ys[k],newXs[k]] == 2):\n",
    "                allFree = False \n",
    "                \n",
    "\n",
    "        if allFree:\n",
    "            # Update position, starting from the left\n",
    "            maxX = np.max(Xs)\n",
    "            \n",
    "            # for thisX in range(maxX,-1,-1):\n",
    "            for thisX in range(maxX+1):\n",
    "                \n",
    "                for k in range(len(Xs)): \n",
    "                    if (Xs[k] == thisX):\n",
    "                        curCham[Ys[k],Xs[k]] = 0\n",
    "                        curCham[Ys[k],newXs[k]] = 1\n",
    "            \n",
    "        return curCham\n",
    "        "
   ]
  },
  {
   "cell_type": "code",
   "execution_count": null,
   "metadata": {},
   "outputs": [],
   "source": [
    "numJets = len(curIn)\n",
    "# curIn\n",
    "def getJet(n):\n",
    "    # print(n%40)\n",
    "    return curIn[n%numJets]\n",
    "# print(curIn)\n",
    "# getJet(40)\n",
    "toApp = ''\n",
    "for k in range(90):\n",
    "    toApp += getJet(k)\n",
    "# curIn[39]\n",
    "# toApp[40:]"
   ]
  },
  {
   "cell_type": "code",
   "execution_count": null,
   "metadata": {},
   "outputs": [],
   "source": []
  },
  {
   "cell_type": "code",
   "execution_count": null,
   "metadata": {},
   "outputs": [],
   "source": [
    "# # curCham[0] == 0\n",
    "# firstNonEmpty = 0\n",
    "# for r in range(len(curCham)-1,0,-1):\n",
    "#     if (np.all(curCham[r] == 0) == False):\n",
    "#         firstNonEmpty = r\n",
    "\n",
    "#     # print(np.all(curCham[r] == 0))\n",
    "#     2+2\n",
    "# # curCham = \n",
    "# # curCham[firstNonEmpty-3:]\n",
    "# # emptyRow = np.array([0,0,0,0,0,0,0])\n",
    "# # np.vstack((emptyRow,curCham))"
   ]
  },
  {
   "cell_type": "code",
   "execution_count": null,
   "metadata": {},
   "outputs": [],
   "source": [
    "# curCham"
   ]
  },
  {
   "cell_type": "code",
   "execution_count": null,
   "metadata": {},
   "outputs": [],
   "source": [
    "\n",
    "curCham = iniCham.copy() \n",
    "numShapesToAdd = 10\n",
    "airJetNum = 0\n",
    "numJets = len(inputs[0])\n",
    "for s in range(numShapesToAdd):\n",
    "# for s in tqdm(range(numShapesToAdd)):\n",
    "    if s > 1:\n",
    "        # Start by trimming empty lines on top\n",
    "        firstNonEmpty = 0\n",
    "        for r in range(len(curCham)-1,0,-1):\n",
    "            if (np.all(curCham[r] == 0) == False):\n",
    "                firstNonEmpty = r\n",
    "        # Trim, but leave three empty rows\n",
    "        curCham = curCham[firstNonEmpty-3:]\n",
    "\n",
    "    # Get the next shape to add\n",
    "    curShape = allShapes[s%5]\n",
    "    # Add it to the chamber \n",
    "    curCham = np.vstack((curShape,curCham))\n",
    "    print(curCham)"
   ]
  },
  {
   "cell_type": "code",
   "execution_count": null,
   "metadata": {},
   "outputs": [],
   "source": [
    "# curIn\n",
    "from tqdm import tqdm \n",
    "\n",
    "curCham = iniCham.copy() \n",
    "\n",
    "curIn = inputs[0]\n",
    "# curIn = inputsTest[0]\n",
    "numJets = len(curIn)\n",
    "\n",
    "numShapesToAdd = 2022\n",
    "# numShapesToAdd = 40\n",
    "airJetNum = 0\n",
    "# numJets = len(curIn)\n",
    "# numJets = len(inputsTest[0])\n",
    "# numJets = len(inputs[0])\n",
    "# for s in range(numShapesToAdd):\n",
    "for s in tqdm(range(numShapesToAdd)):\n",
    "    if s > 1:\n",
    "        # Start by trimming empty lines on top\n",
    "        firstNonEmpty = 0\n",
    "        for r in range(len(curCham)-1,0,-1):\n",
    "            if (np.all(curCham[r] == 0) == False):\n",
    "                firstNonEmpty = r\n",
    "        # Trim, but leave three empty rows\n",
    "        curCham = curCham[firstNonEmpty-3:]\n",
    "\n",
    "    # Get the next shape to add\n",
    "    curShape = allShapes[s%5]\n",
    "    # Add it to the chamber \n",
    "    curCham = np.vstack((curShape,curCham))\n",
    "\n",
    "    # print(curCham)\n",
    "    maxIter = 40\n",
    "    for curIter in range(maxIter):\n",
    "    # flagContinueIter = True \n",
    "    # while flagContinueIter:\n",
    "        # If there are still parts that haven't moved\n",
    "        if np.any(curCham == 1):\n",
    "            # Get the next air jet\n",
    "            curAir = curIn[airJetNum % numJets]\n",
    "            # curAir = inputsTest[0][airJetNum % numJets] \n",
    "            # curAir = inputs[0][airJetNum % numJets] \n",
    "            airJetNum += 1 \n",
    "\n",
    "            # print(curAir,airJetNum)\n",
    "            if curAir == '>':\n",
    "                curCham = moveRight(curCham.copy())\n",
    "            elif curAir == '<':\n",
    "                curCham = moveLeft(curCham.copy())\n",
    "            # print(curCham)\n",
    "         \n",
    "            # print('---')\n",
    "            # print('Moving down')\n",
    "\n",
    "            curCham = moveDown(curCham.copy())\n",
    "\n",
    "            # print(curCham)\n",
    "\n",
    "            # print('---')\n",
    "        # else:\n",
    "        #     flagContinueIter = False\n",
    "    # print('NEXT')\n",
    "    # print(curCham)"
   ]
  },
  {
   "cell_type": "code",
   "execution_count": null,
   "metadata": {},
   "outputs": [],
   "source": [
    "# inputs[0]\n",
    "# curCham[0:100]"
   ]
  },
  {
   "cell_type": "code",
   "execution_count": null,
   "metadata": {},
   "outputs": [],
   "source": [
    "p1 = curCham.shape[0]-4\n",
    "print(p1)\n",
    "# # curCham[:5]\n",
    "# curCham"
   ]
  },
  {
   "cell_type": "markdown",
   "metadata": {},
   "source": [
    "# Part 2: 1000000000000 rocks\n",
    "Gotta find repetitions\n",
    "\n",
    "Test-case: 1514285714288 units tall"
   ]
  },
  {
   "cell_type": "code",
   "execution_count": null,
   "metadata": {},
   "outputs": [],
   "source": [
    "# Tortoise and Hare tests\n",
    "\n",
    "curList = [4,2,5,3,6,7,8,9,7,8,9,7,8,9,7,8,9,7,8,9,7,8,9,7,8,9]\n",
    "# curList = [4,2,5,4,7,4,1,5,7,4,2,5,7,4,1,5,7,4,2,5,7,4,1,5,7,4,2,5]\n",
    "\n",
    "tort = 1\n",
    "hare = 2\n",
    "while curList[tort] != curList[hare]:\n",
    "    tort += 1\n",
    "    hare += 2 \n",
    "print(tort,hare)\n",
    "\n",
    "mu = 0\n",
    "tort = 0\n",
    "while curList[tort] != curList[hare]:\n",
    "    tort += 1\n",
    "    hare += 1 \n",
    "    mu += 1\n",
    "print(tort,hare,mu)\n",
    "\n",
    "lam = 1\n",
    "hare = tort + 1\n",
    "while curList[tort] != curList[hare]: \n",
    "    hare += 1\n",
    "    lam += 1\n",
    "print(tort,hare,lam)\n",
    "\n",
    "print(curList[mu:mu+lam])"
   ]
  },
  {
   "cell_type": "code",
   "execution_count": null,
   "metadata": {},
   "outputs": [],
   "source": [
    "def dropOneShape(cham,jetnum,nextShape,curJetIn):\n",
    "    \n",
    "    # Start by trimming empty lines on top\n",
    "    firstNonEmpty = 0\n",
    "    for r in range(len(cham)-1,0,-1):\n",
    "        if (np.all(cham[r] == 0) == False):\n",
    "            firstNonEmpty = r\n",
    "            \n",
    "    iniHeight = len(cham[firstNonEmpty:])\n",
    "    # Trim, but leave three empty rows\n",
    "    cham = cham[firstNonEmpty-3:]\n",
    "\n",
    "    \n",
    "    # Add it to the chamber \n",
    "    cham = np.vstack((nextShape,cham))\n",
    "    \n",
    "    maxIter = 40\n",
    "    for curIter in range(maxIter):\n",
    "    # flagContinueIter = True \n",
    "    # while flagContinueIter:\n",
    "        # If there are still parts that haven't moved\n",
    "        if np.any(cham == 1):\n",
    "            # Get the next air jet\n",
    "            curAir = curJetIn[jetnum % len(curJetIn)]\n",
    "            # curAir = inputsTest[0][jetnum % numJets] \n",
    "            # curAir = inputs[0][jetnum % numJets] \n",
    "            jetnum += 1 \n",
    "\n",
    "            # print(curAir,jetnum)\n",
    "            if curAir == '>':\n",
    "                cham = moveRight(cham.copy())\n",
    "            elif curAir == '<':\n",
    "                cham = moveLeft(cham.copy())\n",
    "            # print(cham)\n",
    "         \n",
    "            # print('---')\n",
    "            # print('Moving down')\n",
    "\n",
    "            cham = moveDown(cham.copy())\n",
    "    \n",
    "    firstNonEmpty = 0\n",
    "    for r in range(len(cham)-1,0,-1):\n",
    "        if (np.all(cham[r] == 0) == False):\n",
    "            firstNonEmpty = r\n",
    "    newHeight = len(cham[firstNonEmpty:])\n",
    "\n",
    "    heightAdded = newHeight - iniHeight\n",
    "    return cham,jetnum,heightAdded\n",
    "# dropOneShape(testCham,0,0,0)"
   ]
  },
  {
   "cell_type": "code",
   "execution_count": null,
   "metadata": {},
   "outputs": [],
   "source": [
    "inputsTest[0]\n"
   ]
  },
  {
   "cell_type": "code",
   "execution_count": null,
   "metadata": {},
   "outputs": [],
   "source": [
    "\n",
    "testCham = iniCham.copy() \n",
    "\n",
    "curIn = inputs[0]\n",
    "# curIn = inputsTest[0]\n",
    "numJets = len(curIn)\n",
    "\n",
    "numShapesToAdd = 2022\n",
    "airJetNum = 0\n",
    "\n",
    "totHeight = 0\n",
    "for s in range(numShapesToAdd):\n",
    "    \n",
    "    # Get the next shape to add\n",
    "    curShape = allShapes[s%5]\n",
    "\n",
    "    testCham,airJetNum,heightAdded = dropOneShape(testCham,airJetNum,curShape,inputsTest[0])\n",
    "\n",
    "    totHeight += heightAdded\n",
    "\n",
    "    testCham = testCham[:100,:]\n",
    "totHeight"
   ]
  },
  {
   "cell_type": "code",
   "execution_count": null,
   "metadata": {},
   "outputs": [],
   "source": [
    "# len(testCham)\n",
    "# testCham\n",
    "\n",
    "# firstNonEmpty = 0\n",
    "# for r in range(len(testCham)-1,0,-1):\n",
    "#     if (np.all(testCham[r] == 0) == False):\n",
    "#         firstNonEmpty = r\n",
    "\n"
   ]
  },
  {
   "cell_type": "code",
   "execution_count": null,
   "metadata": {},
   "outputs": [],
   "source": [
    "\n",
    "tort = 1\n",
    "hare = 2\n",
    "while curList[tort] != curList[hare]:\n",
    "    tort += 1\n",
    "    hare += 2 \n",
    "print(tort,hare)"
   ]
  },
  {
   "cell_type": "code",
   "execution_count": null,
   "metadata": {},
   "outputs": [],
   "source": [
    "# len(tortCham)"
   ]
  },
  {
   "cell_type": "code",
   "execution_count": 280,
   "metadata": {},
   "outputs": [
    {
     "name": "stderr",
     "output_type": "stream",
     "text": [
      "C:\\Users\\rakrpe\\AppData\\Local\\Temp\\ipykernel_9844\\3481635753.py:31: DeprecationWarning: elementwise comparison failed; this will raise an error in the future.\n",
      "  while not np.all(hareCham == tortCham):\n",
      "C:\\Users\\rakrpe\\AppData\\Local\\Temp\\ipykernel_9844\\3481635753.py:54: DeprecationWarning: elementwise comparison failed; this will raise an error in the future.\n",
      "  while not np.all(hareCham == tortCham):\n",
      "C:\\Users\\rakrpe\\AppData\\Local\\Temp\\ipykernel_9844\\3481635753.py:74: DeprecationWarning: elementwise comparison failed; this will raise an error in the future.\n",
      "  while not np.all(hareCham == tortCham):\n"
     ]
    },
    {
     "name": "stdout",
     "output_type": "stream",
     "text": [
      "1174 1735\n"
     ]
    }
   ],
   "source": [
    "inputToUse = inputsTest[0]\n",
    "inputToUse = inputs[0]\n",
    "\n",
    "tortCham = iniCham.copy()\n",
    "tortJet = 0\n",
    "tortShapeID = 0\n",
    "# tortShape = allShapes[tortShapeID%5] \n",
    "\n",
    "hareCham = iniCham.copy()\n",
    "hareJet = 0\n",
    "hareShapeID = 0\n",
    "# hareShape = allShapes[hareShapeID%5]\n",
    "\n",
    "def makeOneStep(cham,jet,shapeid):\n",
    "    thisShape = allShapes[shapeid%5]\n",
    "    cham,jet,heightAdded = dropOneShape(cham,jet,thisShape,inputToUse)\n",
    "    shapeid += 1\n",
    "    \n",
    "    return cham,jet,shapeid\n",
    "    \n",
    "## Initialize by moving tortoise to step 1 and hare to step 2\n",
    "# Make one tortoise move\n",
    "tortCham,tortJet,tortShapeID = makeOneStep(tortCham,tortJet,tortShapeID) \n",
    "\n",
    "# Make one hare move\n",
    "hareCham,hareJet,hareShapeID = makeOneStep(hareCham,hareJet,hareShapeID) \n",
    "# Make another hare move\n",
    "hareCham,hareJet,hareShapeID = makeOneStep(hareCham,hareJet,hareShapeID) \n",
    "\n",
    "# Move tortoise one and hare two until they match\n",
    "while not np.all(hareCham == tortCham):\n",
    "# for k in range(1000):\n",
    "    # print(k,np.all(hareCham == tortCham))\n",
    "    # if tortCham.shape\n",
    "    \n",
    "    # Make one tortoise move\n",
    "    tortCham,tortJet,tortShapeID = makeOneStep(tortCham,tortJet,tortShapeID) \n",
    "\n",
    "    # Make one hare move\n",
    "    hareCham,hareJet,hareShapeID = makeOneStep(hareCham,hareJet,hareShapeID) \n",
    "    # Make another hare move\n",
    "    hareCham,hareJet,hareShapeID = makeOneStep(hareCham,hareJet,hareShapeID) \n",
    "\n",
    "    # Trim to length 100\n",
    "    tortCham = tortCham[:100,:]\n",
    "    hareCham = hareCham[:100,:]\n",
    "\n",
    "# Reset tortoise, move both one at a time until they match again\n",
    "tortCham = iniCham.copy()\n",
    "tortJet = 0\n",
    "tortShapeID = 0\n",
    "# Counter for first repetition\n",
    "mu = 0\n",
    "while not np.all(hareCham == tortCham):\n",
    "    \n",
    "    # Make one tortoise move\n",
    "    tortCham,tortJet,tortShapeID = makeOneStep(tortCham,tortJet,tortShapeID) \n",
    "\n",
    "    # Make one hare move\n",
    "    hareCham,hareJet,hareShapeID = makeOneStep(hareCham,hareJet,hareShapeID) \n",
    "\n",
    "    # Trim to length 100\n",
    "    tortCham = tortCham[:100,:]\n",
    "    hareCham = hareCham[:100,:]\n",
    "\n",
    "    # Increment counter\n",
    "    mu += 1\n",
    "\n",
    "# Step 3:\n",
    "# Counter for cycle length\n",
    "lam = 1\n",
    "# Set hare to tortoise + 1\n",
    "hareCham,hareJet,hareShapeID = makeOneStep(tortCham,tortJet,tortShapeID) \n",
    "while not np.all(hareCham == tortCham):\n",
    "    # Make one hare move\n",
    "    hareCham,hareJet,hareShapeID = makeOneStep(hareCham,hareJet,hareShapeID) \n",
    "\n",
    "    # Trim to length 100\n",
    "    hareCham = hareCham[:100,:]\n",
    "\n",
    "    # Increment counter\n",
    "    lam += 1\n",
    "\n",
    "print(mu,lam) "
   ]
  },
  {
   "cell_type": "code",
   "execution_count": 281,
   "metadata": {},
   "outputs": [],
   "source": [
    "# tortShapeID"
   ]
  },
  {
   "cell_type": "code",
   "execution_count": 282,
   "metadata": {},
   "outputs": [
    {
     "name": "stderr",
     "output_type": "stream",
     "text": [
      "100%|██████████| 1735/1735 [00:12<00:00, 140.02it/s]"
     ]
    },
    {
     "name": "stdout",
     "output_type": "stream",
     "text": [
      "heightAddedPerCycle 2711\n"
     ]
    },
    {
     "name": "stderr",
     "output_type": "stream",
     "text": [
      "\n"
     ]
    }
   ],
   "source": [
    "# tortShapeID\n",
    "testCham = tortCham.copy()\n",
    "testJet = tortJet \n",
    "testShapeID = tortShapeID \n",
    "\n",
    "totHeightAdded = 0\n",
    "for k in tqdm(range(lam)):\n",
    "    # dropOneShape(testCham,)\n",
    "    thisShape = allShapes[testShapeID%5]\n",
    "    testCham,testJet,heightAdded = dropOneShape(testCham,testJet,thisShape,inputToUse)\n",
    "    # testCham,testJet,heightAdded = dropOneShape(testCham,testJet,thisShape,inputs[0])\n",
    "    testShapeID += 1\n",
    "    totHeightAdded += heightAdded\n",
    "\n",
    "    # Trim bottom of testcham\n",
    "    testCham = testCham[:100]\n",
    "\n",
    "\n",
    "heightAddedPerCycle = totHeightAdded\n",
    "\n",
    "print('heightAddedPerCycle',heightAddedPerCycle)\n",
    "# tortCham[-5:]\n",
    "# tortCham\n",
    "\n",
    "# thisCham = tortCham.copy()\n",
    "# firstNonEmpty = 0\n",
    "# for r in range(len(thisCham)-1,0,-1):\n",
    "#     if (np.all(thisCham[r] == 0) == False):\n",
    "#         firstNonEmpty = r\n",
    "\n",
    "# heightBeforeCycle = len(thisCham[firstNonEmpty:])\n",
    "# print('heightBeforeCycle',heightBeforeCycle)\n"
   ]
  },
  {
   "cell_type": "code",
   "execution_count": 283,
   "metadata": {},
   "outputs": [
    {
     "name": "stderr",
     "output_type": "stream",
     "text": [
      "100%|██████████| 1174/1174 [00:07<00:00, 154.04it/s]"
     ]
    },
    {
     "name": "stdout",
     "output_type": "stream",
     "text": [
      "heightBeforeCycle 1764\n"
     ]
    },
    {
     "name": "stderr",
     "output_type": "stream",
     "text": [
      "\n"
     ]
    }
   ],
   "source": [
    "preCycleCham = iniCham.copy()\n",
    "preJet = 0 \n",
    "preShape = 0\n",
    "\n",
    "totHeightAdded = 0\n",
    "for k in tqdm(range(mu)):\n",
    "    # dropOneShape(preCycleCham,)\n",
    "    thisShape = allShapes[preShape%5]\n",
    "    preCycleCham,preJet,heightAdded = dropOneShape(preCycleCham,preJet,thisShape,inputToUse)\n",
    "    preShape += 1\n",
    "    totHeightAdded += heightAdded\n",
    "\n",
    "    # Trim bottom of preCycleCham\n",
    "    preCycleCham = preCycleCham[:100]\n",
    "\n",
    "heightBeforeCycle = totHeightAdded\n",
    "print('heightBeforeCycle',heightBeforeCycle)"
   ]
  },
  {
   "cell_type": "code",
   "execution_count": 284,
   "metadata": {},
   "outputs": [
    {
     "data": {
      "text/plain": [
       "150869"
      ]
     },
     "execution_count": 284,
     "metadata": {},
     "output_type": "execute_result"
    }
   ],
   "source": [
    "55 * lam + mu\n",
    "\n",
    "heightBeforeCycle + (heightAddedPerCycle * 55) "
   ]
  },
  {
   "cell_type": "code",
   "execution_count": 289,
   "metadata": {},
   "outputs": [
    {
     "name": "stderr",
     "output_type": "stream",
     "text": [
      "100%|██████████| 20/20 [00:00<00:00, 212.53it/s]"
     ]
    },
    {
     "name": "stdout",
     "output_type": "stream",
     "text": [
      "97\n",
      "125\n"
     ]
    },
    {
     "name": "stderr",
     "output_type": "stream",
     "text": [
      "\n"
     ]
    }
   ],
   "source": [
    "\n",
    "\n",
    "\n",
    "finCham = tortCham.copy()\n",
    "finJet = tortJet \n",
    "finShapeID = tortShapeID\n",
    "\n",
    "bonusRocks = 20 \n",
    "for k in tqdm(range(bonusRocks)):\n",
    "    \n",
    "    finCham,finJet,finShapeID = makeOneStep(finCham,finJet,finShapeID)\n",
    "\n",
    "\n",
    "tortChamTest = tortCham.copy()\n",
    "firstNonEmpty = 0\n",
    "for r in range(len(tortChamTest)-1,0,-1):\n",
    "    if (np.all(tortChamTest[r] == 0) == False):\n",
    "        firstNonEmpty = r\n",
    "# Trim, but leave three empty rows\n",
    "tortChamTest = tortChamTest[firstNonEmpty:]\n",
    "print(len(tortChamTest))\n",
    "\n",
    "finChamTest = finCham.copy()\n",
    "firstNonEmpty = 0\n",
    "for r in range(len(finChamTest)-1,0,-1):\n",
    "    if (np.all(finChamTest[r] == 0) == False):\n",
    "        firstNonEmpty = r\n",
    "# Trim, but leave three empty rows\n",
    "finChamTest = finChamTest[firstNonEmpty:]\n",
    "print(len(finChamTest))"
   ]
  },
  {
   "cell_type": "code",
   "execution_count": 290,
   "metadata": {},
   "outputs": [
    {
     "data": {
      "text/plain": [
       "150900"
      ]
     },
     "execution_count": 290,
     "metadata": {},
     "output_type": "execute_result"
    }
   ],
   "source": [
    "finalHeightAdded = 154-123\n",
    "\n",
    "heightBeforeCycle + (heightAddedPerCycle * 55) +finalHeightAdded"
   ]
  },
  {
   "cell_type": "code",
   "execution_count": 291,
   "metadata": {},
   "outputs": [
    {
     "name": "stdout",
     "output_type": "stream",
     "text": [
      "1562349301764 999880501174\n",
      "1562533649764 999998481174\n",
      "1562536008334 999999990624\n",
      "1562536021889 999999999299\n",
      "576368875\n"
     ]
    }
   ],
   "source": [
    "curHeight = heightBeforeCycle\n",
    "numRocks = mu \n",
    "cycleCounts = 0\n",
    "while numRocks < (1000000000000-lam * 100000):\n",
    "    curHeight += heightAddedPerCycle * 100000\n",
    "    numRocks += lam * 100000\n",
    "    cycleCounts += 100000\n",
    "    \n",
    "print(curHeight,numRocks)\n",
    "while numRocks < (1000000000000-lam * 1000):\n",
    "    curHeight += heightAddedPerCycle * 1000\n",
    "    numRocks += lam * 1000\n",
    "    cycleCounts += 1000\n",
    "print(curHeight,numRocks)\n",
    "while numRocks < (1000000000000-lam * 10):\n",
    "    curHeight += heightAddedPerCycle * 10\n",
    "    numRocks += lam * 10\n",
    "    cycleCounts += 10\n",
    "    \n",
    "print(curHeight,numRocks)\n",
    "while numRocks < (1000000000000-lam):\n",
    "    curHeight += heightAddedPerCycle\n",
    "    numRocks += lam\n",
    "    cycleCounts += 1\n",
    "print(curHeight,numRocks)\n",
    "print(cycleCounts)"
   ]
  },
  {
   "cell_type": "code",
   "execution_count": 292,
   "metadata": {},
   "outputs": [
    {
     "data": {
      "text/plain": [
       "1562536021889"
      ]
     },
     "execution_count": 292,
     "metadata": {},
     "output_type": "execute_result"
    }
   ],
   "source": [
    "\n",
    "heightBeforeCycle + (heightAddedPerCycle * cycleCounts) \n"
   ]
  },
  {
   "cell_type": "code",
   "execution_count": 293,
   "metadata": {},
   "outputs": [
    {
     "name": "stderr",
     "output_type": "stream",
     "text": [
      "100%|██████████| 701/701 [00:24<00:00, 28.58it/s] "
     ]
    },
    {
     "name": "stdout",
     "output_type": "stream",
     "text": [
      "97\n",
      "1174\n"
     ]
    },
    {
     "name": "stderr",
     "output_type": "stream",
     "text": [
      "\n"
     ]
    }
   ],
   "source": [
    "\n",
    "\n",
    "\n",
    "finCham = tortCham.copy()\n",
    "finJet = tortJet \n",
    "finShapeID = tortShapeID\n",
    "\n",
    "# bonusRocks = 20 \n",
    "bonusRocks = 1000000000000 - numRocks \n",
    "for k in tqdm(range(bonusRocks)):\n",
    "    \n",
    "    finCham,finJet,finShapeID = makeOneStep(finCham,finJet,finShapeID)\n",
    "\n",
    "\n",
    "tortChamTest = tortCham.copy()\n",
    "firstNonEmpty = 0\n",
    "for r in range(len(tortChamTest)-1,0,-1):\n",
    "    if (np.all(tortChamTest[r] == 0) == False):\n",
    "        firstNonEmpty = r\n",
    "# Trim, but leave three empty rows\n",
    "tortChamTest = tortChamTest[firstNonEmpty:]\n",
    "print(len(tortChamTest))\n",
    "aa = len(tortChamTest)\n",
    "\n",
    "finChamTest = finCham.copy()\n",
    "firstNonEmpty = 0\n",
    "for r in range(len(finChamTest)-1,0,-1):\n",
    "    if (np.all(finChamTest[r] == 0) == False):\n",
    "        firstNonEmpty = r\n",
    "# Trim, but leave three empty rows\n",
    "finChamTest = finChamTest[firstNonEmpty:]\n",
    "print(len(finChamTest))\n",
    "bb = len(finChamTest)"
   ]
  },
  {
   "cell_type": "code",
   "execution_count": 297,
   "metadata": {},
   "outputs": [
    {
     "name": "stdout",
     "output_type": "stream",
     "text": [
      "Answer to part 2: 1562536022966\n"
     ]
    }
   ],
   "source": [
    "finalHeightAdded = bb-aa\n",
    "p2 = heightBeforeCycle + (heightAddedPerCycle * cycleCounts)  + finalHeightAdded\n",
    "print('Answer to part 2:',p2)\n",
    "\n"
   ]
  },
  {
   "cell_type": "markdown",
   "metadata": {},
   "source": [
    "# Old wrong stuff below here"
   ]
  },
  {
   "cell_type": "code",
   "execution_count": 295,
   "metadata": {},
   "outputs": [
    {
     "data": {
      "text/plain": [
       "594"
      ]
     },
     "execution_count": 295,
     "metadata": {},
     "output_type": "execute_result"
    }
   ],
   "source": [
    "1562536022966 - 1562536022372"
   ]
  },
  {
   "cell_type": "code",
   "execution_count": 269,
   "metadata": {},
   "outputs": [
    {
     "name": "stdout",
     "output_type": "stream",
     "text": [
      "123\n",
      "123\n"
     ]
    },
    {
     "name": "stderr",
     "output_type": "stream",
     "text": [
      "100%|██████████| 20/20 [00:00<00:00, 84.82it/s]"
     ]
    },
    {
     "name": "stdout",
     "output_type": "stream",
     "text": [
      "306\n"
     ]
    },
    {
     "name": "stderr",
     "output_type": "stream",
     "text": [
      "\n"
     ]
    },
    {
     "data": {
      "text/plain": [
       "428"
      ]
     },
     "execution_count": 269,
     "metadata": {},
     "output_type": "execute_result"
    }
   ],
   "source": [
    "# bonusRocks\n",
    "\n",
    "finCham = tortCham.copy() \n",
    "finJet = tortJet \n",
    "finShapeID = tortShapeID\n",
    "\n",
    "\n",
    "tortChamTest = tortCham.copy()\n",
    "firstNonEmpty = 0\n",
    "for r in range(len(tortChamTest)-1,0,-1):\n",
    "    if (np.all(tortChamTest[r] == 0) == False):\n",
    "        firstNonEmpty = r\n",
    "# Trim, but leave three empty rows\n",
    "tortChamTest = tortChamTest[firstNonEmpty:]\n",
    "\n",
    "print(len(tortChamTest))\n",
    "preH = len(tortChamTest)\n",
    "\n",
    "finChamTest = finCham.copy()\n",
    "firstNonEmpty = 0\n",
    "for r in range(len(finChamTest)-1,0,-1):\n",
    "    if (np.all(finChamTest[r] == 0) == False):\n",
    "        firstNonEmpty = r\n",
    "# Trim, but leave three empty rows\n",
    "finChamTest = finChamTest[firstNonEmpty:]\n",
    "\n",
    "print(len(finChamTest))\n",
    "\n",
    "\n",
    "addedHeight = 0\n",
    "preHeight = len(tortChamTest)\n",
    "bonusRocks = 1000000000000 - numRocks \n",
    "# bonusRocks = 20\n",
    "for k in tqdm(range(bonusRocks)):\n",
    "    \n",
    "    finCham,finJet,finShapeID = makeOneStep(finCham,finJet,finShapeID)\n",
    "    finChamTest = finCham.copy()\n",
    "    firstNonEmpty = 0\n",
    "    for r in range(len(finChamTest)-1,0,-1):\n",
    "        if (np.all(finChamTest[r] == 0) == False):\n",
    "            firstNonEmpty = r\n",
    "    # Trim, but leave three empty rows\n",
    "    finChamTest = finChamTest[firstNonEmpty:]\n",
    "\n",
    "    postHeight = len(finChamTest)\n",
    "\n",
    "    \n",
    "    \n",
    "    # print(postHeight-preHeight)\n",
    "    addedHeight += postHeight-preHeight\n",
    "\n",
    "    # finCham = finCham[firstNonEmpty-3:103]\n",
    "\n",
    "    # print(finCham[:20])\n",
    "postH = len(finChamTest)\n",
    "\n",
    "# addedH = postH - preH\n",
    "print(addedHeight)\n",
    "# curHeight + addedHeight - 1\n",
    "heightBeforeCycle + addedHeight"
   ]
  },
  {
   "cell_type": "code",
   "execution_count": 241,
   "metadata": {},
   "outputs": [],
   "source": [
    "# a = heightAddedPerCycle\n",
    "# b = heightBeforeCycle"
   ]
  },
  {
   "cell_type": "code",
   "execution_count": 242,
   "metadata": {},
   "outputs": [
    {
     "name": "stdout",
     "output_type": "stream",
     "text": [
      "1514284200122 999999000077\n",
      "1514285684122 999999980077\n",
      "1514285713802 999999999677\n",
      "1514285714279 999999999992\n",
      "28571428569\n"
     ]
    }
   ],
   "source": [
    "curHeight = heightBeforeCycle\n",
    "numRocks = mu \n",
    "cycleCounts = 0\n",
    "while numRocks < (1000000000000-lam * 100000):\n",
    "    curHeight += heightAddedPerCycle * 100000\n",
    "    numRocks += lam * 100000\n",
    "    cycleCounts += 100000\n",
    "    \n",
    "print(curHeight,numRocks)\n",
    "while numRocks < (1000000000000-lam * 1000):\n",
    "    curHeight += heightAddedPerCycle * 1000\n",
    "    numRocks += lam * 1000\n",
    "    cycleCounts += 1000\n",
    "print(curHeight,numRocks)\n",
    "while numRocks < (1000000000000-lam * 10):\n",
    "    curHeight += heightAddedPerCycle * 10\n",
    "    numRocks += lam * 10\n",
    "    cycleCounts += 10\n",
    "    \n",
    "print(curHeight,numRocks)\n",
    "while numRocks < (1000000000000-lam):\n",
    "    curHeight += heightAddedPerCycle\n",
    "    numRocks += lam\n",
    "    cycleCounts += 1\n",
    "print(curHeight,numRocks)\n",
    "print(cycleCounts)"
   ]
  },
  {
   "cell_type": "code",
   "execution_count": 243,
   "metadata": {},
   "outputs": [
    {
     "data": {
      "text/plain": [
       "999999999992"
      ]
     },
     "execution_count": 243,
     "metadata": {},
     "output_type": "execute_result"
    }
   ],
   "source": [
    "(cycleCounts * lam + mu) \n",
    "\n",
    "# curHeight + heightAddedPerCycle\n"
   ]
  },
  {
   "cell_type": "code",
   "execution_count": 245,
   "metadata": {},
   "outputs": [
    {
     "name": "stdout",
     "output_type": "stream",
     "text": [
      "123\n",
      "123\n"
     ]
    }
   ],
   "source": [
    "# bonusRocks\n",
    "\n",
    "finCham = tortCham.copy() \n",
    "finJet = tortJet \n",
    "finShapeID = tortShapeID\n",
    "\n",
    "\n",
    "tortChamTest = tortCham.copy()\n",
    "firstNonEmpty = 0\n",
    "for r in range(len(tortChamTest)-1,0,-1):\n",
    "    if (np.all(tortChamTest[r] == 0) == False):\n",
    "        firstNonEmpty = r\n",
    "# Trim, but leave three empty rows\n",
    "tortChamTest = tortChamTest[firstNonEmpty:]\n",
    "\n",
    "print(len(tortChamTest))\n",
    "preH = len(tortChamTest)\n",
    "\n",
    "finChamTest = finCham.copy()\n",
    "firstNonEmpty = 0\n",
    "for r in range(len(finChamTest)-1,0,-1):\n",
    "    if (np.all(finChamTest[r] == 0) == False):\n",
    "        firstNonEmpty = r\n",
    "# Trim, but leave three empty rows\n",
    "finChamTest = finChamTest[firstNonEmpty:]\n",
    "\n",
    "print(len(finChamTest))\n"
   ]
  },
  {
   "cell_type": "code",
   "execution_count": null,
   "metadata": {},
   "outputs": [],
   "source": []
  },
  {
   "cell_type": "code",
   "execution_count": null,
   "metadata": {},
   "outputs": [],
   "source": []
  },
  {
   "cell_type": "code",
   "execution_count": 246,
   "metadata": {},
   "outputs": [
    {
     "name": "stderr",
     "output_type": "stream",
     "text": [
      "100%|██████████| 8/8 [00:00<00:00, 126.16it/s]"
     ]
    },
    {
     "name": "stdout",
     "output_type": "stream",
     "text": [
      "45\n"
     ]
    },
    {
     "name": "stderr",
     "output_type": "stream",
     "text": [
      "\n"
     ]
    },
    {
     "data": {
      "text/plain": [
       "1514285714323"
      ]
     },
     "execution_count": 246,
     "metadata": {},
     "output_type": "execute_result"
    }
   ],
   "source": [
    "addedHeight = 0\n",
    "preHeight = len(tortChamTest)\n",
    "bonusRocks = 1000000000000 - numRocks \n",
    "# bonusRocks = 3\n",
    "for k in tqdm(range(bonusRocks)):\n",
    "    \n",
    "    finCham,finJet,finShapeID = makeOneStep(finCham,finJet,finShapeID)\n",
    "    finChamTest = finCham.copy()\n",
    "    firstNonEmpty = 0\n",
    "    for r in range(len(finChamTest)-1,0,-1):\n",
    "        if (np.all(finChamTest[r] == 0) == False):\n",
    "            firstNonEmpty = r\n",
    "    # Trim, but leave three empty rows\n",
    "    finChamTest = finChamTest[firstNonEmpty:]\n",
    "\n",
    "    postHeight = len(finChamTest)\n",
    "\n",
    "    \n",
    "    \n",
    "    # print(postHeight-preHeight)\n",
    "    addedHeight += postHeight-preHeight\n",
    "\n",
    "    # finCham = finCham[firstNonEmpty-3:103]\n",
    "\n",
    "    # print(finCham[:20])\n",
    "postH = len(finChamTest)\n",
    "\n",
    "# addedH = postH - preH\n",
    "print(addedHeight)\n",
    "curHeight + addedHeight - 1"
   ]
  },
  {
   "cell_type": "code",
   "execution_count": 220,
   "metadata": {},
   "outputs": [
    {
     "data": {
      "text/plain": [
       "1514285714261"
      ]
     },
     "execution_count": 220,
     "metadata": {},
     "output_type": "execute_result"
    }
   ],
   "source": [
    "# curHeight + addedH - 1\n",
    "# tortChamTest\n",
    "addedHeight\n",
    "addedH = postH - preH\n",
    "curHeight + addedH - 1 \n",
    "\n",
    "# len(finChamTest)"
   ]
  },
  {
   "cell_type": "code",
   "execution_count": null,
   "metadata": {},
   "outputs": [],
   "source": []
  },
  {
   "cell_type": "code",
   "execution_count": null,
   "metadata": {},
   "outputs": [],
   "source": [
    "curHeight = heightBeforeCycle\n",
    "curRocks = mu \n",
    "for k in range(55):\n",
    "    curHeight += heightAddedPerCycle\n",
    "    curRocks += lam \n",
    "    print(curHeight,curRocks)"
   ]
  },
  {
   "cell_type": "code",
   "execution_count": 224,
   "metadata": {},
   "outputs": [
    {
     "data": {
      "text/plain": [
       "3069"
      ]
     },
     "execution_count": 224,
     "metadata": {},
     "output_type": "execute_result"
    }
   ],
   "source": [
    "# tortShapeID\n",
    "testCham = tortCham.copy()\n",
    "testJet = tortJet \n",
    "testShapeID = tortShapeID \n",
    "\n",
    "totHeightAdded = 0\n",
    "for k in range(2022-2002):\n",
    "    # dropOneShape(testCham,)\n",
    "    thisShape = allShapes[testShapeID%5]\n",
    "    testCham,testJet,heightAdded = dropOneShape(testCham,testJet,thisShape,inputsTest[0])\n",
    "    testShapeID += 1\n",
    "    totHeightAdded += heightAdded\n",
    "3038 + totHeightAdded"
   ]
  },
  {
   "cell_type": "code",
   "execution_count": null,
   "metadata": {},
   "outputs": [],
   "source": [
    "curHeight = startCycleHeight\n",
    "numRocks = mu \n",
    "cycleCounts = 0\n",
    "while numRocks < (1000000000000-lam * 100000):\n",
    "    curHeight += cycleHeight * 100000\n",
    "    numRocks += lam * 100000\n",
    "    cycleCounts += 100000\n",
    "    \n",
    "print(curHeight,numRocks)\n",
    "while numRocks < (1000000000000-lam * 1000):\n",
    "    curHeight += cycleHeight * 1000\n",
    "    numRocks += lam * 1000\n",
    "    cycleCounts += 1000\n",
    "print(curHeight,numRocks)\n",
    "while numRocks < (1000000000000-lam * 10):\n",
    "    curHeight += cycleHeight * 10\n",
    "    numRocks += lam * 10\n",
    "    cycleCounts += 10\n",
    "    \n",
    "print(curHeight,numRocks)\n",
    "while numRocks < (1000000000000-lam):\n",
    "    curHeight += cycleHeight\n",
    "    numRocks += lam\n",
    "    cycleCounts += 1\n",
    "print(curHeight,numRocks)\n",
    "print(cycleCounts)"
   ]
  },
  {
   "cell_type": "code",
   "execution_count": null,
   "metadata": {},
   "outputs": [],
   "source": [
    "cycleCounts"
   ]
  },
  {
   "cell_type": "code",
   "execution_count": 225,
   "metadata": {},
   "outputs": [
    {
     "name": "stderr",
     "output_type": "stream",
     "text": [
      "C:\\Users\\rakrpe\\AppData\\Local\\Temp\\ipykernel_9844\\245396551.py:30: DeprecationWarning: elementwise comparison failed; this will raise an error in the future.\n",
      "  while not np.all(hareCham[:100,:] == tortCham[:100,:]):\n",
      "C:\\Users\\rakrpe\\AppData\\Local\\Temp\\ipykernel_9844\\245396551.py:53: DeprecationWarning: elementwise comparison failed; this will raise an error in the future.\n",
      "  while not np.all(hareCham[:100,:] == tortCham[:100,:]):\n"
     ]
    },
    {
     "name": "stdout",
     "output_type": "stream",
     "text": [
      "77 35\n"
     ]
    }
   ],
   "source": [
    "inputsToUse = inputsTest[0]\n",
    "\n",
    "\n",
    "tortCham = iniCham.copy()\n",
    "tortJet = 0\n",
    "tortShapeID = 0\n",
    "# tortShape = allShapes[tortShapeID%5] \n",
    "\n",
    "hareCham = iniCham.copy()\n",
    "hareJet = 0\n",
    "hareShapeID = 0\n",
    "# hareShape = allShapes[hareShapeID%5]\n",
    "\n",
    "def makeOneStep(cham,jet,shapeid):\n",
    "    thisShape = allShapes[shapeid%5]\n",
    "    cham,jet,heightAdded = dropOneShape(cham,jet,thisShape,inputToUse)\n",
    "    shapeid += 1\n",
    "    return cham,jet,shapeid\n",
    "    \n",
    "## Initialize by moving tortoise to step 1 and hare to step 2\n",
    "# Make one tortoise move\n",
    "tortCham,tortJet,tortShapeID = makeOneStep(tortCham,tortJet,tortShapeID) \n",
    "\n",
    "# Make one hare move\n",
    "hareCham,hareJet,hareShapeID = makeOneStep(hareCham,hareJet,hareShapeID) \n",
    "# Make another hare move\n",
    "hareCham,hareJet,hareShapeID = makeOneStep(hareCham,hareJet,hareShapeID) \n",
    "\n",
    "# Move tortoise one and hare two until they match\n",
    "while not np.all(hareCham[:100,:] == tortCham[:100,:]):\n",
    "# for k in range(1000):\n",
    "    # print(k,np.all(hareCham == tortCham))\n",
    "    # if tortCham.shape\n",
    "    \n",
    "    # Make one tortoise move\n",
    "    tortCham,tortJet,tortShapeID = makeOneStep(tortCham,tortJet,tortShapeID) \n",
    "\n",
    "    # Make one hare move\n",
    "    hareCham,hareJet,hareShapeID = makeOneStep(hareCham,hareJet,hareShapeID) \n",
    "    # Make another hare move\n",
    "    hareCham,hareJet,hareShapeID = makeOneStep(hareCham,hareJet,hareShapeID) \n",
    "\n",
    "    # # Trim to length 100\n",
    "    # tortCham = tortCham[:100,:]\n",
    "    # hareCham = hareCham[:100,:]\n",
    "\n",
    "# Reset tortoise, move both one at a time until they match again\n",
    "tortCham = iniCham.copy()\n",
    "tortJet = 0\n",
    "tortShapeID = 0\n",
    "# Counter for first repetition\n",
    "mu = 0\n",
    "while not np.all(hareCham[:100,:] == tortCham[:100,:]):\n",
    "    \n",
    "    # Make one tortoise move\n",
    "    tortCham,tortJet,tortShapeID = makeOneStep(tortCham,tortJet,tortShapeID) \n",
    "\n",
    "    # Make one hare move\n",
    "    hareCham,hareJet,hareShapeID = makeOneStep(hareCham,hareJet,hareShapeID) \n",
    "\n",
    "    # # Trim to length 100\n",
    "    # tortCham = tortCham[:100,:]\n",
    "    # hareCham = hareCham[:100,:]\n",
    "\n",
    "    # Increment counter\n",
    "    mu += 1\n",
    "\n",
    "# Step 3:\n",
    "# Counter for cycle length\n",
    "lam = 1\n",
    "# Set hare to tortoise + 1\n",
    "hareCham,hareJet,hareShapeID = makeOneStep(tortCham,tortJet,tortShapeID) \n",
    "while not np.all(hareCham[:100,:] == tortCham[:100,:]):\n",
    "    # Make one hare move\n",
    "    hareCham,hareJet,hareShapeID = makeOneStep(hareCham,hareJet,hareShapeID) \n",
    "\n",
    "    # # Trim to length 100\n",
    "    # hareCham = hareCham[:100,:]\n",
    "\n",
    "    # Increment counter\n",
    "    lam += 1\n",
    "\n",
    "print(mu,lam) "
   ]
  },
  {
   "cell_type": "code",
   "execution_count": 226,
   "metadata": {},
   "outputs": [
    {
     "name": "stdout",
     "output_type": "stream",
     "text": [
      "(180, 7)\n",
      "(127, 7)\n"
     ]
    }
   ],
   "source": [
    "print(hareCham.shape)\n",
    "print(tortCham.shape)\n"
   ]
  },
  {
   "cell_type": "code",
   "execution_count": 227,
   "metadata": {},
   "outputs": [
    {
     "name": "stdout",
     "output_type": "stream",
     "text": [
      "112\n",
      "77\n",
      "112\n",
      "127\n",
      "180\n",
      "cycleHeight 53\n"
     ]
    }
   ],
   "source": [
    "# 127+77\n",
    "# mu + lam + mu\n",
    "\n",
    "print(hareShapeID) \n",
    "print(tortShapeID)\n",
    "print(mu+lam)\n",
    "\n",
    "startCycleHeight = len(tortCham)\n",
    "endCycleHeight = len(hareCham)\n",
    "print(startCycleHeight)\n",
    "print(endCycleHeight)\n",
    "\n",
    "cycleHeight = endCycleHeight-startCycleHeight\n",
    "print('cycleHeight',cycleHeight)\n",
    "cycleRocks = lam \n",
    "\n"
   ]
  },
  {
   "cell_type": "code",
   "execution_count": null,
   "metadata": {},
   "outputs": [],
   "source": [
    "curHeight = startCycleHeight\n",
    "curRocks = mu \n",
    "for k in range(10):\n",
    "    curHeight += cycleHeight \n",
    "    curRocks += lam \n",
    "    print(curHeight,curRocks)"
   ]
  },
  {
   "cell_type": "code",
   "execution_count": null,
   "metadata": {},
   "outputs": [],
   "source": [
    "curHeight = startCycleHeight\n",
    "numRocks = mu \n",
    "cycleCounts = 0\n",
    "while numRocks < (1000000000000-lam * 100000):\n",
    "    curHeight += cycleHeight * 100000\n",
    "    numRocks += lam * 100000\n",
    "    cycleCounts += 100000\n",
    "    \n",
    "print(curHeight,numRocks)\n",
    "while numRocks < (1000000000000-lam * 1000):\n",
    "    curHeight += cycleHeight * 1000\n",
    "    numRocks += lam * 1000\n",
    "    cycleCounts += 1000\n",
    "print(curHeight,numRocks)\n",
    "while numRocks < (1000000000000-lam * 10):\n",
    "    curHeight += cycleHeight * 10\n",
    "    numRocks += lam * 10\n",
    "    cycleCounts += 10\n",
    "    \n",
    "print(curHeight,numRocks)\n",
    "while numRocks < (1000000000000-lam):\n",
    "    curHeight += cycleHeight\n",
    "    numRocks += lam\n",
    "    cycleCounts += 1\n",
    "print(curHeight,numRocks)\n",
    "print(cycleCounts)"
   ]
  },
  {
   "cell_type": "code",
   "execution_count": null,
   "metadata": {},
   "outputs": [],
   "source": [
    "cycleCounts"
   ]
  },
  {
   "cell_type": "code",
   "execution_count": null,
   "metadata": {},
   "outputs": [],
   "source": [
    "lam * cycleCounts + mu\n",
    "# lam * 100 + mu"
   ]
  },
  {
   "cell_type": "code",
   "execution_count": null,
   "metadata": {},
   "outputs": [],
   "source": [
    "print(lam * 55 + mu)\n",
    "print(cycleHeight * 55 + startCycleHeight)\n"
   ]
  },
  {
   "cell_type": "code",
   "execution_count": null,
   "metadata": {},
   "outputs": [],
   "source": [
    "# bonusRocks\n",
    "\n",
    "finCham = tortCham.copy() \n",
    "finJet = tortJet \n",
    "finShapeID = tortShapeID\n",
    "\n",
    "\n",
    "tortChamTest = tortCham.copy()\n",
    "firstNonEmpty = 0\n",
    "for r in range(len(tortChamTest)-1,0,-1):\n",
    "    if (np.all(tortChamTest[r] == 0) == False):\n",
    "        firstNonEmpty = r\n",
    "# Trim, but leave three empty rows\n",
    "tortChamTest = tortChamTest[firstNonEmpty:]\n",
    "\n",
    "print(len(tortChamTest))\n",
    "preH = len(tortChamTest)\n",
    "\n",
    "finChamTest = finCham.copy()\n",
    "firstNonEmpty = 0\n",
    "for r in range(len(finChamTest)-1,0,-1):\n",
    "    if (np.all(finChamTest[r] == 0) == False):\n",
    "        firstNonEmpty = r\n",
    "# Trim, but leave three empty rows\n",
    "finChamTest = finChamTest[firstNonEmpty:]\n",
    "\n",
    "# print(len(finChamTest))\n",
    "\n",
    "bonusRocks = 1000000000000 - numRocks \n",
    "for k in range(bonusRocks):\n",
    "    finCham,finJet,finShapeID = makeOneStep(finCham,finJet,finShapeID)\n",
    "    finChamTest = finCham.copy()\n",
    "    firstNonEmpty = 0\n",
    "    for r in range(len(finChamTest)-1,0,-1):\n",
    "        if (np.all(finChamTest[r] == 0) == False):\n",
    "            firstNonEmpty = r\n",
    "    # Trim, but leave three empty rows\n",
    "    finChamTest = finChamTest[firstNonEmpty:]\n",
    "    \n",
    "    print(len(finChamTest))\n",
    "\n",
    "    # print(finCham[:20])\n",
    "postH = len(finChamTest)\n"
   ]
  },
  {
   "cell_type": "code",
   "execution_count": null,
   "metadata": {},
   "outputs": [],
   "source": [
    "addH = postH - preH\n",
    "\n"
   ]
  },
  {
   "cell_type": "code",
   "execution_count": null,
   "metadata": {},
   "outputs": [],
   "source": [
    "# tortCham.shape \n",
    "# hareCham.shape \n",
    "\n",
    "bonusRocks = 1000000000000 - numRocks \n",
    "# bonusRocks = 17\n",
    "# bonusRocks -= 4\n",
    "finCham = tortCham.copy() \n",
    "finJet = tortJet \n",
    "finShapeID = tortShapeID\n",
    "\n",
    "for k in range(bonusRocks):\n",
    "    # finCham,finJet,finShapeID = makeOneStep(finCham,finJet,finShapeID)\n",
    "    # finCham,finJet,finShapeID =  dropOneShape(finCham,finJet,finShapeID,inputsTest[0])\n",
    "    finCham,finJet,finShapeID = makeOneStep(finCham,finJet,finShapeID)\n",
    "# finCham.shape[0] - tortCham.shape[0]\n",
    "# len(finCham) - len(tortCham)\n",
    "    # print(finCham.shape)\n",
    "\n",
    "    \n",
    "    \n",
    "firstNonEmpty = 0\n",
    "for r in range(len(finCham)-1,0,-1):\n",
    "    if (np.all(finCham[r] == 0) == False):\n",
    "        firstNonEmpty = r\n",
    "        \n",
    "finCham = finCham[firstNonEmpty:]\n",
    "\n",
    "tortChamTest = tortCham.copy()\n",
    "firstNonEmpty = 0\n",
    "for r in range(len(tortChamTest)-1,0,-1):\n",
    "    if (np.all(tortChamTest[r] == 0) == False):\n",
    "        firstNonEmpty = r\n",
    "# Trim, but leave three empty rows\n",
    "tortChamTest = tortChamTest[firstNonEmpty:]\n",
    "\n",
    "# print(len(finCham))\n",
    "# print(len(tortChamTest))\n",
    "# print(len(finCham) - len(tortChamTest))\n",
    "extraHeight = len(finCham) - len(tortChamTest)\n",
    "(cycleHeight * 55 + startCycleHeight) + extraHeight\n",
    "(cycleHeight * cycleCounts + startCycleHeight) + extraHeight"
   ]
  },
  {
   "cell_type": "code",
   "execution_count": null,
   "metadata": {},
   "outputs": [],
   "source": [
    "# tortChamTest[:10]"
   ]
  },
  {
   "cell_type": "code",
   "execution_count": null,
   "metadata": {},
   "outputs": [],
   "source": [
    "# print(finCham[:20])\n",
    "# print(tortCham[:20])"
   ]
  },
  {
   "cell_type": "code",
   "execution_count": null,
   "metadata": {},
   "outputs": [],
   "source": [
    "# Tortoise and Hare \n",
    "# tort = 1\n",
    "# hare = 2\n",
    "# while curList[tort] != curList[hare]:\n",
    "#     tort += 1\n",
    "#     hare += 2 \n",
    "# print(tort,hare)\n",
    "\n",
    "mu = 0\n",
    "tort = 0\n",
    "while curList[tort] != curList[hare]:\n",
    "    tort += 1\n",
    "    hare += 1 \n",
    "    mu += 1\n",
    "print(tort,hare,mu)\n",
    "\n",
    "lam = 1\n",
    "hare = tort + 1\n",
    "while curList[tort] != curList[hare]: \n",
    "    hare += 1\n",
    "    lam += 1\n",
    "print(tort,hare,lam)\n",
    "\n",
    "print(curList[mu:mu+lam])"
   ]
  },
  {
   "cell_type": "code",
   "execution_count": null,
   "metadata": {},
   "outputs": [],
   "source": [
    "# tortCham\n",
    "# hareCham\n",
    "hareJet\n",
    "# hareShapeID % 5\n",
    "# tortShapeID % 5\n",
    "# tortJet % numJets\n",
    "# hareJet % numJets"
   ]
  },
  {
   "cell_type": "code",
   "execution_count": null,
   "metadata": {},
   "outputs": [],
   "source": [
    "\n",
    "# print(np.all(hareCham[:40] == tortCham[:40]))\n",
    "\n",
    "# # Make one tortoise move\n",
    "# tortCham,tortJet = dropOneShape(tortCham,tortJet,tortShape)\n",
    "# tortShapeID += 1\n",
    "# tortShape = allShapes[tortShapeID%5]\n",
    "\n",
    "# # Make one hare move\n",
    "# hareCham,hareJet = dropOneShape(hareCham,hareJet,hareShape)\n",
    "# hareShapeID += 1\n",
    "# hareShape = allShapes[hareShapeID%5]\n",
    "# # Make another hare move\n",
    "# hareCham,hareJet = dropOneShape(hareCham,hareJet,hareShape)\n",
    "# hareShapeID += 1\n",
    "# hareShape = allShapes[hareShapeID%5]\n",
    "\n",
    "# # Find first repetition\n",
    "# while not np.all(hareCham[:40] == tortCham[:40]):\n",
    "    \n",
    "#     hareCham = tortCham\n",
    "\n",
    "# # print(tortCham)\n",
    "# # print(hareCham) "
   ]
  },
  {
   "cell_type": "code",
   "execution_count": null,
   "metadata": {},
   "outputs": [],
   "source": [
    "# curCham.shape\n",
    "# testCham.shape \n",
    "# np.all(curCham == testCham)\n",
    "\n",
    "# np.all(curCham[:50,:] == testCham[5:55,:])"
   ]
  },
  {
   "cell_type": "code",
   "execution_count": null,
   "metadata": {},
   "outputs": [],
   "source": [
    "\n",
    "curCham = iniCham.copy() \n",
    "\n",
    "curIn = inputs[0]\n",
    "curIn = inputsTest[0]\n",
    "numJets = len(curIn)\n",
    "\n",
    "numShapesToAdd = 200\n",
    "airJetNum = 0\n",
    "# for s in tqdm(range(numShapesToAdd)):\n",
    "for s in range(numShapesToAdd):\n",
    "    if s > 1:\n",
    "        # Start by trimming empty lines on top\n",
    "        firstNonEmpty = 0\n",
    "        for r in range(len(curCham)-1,0,-1):\n",
    "            if (np.all(curCham[r] == 0) == False):\n",
    "                firstNonEmpty = r\n",
    "        # Trim, but leave three empty rows\n",
    "        curCham = curCham[firstNonEmpty-3:]\n",
    "    # print(curCham)\n",
    "\n",
    "    # Get the next shape to add\n",
    "    curShape = allShapes[s%5]\n",
    "    # Add it to the chamber \n",
    "    curCham = np.vstack((curShape,curCham))\n",
    "\n",
    "    # print(curCham)\n",
    "    maxIter = 40\n",
    "    for curIter in range(maxIter):\n",
    "    # flagContinueIter = True \n",
    "    # while flagContinueIter:\n",
    "        # If there are still parts that haven't moved\n",
    "        if np.any(curCham == 1):\n",
    "            # Get the next air jet\n",
    "            curAir = curIn[airJetNum % numJets]\n",
    "            # curAir = inputsTest[0][airJetNum % numJets] \n",
    "            # curAir = inputs[0][airJetNum % numJets] \n",
    "            airJetNum += 1 \n",
    "\n",
    "            # print(curAir,airJetNum)\n",
    "            if curAir == '>':\n",
    "                curCham = moveRight(curCham.copy())\n",
    "            elif curAir == '<':\n",
    "                curCham = moveLeft(curCham.copy())\n",
    "            # print(curCham)\n",
    "         \n",
    "            # print('---')\n",
    "            # print('Moving down')\n",
    "\n",
    "            curCham = moveDown(curCham.copy())\n",
    "    # print(curCham)\n",
    "    # print(s,airJetNum)\n",
    "    # Trim bottom of curCham, assuming nothing will ever fall more than 100 steps\n",
    "    curCham = curCham[:100,:]\n",
    "    # print(curCham.shape)"
   ]
  },
  {
   "cell_type": "code",
   "execution_count": null,
   "metadata": {},
   "outputs": [],
   "source": [
    "# curCham[-10:]\n",
    "curCham/2\n",
    "# np.any(curCham[:10] == curCham[10:5])\n",
    "# curCham[:10] == curCham[10:20]"
   ]
  },
  {
   "cell_type": "code",
   "execution_count": null,
   "metadata": {},
   "outputs": [],
   "source": [
    "# curCham[-4:,:]"
   ]
  },
  {
   "cell_type": "code",
   "execution_count": null,
   "metadata": {},
   "outputs": [],
   "source": [
    "# curIn\n",
    "from tqdm import tqdm \n",
    "\n",
    "curCham = iniCham.copy() \n",
    "\n",
    "curIn = inputs[0]\n",
    "# curIn = inputsTest[0]\n",
    "numJets = len(curIn)\n",
    "\n",
    "numShapesToAdd = 2022\n",
    "# numShapesToAdd = 40\n",
    "airJetNum = 0\n",
    "# numJets = len(curIn)\n",
    "# numJets = len(inputsTest[0])\n",
    "# numJets = len(inputs[0])\n",
    "# for s in range(numShapesToAdd):\n",
    "for s in tqdm(range(numShapesToAdd)):\n",
    "    if s > 1:\n",
    "        # Start by trimming empty lines on top\n",
    "        firstNonEmpty = 0\n",
    "        for r in range(len(curCham)-1,0,-1):\n",
    "            if (np.all(curCham[r] == 0) == False):\n",
    "                firstNonEmpty = r\n",
    "        # Trim, but leave three empty rows\n",
    "        curCham = curCham[firstNonEmpty-3:]\n",
    "\n",
    "    # Get the next shape to add\n",
    "    curShape = allShapes[s%5]\n",
    "    # Add it to the chamber \n",
    "    curCham = np.vstack((curShape,curCham))\n",
    "\n",
    "    # print(curCham)\n",
    "    maxIter = 40\n",
    "    for curIter in range(maxIter):\n",
    "    # flagContinueIter = True \n",
    "    # while flagContinueIter:\n",
    "        # If there are still parts that haven't moved\n",
    "        if np.any(curCham == 1):\n",
    "            # Get the next air jet\n",
    "            curAir = curIn[airJetNum % numJets]\n",
    "            # curAir = inputsTest[0][airJetNum % numJets] \n",
    "            # curAir = inputs[0][airJetNum % numJets] \n",
    "            airJetNum += 1 \n",
    "\n",
    "            # print(curAir,airJetNum)\n",
    "            if curAir == '>':\n",
    "                curCham = moveRight(curCham.copy())\n",
    "            elif curAir == '<':\n",
    "                curCham = moveLeft(curCham.copy())\n",
    "            # print(curCham)\n",
    "         \n",
    "            # print('---')\n",
    "            # print('Moving down')\n",
    "\n",
    "            curCham = moveDown(curCham.copy())\n",
    "\n",
    "            # print(curCham)\n",
    "\n",
    "            # print('---')\n",
    "        # else:\n",
    "        #     flagContinueIter = False\n",
    "    # print('NEXT')\n",
    "    # print(curCham)"
   ]
  },
  {
   "cell_type": "code",
   "execution_count": null,
   "metadata": {},
   "outputs": [],
   "source": [
    "len(curIn) * 5\n",
    "# curCham[50455]\n",
    "len(curCham)"
   ]
  },
  {
   "cell_type": "code",
   "execution_count": null,
   "metadata": {},
   "outputs": [],
   "source": [
    "# curIn\n",
    "from tqdm import tqdm \n",
    "\n",
    "curCham = iniCham.copy() \n",
    "\n",
    "curIn = inputs[0]\n",
    "curIn = inputsTest[0]\n",
    "numJets = len(curIn)\n",
    "\n",
    "numShapesToAdd = 20220\n",
    "# numShapesToAdd = 40\n",
    "airJetNum = 0\n",
    "\n",
    "\n",
    "curCount = 0\n",
    "# for s in range(numShapesToAdd):\n",
    "for s in tqdm(range(numShapesToAdd)):\n",
    "    if s > 1:\n",
    "        # Start by trimming empty lines on top\n",
    "        firstNonEmpty = 0\n",
    "        for r in range(len(curCham)-1,0,-1):\n",
    "            if (np.all(curCham[r] == 0) == False):\n",
    "                firstNonEmpty = r\n",
    "        # Trim, but leave three empty rows\n",
    "        curCham = curCham[firstNonEmpty-3:]\n",
    "\n",
    "    # Get the next shape to add\n",
    "    curShape = allShapes[s%5]\n",
    "    # Add it to the chamber \n",
    "    curCham = np.vstack((curShape,curCham))\n",
    "\n",
    "    # print()\n",
    "    hasMoved = False \n",
    "    \n",
    "\n",
    "    # print(curCham)\n",
    "    maxIter = 40\n",
    "    for curIter in range(maxIter):\n",
    "    # flagContinueIter = True \n",
    "    # while flagContinueIter:\n",
    "        # If there are still parts that haven't moved\n",
    "        if np.any(curCham == 1):\n",
    "            # Part 2:\n",
    "            if (airJetNum % numJets) == 0:\n",
    "                if (s%5) == 0:\n",
    "                    if hasMoved == False:\n",
    "                        print('Added air jet number',airJetNum,'we were at the start of shape 0')\n",
    "            \n",
    "\n",
    "            # Get the next air jet\n",
    "            curAir = curIn[airJetNum % numJets]\n",
    "            # curAir = inputsTest[0][airJetNum % numJets] \n",
    "            # curAir = inputs[0][airJetNum % numJets] \n",
    "            airJetNum += 1 \n",
    "\n",
    "            # print(curAir,airJetNum)\n",
    "            if curAir == '>':\n",
    "                curCham = moveRight(curCham.copy())\n",
    "            elif curAir == '<':\n",
    "                curCham = moveLeft(curCham.copy())\n",
    "            # print(curCham)\n",
    "\n",
    "            hasMoved = True\n",
    "            # print('---')\n",
    "            # print('Moving down')\n",
    "\n",
    "            curCham = moveDown(curCham.copy())\n",
    "\n",
    "            # print(curCham)\n",
    "\n",
    "            # print('---')\n",
    "        # else:\n",
    "        #     flagContinueIter = False\n",
    "    # print('NEXT')\n",
    "    # print(curCham)"
   ]
  },
  {
   "cell_type": "code",
   "execution_count": null,
   "metadata": {},
   "outputs": [],
   "source": [
    "curIn "
   ]
  },
  {
   "cell_type": "code",
   "execution_count": null,
   "metadata": {},
   "outputs": [],
   "source": [
    "# curCham[:10]\n",
    "curCham[-2]"
   ]
  },
  {
   "cell_type": "code",
   "execution_count": null,
   "metadata": {},
   "outputs": [],
   "source": [
    "# 1514285714288\n"
   ]
  },
  {
   "cell_type": "code",
   "execution_count": null,
   "metadata": {},
   "outputs": [],
   "source": [
    "len(curCham)"
   ]
  },
  {
   "cell_type": "code",
   "execution_count": null,
   "metadata": {},
   "outputs": [],
   "source": [
    "curCham[:100]\n",
    "\n",
    "import matplotlib.pyplot as plt\n",
    "%matplotlib widget\n",
    "fig,(ax1,ax2,ax3) = plt.subplots(1,3)\n",
    "offSet = 53\n",
    "# offSet = 29\n",
    "ax1.imshow(curCham[10:90])\n",
    "ax2.imshow(curCham[10+offSet:90+offSet])\n",
    "ax3.imshow(curCham[10:90]+curCham[10+offSet:90+offSet])"
   ]
  },
  {
   "cell_type": "markdown",
   "metadata": {},
   "source": [
    "# Old below"
   ]
  },
  {
   "cell_type": "code",
   "execution_count": null,
   "metadata": {},
   "outputs": [],
   "source": [
    "# def moveRight(curCham):\n",
    "#     # Get current coordinates for thing to move\n",
    "#     Ys,Xs = np.where(curCham == 1)\n",
    "\n",
    "#     # If already at the right edge\n",
    "#     if np.any(Xs == 6):\n",
    "#         # Do nothing?\n",
    "#         return curCham\n",
    "#     else:\n",
    "#         # Try to move to the right\n",
    "#         newXs = [x+1 for x in Xs]\n",
    "\n",
    "#         allFree = True\n",
    "#         for k in range(len(Ys)):\n",
    "#             # print(Xs[k],Ys[k])\n",
    "#             # print(newXs[k],Ys[k]) \n",
    "#             # print(curCham[Ys[k],newXs[k]])\n",
    "#             if (curCham[Ys[k],newXs[k]] == 2):\n",
    "#                 allFree = False \n",
    "#         # print(allFree)\n",
    "\n",
    "#         if allFree:\n",
    "#             # Update position\n",
    "#             # Update position, starting from the right\n",
    "#             # print(Xs,Ys)\n",
    "#             maxX = np.max(Xs)\n",
    "#             # print(maxY)\n",
    "#             for thisX in range(maxX,-1,-1):\n",
    "#                 # print(thisY)\n",
    "#                 for k in range(len(Xs)): \n",
    "#                     if (Xs[k] == thisX):\n",
    "#                         curCham[Ys[k],Xs[k]] = 0\n",
    "#                         curCham[Ys[k],newXs[k]] = 1\n",
    "            \n",
    "#             # for k in range(len(Ys)):\n",
    "#             #     curCham[Ys[k],Xs[k]] = 0\n",
    "#             #     curCham[Ys[k],newXs[k]] = 1\n",
    "#         # else:\n",
    "#         #     for k in range(len(Ys)):\n",
    "#         #         curCham[Ys[k],Xs[k]] = 2\n",
    "#         return curCham\n",
    "# curCham = moveRight(curCham.copy())\n",
    "# curCham "
   ]
  },
  {
   "cell_type": "code",
   "execution_count": null,
   "metadata": {},
   "outputs": [],
   "source": [
    "# def moveRight(curCham):\n",
    "#     # Get current coordinates for thing to move\n",
    "#     Ys,Xs = np.where(curCham == 1)\n",
    "\n",
    "#     # If already at the right edge\n",
    "#     if np.any(Xs == 6):\n",
    "#         # Do nothing?\n",
    "#         return curCham\n",
    "#     else:\n",
    "#         # Try to move to the right\n",
    "#         newXs = [x+1 for x in Xs]\n",
    "\n",
    "#         allFree = True\n",
    "#         for k in range(len(Ys)):\n",
    "#             # print(Xs[k],Ys[k])\n",
    "#             # print(newXs[k],Ys[k]) \n",
    "#             # print(curCham[Ys[k],newXs[k]])\n",
    "#             if (curCham[Ys[k],newXs[k]] == 2):\n",
    "#                 allFree = False \n",
    "#         # print(allFree)\n",
    "\n",
    "#         if allFree:\n",
    "#             # Update position\n",
    "#             # Update position, starting from the right\n",
    "#             # print(Xs,Ys)\n",
    "#             maxX = np.max(Xs)\n",
    "#             # print(maxY)\n",
    "#             for thisX in range(maxX,-1,-1):\n",
    "#                 # print(thisY)\n",
    "#                 for k in range(len(Xs)): \n",
    "#                     if (Xs[k] == thisX):\n",
    "#                         curCham[Ys[k],Xs[k]] = 0\n",
    "#                         curCham[Ys[k],newXs[k]] = 1\n",
    "            \n",
    "#             # for k in range(len(Ys)):\n",
    "#             #     curCham[Ys[k],Xs[k]] = 0\n",
    "#             #     curCham[Ys[k],newXs[k]] = 1\n",
    "#         # else:\n",
    "#         #     for k in range(len(Ys)):\n",
    "#         #         curCham[Ys[k],Xs[k]] = 2\n",
    "#         return curCham\n",
    "# curCham = moveRight(curCham.copy())\n",
    "# curCham "
   ]
  },
  {
   "cell_type": "code",
   "execution_count": null,
   "metadata": {},
   "outputs": [],
   "source": [
    "# curShape = allShapes[1]\n",
    "# curCham = iniCham.copy()\n",
    "\n",
    "\n",
    "# # Loop here\n",
    "# curTop = curCham.shape[0]\n",
    "\n",
    "# curCham = np.vstack((curShape,curCham))\n",
    "# print(curCham,curTop)\n",
    "\n",
    "# # for r in range(len(curCham)-1,-1,-1):\n",
    "# #     # print(curCham[r])\n",
    "# #     curRow = curCham[r]\n",
    "# #     for c in curRow:\n",
    "# #         if (c == 1):\n",
    "\n",
    "# def moveDown(curCham): \n",
    "#     Ys,Xs = np.where(curCham == 1)\n",
    "\n",
    "#     # Try to move down\n",
    "#     newYs = [y+1 for y in Ys]\n",
    "\n",
    "#     allFree = True\n",
    "#     for k in range(len(Ys)):\n",
    "#     #     print(Xs[k],Ys[k])\n",
    "#         # print(Xs[k],newYs[k]) \n",
    "#         # print(curCham[newYs[k],Xs[k]])\n",
    "#         if (curCham[newYs[k],Xs[k]] == 2):\n",
    "#             allFree = False \n",
    "#     # print(allFree)\n",
    "\n",
    "#     if allFree:\n",
    "#         # Update position\n",
    "#         for k in range(len(Ys)):\n",
    "#             curCham[Ys[k],Xs[k]] = 0\n",
    "#             curCham[newYs[k],Xs[k]] = 1\n",
    "#     else:\n",
    "#         for k in range(len(Ys)):\n",
    "#             curCham[Ys[k],Xs[k]] = 2\n",
    "#     return curCham\n",
    "\n",
    "\n",
    "# # def moveRight(curCham): \n",
    "# #     # Get current coordinates for thing to move\n",
    "# #     Ys,Xs = np.where(curCham == 1)\n",
    "\n",
    "# #     # \n",
    "\n",
    "# #     # Try to move to the right\n",
    "# #     newXs = [x+1 for x in Xs]\n",
    "\n",
    "# #     allFree = True\n",
    "# #     for k in range(len(Ys)):\n",
    "# #     #     print(Xs[k],Ys[k])\n",
    "# #         # print(Xs[k],newYs[k]) \n",
    "# #         # print(curCham[newYs[k],Xs[k]])\n",
    "# #         if (curCham[newYs[k],Xs[k]] != 0):\n",
    "# #             allFree = False \n",
    "# #     # print(allFree)\n",
    "\n",
    "# #     if allFree:\n",
    "# #         # Update position\n",
    "# #         for k in range(len(Ys)):\n",
    "# #             curCham[Ys[k],Xs[k]] = 0\n",
    "# #             curCham[newYs[k],Xs[k]] = 1\n",
    "# #     else:\n",
    "# #         for k in range(len(Ys)):\n",
    "# #             curCham[Ys[k],Xs[k]] = 2\n",
    "# #     return curCham\n",
    "\n",
    "# print('--')\n",
    "# curCham = moveDown(curCham)\n",
    "# print(curCham)"
   ]
  },
  {
   "cell_type": "code",
   "execution_count": null,
   "metadata": {},
   "outputs": [],
   "source": [
    "\n",
    "Ys,Xs = np.where(curCham == 1)\n",
    "print(Xs,Ys)"
   ]
  },
  {
   "cell_type": "code",
   "execution_count": null,
   "metadata": {},
   "outputs": [],
   "source": [
    "def moveRight(curCham):\n",
    "    # Get current coordinates for thing to move\n",
    "    Ys,Xs = np.where(curCham == 1)\n",
    "\n",
    "    # If already at the right edge\n",
    "    if np.any(Xs == 6):\n",
    "        # Do nothing?\n",
    "        return curCham\n",
    "    else:\n",
    "        # Try to move to the right\n",
    "        newXs = [x+1 for x in Xs]\n",
    "\n",
    "        allFree = True\n",
    "        for k in range(len(Ys)):\n",
    "            # print(Xs[k],Ys[k])\n",
    "            # print(newXs[k],Ys[k]) \n",
    "            # print(curCham[Ys[k],newXs[k]])\n",
    "            if (curCham[Ys[k],newXs[k]] == 2):\n",
    "                allFree = False \n",
    "        # print(allFree)\n",
    "\n",
    "        if allFree:\n",
    "            # Update position\n",
    "            \n",
    "            for k in range(len(Ys)):\n",
    "                curCham[Ys[k],Xs[k]] = 0\n",
    "                curCham[Ys[k],newXs[k]] = 1\n",
    "        # else:\n",
    "        #     for k in range(len(Ys)):\n",
    "        #         curCham[Ys[k],Xs[k]] = 2\n",
    "        return curCham\n",
    "moveRight(curCham.copy())"
   ]
  }
 ],
 "metadata": {
  "kernelspec": {
   "display_name": "Python 3.10.0 ('main')",
   "language": "python",
   "name": "python3"
  },
  "language_info": {
   "codemirror_mode": {
    "name": "ipython",
    "version": 3
   },
   "file_extension": ".py",
   "mimetype": "text/x-python",
   "name": "python",
   "nbconvert_exporter": "python",
   "pygments_lexer": "ipython3",
   "version": "3.10.0"
  },
  "orig_nbformat": 4,
  "vscode": {
   "interpreter": {
    "hash": "e6af94e5c5af6f455ad39eba9e20d9ee46a7c0c9ebf8b81ae3b0b6f1a6d45f70"
   }
  }
 },
 "nbformat": 4,
 "nbformat_minor": 2
}
