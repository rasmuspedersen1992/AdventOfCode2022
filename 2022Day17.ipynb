{
 "cells": [
  {
   "cell_type": "code",
   "execution_count": 1,
   "metadata": {},
   "outputs": [
    {
     "name": "stdout",
     "output_type": "stream",
     "text": [
      "200\n"
     ]
    }
   ],
   "source": [
    "# Import packages\n",
    "import numpy as np\n",
    "curDay = 17\n",
    "\n",
    "# Download input file\n",
    "from download_inputs import download_inputs\n",
    "\n",
    "download_inputs(curDay)"
   ]
  },
  {
   "cell_type": "code",
   "execution_count": 2,
   "metadata": {},
   "outputs": [
    {
     "name": "stdout",
     "output_type": "stream",
     "text": [
      "Done loading input\n"
     ]
    }
   ],
   "source": [
    "# Load input into workspace\n",
    "filename = f'inputs\\\\day{curDay}.txt'\n",
    "# curIn = np.loadtxt(filename)\n",
    "\n",
    "inputFile = open(filename)\n",
    "inputs = []\n",
    "inputs = [s for s in inputFile.read().splitlines()]\n",
    "\n",
    "print('Done loading input')"
   ]
  },
  {
   "cell_type": "code",
   "execution_count": 9,
   "metadata": {},
   "outputs": [
    {
     "name": "stdout",
     "output_type": "stream",
     "text": [
      "Done loading test-input\n"
     ]
    }
   ],
   "source": [
    "# Load test-input into workspace\n",
    "filenameTest = f'inputs\\\\day{curDay}test.txt'\n",
    "\n",
    "inputFileTest = open(filenameTest)\n",
    "inputsTest = []\n",
    "inputsTest = [s for s in inputFileTest.read().splitlines()]\n",
    "\n",
    "print('Done loading test-input') "
   ]
  },
  {
   "cell_type": "code",
   "execution_count": 290,
   "metadata": {},
   "outputs": [],
   "source": [
    "curIn = inputs[0]\n",
    "# curIn = inputsTest[0]"
   ]
  },
  {
   "cell_type": "code",
   "execution_count": 291,
   "metadata": {},
   "outputs": [],
   "source": [
    "allShapes = [\n",
    "    [\n",
    "        [0,0,0,0,0,0,0],\n",
    "        [0,0,0,0,0,0,0],\n",
    "        [0,0,0,0,0,0,0],\n",
    "        [0,0,1,1,1,1,0]\n",
    "    ],\n",
    "    [\n",
    "        [0,0,0,0,0,0,0],\n",
    "        [0,0,0,1,0,0,0],\n",
    "        [0,0,1,1,1,0,0],\n",
    "        [0,0,0,1,0,0,0]\n",
    "    ],\n",
    "    [\n",
    "        [0,0,0,0,0,0,0],\n",
    "        [0,0,0,0,1,0,0],\n",
    "        [0,0,0,0,1,0,0],\n",
    "        [0,0,1,1,1,0,0]\n",
    "    ],\n",
    "    [\n",
    "        [0,0,1,0,0,0,0],\n",
    "        [0,0,1,0,0,0,0],\n",
    "        [0,0,1,0,0,0,0],\n",
    "        [0,0,1,0,0,0,0]\n",
    "    ],\n",
    "    [\n",
    "        [0,0,0,0,0,0,0],\n",
    "        [0,0,0,0,0,0,0],\n",
    "        [0,0,1,1,0,0,0],\n",
    "        [0,0,1,1,0,0,0]\n",
    "    ]\n",
    "]"
   ]
  },
  {
   "cell_type": "code",
   "execution_count": 292,
   "metadata": {},
   "outputs": [],
   "source": [
    "allShapes = [\n",
    "    np.array([\n",
    "        [0,0,1,1,1,1,0]\n",
    "    ]),\n",
    "    np.array([\n",
    "        [0,0,0,1,0,0,0],\n",
    "        [0,0,1,1,1,0,0],\n",
    "        [0,0,0,1,0,0,0]\n",
    "    ]),\n",
    "    np.array([\n",
    "        [0,0,0,0,1,0,0],\n",
    "        [0,0,0,0,1,0,0],\n",
    "        [0,0,1,1,1,0,0]\n",
    "    ]),\n",
    "    np.array([\n",
    "        [0,0,1,0,0,0,0],\n",
    "        [0,0,1,0,0,0,0],\n",
    "        [0,0,1,0,0,0,0],\n",
    "        [0,0,1,0,0,0,0]\n",
    "    ]),\n",
    "    np.array([\n",
    "        [0,0,1,1,0,0,0],\n",
    "        [0,0,1,1,0,0,0]\n",
    "    ])\n",
    "]"
   ]
  },
  {
   "cell_type": "code",
   "execution_count": 293,
   "metadata": {},
   "outputs": [],
   "source": [
    "iniCham = np.array(\n",
    "    [\n",
    "        [0,0,0,0,0,0,0],\n",
    "        [0,0,0,0,0,0,0],\n",
    "        [0,0,0,0,0,0,0],\n",
    "        [2,2,2,2,2,2,2],\n",
    "    ]\n",
    ")"
   ]
  },
  {
   "cell_type": "code",
   "execution_count": 295,
   "metadata": {},
   "outputs": [],
   "source": [
    "# curShape = allShapes[1]\n",
    "# curCham = iniCham.copy()\n",
    "\n",
    "\n",
    "def moveDown(curCham): \n",
    "    Ys,Xs = np.where(curCham == 1)\n",
    "\n",
    "    # Try to move down\n",
    "    newYs = [y+1 for y in Ys]\n",
    "\n",
    "    allFree = True\n",
    "    for k in range(len(Ys)):\n",
    "        \n",
    "        if (curCham[newYs[k],Xs[k]] == 2):\n",
    "            allFree = False \n",
    "            \n",
    "    if allFree:\n",
    "        # Update position, starting from the bottom\n",
    "        # print(Xs,Ys)\n",
    "        maxY = np.max(Ys)\n",
    "        # print(maxY)\n",
    "        for thisY in range(maxY,-1,-1):\n",
    "            # print(thisY)\n",
    "            for k in range(len(Ys)): \n",
    "                if (Ys[k] == thisY):\n",
    "                    curCham[Ys[k],Xs[k]] = 0\n",
    "                    curCham[newYs[k],Xs[k]] = 1\n",
    "\n",
    "\n",
    "        # for k in range(len(Ys)):\n",
    "        #     curCham[Ys[k],Xs[k]] = 0\n",
    "        #     curCham[newYs[k],Xs[k]] = 1\n",
    "    else:\n",
    "        for k in range(len(Ys)):\n",
    "            curCham[Ys[k],Xs[k]] = 2\n",
    "    return curCham\n",
    "\n",
    "# print('--')\n",
    "# curCham = moveDown(curCham)\n",
    "# # curCham = moveDown(curCham)\n",
    "# # curCham = moveDown(curCham)\n",
    "# print(curCham)\n",
    "\n",
    "# Loop here\n",
    "\n",
    "# curCham = np.vstack((curShape,curCham))\n",
    "# print(curCham)\n"
   ]
  },
  {
   "cell_type": "code",
   "execution_count": 279,
   "metadata": {},
   "outputs": [],
   "source": [
    "def moveRight(curCham):\n",
    "    # Get current coordinates for thing to move\n",
    "    Ys,Xs = np.where(curCham == 1)\n",
    "\n",
    "    # If already at the right edge\n",
    "    if np.any(Xs == 6):\n",
    "        # Do nothing\n",
    "        return curCham\n",
    "    else:\n",
    "        # Try to move to the right\n",
    "        newXs = [x+1 for x in Xs]\n",
    "\n",
    "        allFree = True\n",
    "        for k in range(len(Ys)):\n",
    "            if (curCham[Ys[k],newXs[k]] == 2):\n",
    "                allFree = False \n",
    "                \n",
    "\n",
    "        if allFree:\n",
    "            # Update position, starting from the right\n",
    "            maxX = np.max(Xs)\n",
    "            \n",
    "            for thisX in range(maxX,-1,-1):\n",
    "                \n",
    "                for k in range(len(Xs)): \n",
    "                    if (Xs[k] == thisX):\n",
    "                        curCham[Ys[k],Xs[k]] = 0\n",
    "                        curCham[Ys[k],newXs[k]] = 1\n",
    "            \n",
    "        return curCham\n",
    "# curCham = moveRight(curCham.copy())\n",
    "# curCham "
   ]
  },
  {
   "cell_type": "code",
   "execution_count": 296,
   "metadata": {},
   "outputs": [],
   "source": [
    "def moveLeft(curCham):\n",
    "    # Get current coordinates for thing to move\n",
    "    Ys,Xs = np.where(curCham == 1)\n",
    "\n",
    "    # If already at the left edge\n",
    "    if np.any(Xs == 0):\n",
    "        # Do nothing\n",
    "        return curCham\n",
    "    else:\n",
    "        # Try to move to the left\n",
    "        newXs = [x-1 for x in Xs]\n",
    "\n",
    "        allFree = True\n",
    "        for k in range(len(Ys)):\n",
    "            if (curCham[Ys[k],newXs[k]] == 2):\n",
    "                allFree = False \n",
    "                \n",
    "\n",
    "        if allFree:\n",
    "            # Update position, starting from the left\n",
    "            maxX = np.max(Xs)\n",
    "            \n",
    "            # for thisX in range(maxX,-1,-1):\n",
    "            for thisX in range(maxX+1):\n",
    "                \n",
    "                for k in range(len(Xs)): \n",
    "                    if (Xs[k] == thisX):\n",
    "                        curCham[Ys[k],Xs[k]] = 0\n",
    "                        curCham[Ys[k],newXs[k]] = 1\n",
    "            \n",
    "        return curCham\n",
    "        "
   ]
  },
  {
   "cell_type": "code",
   "execution_count": 311,
   "metadata": {},
   "outputs": [],
   "source": [
    "numJets = len(curIn)\n",
    "# curIn\n",
    "def getJet(n):\n",
    "    # print(n%40)\n",
    "    return curIn[n%numJets]\n",
    "# print(curIn)\n",
    "# getJet(40)\n",
    "toApp = ''\n",
    "for k in range(90):\n",
    "    toApp += getJet(k)\n",
    "# curIn[39]\n",
    "# toApp[40:]"
   ]
  },
  {
   "cell_type": "code",
   "execution_count": null,
   "metadata": {},
   "outputs": [],
   "source": []
  },
  {
   "cell_type": "code",
   "execution_count": 340,
   "metadata": {},
   "outputs": [],
   "source": [
    "# curCham[0] == 0\n",
    "firstNonEmpty = 0\n",
    "for r in range(len(curCham)-1,0,-1):\n",
    "    if (np.all(curCham[r] == 0) == False):\n",
    "        firstNonEmpty = r\n",
    "\n",
    "    # print(np.all(curCham[r] == 0))\n",
    "    2+2\n",
    "# curCham = \n",
    "# curCham[firstNonEmpty-3:]\n",
    "# emptyRow = np.array([0,0,0,0,0,0,0])\n",
    "# np.vstack((emptyRow,curCham))"
   ]
  },
  {
   "cell_type": "code",
   "execution_count": 343,
   "metadata": {},
   "outputs": [],
   "source": [
    "# curCham"
   ]
  },
  {
   "cell_type": "code",
   "execution_count": 325,
   "metadata": {},
   "outputs": [
    {
     "name": "stdout",
     "output_type": "stream",
     "text": [
      "[[0 0 1 1 1 1 0]\n",
      " [0 0 0 0 0 0 0]\n",
      " [0 0 0 0 0 0 0]\n",
      " [0 0 0 0 0 0 0]\n",
      " [2 2 2 2 2 2 2]]\n",
      "[[0 0 0 1 0 0 0]\n",
      " [0 0 1 1 1 0 0]\n",
      " [0 0 0 1 0 0 0]\n",
      " [0 0 1 1 1 1 0]\n",
      " [0 0 0 0 0 0 0]\n",
      " [0 0 0 0 0 0 0]\n",
      " [0 0 0 0 0 0 0]\n",
      " [2 2 2 2 2 2 2]]\n",
      "[[0 0 0 0 1 0 0]\n",
      " [0 0 0 0 1 0 0]\n",
      " [0 0 1 1 1 0 0]\n",
      " [0 0 0 0 0 0 0]\n",
      " [2 2 2 2 2 2 2]]\n",
      "[[0 0 1 0 0 0 0]\n",
      " [0 0 1 0 0 0 0]\n",
      " [0 0 1 0 0 0 0]\n",
      " [0 0 1 0 0 0 0]\n",
      " [0 0 0 0 0 0 0]\n",
      " [2 2 2 2 2 2 2]]\n",
      "[[0 0 1 1 0 0 0]\n",
      " [0 0 1 1 0 0 0]\n",
      " [0 0 0 0 0 0 0]\n",
      " [2 2 2 2 2 2 2]]\n",
      "[[0 0 1 1 1 1 0]\n",
      " [0 0 0 0 0 0 0]\n",
      " [2 2 2 2 2 2 2]]\n",
      "[[0 0 0 1 0 0 0]\n",
      " [0 0 1 1 1 0 0]\n",
      " [0 0 0 1 0 0 0]\n",
      " [2 2 2 2 2 2 2]]\n",
      "[[0 0 0 0 1 0 0]\n",
      " [0 0 0 0 1 0 0]\n",
      " [0 0 1 1 1 0 0]\n",
      " [0 0 0 1 0 0 0]\n",
      " [2 2 2 2 2 2 2]]\n",
      "[[0 0 1 0 0 0 0]\n",
      " [0 0 1 0 0 0 0]\n",
      " [0 0 1 0 0 0 0]\n",
      " [0 0 1 0 0 0 0]\n",
      " [0 0 0 1 0 0 0]\n",
      " [2 2 2 2 2 2 2]]\n",
      "[[0 0 1 1 0 0 0]\n",
      " [0 0 1 1 0 0 0]\n",
      " [0 0 0 1 0 0 0]\n",
      " [2 2 2 2 2 2 2]]\n"
     ]
    }
   ],
   "source": [
    "\n",
    "curCham = iniCham.copy() \n",
    "numShapesToAdd = 10\n",
    "airJetNum = 0\n",
    "numJets = len(inputs[0])\n",
    "for s in range(numShapesToAdd):\n",
    "# for s in tqdm(range(numShapesToAdd)):\n",
    "    if s > 1:\n",
    "        # Start by trimming empty lines on top\n",
    "        firstNonEmpty = 0\n",
    "        for r in range(len(curCham)-1,0,-1):\n",
    "            if (np.all(curCham[r] == 0) == False):\n",
    "                firstNonEmpty = r\n",
    "        # Trim, but leave three empty rows\n",
    "        curCham = curCham[firstNonEmpty-3:]\n",
    "\n",
    "    # Get the next shape to add\n",
    "    curShape = allShapes[s%5]\n",
    "    # Add it to the chamber \n",
    "    curCham = np.vstack((curShape,curCham))\n",
    "    print(curCham)"
   ]
  },
  {
   "cell_type": "code",
   "execution_count": 350,
   "metadata": {},
   "outputs": [
    {
     "name": "stderr",
     "output_type": "stream",
     "text": [
      "100%|██████████| 2022/2022 [01:40<00:00, 20.07it/s]\n"
     ]
    }
   ],
   "source": [
    "# curIn\n",
    "from tqdm import tqdm \n",
    "\n",
    "curCham = iniCham.copy() \n",
    "\n",
    "curIn = inputs[0]\n",
    "# curIn = inputsTest[0]\n",
    "numJets = len(curIn)\n",
    "\n",
    "numShapesToAdd = 2022\n",
    "# numShapesToAdd = 40\n",
    "airJetNum = 0\n",
    "# numJets = len(curIn)\n",
    "# numJets = len(inputsTest[0])\n",
    "# numJets = len(inputs[0])\n",
    "# for s in range(numShapesToAdd):\n",
    "for s in tqdm(range(numShapesToAdd)):\n",
    "    if s > 1:\n",
    "        # Start by trimming empty lines on top\n",
    "        firstNonEmpty = 0\n",
    "        for r in range(len(curCham)-1,0,-1):\n",
    "            if (np.all(curCham[r] == 0) == False):\n",
    "                firstNonEmpty = r\n",
    "        # Trim, but leave three empty rows\n",
    "        curCham = curCham[firstNonEmpty-3:]\n",
    "\n",
    "    # Get the next shape to add\n",
    "    curShape = allShapes[s%5]\n",
    "    # Add it to the chamber \n",
    "    curCham = np.vstack((curShape,curCham))\n",
    "\n",
    "    # print(curCham)\n",
    "    maxIter = 40\n",
    "    for curIter in range(maxIter):\n",
    "    # flagContinueIter = True \n",
    "    # while flagContinueIter:\n",
    "        # If there are still parts that haven't moved\n",
    "        if np.any(curCham == 1):\n",
    "            # Get the next air jet\n",
    "            curAir = curIn[airJetNum % numJets]\n",
    "            # curAir = inputsTest[0][airJetNum % numJets] \n",
    "            # curAir = inputs[0][airJetNum % numJets] \n",
    "            airJetNum += 1 \n",
    "\n",
    "            # print(curAir,airJetNum)\n",
    "            if curAir == '>':\n",
    "                curCham = moveRight(curCham.copy())\n",
    "            elif curAir == '<':\n",
    "                curCham = moveLeft(curCham.copy())\n",
    "            # print(curCham)\n",
    "         \n",
    "            # print('---')\n",
    "            # print('Moving down')\n",
    "\n",
    "            curCham = moveDown(curCham.copy())\n",
    "\n",
    "            # print(curCham)\n",
    "\n",
    "            # print('---')\n",
    "        # else:\n",
    "        #     flagContinueIter = False\n",
    "    # print('NEXT')\n",
    "    # print(curCham)"
   ]
  },
  {
   "cell_type": "code",
   "execution_count": 332,
   "metadata": {},
   "outputs": [],
   "source": [
    "# inputs[0]\n",
    "# curCham[0:100]"
   ]
  },
  {
   "cell_type": "code",
   "execution_count": 351,
   "metadata": {},
   "outputs": [
    {
     "name": "stdout",
     "output_type": "stream",
     "text": [
      "3065\n"
     ]
    }
   ],
   "source": [
    "p1 = curCham.shape[0]-4\n",
    "print(p1)\n",
    "# # curCham[:5]\n",
    "# curCham"
   ]
  },
  {
   "cell_type": "markdown",
   "metadata": {},
   "source": [
    "# Part 2: 1000000000000 rocks\n",
    "Gotta find repetitions\n",
    "\n",
    "Test-case: 1514285714288 units tall"
   ]
  },
  {
   "cell_type": "code",
   "execution_count": 358,
   "metadata": {},
   "outputs": [
    {
     "data": {
      "text/plain": [
       "3069"
      ]
     },
     "execution_count": 358,
     "metadata": {},
     "output_type": "execute_result"
    }
   ],
   "source": [
    "len(curIn) * 5\n",
    "# curCham[50455]\n",
    "len(curCham)"
   ]
  },
  {
   "cell_type": "code",
   "execution_count": 368,
   "metadata": {},
   "outputs": [
    {
     "name": "stderr",
     "output_type": "stream",
     "text": [
      "  1%|          | 112/20220 [00:00<00:47, 421.19it/s]"
     ]
    },
    {
     "name": "stdout",
     "output_type": "stream",
     "text": [
      "Added air jet number 0 we were at the start of shape 0\n"
     ]
    },
    {
     "name": "stderr",
     "output_type": "stream",
     "text": [
      "  6%|▌         | 1194/20220 [00:27<07:20, 43.22it/s]\n"
     ]
    },
    {
     "ename": "KeyboardInterrupt",
     "evalue": "",
     "output_type": "error",
     "traceback": [
      "\u001b[1;31m---------------------------------------------------------------------------\u001b[0m",
      "\u001b[1;31mKeyboardInterrupt\u001b[0m                         Traceback (most recent call last)",
      "\u001b[1;32mc:\\Users\\rakrpe\\OneDrive - Roskilde Universitet\\Documents\\AdventOfCode2022\\2022Day17.ipynb Cell 21\u001b[0m in \u001b[0;36m<module>\u001b[1;34m\u001b[0m\n\u001b[0;32m     <a href='vscode-notebook-cell:/c%3A/Users/rakrpe/OneDrive%20-%20Roskilde%20Universitet/Documents/AdventOfCode2022/2022Day17.ipynb#X42sZmlsZQ%3D%3D?line=55'>56</a>\u001b[0m \u001b[39m# print(curAir,airJetNum)\u001b[39;00m\n\u001b[0;32m     <a href='vscode-notebook-cell:/c%3A/Users/rakrpe/OneDrive%20-%20Roskilde%20Universitet/Documents/AdventOfCode2022/2022Day17.ipynb#X42sZmlsZQ%3D%3D?line=56'>57</a>\u001b[0m \u001b[39mif\u001b[39;00m curAir \u001b[39m==\u001b[39m \u001b[39m'\u001b[39m\u001b[39m>\u001b[39m\u001b[39m'\u001b[39m:\n\u001b[1;32m---> <a href='vscode-notebook-cell:/c%3A/Users/rakrpe/OneDrive%20-%20Roskilde%20Universitet/Documents/AdventOfCode2022/2022Day17.ipynb#X42sZmlsZQ%3D%3D?line=57'>58</a>\u001b[0m     curCham \u001b[39m=\u001b[39m moveRight(curCham\u001b[39m.\u001b[39;49mcopy())\n\u001b[0;32m     <a href='vscode-notebook-cell:/c%3A/Users/rakrpe/OneDrive%20-%20Roskilde%20Universitet/Documents/AdventOfCode2022/2022Day17.ipynb#X42sZmlsZQ%3D%3D?line=58'>59</a>\u001b[0m \u001b[39melif\u001b[39;00m curAir \u001b[39m==\u001b[39m \u001b[39m'\u001b[39m\u001b[39m<\u001b[39m\u001b[39m'\u001b[39m:\n\u001b[0;32m     <a href='vscode-notebook-cell:/c%3A/Users/rakrpe/OneDrive%20-%20Roskilde%20Universitet/Documents/AdventOfCode2022/2022Day17.ipynb#X42sZmlsZQ%3D%3D?line=59'>60</a>\u001b[0m     curCham \u001b[39m=\u001b[39m moveLeft(curCham\u001b[39m.\u001b[39mcopy())\n",
      "\u001b[1;32mc:\\Users\\rakrpe\\OneDrive - Roskilde Universitet\\Documents\\AdventOfCode2022\\2022Day17.ipynb Cell 21\u001b[0m in \u001b[0;36mmoveRight\u001b[1;34m(curCham)\u001b[0m\n\u001b[0;32m      <a href='vscode-notebook-cell:/c%3A/Users/rakrpe/OneDrive%20-%20Roskilde%20Universitet/Documents/AdventOfCode2022/2022Day17.ipynb#X42sZmlsZQ%3D%3D?line=0'>1</a>\u001b[0m \u001b[39mdef\u001b[39;00m \u001b[39mmoveRight\u001b[39m(curCham):\n\u001b[0;32m      <a href='vscode-notebook-cell:/c%3A/Users/rakrpe/OneDrive%20-%20Roskilde%20Universitet/Documents/AdventOfCode2022/2022Day17.ipynb#X42sZmlsZQ%3D%3D?line=1'>2</a>\u001b[0m     \u001b[39m# Get current coordinates for thing to move\u001b[39;00m\n\u001b[1;32m----> <a href='vscode-notebook-cell:/c%3A/Users/rakrpe/OneDrive%20-%20Roskilde%20Universitet/Documents/AdventOfCode2022/2022Day17.ipynb#X42sZmlsZQ%3D%3D?line=2'>3</a>\u001b[0m     Ys,Xs \u001b[39m=\u001b[39m np\u001b[39m.\u001b[39;49mwhere(curCham \u001b[39m==\u001b[39;49m \u001b[39m1\u001b[39;49m)\n\u001b[0;32m      <a href='vscode-notebook-cell:/c%3A/Users/rakrpe/OneDrive%20-%20Roskilde%20Universitet/Documents/AdventOfCode2022/2022Day17.ipynb#X42sZmlsZQ%3D%3D?line=4'>5</a>\u001b[0m     \u001b[39m# If already at the right edge\u001b[39;00m\n\u001b[0;32m      <a href='vscode-notebook-cell:/c%3A/Users/rakrpe/OneDrive%20-%20Roskilde%20Universitet/Documents/AdventOfCode2022/2022Day17.ipynb#X42sZmlsZQ%3D%3D?line=5'>6</a>\u001b[0m     \u001b[39mif\u001b[39;00m np\u001b[39m.\u001b[39many(Xs \u001b[39m==\u001b[39m \u001b[39m6\u001b[39m):\n\u001b[0;32m      <a href='vscode-notebook-cell:/c%3A/Users/rakrpe/OneDrive%20-%20Roskilde%20Universitet/Documents/AdventOfCode2022/2022Day17.ipynb#X42sZmlsZQ%3D%3D?line=6'>7</a>\u001b[0m         \u001b[39m# Do nothing\u001b[39;00m\n",
      "File \u001b[1;32m<__array_function__ internals>:5\u001b[0m, in \u001b[0;36mwhere\u001b[1;34m(*args, **kwargs)\u001b[0m\n",
      "\u001b[1;31mKeyboardInterrupt\u001b[0m: "
     ]
    }
   ],
   "source": [
    "# curIn\n",
    "from tqdm import tqdm \n",
    "\n",
    "curCham = iniCham.copy() \n",
    "\n",
    "curIn = inputs[0]\n",
    "curIn = inputsTest[0]\n",
    "numJets = len(curIn)\n",
    "\n",
    "numShapesToAdd = 20220\n",
    "# numShapesToAdd = 40\n",
    "airJetNum = 0\n",
    "\n",
    "\n",
    "curCount = 0\n",
    "# for s in range(numShapesToAdd):\n",
    "for s in tqdm(range(numShapesToAdd)):\n",
    "    if s > 1:\n",
    "        # Start by trimming empty lines on top\n",
    "        firstNonEmpty = 0\n",
    "        for r in range(len(curCham)-1,0,-1):\n",
    "            if (np.all(curCham[r] == 0) == False):\n",
    "                firstNonEmpty = r\n",
    "        # Trim, but leave three empty rows\n",
    "        curCham = curCham[firstNonEmpty-3:]\n",
    "\n",
    "    # Get the next shape to add\n",
    "    curShape = allShapes[s%5]\n",
    "    # Add it to the chamber \n",
    "    curCham = np.vstack((curShape,curCham))\n",
    "\n",
    "    # print()\n",
    "    hasMoved = False \n",
    "    \n",
    "\n",
    "    # print(curCham)\n",
    "    maxIter = 40\n",
    "    for curIter in range(maxIter):\n",
    "    # flagContinueIter = True \n",
    "    # while flagContinueIter:\n",
    "        # If there are still parts that haven't moved\n",
    "        if np.any(curCham == 1):\n",
    "            # Part 2:\n",
    "            if (airJetNum % numJets) == 0:\n",
    "                if (s%5) == 0:\n",
    "                    if hasMoved == False:\n",
    "                        print('Added air jet number',airJetNum,'we were at the start of shape 0')\n",
    "            \n",
    "\n",
    "            # Get the next air jet\n",
    "            curAir = curIn[airJetNum % numJets]\n",
    "            # curAir = inputsTest[0][airJetNum % numJets] \n",
    "            # curAir = inputs[0][airJetNum % numJets] \n",
    "            airJetNum += 1 \n",
    "\n",
    "            # print(curAir,airJetNum)\n",
    "            if curAir == '>':\n",
    "                curCham = moveRight(curCham.copy())\n",
    "            elif curAir == '<':\n",
    "                curCham = moveLeft(curCham.copy())\n",
    "            # print(curCham)\n",
    "\n",
    "            hasMoved = True\n",
    "            # print('---')\n",
    "            # print('Moving down')\n",
    "\n",
    "            curCham = moveDown(curCham.copy())\n",
    "\n",
    "            # print(curCham)\n",
    "\n",
    "            # print('---')\n",
    "        # else:\n",
    "        #     flagContinueIter = False\n",
    "    # print('NEXT')\n",
    "    # print(curCham)"
   ]
  },
  {
   "cell_type": "code",
   "execution_count": 369,
   "metadata": {},
   "outputs": [
    {
     "data": {
      "text/plain": [
       "'>>><<><>><<<>><>>><<<>>><<<><<<>><>><<>>'"
      ]
     },
     "execution_count": 369,
     "metadata": {},
     "output_type": "execute_result"
    }
   ],
   "source": [
    "curIn "
   ]
  },
  {
   "cell_type": "code",
   "execution_count": 374,
   "metadata": {},
   "outputs": [
    {
     "data": {
      "text/plain": [
       "array([0, 0, 2, 2, 2, 2, 0])"
      ]
     },
     "execution_count": 374,
     "metadata": {},
     "output_type": "execute_result"
    }
   ],
   "source": [
    "# curCham[:10]\n",
    "curCham[-2]"
   ]
  },
  {
   "cell_type": "code",
   "execution_count": 398,
   "metadata": {},
   "outputs": [
    {
     "data": {
      "text/plain": [
       "28571428571.4717"
      ]
     },
     "execution_count": 398,
     "metadata": {},
     "output_type": "execute_result"
    }
   ],
   "source": [
    "# 1514285714288\n"
   ]
  },
  {
   "cell_type": "code",
   "execution_count": 399,
   "metadata": {},
   "outputs": [
    {
     "data": {
      "text/plain": [
       "1821"
      ]
     },
     "execution_count": 399,
     "metadata": {},
     "output_type": "execute_result"
    }
   ],
   "source": [
    "len(curCham)"
   ]
  },
  {
   "cell_type": "code",
   "execution_count": 406,
   "metadata": {},
   "outputs": [
    {
     "data": {
      "text/plain": [
       "<matplotlib.image.AxesImage at 0x1cdb2f133a0>"
      ]
     },
     "execution_count": 406,
     "metadata": {},
     "output_type": "execute_result"
    },
    {
     "data": {
      "application/vnd.jupyter.widget-view+json": {
       "model_id": "edbb256372a746a7a03af1ec76afc235",
       "version_major": 2,
       "version_minor": 0
      },
      "image/png": "[encoded data removed]",
      "text/html": [
       "\n",
       "            <div style=\"display: inline-block;\">\n",
       "                <div class=\"jupyter-widgets widget-label\" style=\"text-align: center;\">\n",
       "                    Figure\n",
       "                </div>\n",
       "                <img src='data:image/png;base64,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' width=640.0/>\n",
       "            </div>\n",
       "        "
      ],
      "text/plain": [
       "Canvas(toolbar=Toolbar(toolitems=[('Home', 'Reset original view', 'home', 'home'), ('Back', 'Back to previous …"
      ]
     },
     "metadata": {},
     "output_type": "display_data"
    }
   ],
   "source": [
    "curCham[:100]\n",
    "\n",
    "import matplotlib.pyplot as plt\n",
    "%matplotlib widget\n",
    "fig,(ax1,ax2,ax3) = plt.subplots(1,3)\n",
    "offSet = 53\n",
    "# offSet = 29\n",
    "ax1.imshow(curCham[10:90])\n",
    "ax2.imshow(curCham[10+offSet:90+offSet])\n",
    "ax3.imshow(curCham[10:90]+curCham[10+offSet:90+offSet])"
   ]
  },
  {
   "cell_type": "markdown",
   "metadata": {},
   "source": [
    "# Old below"
   ]
  },
  {
   "cell_type": "code",
   "execution_count": 140,
   "metadata": {},
   "outputs": [],
   "source": [
    "# def moveRight(curCham):\n",
    "#     # Get current coordinates for thing to move\n",
    "#     Ys,Xs = np.where(curCham == 1)\n",
    "\n",
    "#     # If already at the right edge\n",
    "#     if np.any(Xs == 6):\n",
    "#         # Do nothing?\n",
    "#         return curCham\n",
    "#     else:\n",
    "#         # Try to move to the right\n",
    "#         newXs = [x+1 for x in Xs]\n",
    "\n",
    "#         allFree = True\n",
    "#         for k in range(len(Ys)):\n",
    "#             # print(Xs[k],Ys[k])\n",
    "#             # print(newXs[k],Ys[k]) \n",
    "#             # print(curCham[Ys[k],newXs[k]])\n",
    "#             if (curCham[Ys[k],newXs[k]] == 2):\n",
    "#                 allFree = False \n",
    "#         # print(allFree)\n",
    "\n",
    "#         if allFree:\n",
    "#             # Update position\n",
    "#             # Update position, starting from the right\n",
    "#             # print(Xs,Ys)\n",
    "#             maxX = np.max(Xs)\n",
    "#             # print(maxY)\n",
    "#             for thisX in range(maxX,-1,-1):\n",
    "#                 # print(thisY)\n",
    "#                 for k in range(len(Xs)): \n",
    "#                     if (Xs[k] == thisX):\n",
    "#                         curCham[Ys[k],Xs[k]] = 0\n",
    "#                         curCham[Ys[k],newXs[k]] = 1\n",
    "            \n",
    "#             # for k in range(len(Ys)):\n",
    "#             #     curCham[Ys[k],Xs[k]] = 0\n",
    "#             #     curCham[Ys[k],newXs[k]] = 1\n",
    "#         # else:\n",
    "#         #     for k in range(len(Ys)):\n",
    "#         #         curCham[Ys[k],Xs[k]] = 2\n",
    "#         return curCham\n",
    "# curCham = moveRight(curCham.copy())\n",
    "# curCham "
   ]
  },
  {
   "cell_type": "code",
   "execution_count": null,
   "metadata": {},
   "outputs": [],
   "source": [
    "# def moveRight(curCham):\n",
    "#     # Get current coordinates for thing to move\n",
    "#     Ys,Xs = np.where(curCham == 1)\n",
    "\n",
    "#     # If already at the right edge\n",
    "#     if np.any(Xs == 6):\n",
    "#         # Do nothing?\n",
    "#         return curCham\n",
    "#     else:\n",
    "#         # Try to move to the right\n",
    "#         newXs = [x+1 for x in Xs]\n",
    "\n",
    "#         allFree = True\n",
    "#         for k in range(len(Ys)):\n",
    "#             # print(Xs[k],Ys[k])\n",
    "#             # print(newXs[k],Ys[k]) \n",
    "#             # print(curCham[Ys[k],newXs[k]])\n",
    "#             if (curCham[Ys[k],newXs[k]] == 2):\n",
    "#                 allFree = False \n",
    "#         # print(allFree)\n",
    "\n",
    "#         if allFree:\n",
    "#             # Update position\n",
    "#             # Update position, starting from the right\n",
    "#             # print(Xs,Ys)\n",
    "#             maxX = np.max(Xs)\n",
    "#             # print(maxY)\n",
    "#             for thisX in range(maxX,-1,-1):\n",
    "#                 # print(thisY)\n",
    "#                 for k in range(len(Xs)): \n",
    "#                     if (Xs[k] == thisX):\n",
    "#                         curCham[Ys[k],Xs[k]] = 0\n",
    "#                         curCham[Ys[k],newXs[k]] = 1\n",
    "            \n",
    "#             # for k in range(len(Ys)):\n",
    "#             #     curCham[Ys[k],Xs[k]] = 0\n",
    "#             #     curCham[Ys[k],newXs[k]] = 1\n",
    "#         # else:\n",
    "#         #     for k in range(len(Ys)):\n",
    "#         #         curCham[Ys[k],Xs[k]] = 2\n",
    "#         return curCham\n",
    "# curCham = moveRight(curCham.copy())\n",
    "# curCham "
   ]
  },
  {
   "cell_type": "code",
   "execution_count": 132,
   "metadata": {},
   "outputs": [],
   "source": [
    "# curShape = allShapes[1]\n",
    "# curCham = iniCham.copy()\n",
    "\n",
    "\n",
    "# # Loop here\n",
    "# curTop = curCham.shape[0]\n",
    "\n",
    "# curCham = np.vstack((curShape,curCham))\n",
    "# print(curCham,curTop)\n",
    "\n",
    "# # for r in range(len(curCham)-1,-1,-1):\n",
    "# #     # print(curCham[r])\n",
    "# #     curRow = curCham[r]\n",
    "# #     for c in curRow:\n",
    "# #         if (c == 1):\n",
    "\n",
    "# def moveDown(curCham): \n",
    "#     Ys,Xs = np.where(curCham == 1)\n",
    "\n",
    "#     # Try to move down\n",
    "#     newYs = [y+1 for y in Ys]\n",
    "\n",
    "#     allFree = True\n",
    "#     for k in range(len(Ys)):\n",
    "#     #     print(Xs[k],Ys[k])\n",
    "#         # print(Xs[k],newYs[k]) \n",
    "#         # print(curCham[newYs[k],Xs[k]])\n",
    "#         if (curCham[newYs[k],Xs[k]] == 2):\n",
    "#             allFree = False \n",
    "#     # print(allFree)\n",
    "\n",
    "#     if allFree:\n",
    "#         # Update position\n",
    "#         for k in range(len(Ys)):\n",
    "#             curCham[Ys[k],Xs[k]] = 0\n",
    "#             curCham[newYs[k],Xs[k]] = 1\n",
    "#     else:\n",
    "#         for k in range(len(Ys)):\n",
    "#             curCham[Ys[k],Xs[k]] = 2\n",
    "#     return curCham\n",
    "\n",
    "\n",
    "# # def moveRight(curCham): \n",
    "# #     # Get current coordinates for thing to move\n",
    "# #     Ys,Xs = np.where(curCham == 1)\n",
    "\n",
    "# #     # \n",
    "\n",
    "# #     # Try to move to the right\n",
    "# #     newXs = [x+1 for x in Xs]\n",
    "\n",
    "# #     allFree = True\n",
    "# #     for k in range(len(Ys)):\n",
    "# #     #     print(Xs[k],Ys[k])\n",
    "# #         # print(Xs[k],newYs[k]) \n",
    "# #         # print(curCham[newYs[k],Xs[k]])\n",
    "# #         if (curCham[newYs[k],Xs[k]] != 0):\n",
    "# #             allFree = False \n",
    "# #     # print(allFree)\n",
    "\n",
    "# #     if allFree:\n",
    "# #         # Update position\n",
    "# #         for k in range(len(Ys)):\n",
    "# #             curCham[Ys[k],Xs[k]] = 0\n",
    "# #             curCham[newYs[k],Xs[k]] = 1\n",
    "# #     else:\n",
    "# #         for k in range(len(Ys)):\n",
    "# #             curCham[Ys[k],Xs[k]] = 2\n",
    "# #     return curCham\n",
    "\n",
    "# print('--')\n",
    "# curCham = moveDown(curCham)\n",
    "# print(curCham)"
   ]
  },
  {
   "cell_type": "code",
   "execution_count": 116,
   "metadata": {},
   "outputs": [
    {
     "name": "stdout",
     "output_type": "stream",
     "text": [
      "[2 3 4 5] [1 1 1 1]\n"
     ]
    }
   ],
   "source": [
    "\n",
    "Ys,Xs = np.where(curCham == 1)\n",
    "print(Xs,Ys)"
   ]
  },
  {
   "cell_type": "code",
   "execution_count": 114,
   "metadata": {},
   "outputs": [
    {
     "data": {
      "text/plain": [
       "array([[0, 0, 0, 0, 0, 0, 0],\n",
       "       [0, 0, 0, 0, 0, 0, 1],\n",
       "       [0, 0, 0, 0, 0, 0, 0],\n",
       "       [0, 0, 0, 0, 0, 0, 0],\n",
       "       [2, 2, 2, 2, 2, 2, 2]])"
      ]
     },
     "execution_count": 114,
     "metadata": {},
     "output_type": "execute_result"
    }
   ],
   "source": [
    "def moveRight(curCham):\n",
    "    # Get current coordinates for thing to move\n",
    "    Ys,Xs = np.where(curCham == 1)\n",
    "\n",
    "    # If already at the right edge\n",
    "    if np.any(Xs == 6):\n",
    "        # Do nothing?\n",
    "        return curCham\n",
    "    else:\n",
    "        # Try to move to the right\n",
    "        newXs = [x+1 for x in Xs]\n",
    "\n",
    "        allFree = True\n",
    "        for k in range(len(Ys)):\n",
    "            # print(Xs[k],Ys[k])\n",
    "            # print(newXs[k],Ys[k]) \n",
    "            # print(curCham[Ys[k],newXs[k]])\n",
    "            if (curCham[Ys[k],newXs[k]] == 2):\n",
    "                allFree = False \n",
    "        # print(allFree)\n",
    "\n",
    "        if allFree:\n",
    "            # Update position\n",
    "            \n",
    "            for k in range(len(Ys)):\n",
    "                curCham[Ys[k],Xs[k]] = 0\n",
    "                curCham[Ys[k],newXs[k]] = 1\n",
    "        # else:\n",
    "        #     for k in range(len(Ys)):\n",
    "        #         curCham[Ys[k],Xs[k]] = 2\n",
    "        return curCham\n",
    "moveRight(curCham.copy())"
   ]
  }
 ],
 "metadata": {
  "kernelspec": {
   "display_name": "Python 3.10.0 ('main')",
   "language": "python",
   "name": "python3"
  },
  "language_info": {
   "codemirror_mode": {
    "name": "ipython",
    "version": 3
   },
   "file_extension": ".py",
   "mimetype": "text/x-python",
   "name": "python",
   "nbconvert_exporter": "python",
   "pygments_lexer": "ipython3",
   "version": "3.10.0"
  },
  "orig_nbformat": 4,
  "vscode": {
   "interpreter": {
    "hash": "e6af94e5c5af6f455ad39eba9e20d9ee46a7c0c9ebf8b81ae3b0b6f1a6d45f70"
   }
  }
 },
 "nbformat": 4,
 "nbformat_minor": 2
}
