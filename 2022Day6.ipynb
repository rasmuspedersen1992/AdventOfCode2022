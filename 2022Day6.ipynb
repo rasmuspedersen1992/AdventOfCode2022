{
 "cells": [
  {
   "cell_type": "code",
   "execution_count": 1,
   "metadata": {},
   "outputs": [
    {
     "name": "stdout",
     "output_type": "stream",
     "text": [
      "200\n"
     ]
    }
   ],
   "source": [
    "# Import packages\n",
    "import numpy as np\n",
    "curDay = 6\n",
    "\n",
    "# Download input file\n",
    "from download_inputs import download_inputs\n",
    "\n",
    "download_inputs(curDay)"
   ]
  },
  {
   "cell_type": "code",
   "execution_count": 4,
   "metadata": {},
   "outputs": [
    {
     "name": "stdout",
     "output_type": "stream",
     "text": [
      "Done loading input\n"
     ]
    }
   ],
   "source": [
    "# Load input into workspace\n",
    "filename = f'inputs\\\\day{curDay}.txt'\n",
    "# curIn = np.loadtxt(filename)\n",
    "\n",
    "# Start by loading the data\n",
    "inputFile = open(filename)\n",
    "inputs = []\n",
    "inputs = [s for s in inputFile.read().splitlines()]\n",
    "\n",
    "print('Done loading input')"
   ]
  },
  {
   "cell_type": "code",
   "execution_count": 34,
   "metadata": {},
   "outputs": [],
   "source": [
    "testInput = 'mjqjpqmgbljsphdztnvjfqwrcgsmlb'\n",
    "# testInput = 'bvwbjplbgvbhsrlpgdmjqwftvncz'"
   ]
  },
  {
   "cell_type": "code",
   "execution_count": 33,
   "metadata": {},
   "outputs": [
    {
     "name": "stdout",
     "output_type": "stream",
     "text": [
      "Part 1: 1816\n"
     ]
    }
   ],
   "source": [
    "curI = inputs[0]\n",
    "# curI = testInput\n",
    "\n",
    "buf = list()\n",
    "\n",
    "for i in range(len(curI)):\n",
    "    buf = np.array(list(curI[i:i+4]))\n",
    "    if len(np.unique(buf)) == 4:\n",
    "        break\n",
    "p1 = i +4\n",
    "print(f'Part 1: {p1}')"
   ]
  },
  {
   "cell_type": "code",
   "execution_count": 32,
   "metadata": {},
   "outputs": [
    {
     "name": "stdout",
     "output_type": "stream",
     "text": [
      "Part 2: 2625\n"
     ]
    }
   ],
   "source": [
    "curI = inputs[0]\n",
    "# curI = testInput\n",
    "\n",
    "buf = list()\n",
    "\n",
    "for i in range(len(curI)):\n",
    "    buf = np.array(list(curI[i:i+14]))\n",
    "    if len(np.unique(buf)) == 14:\n",
    "        break\n",
    "p2 = i +14\n",
    "print(f'Part 2: {p2}')\n"
   ]
  }
 ],
 "metadata": {
  "kernelspec": {
   "display_name": "Python 3.10.0 ('main')",
   "language": "python",
   "name": "python3"
  },
  "language_info": {
   "codemirror_mode": {
    "name": "ipython",
    "version": 3
   },
   "file_extension": ".py",
   "mimetype": "text/x-python",
   "name": "python",
   "nbconvert_exporter": "python",
   "pygments_lexer": "ipython3",
   "version": "3.10.0"
  },
  "orig_nbformat": 4,
  "vscode": {
   "interpreter": {
    "hash": "e6af94e5c5af6f455ad39eba9e20d9ee46a7c0c9ebf8b81ae3b0b6f1a6d45f70"
   }
  }
 },
 "nbformat": 4,
 "nbformat_minor": 2
}
