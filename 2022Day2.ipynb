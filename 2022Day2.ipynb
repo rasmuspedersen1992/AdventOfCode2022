{
 "cells": [
  {
   "cell_type": "code",
   "execution_count": 1,
   "metadata": {},
   "outputs": [
    {
     "name": "stdout",
     "output_type": "stream",
     "text": [
      "200\n"
     ]
    }
   ],
   "source": [
    "# Import packages\n",
    "import numpy as np\n",
    "curDay = 2\n",
    "\n",
    "# Download input file\n",
    "from download_inputs import download_inputs\n",
    "\n",
    "download_inputs(curDay)"
   ]
  },
  {
   "cell_type": "code",
   "execution_count": 4,
   "metadata": {},
   "outputs": [
    {
     "name": "stdout",
     "output_type": "stream",
     "text": [
      "Done loading input\n"
     ]
    }
   ],
   "source": [
    "# Load input into workspace\n",
    "filename = f'inputs\\\\day{curDay}.txt'\n",
    "# filename = f'inputs\\\\day{curDay}test.txt'\n",
    "# filename = f'inputs\\\\day{curDay}test2.txt'\n",
    "# curIn = np.loadtxt(filename)\n",
    "\n",
    "\n",
    "# filename= 'inputs\\\\asdf.txt'\n",
    "\n",
    "# Start by loading the data\n",
    "inputFile = open(filename)\n",
    "inputs = []\n",
    "inputs = [s for s in inputFile.read().splitlines()]\n",
    "\n",
    "print('Done loading input')"
   ]
  },
  {
   "cell_type": "code",
   "execution_count": 17,
   "metadata": {},
   "outputs": [
    {
     "name": "stdout",
     "output_type": "stream",
     "text": [
      "Part 1: 10404\n"
     ]
    }
   ],
   "source": [
    "def returnScore(s):\n",
    "    s = s.split(' ')\n",
    "    curScore = 0\n",
    "    if s[1] == 'X':\n",
    "        curScore += 1\n",
    "    if s[1] == 'Y':\n",
    "        curScore += 2\n",
    "    if s[1] == 'Z':\n",
    "        curScore += 3\n",
    "\n",
    "    if s[0] == 'A':\n",
    "        if s[1] == 'X':\n",
    "            curScore += 3\n",
    "        if s[1] == 'Y':\n",
    "            curScore += 6\n",
    "        if s[1] == 'Z':\n",
    "            curScore += 0\n",
    "    if s[0] == 'B':\n",
    "        if s[1] == 'X':\n",
    "            curScore += 0\n",
    "        if s[1] == 'Y':\n",
    "            curScore += 3\n",
    "        if s[1] == 'Z':\n",
    "            curScore += 6\n",
    "    if s[0] == 'C':\n",
    "        if s[1] == 'X':\n",
    "            curScore += 6\n",
    "        if s[1] == 'Y':\n",
    "            curScore += 0\n",
    "        if s[1] == 'Z':\n",
    "            curScore += 3\n",
    "\n",
    "    return curScore\n",
    "\n",
    "p1 = 0\n",
    "for i in inputs:\n",
    "    p1 += returnScore(i)\n",
    "# # inputs\n",
    "print(f'Part 1: {p1}')"
   ]
  },
  {
   "cell_type": "code",
   "execution_count": 26,
   "metadata": {},
   "outputs": [
    {
     "name": "stdout",
     "output_type": "stream",
     "text": [
      "Part 2: 10334\n"
     ]
    }
   ],
   "source": [
    "def returnScore2(s):\n",
    "    s = s.split(' ')\n",
    "\n",
    "    if s[0] == 'A':\n",
    "        if s[1] == 'Z':\n",
    "            # Rock, win -> Paper (2) + win (6)\n",
    "            curScore = 6 + 2\n",
    "        if s[1] == 'Y':\n",
    "            # Rock, draw -> Rock (1) + draw (3)\n",
    "            curScore = 3 + 1\n",
    "        if s[1] == 'X':\n",
    "            # Rock, lose -> Scissors (3) + lose (0)\n",
    "            curScore = 0 + 3\n",
    "    if s[0] == 'B':\n",
    "        if s[1] == 'Z':\n",
    "            # Pa, wi -> win (6) + Sc (3) \n",
    "            curScore = 6 + 3\n",
    "        if s[1] == 'Y':\n",
    "            # Pa, dr -> draw (3) + Pa (2) \n",
    "            curScore = 3 + 2\n",
    "        if s[1] == 'X':\n",
    "            # Pa, lo -> lose (0) + rock(1)\n",
    "            curScore = 0 + 1\n",
    "    if s[0] == 'C':\n",
    "        if s[1] == 'Z':\n",
    "            # Sc, wi\n",
    "            curScore = 6 + 1\n",
    "        if s[1] == 'Y':\n",
    "            # Sc, dr\n",
    "            curScore = 3 + 3\n",
    "        if s[1] == 'X':\n",
    "            # Sc, lo\n",
    "            curScore = 0 + 2\n",
    "\n",
    "    return curScore\n",
    "\n",
    "p2 = 0\n",
    "for i in inputs:\n",
    "    p2 += returnScore2(i)\n",
    "# # inputs\n",
    "print(f'Part 2: {p2}')\n",
    "# returnScore2('B X')"
   ]
  }
 ],
 "metadata": {
  "kernelspec": {
   "display_name": "Python 3.10.0 ('main')",
   "language": "python",
   "name": "python3"
  },
  "language_info": {
   "codemirror_mode": {
    "name": "ipython",
    "version": 3
   },
   "file_extension": ".py",
   "mimetype": "text/x-python",
   "name": "python",
   "nbconvert_exporter": "python",
   "pygments_lexer": "ipython3",
   "version": "3.10.0"
  },
  "orig_nbformat": 4,
  "vscode": {
   "interpreter": {
    "hash": "e6af94e5c5af6f455ad39eba9e20d9ee46a7c0c9ebf8b81ae3b0b6f1a6d45f70"
   }
  }
 },
 "nbformat": 4,
 "nbformat_minor": 2
}
