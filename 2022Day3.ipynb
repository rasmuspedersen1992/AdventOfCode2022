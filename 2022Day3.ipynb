{
 "cells": [
  {
   "cell_type": "code",
   "execution_count": 3,
   "metadata": {},
   "outputs": [
    {
     "name": "stdout",
     "output_type": "stream",
     "text": [
      "200\n"
     ]
    }
   ],
   "source": [
    "# Import packages\n",
    "import numpy as np\n",
    "curDay = 3\n",
    "\n",
    "# Download input file\n",
    "from download_inputs import download_inputs\n",
    "\n",
    "download_inputs(curDay)"
   ]
  },
  {
   "cell_type": "code",
   "execution_count": 74,
   "metadata": {},
   "outputs": [
    {
     "name": "stdout",
     "output_type": "stream",
     "text": [
      "Done loading input\n"
     ]
    }
   ],
   "source": [
    "# Load input into workspace\n",
    "filename = f'inputs\\\\day{curDay}.txt'\n",
    "# filename = f'inputs\\\\day{curDay}test.txt'\n",
    "# filename = f'inputs\\\\day{curDay}test2.txt'\n",
    "# curIn = np.loadtxt(filename)\n",
    "\n",
    "\n",
    "# filename= 'inputs\\\\asdf.txt'\n",
    "\n",
    "# Start by loading the data\n",
    "inputFile = open(filename)\n",
    "inputs = []\n",
    "inputs = [s for s in inputFile.read().splitlines()]\n",
    "\n",
    "print('Done loading input')"
   ]
  },
  {
   "cell_type": "code",
   "execution_count": 75,
   "metadata": {},
   "outputs": [
    {
     "name": "stdout",
     "output_type": "stream",
     "text": [
      "8252\n"
     ]
    }
   ],
   "source": [
    "s = inputs[0]\n",
    "# print(s)\n",
    "\n",
    "\n",
    "def findChar(s):\n",
    "        \n",
    "    cL = len(s)\n",
    "\n",
    "    c1 = s[:int(cL/2)]\n",
    "    c2 = s[int(cL/2):]\n",
    "\n",
    "    for x in c1:\n",
    "        if x in c2:\n",
    "            curChar = x \n",
    "    return curChar\n",
    "\n",
    "curRes = findChar(inputs[5])\n",
    "\n",
    "import string\n",
    "\n",
    "def getValue(c):\n",
    "    \n",
    "    # return np.where(np.char.find(c,list('abcdefghijklmnopqrstuvwxyzABCDEFGHIJKLMONPQRSTUVWXYZ'))==0)[0][0]\n",
    "    return np.where(np.char.find(c,list(string.ascii_lowercase+string.ascii_uppercase))==0)[0][0] + 1\n",
    "\n",
    "part1 = 0\n",
    "for s in inputs:\n",
    "    curChar = findChar(s)\n",
    "    thisSum = getValue(findChar(s))\n",
    "    part1 += thisSum \n",
    "print(part1)"
   ]
  },
  {
   "cell_type": "code",
   "execution_count": 76,
   "metadata": {},
   "outputs": [
    {
     "data": {
      "text/plain": [
       "2828"
      ]
     },
     "execution_count": 76,
     "metadata": {},
     "output_type": "execute_result"
    }
   ],
   "source": [
    "# Part 2 \n",
    "\n",
    "\n",
    "def getIntersect(cGr):\n",
    "    e1 = list(cGr[0])\n",
    "    e2 = list(cGr[1])\n",
    "    e3 = list(cGr[2])\n",
    "\n",
    "    return np.intersect1d(np.intersect1d(e1,e2),e3)[0]\n",
    "\n",
    "\n",
    "part2 = 0\n",
    "for i in range(int(len(inputs)/3)):\n",
    "    cGr = inputs[int(i*3):int(i*3)+3]\n",
    "    curChar = getIntersect(cGr)\n",
    "    curVal = getValue(curChar)\n",
    "\n",
    "    part2 += curVal \n",
    "\n",
    "part2"
   ]
  },
  {
   "cell_type": "code",
   "execution_count": null,
   "metadata": {},
   "outputs": [],
   "source": []
  }
 ],
 "metadata": {
  "kernelspec": {
   "display_name": "Python 3.10.0 ('main')",
   "language": "python",
   "name": "python3"
  },
  "language_info": {
   "codemirror_mode": {
    "name": "ipython",
    "version": 3
   },
   "file_extension": ".py",
   "mimetype": "text/x-python",
   "name": "python",
   "nbconvert_exporter": "python",
   "pygments_lexer": "ipython3",
   "version": "3.10.0"
  },
  "orig_nbformat": 4,
  "vscode": {
   "interpreter": {
    "hash": "e6af94e5c5af6f455ad39eba9e20d9ee46a7c0c9ebf8b81ae3b0b6f1a6d45f70"
   }
  }
 },
 "nbformat": 4,
 "nbformat_minor": 2
}
