{
 "cells": [
  {
   "cell_type": "code",
   "execution_count": 1,
   "metadata": {},
   "outputs": [
    {
     "name": "stdout",
     "output_type": "stream",
     "text": [
      "200\n"
     ]
    }
   ],
   "source": [
    "# Import packages\n",
    "import numpy as np\n",
    "curDay = 4\n",
    "\n",
    "# Download input file\n",
    "from download_inputs import download_inputs\n",
    "\n",
    "download_inputs(curDay)"
   ]
  },
  {
   "cell_type": "code",
   "execution_count": 23,
   "metadata": {},
   "outputs": [
    {
     "name": "stdout",
     "output_type": "stream",
     "text": [
      "Done loading input\n"
     ]
    }
   ],
   "source": [
    "# Load input into workspace\n",
    "filename = f'inputs\\\\day{curDay}.txt'\n",
    "# filename = f'inputs\\\\day{curDay}test.txt'\n",
    "# filename = f'inputs\\\\day{curDay}test2.txt'\n",
    "# curIn = np.loadtxt(filename)\n",
    "\n",
    "\n",
    "# filename= 'inputs\\\\asdf.txt'\n",
    "\n",
    "# Start by loading the data\n",
    "inputFile = open(filename)\n",
    "inputs = []\n",
    "inputs = [s for s in inputFile.read().splitlines()]\n",
    "\n",
    "print('Done loading input')"
   ]
  },
  {
   "cell_type": "code",
   "execution_count": 25,
   "metadata": {},
   "outputs": [
    {
     "data": {
      "text/plain": [
       "483"
      ]
     },
     "execution_count": 25,
     "metadata": {},
     "output_type": "execute_result"
    }
   ],
   "source": [
    "\n",
    "\n",
    "def getContained(s):\n",
    "    a1,a2 = s.split(',')\n",
    "    # print(a1,a2)\n",
    "    r1 = np.arange(\n",
    "        int(a1.split('-')[0]),\n",
    "        int(a1.split('-')[1])+1,1)\n",
    "    r2 = np.arange(\n",
    "        int(a2.split('-')[0]),\n",
    "        int(a2.split('-')[1])+1,1)\n",
    "    # print(r1,r2)\n",
    "    if np.all(np.isin(r2,r1)):\n",
    "        return True\n",
    "    if np.all(np.isin(r1,r2)):\n",
    "        return True\n",
    "    return False\n",
    "\n",
    "\n",
    "\n",
    "\n",
    "# getContained(inputs)\n",
    "p1 = 0\n",
    "for s in inputs:\n",
    "    p1 += getContained(s)\n",
    "\n",
    "p1"
   ]
  },
  {
   "cell_type": "code",
   "execution_count": 26,
   "metadata": {},
   "outputs": [
    {
     "data": {
      "text/plain": [
       "874"
      ]
     },
     "execution_count": 26,
     "metadata": {},
     "output_type": "execute_result"
    }
   ],
   "source": [
    "\n",
    "\n",
    "def getOverlap(s):\n",
    "    a1,a2 = s.split(',')\n",
    "    # print(a1,a2)\n",
    "    r1 = np.arange(\n",
    "        int(a1.split('-')[0]),\n",
    "        int(a1.split('-')[1])+1,1)\n",
    "    r2 = np.arange(\n",
    "        int(a2.split('-')[0]),\n",
    "        int(a2.split('-')[1])+1,1)\n",
    "    # print(r1,r2)\n",
    "    if np.any(np.isin(r2,r1)):\n",
    "        return True\n",
    "    if np.any(np.isin(r1,r2)):\n",
    "        return True\n",
    "    return False\n",
    "\n",
    "\n",
    "\n",
    "p2 = 0\n",
    "for s in inputs:\n",
    "    p2 += getOverlap(s)\n",
    "\n",
    "p2"
   ]
  }
 ],
 "metadata": {
  "kernelspec": {
   "display_name": "Python 3.10.0 ('main')",
   "language": "python",
   "name": "python3"
  },
  "language_info": {
   "codemirror_mode": {
    "name": "ipython",
    "version": 3
   },
   "file_extension": ".py",
   "mimetype": "text/x-python",
   "name": "python",
   "nbconvert_exporter": "python",
   "pygments_lexer": "ipython3",
   "version": "3.10.0"
  },
  "orig_nbformat": 4,
  "vscode": {
   "interpreter": {
    "hash": "e6af94e5c5af6f455ad39eba9e20d9ee46a7c0c9ebf8b81ae3b0b6f1a6d45f70"
   }
  }
 },
 "nbformat": 4,
 "nbformat_minor": 2
}
