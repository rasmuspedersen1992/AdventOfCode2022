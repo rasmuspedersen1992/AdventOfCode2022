{
 "cells": [
  {
   "cell_type": "code",
   "execution_count": 487,
   "metadata": {},
   "outputs": [
    {
     "name": "stdout",
     "output_type": "stream",
     "text": [
      "200\n"
     ]
    }
   ],
   "source": [
    "# Import packages\n",
    "import numpy as np\n",
    "curDay = 25\n",
    "\n",
    "# Download input file\n",
    "from download_inputs import download_inputs\n",
    "\n",
    "download_inputs(curDay)"
   ]
  },
  {
   "cell_type": "code",
   "execution_count": 488,
   "metadata": {},
   "outputs": [
    {
     "name": "stdout",
     "output_type": "stream",
     "text": [
      "Done loading input\n"
     ]
    }
   ],
   "source": [
    "# Load input into workspace\n",
    "filename = f'inputs\\\\day{curDay}.txt'\n",
    "# curIn = np.loadtxt(filename)\n",
    "\n",
    "inputFile = open(filename)\n",
    "inputs = []\n",
    "inputs = [s for s in inputFile.read().splitlines()]\n",
    "\n",
    "print('Done loading input')"
   ]
  },
  {
   "cell_type": "code",
   "execution_count": 489,
   "metadata": {},
   "outputs": [
    {
     "name": "stdout",
     "output_type": "stream",
     "text": [
      "Done loading test-input\n"
     ]
    }
   ],
   "source": [
    "# Load test-input into workspace\n",
    "filenameTest = f'inputs\\\\day{curDay}test.txt'\n",
    "\n",
    "inputFileTest = open(filenameTest)\n",
    "inputsTest = []\n",
    "inputsTest = [s for s in inputFileTest.read().splitlines()]\n",
    "\n",
    "print('Done loading test-input') "
   ]
  },
  {
   "cell_type": "code",
   "execution_count": 490,
   "metadata": {},
   "outputs": [],
   "source": [
    "curInput = inputsTest \n",
    "curInput = inputs"
   ]
  },
  {
   "cell_type": "code",
   "execution_count": 684,
   "metadata": {},
   "outputs": [],
   "source": [
    "def SnafuToDecimal(curSn):\n",
    "    # Make empty array \n",
    "    toAdd = np.zeros((len(curSn),))\n",
    "\n",
    "    for i in range(len(curSn)):\n",
    "        \n",
    "        curSym = curSn[i]\n",
    "        \n",
    "        if curSym == '0':\n",
    "            toAdd[i] = 0\n",
    "        elif curSym == '1':\n",
    "            toAdd[i] = 1\n",
    "        elif curSym == '2':\n",
    "            toAdd[i] = 2\n",
    "        elif curSym == '-':\n",
    "            toAdd[i] = -1\n",
    "        elif curSym == '=':\n",
    "            toAdd[i] = -2\n",
    "\n",
    "    deciMult = np.power(5,np.arange(len(curSn)-1,-1,-1),dtype='int64')\n",
    "    return np.sum(toAdd * deciMult,dtype='int64')\n",
    "    # deciMult = np.power(5,np.arange(len(curSn)-1,-1,-1))\n",
    "    # return np.sum(toAdd * deciMult)\n"
   ]
  },
  {
   "cell_type": "code",
   "execution_count": 686,
   "metadata": {},
   "outputs": [
    {
     "name": "stdout",
     "output_type": "stream",
     "text": [
      "Current sum: 31487399529835\n"
     ]
    }
   ],
   "source": [
    "curSum = 0\n",
    "for curL in curInput:\n",
    "    curSum += SnafuToDecimal(curL)\n",
    "    # print(SnafuToDecimal(curL))\n",
    "print('Current sum:',curSum)"
   ]
  },
  {
   "cell_type": "code",
   "execution_count": 688,
   "metadata": {},
   "outputs": [],
   "source": [
    "# decimalToSnafu(curSum)"
   ]
  },
  {
   "cell_type": "code",
   "execution_count": 694,
   "metadata": {},
   "outputs": [],
   "source": [
    "\n",
    "# deciMultFull = np.power(5,np.arange(13,-1,-1))\n",
    "# deciMultFull \n",
    "# deciMultFull = np.power(5,np.arange(20,-1,-1),dtype='int64')\n",
    "\n",
    "# deciMultFull "
   ]
  },
  {
   "cell_type": "code",
   "execution_count": 692,
   "metadata": {},
   "outputs": [],
   "source": [
    "# curSum - deciMultFull\n",
    "# 13426377694 - deciMultFull"
   ]
  },
  {
   "cell_type": "code",
   "execution_count": 656,
   "metadata": {},
   "outputs": [],
   "source": [
    "# decimalToSnafu(13426377694)\n",
    "# decimalToSnafu(7322862069)"
   ]
  },
  {
   "cell_type": "code",
   "execution_count": 693,
   "metadata": {},
   "outputs": [],
   "source": [
    "# # SnafuToDecimal('2211000-2==1-2=--')\n",
    "\n",
    "# deciMultFull = np.power(5,np.arange(25,-1,-1),dtype='int64')\n",
    "# deciMultFull"
   ]
  },
  {
   "cell_type": "code",
   "execution_count": 695,
   "metadata": {},
   "outputs": [
    {
     "name": "stdout",
     "output_type": "stream",
     "text": [
      "Part 2: 2=112--220-=-00=-=20\n"
     ]
    }
   ],
   "source": [
    "# curDe = 23\n",
    "# curDeciMult = deciMultFull[deciMultFull < curDe]\n",
    "\n",
    "def decimalToSnafu(curDe):\n",
    "    \n",
    "    # deciMultFull = np.power(5,np.arange(13,-1,-1))\n",
    "    deciMultFull = np.power(5,np.arange(25,-1,-1),dtype='int64')\n",
    "    maxIndexToUse = (curDe/deciMultFull > 0.5)\n",
    "    # for i in deciMultFull:\n",
    "    #     print(curDe/i)\n",
    "    # print(curDe/deciMultFull)\n",
    "    # print(maxIndexToUse)\n",
    "\n",
    "    curMult = deciMultFull[maxIndexToUse]\n",
    "    # curMult = deciMultFull \n",
    "\n",
    "    toReturn = ''\n",
    "    remi = curDe \n",
    "    for p in range(0,len(curMult)):\n",
    "        \n",
    "        # print(curMult)\n",
    "        toAdd = ''\n",
    "        # curNum = remi.astype('longlong')/curMult[p]\n",
    "        curNum = remi/curMult[p]\n",
    "        \n",
    "        # print(type(curNum))\n",
    "        # print('remi',remi,'curNum:',curNum)\n",
    "        # if (curNum == 0):\n",
    "        #     toAdd = '0'\n",
    "        if (curNum >= 0.5):\n",
    "\n",
    "            if (curNum >= 0.5):\n",
    "                toAdd = '1'\n",
    "                remi -= curMult[p]        \n",
    "            curNum = remi/curMult[p]\n",
    "            if (curNum  >= 0.5):\n",
    "                toAdd = '2'\n",
    "                remi -= curMult[p]\n",
    "        elif (curNum <= -0.5):      \n",
    "            \n",
    "            # curNum = remi/curMult[p]\n",
    "            if (curNum <= -0.5):\n",
    "                toAdd = '-'\n",
    "                remi += curMult[p]   \n",
    "            curNum = remi/curMult[p]\n",
    "            if (curNum <= -0.5):\n",
    "                toAdd = '='\n",
    "                remi += curMult[p]\n",
    "        else:\n",
    "            toAdd = '0'\n",
    "            # print('asfd')\n",
    "\n",
    "        # print('ToAdd:',toAdd)\n",
    "        toReturn += toAdd \n",
    "\n",
    "    return toReturn\n",
    "\n",
    "# # decimalToSnafu(5)\n",
    "# for i in range(0,50,5):\n",
    "#     print(f'{i}:',decimalToSnafu(i))\n",
    "# curDe = np.power(5,13).astype('longlong') \n",
    "# curDe = np.power(5,14)\n",
    "# type(curDe)\n",
    "p2 = decimalToSnafu(curSum)\n",
    "print('Part 2:',p2)"
   ]
  },
  {
   "cell_type": "code",
   "execution_count": 696,
   "metadata": {},
   "outputs": [],
   "source": [
    "# deciMultFull"
   ]
  },
  {
   "cell_type": "code",
   "execution_count": 643,
   "metadata": {},
   "outputs": [
    {
     "data": {
      "text/plain": [
       "1219346444"
      ]
     },
     "execution_count": 643,
     "metadata": {},
     "output_type": "execute_result"
    }
   ],
   "source": [
    "# '1' \n",
    "curSum - 30517578125 - 6103515625*2"
   ]
  },
  {
   "cell_type": "code",
   "execution_count": 646,
   "metadata": {},
   "outputs": [
    {
     "data": {
      "text/plain": [
       "'00000001000-2==1-2=--'"
      ]
     },
     "execution_count": 646,
     "metadata": {},
     "output_type": "execute_result"
    }
   ],
   "source": [
    "decimalToSnafu(13426377694)\n",
    "decimalToSnafu(1219346444)\n",
    "# np.log10(curSum)\n"
   ]
  },
  {
   "cell_type": "code",
   "execution_count": 628,
   "metadata": {},
   "outputs": [
    {
     "name": "stdout",
     "output_type": "stream",
     "text": [
      "43943955819\n",
      "[0 0 0 0 0 0 0 0 0 0 0 0 0 0 0 1 0 0 0 0 0]\n"
     ]
    },
    {
     "data": {
      "text/plain": [
       "3125"
      ]
     },
     "execution_count": 628,
     "metadata": {},
     "output_type": "execute_result"
    }
   ],
   "source": [
    "# decimalToSnafu(curSum)\n",
    "print(curSum)\n",
    "curVec = np.zeros(deciMultFull.shape,dtype='long')\n",
    "curVec[-6] = 1\n",
    "print(curVec)\n",
    "np.sum(curVec * deciMultFull)\n",
    "# ((30517578125) +  (6103515625*2))"
   ]
  },
  {
   "cell_type": "code",
   "execution_count": 177,
   "metadata": {},
   "outputs": [
    {
     "data": {
      "text/plain": [
       "13"
      ]
     },
     "execution_count": 177,
     "metadata": {},
     "output_type": "execute_result"
    }
   ],
   "source": [
    "SnafuToDecimal('1==')"
   ]
  },
  {
   "cell_type": "code",
   "execution_count": 213,
   "metadata": {},
   "outputs": [
    {
     "name": "stdout",
     "output_type": "stream",
     "text": [
      "[1220703125  244140625   48828125    9765625    1953125     390625\n",
      "      78125      15625       3125        625        125         25\n",
      "          5          1]\n",
      "12\n"
     ]
    },
    {
     "data": {
      "text/plain": [
       "array([ 0.096,  0.48 ,  2.4  , 12.   ])"
      ]
     },
     "execution_count": 213,
     "metadata": {},
     "output_type": "execute_result"
    }
   ],
   "source": [
    "# print(curInput[0])\n",
    "# print(SnafuToDecimal())\n",
    "# print(curInput[0])\n",
    "curDe = 1747 \n",
    "curDe = 13\n",
    "# Idea: Simply reversing?\n",
    "\n",
    "deciMultFull = np.power(5,np.arange(13,-1,-1))\n",
    "curDeciMult = deciMultFull[deciMultFull < curDe]\n",
    "\n",
    "# curDe / deciMultFull[-5:]\n",
    "\n",
    "# lastNeededFactor = np.where((curDe / deciMultFull) <= 2)[-1][-1]\n",
    "# deciMultFull[lastNeededFactor:]\n",
    "\n",
    "# curDeciMult\n",
    "# np.power(curDe,1/2)\n",
    "# deciMultFull = np.power(5,1/np.arange(15,-1,-1))\n",
    "# np.power(5,1/np.arange(5,0,-1))\n",
    "# print((deciMultFull/5).astype(int) )\n",
    "print(deciMultFull)\n",
    "curDe = 12\n",
    "print(curDe)\n",
    "curDe / deciMultFull[10:]"
   ]
  },
  {
   "cell_type": "code",
   "execution_count": 480,
   "metadata": {},
   "outputs": [
    {
     "data": {
      "text/plain": [
       "23"
      ]
     },
     "execution_count": 480,
     "metadata": {},
     "output_type": "execute_result"
    }
   ],
   "source": [
    "SnafuToDecimal('0100')\n",
    "SnafuToDecimal('10=')\n",
    "# SnafuToDecimal('100')"
   ]
  },
  {
   "cell_type": "code",
   "execution_count": 479,
   "metadata": {},
   "outputs": [
    {
     "name": "stdout",
     "output_type": "stream",
     "text": [
      "0: \n",
      "1: 1\n",
      "2: 2\n",
      "3: 1=\n",
      "4: 1-\n",
      "5: 10\n",
      "6: 11\n",
      "7: 12\n",
      "8: 2=\n",
      "9: 2-\n",
      "10: 20\n",
      "11: 21\n",
      "12: 22\n",
      "13: 1==\n",
      "14: 1=-\n",
      "15: 1=0\n",
      "16: 1=1\n",
      "17: 1=2\n",
      "18: 1-=\n",
      "19: 1--\n",
      "20: 1-0\n",
      "21: 1-1\n",
      "22: 1-2\n",
      "23: 10=\n",
      "24: 10-\n",
      "25: 100\n",
      "26: 101\n",
      "27: 102\n",
      "28: 11=\n",
      "29: 11-\n",
      "30: 110\n",
      "31: 111\n",
      "32: 112\n",
      "33: 12=\n",
      "34: 12-\n",
      "35: 120\n",
      "36: 121\n",
      "37: 122\n",
      "38: 2==\n",
      "39: 2=-\n",
      "40: 2=0\n",
      "41: 2=1\n",
      "42: 2=2\n",
      "43: 2-=\n",
      "44: 2--\n",
      "45: 2-0\n",
      "46: 2-1\n",
      "47: 2-2\n",
      "48: 20=\n",
      "49: 20-\n"
     ]
    }
   ],
   "source": []
  },
  {
   "cell_type": "code",
   "execution_count": 342,
   "metadata": {},
   "outputs": [
    {
     "name": "stdout",
     "output_type": "stream",
     "text": [
      "curDe 25\n",
      "[ 0  2 10 50]\n",
      "0 125\n",
      "curadd 0\n",
      "Curreturn:  0\n",
      "Remi: 25\n",
      "[ 2 10 50]\n",
      "2 25\n",
      "curadd 2\n",
      "Curreturn:  02\n",
      "Remi: -25\n",
      "[-10 -50]\n",
      "-10 5\n",
      "curadd =\n",
      "Curreturn:  02=\n",
      "Remi: -35\n",
      "[-70]\n",
      "-70 1\n",
      "curadd =\n",
      "Curreturn:  02==\n",
      "Remi: -37\n"
     ]
    },
    {
     "data": {
      "text/plain": [
       "'02=='"
      ]
     },
     "execution_count": 342,
     "metadata": {},
     "output_type": "execute_result"
    }
   ],
   "source": [
    "\n",
    "curDe = 25\n",
    "print('curDe',curDe)\n",
    "maxIndexToUse = (curDe/deciMultFull > 0.5)\n",
    "curMult = deciMultFull[maxIndexToUse]\n",
    "curDe/curMult\n",
    "numFactorsToUse = ((curDe/deciMultFull)/0.5).astype(int)\n",
    "# numFactorsToUse[numFactorsToUse > 0] \n",
    "numFactorsToUse\n",
    "toReturn = ''\n",
    "remi = curDe \n",
    "for p in range(10,len(deciMultFull)):\n",
    "    \n",
    "    numFactorsToUse = ((remi/deciMultFull)/0.5).astype(int)\n",
    "    print(numFactorsToUse[p:])\n",
    "    # if numFactorsToUse[p] > 0:\n",
    "    print(numFactorsToUse[p],deciMultFull[p])\n",
    "    curAdd = ''\n",
    "    if numFactorsToUse[p] == 0:\n",
    "        curAdd = '0'\n",
    "        # remi -= deciMultFull[p]\n",
    "    if numFactorsToUse[p] >= 1:\n",
    "        curAdd = '1'\n",
    "        remi -= deciMultFull[p]\n",
    "    if numFactorsToUse[p] >= 2:\n",
    "        curAdd = '2'\n",
    "        remi -= deciMultFull[p]\n",
    "        \n",
    "    if numFactorsToUse[p] <= -1:\n",
    "        curAdd = '-'\n",
    "        remi -= deciMultFull[p]\n",
    "    if numFactorsToUse[p] <= -2:\n",
    "        curAdd = '='\n",
    "        remi -= deciMultFull[p]\n",
    "\n",
    "    toReturn += curAdd \n",
    "    print('curadd',curAdd)\n",
    "    print('Curreturn: ',toReturn)\n",
    "    print('Remi:',remi)\n",
    "toReturn\n",
    "\n",
    "# remi = curDe \n",
    "# toReturn = ''\n",
    "# thisMult = curMult[0]\n",
    "# print(remi)\n",
    "# countToAdd = 0\n",
    "# while (remi/thisMult) > 1:\n",
    "#     countToAdd += 1\n",
    "#     remi -= thisMult \n",
    "# countToAdd\n",
    "# print(remi)\n"
   ]
  },
  {
   "cell_type": "code",
   "execution_count": 369,
   "metadata": {},
   "outputs": [
    {
     "data": {
      "text/plain": [
       "array([ 0,  0,  0,  0,  0,  0,  0,  0,  0,  0,  0,  1,  5, 26])"
      ]
     },
     "execution_count": 369,
     "metadata": {},
     "output_type": "execute_result"
    }
   ],
   "source": [
    "remi = 13 \n",
    "((remi/deciMultFull)/0.5).astype(int)\n",
    "# deciMultFull"
   ]
  },
  {
   "cell_type": "code",
   "execution_count": null,
   "metadata": {},
   "outputs": [],
   "source": []
  },
  {
   "cell_type": "code",
   "execution_count": 365,
   "metadata": {},
   "outputs": [
    {
     "data": {
      "text/plain": [
       "array([ 0,  0,  0,  0,  0,  0,  0,  0,  0,  0,  0,  0,  4, 24])"
      ]
     },
     "execution_count": 365,
     "metadata": {},
     "output_type": "execute_result"
    }
   ],
   "source": [
    "# remi = 24\n",
    "# (remi/deciMultFull).astype(int)\n",
    "# SnafuToDecimal('10-')"
   ]
  },
  {
   "cell_type": "code",
   "execution_count": 229,
   "metadata": {},
   "outputs": [
    {
     "data": {
      "text/plain": [
       "25"
      ]
     },
     "execution_count": 229,
     "metadata": {},
     "output_type": "execute_result"
    }
   ],
   "source": [
    "# deciMultFull[:-1] - 2 *deciMultFull[1:]\n",
    "# deciMultFull[:-1]*2 + deciMultFull[1:]*2\n",
    "# SnafuToDecimal('1==')\n",
    "SnafuToDecimal('100')"
   ]
  },
  {
   "cell_type": "code",
   "execution_count": null,
   "metadata": {},
   "outputs": [],
   "source": []
  },
  {
   "cell_type": "code",
   "execution_count": 40,
   "metadata": {},
   "outputs": [
    {
     "name": "stdout",
     "output_type": "stream",
     "text": [
      "20\n",
      "2\n",
      "0\n",
      "[2. 0.]\n"
     ]
    },
    {
     "data": {
      "text/plain": [
       "10.0"
      ]
     },
     "execution_count": 40,
     "metadata": {},
     "output_type": "execute_result"
    }
   ],
   "source": [
    "curSn = inputsTest[0]\n",
    "curSn = '20'\n",
    "\n",
    "print(curSn)\n",
    "toAdd = np.zeros((len(curSn),))\n",
    "toAdd\n",
    "\n",
    "\n",
    "for i in range(len(curSn)):\n",
    "    curSym = curSn[i]\n",
    "    print(curSym)\n",
    "    if curSym == '0':\n",
    "        toAdd[i] = 0\n",
    "    elif curSym == '1':\n",
    "        toAdd[i] = 1\n",
    "    elif curSym == '2':\n",
    "        toAdd[i] = 2\n",
    "    elif curSym == '-':\n",
    "        toAdd[i] = -1\n",
    "    elif curSym == '=':\n",
    "        toAdd[i] = -2\n",
    "\n",
    "print(toAdd)\n",
    "deciMult = np.power(5,np.arange(len(curSn)-1,-1,-1))\n",
    "np.sum(toAdd * deciMult)"
   ]
  },
  {
   "cell_type": "code",
   "execution_count": 38,
   "metadata": {},
   "outputs": [
    {
     "data": {
      "text/plain": [
       "array([5, 1], dtype=int32)"
      ]
     },
     "execution_count": 38,
     "metadata": {},
     "output_type": "execute_result"
    }
   ],
   "source": [
    "np.power(5,np.arange(len(curSn)-1,-1,-1))"
   ]
  }
 ],
 "metadata": {
  "kernelspec": {
   "display_name": "Python 3.10.0 ('main')",
   "language": "python",
   "name": "python3"
  },
  "language_info": {
   "codemirror_mode": {
    "name": "ipython",
    "version": 3
   },
   "file_extension": ".py",
   "mimetype": "text/x-python",
   "name": "python",
   "nbconvert_exporter": "python",
   "pygments_lexer": "ipython3",
   "version": "3.10.0"
  },
  "orig_nbformat": 4,
  "vscode": {
   "interpreter": {
    "hash": "e6af94e5c5af6f455ad39eba9e20d9ee46a7c0c9ebf8b81ae3b0b6f1a6d45f70"
   }
  }
 },
 "nbformat": 4,
 "nbformat_minor": 2
}
