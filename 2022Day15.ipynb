{
 "cells": [
  {
   "cell_type": "code",
   "execution_count": 1,
   "metadata": {},
   "outputs": [],
   "source": [
    "# Import packages\n",
    "import numpy as np\n",
    "curDay = 15\n",
    "\n",
    "# Download input file\n",
    "from download_inputs import download_inputs\n",
    "\n",
    "# download_inputs(curDay)"
   ]
  },
  {
   "cell_type": "code",
   "execution_count": 2,
   "metadata": {},
   "outputs": [
    {
     "name": "stdout",
     "output_type": "stream",
     "text": [
      "Done loading input\n"
     ]
    }
   ],
   "source": [
    "# Load input into workspace\n",
    "filename = f'inputs\\\\day{curDay}.txt'\n",
    "# curIn = np.loadtxt(filename)\n",
    "\n",
    "inputFile = open(filename)\n",
    "inputs = []\n",
    "inputs = [s for s in inputFile.read().splitlines()]\n",
    "\n",
    "print('Done loading input')"
   ]
  },
  {
   "cell_type": "code",
   "execution_count": 3,
   "metadata": {},
   "outputs": [
    {
     "name": "stdout",
     "output_type": "stream",
     "text": [
      "Done loading test-input\n"
     ]
    }
   ],
   "source": [
    "# Load test-input into workspace\n",
    "filenameTest = f'inputs\\\\day{curDay}test.txt'\n",
    "\n",
    "inputFileTest = open(filenameTest)\n",
    "inputsTest = []\n",
    "inputsTest = [s for s in inputFileTest.read().splitlines()]\n",
    "\n",
    "print('Done loading test-input') "
   ]
  },
  {
   "cell_type": "code",
   "execution_count": 9,
   "metadata": {},
   "outputs": [
    {
     "data": {
      "text/plain": [
       "['Sensor at x=2, y=18: closest beacon is at x=-2, y=15',\n",
       " 'Sensor at x=9, y=16: closest beacon is at x=10, y=16',\n",
       " 'Sensor at x=13, y=2: closest beacon is at x=15, y=3',\n",
       " 'Sensor at x=12, y=14: closest beacon is at x=10, y=16',\n",
       " 'Sensor at x=10, y=20: closest beacon is at x=10, y=16',\n",
       " 'Sensor at x=14, y=17: closest beacon is at x=10, y=16',\n",
       " 'Sensor at x=8, y=7: closest beacon is at x=2, y=10',\n",
       " 'Sensor at x=2, y=0: closest beacon is at x=2, y=10',\n",
       " 'Sensor at x=0, y=11: closest beacon is at x=2, y=10',\n",
       " 'Sensor at x=20, y=14: closest beacon is at x=25, y=17',\n",
       " 'Sensor at x=17, y=20: closest beacon is at x=21, y=22',\n",
       " 'Sensor at x=16, y=7: closest beacon is at x=15, y=3',\n",
       " 'Sensor at x=14, y=3: closest beacon is at x=15, y=3',\n",
       " 'Sensor at x=20, y=1: closest beacon is at x=15, y=3']"
      ]
     },
     "execution_count": 9,
     "metadata": {},
     "output_type": "execute_result"
    }
   ],
   "source": [
    "inputsTest\n",
    "# inputs"
   ]
  },
  {
   "cell_type": "code",
   "execution_count": null,
   "metadata": {},
   "outputs": [],
   "source": []
  }
 ],
 "metadata": {
  "kernelspec": {
   "display_name": "Python 3.10.0 ('main')",
   "language": "python",
   "name": "python3"
  },
  "language_info": {
   "codemirror_mode": {
    "name": "ipython",
    "version": 3
   },
   "file_extension": ".py",
   "mimetype": "text/x-python",
   "name": "python",
   "nbconvert_exporter": "python",
   "pygments_lexer": "ipython3",
   "version": "3.10.0"
  },
  "orig_nbformat": 4,
  "vscode": {
   "interpreter": {
    "hash": "e6af94e5c5af6f455ad39eba9e20d9ee46a7c0c9ebf8b81ae3b0b6f1a6d45f70"
   }
  }
 },
 "nbformat": 4,
 "nbformat_minor": 2
}
