{
 "cells": [
  {
   "cell_type": "code",
   "execution_count": 152,
   "metadata": {},
   "outputs": [],
   "source": [
    "# Import packages\n",
    "import numpy as np\n",
    "curDay = 11\n",
    "\n",
    "# Download input file\n",
    "from download_inputs import download_inputs\n",
    "\n",
    "# download_inputs(curDay)"
   ]
  },
  {
   "cell_type": "code",
   "execution_count": 153,
   "metadata": {},
   "outputs": [
    {
     "name": "stdout",
     "output_type": "stream",
     "text": [
      "Done loading input\n"
     ]
    }
   ],
   "source": [
    "# Load input into workspace\n",
    "filename = f'inputs\\\\day{curDay}.txt'\n",
    "# curIn = np.loadtxt(filename)\n",
    "\n",
    "inputFile = open(filename)\n",
    "inputs = []\n",
    "inputs = [s for s in inputFile.read().splitlines()]\n",
    "\n",
    "print('Done loading input')"
   ]
  },
  {
   "cell_type": "code",
   "execution_count": 154,
   "metadata": {},
   "outputs": [
    {
     "name": "stdout",
     "output_type": "stream",
     "text": [
      "Done loading test-input\n"
     ]
    }
   ],
   "source": [
    "# Load test-input into workspace\n",
    "filenameTest = f'inputs\\\\day{curDay}test.txt'\n",
    "\n",
    "inputFileTest = open(filenameTest)\n",
    "inputsTest = []\n",
    "inputsTest = [s for s in inputFileTest.read().splitlines()]\n",
    "\n",
    "print('Done loading test-input') "
   ]
  },
  {
   "cell_type": "code",
   "execution_count": 184,
   "metadata": {},
   "outputs": [],
   "source": [
    "curInput = inputs\n",
    "# curInput = inputsTest"
   ]
  },
  {
   "cell_type": "code",
   "execution_count": 185,
   "metadata": {},
   "outputs": [],
   "source": [
    "class Monkey:\n",
    "    def __init__(self,MonkeyNum,items,op,test,ifTrue,ifFalse):\n",
    "        self.MonkeyNum = -1\n",
    "        self.items = items\n",
    "        self.op = op\n",
    "        self.test = test\n",
    "        self.ifTrue = ifTrue\n",
    "        self.ifFalse = ifFalse \n",
    "        self.inspCount = 0\n",
    "\n",
    "    def getItems(self):\n",
    "        for i in range(len(self.items)):\n",
    "            print(self.items[i],end=',')\n",
    "    def evalFunc(self,old):\n",
    "        return eval(self.op)\n",
    "\n",
    "# testMonkey = Monkey([3,6],'','','','')\n",
    "# testMonkey.getItems()\n",
    "\n",
    "allMonkeys = []\n",
    "for curI in curInput:\n",
    "    # print(curI)\n",
    "    # print(curI.split('Monkey '))\n",
    "    if (curI[0:2] == 'Mo'):\n",
    "        # print(curI.split('Monkey ')[1][:-1])\n",
    "        newMonkey = Monkey(int(curI.split('Monkey ')[1][:-1]),[],'','','','')\n",
    "        # curMonkeyInputs = [int(curI.split('Monkey ')[1][:-1])]\n",
    "    if (curI[0:5] == '  Sta'):\n",
    "        curItems = []\n",
    "        thisIn = curI.split('  Starting items: ')[1]\n",
    "        for newIt in thisIn.split(', '):\n",
    "            \n",
    "            curItems = np.append(curItems,int(newIt))\n",
    "        # print(curItems)\n",
    "        newMonkey.items = curItems \n",
    "        # newMonkey.getItems()\n",
    "    if (curI[0:5] == '  Ope'):\n",
    "        # print(curI.split('  Operation: new = ')[1])\n",
    "        curFuncStr = curI.split('  Operation: new = ')[1]\n",
    "        # def newFunc(old):\n",
    "        #     return eval(curFuncStr)\n",
    "        # newMonkey.op = newFunc \n",
    "        # newMonkey.op = lambda old: eval(curFuncStr)\n",
    "        newMonkey.op = curFuncStr\n",
    "        # print(newMonkey.op(2))\n",
    "    if (curI[0:5] == '  Tes'):\n",
    "        curDivNum = int(curI.split('  Test: divisible by ')[1])\n",
    "        newMonkey.test = curDivNum\n",
    "    if (curI[0:8] == '    If t'):\n",
    "        newMonkey.ifTrue = int(curI.split('    If true: throw to monkey ')[1])\n",
    "    if (curI[0:8] == '    If f'):\n",
    "        newMonkey.ifFalse = int(curI.split('    If false: throw to monkey ')[1])\n",
    "    if (curI == ''):\n",
    "        allMonkeys = np.append(allMonkeys,newMonkey)\n",
    "\n",
    "allMonkeys = np.append(allMonkeys,newMonkey)        \n",
    "\n",
    "\n"
   ]
  },
  {
   "cell_type": "code",
   "execution_count": 186,
   "metadata": {},
   "outputs": [
    {
     "name": "stdout",
     "output_type": "stream",
     "text": [
      "[57.]\n",
      "[58. 93. 88. 81. 72. 73. 65.]\n",
      "[65. 95.]\n",
      "[58. 80. 81. 83.]\n",
      "[58. 89. 90. 96. 55.]\n",
      "[66. 73. 87. 58. 62. 67.]\n",
      "[85. 55. 89.]\n",
      "[73. 80. 54. 94. 90. 52. 69. 58.]\n"
     ]
    }
   ],
   "source": [
    "# iniMonkeys = allMonkeys.copy()\n",
    "import copy \n",
    "iniMonkeys = copy.deepcopy(allMonkeys)\n",
    "for mon in iniMonkeys:\n",
    "    curItems = mon.items\n",
    "    print(curItems)"
   ]
  },
  {
   "cell_type": "code",
   "execution_count": 187,
   "metadata": {},
   "outputs": [],
   "source": [
    "def runRound(curAllMonkeys):\n",
    "    for iM,mon in enumerate(curAllMonkeys):\n",
    "        curItems = mon.items\n",
    "        # print(curItems)\n",
    "        for it in curItems:\n",
    "            # print('Insp items ',it)\n",
    "            # print('New Worry: ',mon.evalFunc(it))\n",
    "            # print('New Worry post div: ',np.floor(mon.evalFunc(it)/3))\n",
    "            curItemVal = np.floor(mon.evalFunc(it)/3) \n",
    "\n",
    "            curCheck = (curItemVal % mon.test) == 0\n",
    "            # print('Check: ',curCheck)\n",
    "            if curCheck:\n",
    "                toThrowTo = mon.ifTrue\n",
    "            else:\n",
    "                toThrowTo = mon.ifFalse \n",
    "            # print('Throw to: ',toThrowTo)\n",
    "            curAllMonkeys[toThrowTo].items = np.append(curAllMonkeys[toThrowTo].items,curItemVal)\n",
    "            # Increase inspection count\n",
    "            curAllMonkeys[iM].inspCount += 1\n",
    "        # Empty items\n",
    "        curAllMonkeys[iM].items = []\n",
    "        # print('')\n",
    "    return curAllMonkeys"
   ]
  },
  {
   "cell_type": "code",
   "execution_count": 202,
   "metadata": {},
   "outputs": [],
   "source": [
    "# Copy the original input\n",
    "allMonkeys = copy.deepcopy(iniMonkeys)\n",
    "# Go through 20 round\n",
    "for roundNum in range(20):\n",
    "    # Apply the round\n",
    "    allMonkeys = runRound(allMonkeys)\n",
    "\n",
    "    # print('After round ', roundNum+1)\n",
    "    # for mon in allMonkeys:\n",
    "    #     curItems = mon.items\n",
    "    #     print(curItems)"
   ]
  },
  {
   "cell_type": "code",
   "execution_count": 203,
   "metadata": {},
   "outputs": [
    {
     "name": "stdout",
     "output_type": "stream",
     "text": [
      "121450\n"
     ]
    }
   ],
   "source": [
    "# Check inspection-counts\n",
    "allInsp = np.array([])\n",
    "for mon in allMonkeys:\n",
    "    allInsp = np.append(allInsp,mon.inspCount)\n",
    "# Sort the list\n",
    "allInsp.sort()\n",
    "# And take the product of the last two items    \n",
    "p1 = allInsp[-2] * allInsp[-1]\n",
    "print(int(p1))"
   ]
  },
  {
   "cell_type": "markdown",
   "metadata": {},
   "source": [
    "# Part 2"
   ]
  },
  {
   "cell_type": "code",
   "execution_count": 199,
   "metadata": {},
   "outputs": [
    {
     "name": "stdout",
     "output_type": "stream",
     "text": [
      "9699690\n"
     ]
    }
   ],
   "source": [
    "# Get greatest common divisor of all tests\n",
    "comDiv = 1\n",
    "for mon in allMonkeys:\n",
    "    comDiv = comDiv * mon.test\n",
    "print(comDiv)\n"
   ]
  },
  {
   "cell_type": "code",
   "execution_count": 195,
   "metadata": {},
   "outputs": [],
   "source": [
    "def runRound2(curAllMonkeys):\n",
    "    for iM,mon in enumerate(curAllMonkeys):\n",
    "        curItems = mon.items\n",
    "        # print(curItems)\n",
    "        for it in curItems:\n",
    "            # curItemVal = np.floor(mon.evalFunc(it)/3) \n",
    "            # Instead of dividing by three and rounding down, the full number is now sent on\n",
    "            curItemVal = mon.evalFunc(it)\n",
    "            \n",
    "            # Get the modulo of the common divisor, to avoid value blowing up\n",
    "            curItemVal = (curItemVal % comDiv) \n",
    "\n",
    "            curCheck = (curItemVal % mon.test) == 0\n",
    "            # print('Check: ',curCheck)\n",
    "            if curCheck:\n",
    "                toThrowTo = mon.ifTrue\n",
    "            else:\n",
    "                toThrowTo = mon.ifFalse             \n",
    "\n",
    "            # Throw item to the correct monkey\n",
    "            curAllMonkeys[toThrowTo].items = np.append(curAllMonkeys[toThrowTo].items,curItemVal)\n",
    "            # Increase inspection count\n",
    "            curAllMonkeys[iM].inspCount += 1\n",
    "        # Empty items\n",
    "        curAllMonkeys[iM].items = []\n",
    "    return curAllMonkeys"
   ]
  },
  {
   "cell_type": "code",
   "execution_count": 196,
   "metadata": {},
   "outputs": [
    {
     "name": "stdout",
     "output_type": "stream",
     "text": [
      "== After round  10000 ==\n",
      "Monkey 0 inpsected items 165766 times.\n",
      "Monkey 1 inpsected items 161105 times.\n",
      "Monkey 2 inpsected items 159985 times.\n",
      "Monkey 3 inpsected items 9209 times.\n",
      "Monkey 4 inpsected items 18375 times.\n",
      "Monkey 5 inpsected items 166922 times.\n",
      "Monkey 6 inpsected items 13590 times.\n",
      "Monkey 7 inpsected items 169205 times.\n",
      "28244037010\n"
     ]
    }
   ],
   "source": [
    "# Copy the monkeys from the initial inputs\n",
    "allMonkeys = copy.deepcopy(iniMonkeys)\n",
    "\n",
    "# Run 10000 round-2's \n",
    "for roundNum in range(10000):\n",
    "    # Run the rounds\n",
    "    allMonkeys = runRound2(allMonkeys)\n",
    "    # If we are in round 10000\n",
    "    if (roundNum == ( 10000 - 1)):\n",
    "        print('== After round ',roundNum+1,'==')\n",
    "        allInsp = np.array([])\n",
    "        for iM,mon in enumerate(allMonkeys):\n",
    "            print(f'Monkey {iM} inpsected items {mon.inspCount} times.')\n",
    "            allInsp = np.append(allInsp,mon.inspCount)\n",
    "        # Sort inspection counts\n",
    "        allInsp.sort()\n",
    "        # Calculate the answer\n",
    "        p2 = allInsp[-2] * allInsp[-1]\n",
    "print(int(p2))"
   ]
  },
  {
   "cell_type": "code",
   "execution_count": null,
   "metadata": {},
   "outputs": [],
   "source": []
  }
 ],
 "metadata": {
  "kernelspec": {
   "display_name": "Python 3.10.0 ('main')",
   "language": "python",
   "name": "python3"
  },
  "language_info": {
   "codemirror_mode": {
    "name": "ipython",
    "version": 3
   },
   "file_extension": ".py",
   "mimetype": "text/x-python",
   "name": "python",
   "nbconvert_exporter": "python",
   "pygments_lexer": "ipython3",
   "version": "3.10.0"
  },
  "orig_nbformat": 4,
  "vscode": {
   "interpreter": {
    "hash": "e6af94e5c5af6f455ad39eba9e20d9ee46a7c0c9ebf8b81ae3b0b6f1a6d45f70"
   }
  }
 },
 "nbformat": 4,
 "nbformat_minor": 2
}
