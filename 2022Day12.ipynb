{
 "cells": [
  {
   "cell_type": "code",
   "execution_count": 4,
   "metadata": {},
   "outputs": [
    {
     "name": "stdout",
     "output_type": "stream",
     "text": [
      "200\n"
     ]
    }
   ],
   "source": [
    "# Import packages\n",
    "import numpy as np\n",
    "curDay = 12\n",
    "\n",
    "# Download input file\n",
    "from download_inputs import download_inputs\n",
    "\n",
    "download_inputs(curDay)"
   ]
  },
  {
   "cell_type": "code",
   "execution_count": 5,
   "metadata": {},
   "outputs": [
    {
     "name": "stdout",
     "output_type": "stream",
     "text": [
      "Done loading input\n"
     ]
    }
   ],
   "source": [
    "# Load input into workspace\n",
    "filename = f'inputs\\\\day{curDay}.txt'\n",
    "# curIn = np.loadtxt(filename)\n",
    "\n",
    "inputFile = open(filename)\n",
    "inputs = []\n",
    "inputs = [s for s in inputFile.read().splitlines()]\n",
    "\n",
    "print('Done loading input')"
   ]
  },
  {
   "cell_type": "code",
   "execution_count": 11,
   "metadata": {},
   "outputs": [
    {
     "name": "stdout",
     "output_type": "stream",
     "text": [
      "Done loading test-input\n"
     ]
    }
   ],
   "source": [
    "# Load test-input into workspace\n",
    "filenameTest = f'inputs\\\\day{curDay}test.txt'\n",
    "\n",
    "inputFileTest = open(filenameTest)\n",
    "inputsTest = []\n",
    "inputsTest = [s for s in inputFileTest.read().splitlines()]\n",
    "\n",
    "print('Done loading test-input') "
   ]
  },
  {
   "cell_type": "code",
   "execution_count": 534,
   "metadata": {},
   "outputs": [],
   "source": [
    "curInput = inputs\n",
    "# curInput = inputsTest"
   ]
  },
  {
   "cell_type": "code",
   "execution_count": 535,
   "metadata": {},
   "outputs": [],
   "source": [
    "curInput\n",
    "# Start by finding S\n",
    "# for curI in curInput:\n",
    "wi = len(curInput[0])\n",
    "he = len(curInput)\n",
    "for x in range(wi):\n",
    "    for y in range(he):\n",
    "        curVal = curInput[y][x]\n",
    "\n",
    "        if (curVal == 'S'):\n",
    "            startPos = np.array([x,y])\n",
    "        if (curVal == 'E'):\n",
    "            EndPos = np.array([x,y])"
   ]
  },
  {
   "cell_type": "code",
   "execution_count": 536,
   "metadata": {},
   "outputs": [],
   "source": [
    "# For testing\n",
    "# startPos = np.array([100,6])"
   ]
  },
  {
   "cell_type": "code",
   "execution_count": 537,
   "metadata": {},
   "outputs": [],
   "source": [
    "def getHeight(x,y):\n",
    "    thisHeight = curInput[y][x]\n",
    "    # print(thisHeight)\n",
    "\n",
    "    if (thisHeight == 'S'):\n",
    "        return ord('a')-1\n",
    "    if (thisHeight == 'E'):\n",
    "        return ord('z')\n",
    "    else:\n",
    "        return ord(thisHeight)\n",
    "\n",
    "def getNeighbors(x,y):\n",
    "    allNei = list()\n",
    "    if x > 0:\n",
    "        allNei.append([x-1,y])\n",
    "    if x < wi-1:\n",
    "        allNei.append([x+1,y])\n",
    "    if y > 0:\n",
    "        allNei.append([x,y-1])\n",
    "    if y < he-1:\n",
    "        allNei.append([x,y+1])\n",
    "    allNei = np.stack(allNei,axis=0)\n",
    "    return allNei\n",
    "\n",
    "def getAllowedNei(x,y):\n",
    "    thisHeight = getHeight(x,y)\n",
    "    # print(thisHeight)\n",
    "    curNei = getNeighbors(x,y)\n",
    "    allNei = list()\n",
    "    for nei in curNei:\n",
    "        neiHei = getHeight(nei[0],nei[1])\n",
    "        # print(neiHei)\n",
    "        if neiHei <= thisHeight + 1:\n",
    "            allNei.append(nei)\n",
    "    return np.stack(allNei,axis=0)\n",
    "\n",
    "# getAllowedNei(wi-1,0)\n",
    "# getNeighbors(wi-1,0)\n",
    "# getHeight(3,4)\n"
   ]
  },
  {
   "cell_type": "code",
   "execution_count": 538,
   "metadata": {},
   "outputs": [
    {
     "name": "stdout",
     "output_type": "stream",
     "text": [
      "asdf\n"
     ]
    }
   ],
   "source": [
    "curFront = list()\n",
    "curFront.append(startPos)\n",
    "curFront\n",
    "\n",
    "haveReached = list()\n",
    "haveReached.append(startPos)\n",
    "\n",
    "cameFrom = dict() \n",
    "# cameFrom[startPos] = None\n",
    "cameFrom[startPos[0],startPos[1]] = None\n",
    "\n",
    "# print(haveReached) \n",
    "# \n",
    "# for k in range(10):\n",
    "while (len(curFront) > 0):\n",
    "\n",
    "    curPos = curFront.pop(0)\n",
    "    \n",
    "    # # print(curPos)\n",
    "    if curInput[curPos[1]][curPos[0]] == 'E':\n",
    "    # if curInput[curPos[1]][curPos[0]] == 'E':\n",
    "        print('asdf')\n",
    "        break\n",
    "\n",
    "    curHeight = getHeight(curPos[0],curPos[1])\n",
    "    # print(curPos)\n",
    "    curNei = getNeighbors(curPos[0],curPos[1])\n",
    "    # print(curNei)\n",
    "    \n",
    "    for nei in curNei:\n",
    "        foundInFront = False\n",
    "        # print('-')\n",
    "        # print(nei)\n",
    "        # print('haveReached: ',haveReached)\n",
    "        # print(haveReached == nei)\n",
    "        # print((haveReached == nei).all(axis=1).any())\n",
    "        if ((haveReached == nei).all(axis=1).any()):\n",
    "            foundInFront = True\n",
    "\n",
    "        neiHeight= getHeight(nei[0],nei[1])\n",
    "        # print(neiHeight)\n",
    "        # print(foundInFront)\n",
    "        # print(curHeight)\n",
    "        if (foundInFront == False) :\n",
    "            # if np.abs(neiHeight - curHeight) <= 1:\n",
    "            \n",
    "            if neiHeight <= (curHeight +1):\n",
    "                curFront.append(nei)\n",
    "                haveReached.append(nei)\n",
    "\n",
    "                cameFrom[nei[0],nei[1]] = curPos\n",
    "            # if neiHeight > curHeight:\n",
    "            #     curFront.append(nei)\n",
    "            #     haveReached.append(nei)\n",
    "\n",
    "            #     cameFrom[nei[0],nei[1]] = curPos"
   ]
  },
  {
   "cell_type": "code",
   "execution_count": 539,
   "metadata": {},
   "outputs": [
    {
     "data": {
      "text/plain": [
       "472"
      ]
     },
     "execution_count": 539,
     "metadata": {},
     "output_type": "execute_result"
    }
   ],
   "source": [
    "cameFrom[(EndPos[0],EndPos[1])]\n",
    "\n",
    "numSteps = 0\n",
    "curStep = EndPos.copy()\n",
    "for k in range(1000):\n",
    "    prevStep = cameFrom[(curStep[0],curStep[1])]\n",
    "    # print(prevStep)\n",
    "    curStep = prevStep\n",
    "    numSteps += 1\n",
    "    # print(len(curStep))\n",
    "    if curStep is None:\n",
    "        break \n",
    "# numSteps -= 1\n",
    "p1 = numSteps - 1\n",
    "p1"
   ]
  },
  {
   "cell_type": "code",
   "execution_count": 540,
   "metadata": {},
   "outputs": [],
   "source": [
    "# cameFrom[(EndPos[0],EndPos[1])]\n",
    "cameBackup = cameFrom.copy()"
   ]
  },
  {
   "cell_type": "markdown",
   "metadata": {},
   "source": [
    "# Part 2"
   ]
  },
  {
   "cell_type": "code",
   "execution_count": 549,
   "metadata": {},
   "outputs": [],
   "source": [
    "def getCameFromList(startPos):\n",
    "    curFront = list()\n",
    "    curFront.append(startPos)\n",
    "    curFront\n",
    "\n",
    "    haveReached = list()\n",
    "    haveReached.append(startPos)\n",
    "\n",
    "    cameFrom = dict() \n",
    "    # cameFrom[startPos] = None\n",
    "    cameFrom[startPos[0],startPos[1]] = None\n",
    "\n",
    "    # print(haveReached) \n",
    "    # \n",
    "    # for k in range(10):\n",
    "    while (len(curFront) > 0):\n",
    "\n",
    "        curPos = curFront.pop(0)\n",
    "        \n",
    "        # # print(curPos)\n",
    "        if curInput[curPos[1]][curPos[0]] == 'E':\n",
    "        # if curInput[curPos[1]][curPos[0]] == 'E':\n",
    "            # print('asdf')\n",
    "            break\n",
    "\n",
    "        curHeight = getHeight(curPos[0],curPos[1])\n",
    "        # print(curPos)\n",
    "        curNei = getNeighbors(curPos[0],curPos[1])\n",
    "        # print(curNei)\n",
    "        \n",
    "        for nei in curNei:\n",
    "            foundInFront = False\n",
    "            \n",
    "            if ((haveReached == nei).all(axis=1).any()):\n",
    "                foundInFront = True\n",
    "\n",
    "            neiHeight= getHeight(nei[0],nei[1])\n",
    "            # print(neiHeight)\n",
    "            # print(foundInFront)\n",
    "            # print(curHeight)\n",
    "            if (foundInFront == False) :\n",
    "                # if np.abs(neiHeight - curHeight) <= 1:\n",
    "                \n",
    "                if neiHeight <= (curHeight +1):\n",
    "                    curFront.append(nei)\n",
    "                    haveReached.append(nei)\n",
    "\n",
    "                    cameFrom[nei[0],nei[1]] = curPos\n",
    "    return cameFrom\n",
    "# newCameFrom = getCameFromList(startPos)\n",
    "\n",
    "# newCameFrom ="
   ]
  },
  {
   "cell_type": "code",
   "execution_count": 542,
   "metadata": {},
   "outputs": [],
   "source": [
    "\n",
    "# testStart = np.array([150,20])\n",
    "# testStart = np.array([153,0])\n",
    "# startPos\n",
    "# testStart\n",
    "# testCameFrom = getCameFromList(testStart)"
   ]
  },
  {
   "cell_type": "code",
   "execution_count": 543,
   "metadata": {},
   "outputs": [],
   "source": [
    "def calcDistance(cameFrom):\n",
    "\n",
    "    \n",
    "    endFound = False\n",
    "    for k in cameFrom.keys():\n",
    "        # print(k == (EndPos[0],EndPos[1]))\n",
    "        if (k == (EndPos[0],EndPos[1])):\n",
    "            endFound = True \n",
    "    if endFound == False:\n",
    "        return 1000 \n",
    "    else: \n",
    "        numSteps = 0\n",
    "        curStep = EndPos.copy()\n",
    "        for k in range(1000):\n",
    "            prevStep = cameFrom[(curStep[0],curStep[1])]\n",
    "            # print(prevStep)\n",
    "            curStep = prevStep\n",
    "            numSteps += 1\n",
    "            # print(len(curStep))\n",
    "            if curStep is None:\n",
    "                break \n",
    "            \n",
    "        return numSteps -1 \n",
    "\n",
    "# calcDistance(cameBackup)\n",
    "# calcDistance(newCameFrom)\n",
    "# calcDistance(testCameFrom)"
   ]
  },
  {
   "cell_type": "code",
   "execution_count": 530,
   "metadata": {},
   "outputs": [],
   "source": [
    "# curInput[0][153]\n",
    "# # testCameFrom[EndPos[0],EndPos[1]]\n",
    "# endFound = False\n",
    "# for k in testCameFrom.keys():\n",
    "#     print(k == (EndPos[0],EndPos[1]))\n",
    "#     if (k == (EndPos[0],EndPos[1])):\n",
    "#         endFound = True \n",
    "# if endFound == False:\n",
    "#     return 1000\n"
   ]
  },
  {
   "cell_type": "code",
   "execution_count": 544,
   "metadata": {},
   "outputs": [
    {
     "name": "stdout",
     "output_type": "stream",
     "text": [
      "asdf\n"
     ]
    }
   ],
   "source": [
    "\n",
    "curCameFrom = getCameFromList(np.array([0,1]))\n",
    "# print(curCameFrom)\n",
    "curDist = calcDistance(curCameFrom)"
   ]
  },
  {
   "cell_type": "code",
   "execution_count": 547,
   "metadata": {},
   "outputs": [
    {
     "data": {
      "text/plain": [
       "array([ 0, 20])"
      ]
     },
     "execution_count": 547,
     "metadata": {},
     "output_type": "execute_result"
    }
   ],
   "source": [
    "curDist\n",
    "startPos"
   ]
  },
  {
   "cell_type": "code",
   "execution_count": 564,
   "metadata": {},
   "outputs": [
    {
     "name": "stdout",
     "output_type": "stream",
     "text": [
      "Shortest distance so far: 468\n",
      "Shortest distance so far: 467\n",
      "Shortest distance so far: 466\n",
      "Shortest distance so far: 465\n"
     ]
    }
   ],
   "source": [
    "curMin = 1001\n",
    "numA = 0\n",
    "# for x in range(wi):\n",
    "# for x in range(wi-1,0,-1):\n",
    "for x in range(0,3,1):\n",
    "    # Since we shouldn't start in the far left\n",
    "    # if x > 70:\n",
    "    # for y in range(he):\n",
    "    for y in range(24,he):\n",
    "        if curInput[y][x] == 'a':\n",
    "            numA += 1\n",
    "            # print(x,y)\n",
    "            curCameFrom = getCameFromList(np.array([x,y]))\n",
    "            # print(curCameFrom)\n",
    "            curDist = calcDistance(curCameFrom)\n",
    "\n",
    "            # print(curDist)\n",
    "            if curDist < curMin:\n",
    "                curMin = curDist\n",
    "                print('Shortest distance so far:' ,curDist)\n",
    "# numA "
   ]
  },
  {
   "cell_type": "markdown",
   "metadata": {},
   "source": [
    "# Old below"
   ]
  },
  {
   "cell_type": "code",
   "execution_count": 551,
   "metadata": {},
   "outputs": [],
   "source": [
    "# def getDistanceToEnd(startPos):\n",
    "#     curFront = list()\n",
    "#     curFront.append(startPos)\n",
    "#     curFront\n",
    "\n",
    "#     haveReached = list()\n",
    "#     haveReached.append(startPos)\n",
    "\n",
    "#     cameFrom = dict() \n",
    "#     # cameFrom[startPos] = None\n",
    "#     cameFrom[startPos[0],startPos[1]] = None\n",
    "\n",
    "#     # print(haveReached) \n",
    "#     # \n",
    "#     # for k in range(10):\n",
    "#     while (len(curFront) > 0):\n",
    "\n",
    "#         curPos = curFront.pop(0)\n",
    "        \n",
    "#         # # print(curPos)\n",
    "#         if curInput[curPos[1]][curPos[0]] == 'E':\n",
    "#         # if curInput[curPos[1]][curPos[0]] == 'E':\n",
    "#             print('asdf')\n",
    "#             break\n",
    "\n",
    "#         curHeight = getHeight(curPos[0],curPos[1])\n",
    "#         # print(curPos)\n",
    "#         curNei = getNeighbors(curPos[0],curPos[1])\n",
    "#         # print(curNei)\n",
    "        \n",
    "#         for nei in curNei:\n",
    "#             foundInFront = False\n",
    "#             # print('-')\n",
    "#             # print(nei)\n",
    "#             # print('haveReached: ',haveReached)\n",
    "#             # print(haveReached == nei)\n",
    "#             # print((haveReached == nei).all(axis=1).any())\n",
    "#             if ((haveReached == nei).all(axis=1).any()):\n",
    "#                 foundInFront = True\n",
    "\n",
    "#             neiHeight= getHeight(nei[0],nei[1])\n",
    "#             # print(neiHeight)\n",
    "#             # print(foundInFront)\n",
    "#             # print(curHeight)\n",
    "#             if (foundInFront == False) :\n",
    "#                 # if np.abs(neiHeight - curHeight) <= 1:\n",
    "                \n",
    "#                 if neiHeight <= (curHeight +1):\n",
    "#                     curFront.append(nei)\n",
    "#                 haveReached.append(nei)\n",
    "\n",
    "#                 cameFrom[nei[0],nei[1]] = curPos\n",
    "#             # if neiHeight > curHeight:\n",
    "#             #     curFront.append(nei)\n",
    "#             #     haveReached.append(nei)\n",
    "\n",
    "#             #     cameFrom[nei[0],nei[1]] = curPos\n",
    "\n",
    "#     print(cameFrom)\n",
    "#     numSteps = 0\n",
    "#     curStep = EndPos.copy()\n",
    "#     for k in range(1000):\n",
    "#         prevStep = cameFrom[(curStep[0],curStep[1])]\n",
    "#         # print(prevStep)\n",
    "#         curStep = prevStep\n",
    "#         numSteps += 1\n",
    "#         # print(len(curStep))\n",
    "#         if curStep is None:\n",
    "#             break \n",
    "#     # numSteps -= 1\n",
    "#     # p1 = numSteps - 1\n",
    "#     return numSteps-1\n",
    "\n",
    "# # getDistanceToEnd(np.array([153,0]))\n",
    "# getDistanceToEnd(startPos)"
   ]
  },
  {
   "cell_type": "code",
   "execution_count": 552,
   "metadata": {},
   "outputs": [],
   "source": [
    "# # curInput\n",
    "# # curInput[startP]\n",
    "# cameFrom[(EndPos[0],EndPos[1])]\n",
    "# cameFrom[(EndPos[0],20)]\n",
    "# # wi"
   ]
  },
  {
   "cell_type": "code",
   "execution_count": 553,
   "metadata": {},
   "outputs": [],
   "source": [
    "# print(EndPos)\n",
    "# print(cameFrom[(EndPos[0],EndPos[1])])\n",
    "\n",
    "# # curInput[20][131]\n",
    "# # haveReached[-5:]\n",
    "# # print(getHeight(131,20))\n",
    "# print(getHeight(4,2))\n",
    "# print(getHeight(EndPos[0],EndPos[1]))"
   ]
  },
  {
   "cell_type": "code",
   "execution_count": 554,
   "metadata": {},
   "outputs": [],
   "source": [
    "# # print(EndPos)\n",
    "# print(cameFrom[4,2])\n",
    "\n",
    "# # curInput[20][131]\n",
    "# # haveReached[-5:]\n",
    "# # print(getHeight(131,20))\n",
    "# print(getHeight(4,2))\n",
    "# print(getHeight(4,1))\n",
    "# # print(getHeight(EndPos[0],EndPos[1]))"
   ]
  },
  {
   "cell_type": "code",
   "execution_count": 555,
   "metadata": {},
   "outputs": [],
   "source": [
    "# # # cameFrom[(EndPos[0],EndPos[1])]\n",
    "# # curHeight = ord('x')\n",
    "# # neiHeight = ord('z')\n",
    "# # # neiHeight = getHeight(EndPos[0],EndPos[1])\n",
    "\n",
    "# if neiHeight <= (curHeight +1):\n",
    "#     print('asdf')\n",
    "# # if neiHeight > curHeight:\n",
    "# #     print('qwer')\n",
    "# # ord('z')\n",
    "# # ord('x')"
   ]
  },
  {
   "cell_type": "code",
   "execution_count": null,
   "metadata": {},
   "outputs": [],
   "source": []
  },
  {
   "cell_type": "code",
   "execution_count": 556,
   "metadata": {},
   "outputs": [],
   "source": [
    "\n",
    "# # for x in range(wi):\n",
    "# #     print('')\n",
    "# #     print(cameFrom[x,0])\n",
    "# #     if cameFrom[x,0] is not None:\n",
    "# #         # print(cameFrom[x,y])\n",
    "# #         if cameFrom[x,0][0] < x:\n",
    "# #             print('>',end='')\n",
    "\n",
    "# print('S',end='')\n",
    "# for y in range(he):\n",
    "#     for x in range(wi):\n",
    "#         # print(cameFrom[x,y])\n",
    "#         if cameFrom[x,y] is not None:\n",
    "#             # print(cameFrom[x,y])\n",
    "#             if cameFrom[x,y][0] < x:\n",
    "#                 print('<',end='')\n",
    "#             if cameFrom[x,y][0] > x:\n",
    "#                 print('>',end='')\n",
    "#             if cameFrom[x,y][1] < y:\n",
    "#                 print('^',end='')\n",
    "#             if cameFrom[x,y][1] > y:\n",
    "#                 print('v',end='')\n",
    "                \n",
    "#     print('')\n",
    "# # for y in range(he):\n",
    "# #     print('')\n",
    "# #     print(cameFrom[0,y])\n",
    "# #     # for x in range(wi):\n",
    "# #     #     # print(cameFrom[x,y])\n",
    "# #     #     if cameFrom[x,y] is not None:\n",
    "# #     #         # print(cameFrom[x,y])\n",
    "# #     #         if cameFrom[x,y][0] < x:\n",
    "# #     #             print('<',end='')\n"
   ]
  },
  {
   "cell_type": "code",
   "execution_count": 558,
   "metadata": {},
   "outputs": [],
   "source": [
    "# # curPos = [0,0]\n",
    "# x = 7\n",
    "# y = 0\n",
    "# cameFrom[x,y]\n"
   ]
  },
  {
   "cell_type": "code",
   "execution_count": 559,
   "metadata": {},
   "outputs": [],
   "source": [
    "# cameFrom[(EndPos[0],EndPos[1])]\n",
    "\n",
    "# numSteps = 0\n",
    "# curStep = EndPos.copy()\n",
    "# for k in range(100):\n",
    "#     prevStep = cameFrom[(curStep[0],curStep[1])]\n",
    "#     # print(prevStep)\n",
    "#     curStep = prevStep\n",
    "#     numSteps += 1\n",
    "#     # print(len(curStep))\n",
    "#     if curStep is None:\n",
    "#         break \n",
    "# # numSteps -= 1\n",
    "# p1 = numSteps - 1\n",
    "# p1"
   ]
  },
  {
   "cell_type": "code",
   "execution_count": 560,
   "metadata": {},
   "outputs": [],
   "source": [
    "\n",
    "                # cameFrom[curPos[0],curPos[1]] = \n",
    "                # print('asdf')\n",
    "    \n",
    "            # if (getHeight(nei[0],nei[1]) == ord('E')):\n",
    "            #     print(curPos)\n",
    "            #     print('done')\n",
    "            #     break\n",
    "    # print('--')\n",
    "    # print('fr: ',curFront)\n",
    "    # print('hr: ',haveReached)\n",
    "    # print('--')\n",
    "\n",
    "# print('fr: ',curFront)\n",
    "# print('hr: ',haveReached)\n",
    "# cameFrom\n",
    "\n",
    "# curPos\n",
    "# nei\n",
    "# curInput[0][5]"
   ]
  },
  {
   "cell_type": "code",
   "execution_count": 561,
   "metadata": {},
   "outputs": [],
   "source": [
    "# cameFrom[(EndPos[0],EndPos[1])]\n",
    "# curPos \n",
    "# for d in cameFrom:\n",
    "#     print(d)\n",
    "# EndPos"
   ]
  },
  {
   "cell_type": "code",
   "execution_count": 562,
   "metadata": {},
   "outputs": [],
   "source": [
    "# curInput[0][5]"
   ]
  },
  {
   "cell_type": "code",
   "execution_count": null,
   "metadata": {},
   "outputs": [],
   "source": []
  }
 ],
 "metadata": {
  "kernelspec": {
   "display_name": "Python 3.10.0 ('main')",
   "language": "python",
   "name": "python3"
  },
  "language_info": {
   "codemirror_mode": {
    "name": "ipython",
    "version": 3
   },
   "file_extension": ".py",
   "mimetype": "text/x-python",
   "name": "python",
   "nbconvert_exporter": "python",
   "pygments_lexer": "ipython3",
   "version": "3.10.0"
  },
  "orig_nbformat": 4,
  "vscode": {
   "interpreter": {
    "hash": "e6af94e5c5af6f455ad39eba9e20d9ee46a7c0c9ebf8b81ae3b0b6f1a6d45f70"
   }
  }
 },
 "nbformat": 4,
 "nbformat_minor": 2
}
