{
 "cells": [
  {
   "cell_type": "code",
   "execution_count": 3,
   "metadata": {},
   "outputs": [
    {
     "ename": "ConnectionError",
     "evalue": "HTTPSConnectionPool(host='adventofcode.com', port=443): Max retries exceeded with url: /2022/day/12/input (Caused by NewConnectionError('<urllib3.connection.HTTPSConnection object at 0x000002653EE03D60>: Failed to establish a new connection: [Errno 11001] getaddrinfo failed'))",
     "output_type": "error",
     "traceback": [
      "\u001b[1;31m---------------------------------------------------------------------------\u001b[0m",
      "\u001b[1;31mgaierror\u001b[0m                                  Traceback (most recent call last)",
      "File \u001b[1;32mc:\\Users\\rakrpe\\Anaconda3\\envs\\main\\lib\\site-packages\\urllib3\\connection.py:174\u001b[0m, in \u001b[0;36mHTTPConnection._new_conn\u001b[1;34m(self)\u001b[0m\n\u001b[0;32m    173\u001b[0m \u001b[39mtry\u001b[39;00m:\n\u001b[1;32m--> 174\u001b[0m     conn \u001b[39m=\u001b[39m connection\u001b[39m.\u001b[39mcreate_connection(\n\u001b[0;32m    175\u001b[0m         (\u001b[39mself\u001b[39m\u001b[39m.\u001b[39m_dns_host, \u001b[39mself\u001b[39m\u001b[39m.\u001b[39mport), \u001b[39mself\u001b[39m\u001b[39m.\u001b[39mtimeout, \u001b[39m*\u001b[39m\u001b[39m*\u001b[39mextra_kw\n\u001b[0;32m    176\u001b[0m     )\n\u001b[0;32m    178\u001b[0m \u001b[39mexcept\u001b[39;00m SocketTimeout:\n",
      "File \u001b[1;32mc:\\Users\\rakrpe\\Anaconda3\\envs\\main\\lib\\site-packages\\urllib3\\util\\connection.py:72\u001b[0m, in \u001b[0;36mcreate_connection\u001b[1;34m(address, timeout, source_address, socket_options)\u001b[0m\n\u001b[0;32m     68\u001b[0m     \u001b[39mreturn\u001b[39;00m six\u001b[39m.\u001b[39mraise_from(\n\u001b[0;32m     69\u001b[0m         LocationParseError(\u001b[39mu\u001b[39m\u001b[39m\"\u001b[39m\u001b[39m'\u001b[39m\u001b[39m%s\u001b[39;00m\u001b[39m'\u001b[39m\u001b[39m, label empty or too long\u001b[39m\u001b[39m\"\u001b[39m \u001b[39m%\u001b[39m host), \u001b[39mNone\u001b[39;00m\n\u001b[0;32m     70\u001b[0m     )\n\u001b[1;32m---> 72\u001b[0m \u001b[39mfor\u001b[39;00m res \u001b[39min\u001b[39;00m socket\u001b[39m.\u001b[39;49mgetaddrinfo(host, port, family, socket\u001b[39m.\u001b[39;49mSOCK_STREAM):\n\u001b[0;32m     73\u001b[0m     af, socktype, proto, canonname, sa \u001b[39m=\u001b[39m res\n",
      "File \u001b[1;32mc:\\Users\\rakrpe\\Anaconda3\\envs\\main\\lib\\socket.py:955\u001b[0m, in \u001b[0;36mgetaddrinfo\u001b[1;34m(host, port, family, type, proto, flags)\u001b[0m\n\u001b[0;32m    954\u001b[0m addrlist \u001b[39m=\u001b[39m []\n\u001b[1;32m--> 955\u001b[0m \u001b[39mfor\u001b[39;00m res \u001b[39min\u001b[39;00m _socket\u001b[39m.\u001b[39;49mgetaddrinfo(host, port, family, \u001b[39mtype\u001b[39;49m, proto, flags):\n\u001b[0;32m    956\u001b[0m     af, socktype, proto, canonname, sa \u001b[39m=\u001b[39m res\n",
      "\u001b[1;31mgaierror\u001b[0m: [Errno 11001] getaddrinfo failed",
      "\nDuring handling of the above exception, another exception occurred:\n",
      "\u001b[1;31mNewConnectionError\u001b[0m                        Traceback (most recent call last)",
      "File \u001b[1;32mc:\\Users\\rakrpe\\Anaconda3\\envs\\main\\lib\\site-packages\\urllib3\\connectionpool.py:703\u001b[0m, in \u001b[0;36mHTTPConnectionPool.urlopen\u001b[1;34m(self, method, url, body, headers, retries, redirect, assert_same_host, timeout, pool_timeout, release_conn, chunked, body_pos, **response_kw)\u001b[0m\n\u001b[0;32m    702\u001b[0m \u001b[39m# Make the request on the httplib connection object.\u001b[39;00m\n\u001b[1;32m--> 703\u001b[0m httplib_response \u001b[39m=\u001b[39m \u001b[39mself\u001b[39;49m\u001b[39m.\u001b[39;49m_make_request(\n\u001b[0;32m    704\u001b[0m     conn,\n\u001b[0;32m    705\u001b[0m     method,\n\u001b[0;32m    706\u001b[0m     url,\n\u001b[0;32m    707\u001b[0m     timeout\u001b[39m=\u001b[39;49mtimeout_obj,\n\u001b[0;32m    708\u001b[0m     body\u001b[39m=\u001b[39;49mbody,\n\u001b[0;32m    709\u001b[0m     headers\u001b[39m=\u001b[39;49mheaders,\n\u001b[0;32m    710\u001b[0m     chunked\u001b[39m=\u001b[39;49mchunked,\n\u001b[0;32m    711\u001b[0m )\n\u001b[0;32m    713\u001b[0m \u001b[39m# If we're going to release the connection in ``finally:``, then\u001b[39;00m\n\u001b[0;32m    714\u001b[0m \u001b[39m# the response doesn't need to know about the connection. Otherwise\u001b[39;00m\n\u001b[0;32m    715\u001b[0m \u001b[39m# it will also try to release it and we'll have a double-release\u001b[39;00m\n\u001b[0;32m    716\u001b[0m \u001b[39m# mess.\u001b[39;00m\n",
      "File \u001b[1;32mc:\\Users\\rakrpe\\Anaconda3\\envs\\main\\lib\\site-packages\\urllib3\\connectionpool.py:386\u001b[0m, in \u001b[0;36mHTTPConnectionPool._make_request\u001b[1;34m(self, conn, method, url, timeout, chunked, **httplib_request_kw)\u001b[0m\n\u001b[0;32m    385\u001b[0m \u001b[39mtry\u001b[39;00m:\n\u001b[1;32m--> 386\u001b[0m     \u001b[39mself\u001b[39;49m\u001b[39m.\u001b[39;49m_validate_conn(conn)\n\u001b[0;32m    387\u001b[0m \u001b[39mexcept\u001b[39;00m (SocketTimeout, BaseSSLError) \u001b[39mas\u001b[39;00m e:\n\u001b[0;32m    388\u001b[0m     \u001b[39m# Py2 raises this as a BaseSSLError, Py3 raises it as socket timeout.\u001b[39;00m\n",
      "File \u001b[1;32mc:\\Users\\rakrpe\\Anaconda3\\envs\\main\\lib\\site-packages\\urllib3\\connectionpool.py:1040\u001b[0m, in \u001b[0;36mHTTPSConnectionPool._validate_conn\u001b[1;34m(self, conn)\u001b[0m\n\u001b[0;32m   1039\u001b[0m \u001b[39mif\u001b[39;00m \u001b[39mnot\u001b[39;00m \u001b[39mgetattr\u001b[39m(conn, \u001b[39m\"\u001b[39m\u001b[39msock\u001b[39m\u001b[39m\"\u001b[39m, \u001b[39mNone\u001b[39;00m):  \u001b[39m# AppEngine might not have  `.sock`\u001b[39;00m\n\u001b[1;32m-> 1040\u001b[0m     conn\u001b[39m.\u001b[39;49mconnect()\n\u001b[0;32m   1042\u001b[0m \u001b[39mif\u001b[39;00m \u001b[39mnot\u001b[39;00m conn\u001b[39m.\u001b[39mis_verified:\n",
      "File \u001b[1;32mc:\\Users\\rakrpe\\Anaconda3\\envs\\main\\lib\\site-packages\\urllib3\\connection.py:358\u001b[0m, in \u001b[0;36mHTTPSConnection.connect\u001b[1;34m(self)\u001b[0m\n\u001b[0;32m    356\u001b[0m \u001b[39mdef\u001b[39;00m \u001b[39mconnect\u001b[39m(\u001b[39mself\u001b[39m):\n\u001b[0;32m    357\u001b[0m     \u001b[39m# Add certificate verification\u001b[39;00m\n\u001b[1;32m--> 358\u001b[0m     conn \u001b[39m=\u001b[39m \u001b[39mself\u001b[39;49m\u001b[39m.\u001b[39;49m_new_conn()\n\u001b[0;32m    359\u001b[0m     hostname \u001b[39m=\u001b[39m \u001b[39mself\u001b[39m\u001b[39m.\u001b[39mhost\n",
      "File \u001b[1;32mc:\\Users\\rakrpe\\Anaconda3\\envs\\main\\lib\\site-packages\\urllib3\\connection.py:186\u001b[0m, in \u001b[0;36mHTTPConnection._new_conn\u001b[1;34m(self)\u001b[0m\n\u001b[0;32m    185\u001b[0m \u001b[39mexcept\u001b[39;00m SocketError \u001b[39mas\u001b[39;00m e:\n\u001b[1;32m--> 186\u001b[0m     \u001b[39mraise\u001b[39;00m NewConnectionError(\n\u001b[0;32m    187\u001b[0m         \u001b[39mself\u001b[39m, \u001b[39m\"\u001b[39m\u001b[39mFailed to establish a new connection: \u001b[39m\u001b[39m%s\u001b[39;00m\u001b[39m\"\u001b[39m \u001b[39m%\u001b[39m e\n\u001b[0;32m    188\u001b[0m     )\n\u001b[0;32m    190\u001b[0m \u001b[39mreturn\u001b[39;00m conn\n",
      "\u001b[1;31mNewConnectionError\u001b[0m: <urllib3.connection.HTTPSConnection object at 0x000002653EE03D60>: Failed to establish a new connection: [Errno 11001] getaddrinfo failed",
      "\nDuring handling of the above exception, another exception occurred:\n",
      "\u001b[1;31mMaxRetryError\u001b[0m                             Traceback (most recent call last)",
      "File \u001b[1;32mc:\\Users\\rakrpe\\Anaconda3\\envs\\main\\lib\\site-packages\\requests\\adapters.py:440\u001b[0m, in \u001b[0;36mHTTPAdapter.send\u001b[1;34m(self, request, stream, timeout, verify, cert, proxies)\u001b[0m\n\u001b[0;32m    439\u001b[0m \u001b[39mif\u001b[39;00m \u001b[39mnot\u001b[39;00m chunked:\n\u001b[1;32m--> 440\u001b[0m     resp \u001b[39m=\u001b[39m conn\u001b[39m.\u001b[39;49murlopen(\n\u001b[0;32m    441\u001b[0m         method\u001b[39m=\u001b[39;49mrequest\u001b[39m.\u001b[39;49mmethod,\n\u001b[0;32m    442\u001b[0m         url\u001b[39m=\u001b[39;49murl,\n\u001b[0;32m    443\u001b[0m         body\u001b[39m=\u001b[39;49mrequest\u001b[39m.\u001b[39;49mbody,\n\u001b[0;32m    444\u001b[0m         headers\u001b[39m=\u001b[39;49mrequest\u001b[39m.\u001b[39;49mheaders,\n\u001b[0;32m    445\u001b[0m         redirect\u001b[39m=\u001b[39;49m\u001b[39mFalse\u001b[39;49;00m,\n\u001b[0;32m    446\u001b[0m         assert_same_host\u001b[39m=\u001b[39;49m\u001b[39mFalse\u001b[39;49;00m,\n\u001b[0;32m    447\u001b[0m         preload_content\u001b[39m=\u001b[39;49m\u001b[39mFalse\u001b[39;49;00m,\n\u001b[0;32m    448\u001b[0m         decode_content\u001b[39m=\u001b[39;49m\u001b[39mFalse\u001b[39;49;00m,\n\u001b[0;32m    449\u001b[0m         retries\u001b[39m=\u001b[39;49m\u001b[39mself\u001b[39;49m\u001b[39m.\u001b[39;49mmax_retries,\n\u001b[0;32m    450\u001b[0m         timeout\u001b[39m=\u001b[39;49mtimeout\n\u001b[0;32m    451\u001b[0m     )\n\u001b[0;32m    453\u001b[0m \u001b[39m# Send the request.\u001b[39;00m\n\u001b[0;32m    454\u001b[0m \u001b[39melse\u001b[39;00m:\n",
      "File \u001b[1;32mc:\\Users\\rakrpe\\Anaconda3\\envs\\main\\lib\\site-packages\\urllib3\\connectionpool.py:785\u001b[0m, in \u001b[0;36mHTTPConnectionPool.urlopen\u001b[1;34m(self, method, url, body, headers, retries, redirect, assert_same_host, timeout, pool_timeout, release_conn, chunked, body_pos, **response_kw)\u001b[0m\n\u001b[0;32m    783\u001b[0m     e \u001b[39m=\u001b[39m ProtocolError(\u001b[39m\"\u001b[39m\u001b[39mConnection aborted.\u001b[39m\u001b[39m\"\u001b[39m, e)\n\u001b[1;32m--> 785\u001b[0m retries \u001b[39m=\u001b[39m retries\u001b[39m.\u001b[39;49mincrement(\n\u001b[0;32m    786\u001b[0m     method, url, error\u001b[39m=\u001b[39;49me, _pool\u001b[39m=\u001b[39;49m\u001b[39mself\u001b[39;49m, _stacktrace\u001b[39m=\u001b[39;49msys\u001b[39m.\u001b[39;49mexc_info()[\u001b[39m2\u001b[39;49m]\n\u001b[0;32m    787\u001b[0m )\n\u001b[0;32m    788\u001b[0m retries\u001b[39m.\u001b[39msleep()\n",
      "File \u001b[1;32mc:\\Users\\rakrpe\\Anaconda3\\envs\\main\\lib\\site-packages\\urllib3\\util\\retry.py:592\u001b[0m, in \u001b[0;36mRetry.increment\u001b[1;34m(self, method, url, response, error, _pool, _stacktrace)\u001b[0m\n\u001b[0;32m    591\u001b[0m \u001b[39mif\u001b[39;00m new_retry\u001b[39m.\u001b[39mis_exhausted():\n\u001b[1;32m--> 592\u001b[0m     \u001b[39mraise\u001b[39;00m MaxRetryError(_pool, url, error \u001b[39mor\u001b[39;00m ResponseError(cause))\n\u001b[0;32m    594\u001b[0m log\u001b[39m.\u001b[39mdebug(\u001b[39m\"\u001b[39m\u001b[39mIncremented Retry for (url=\u001b[39m\u001b[39m'\u001b[39m\u001b[39m%s\u001b[39;00m\u001b[39m'\u001b[39m\u001b[39m): \u001b[39m\u001b[39m%r\u001b[39;00m\u001b[39m\"\u001b[39m, url, new_retry)\n",
      "\u001b[1;31mMaxRetryError\u001b[0m: HTTPSConnectionPool(host='adventofcode.com', port=443): Max retries exceeded with url: /2022/day/12/input (Caused by NewConnectionError('<urllib3.connection.HTTPSConnection object at 0x000002653EE03D60>: Failed to establish a new connection: [Errno 11001] getaddrinfo failed'))",
      "\nDuring handling of the above exception, another exception occurred:\n",
      "\u001b[1;31mConnectionError\u001b[0m                           Traceback (most recent call last)",
      "\u001b[1;32mc:\\Users\\rakrpe\\OneDrive - Roskilde Universitet\\Documents\\AdventOfCode2022\\2022Day12.ipynb Cell 1\u001b[0m in \u001b[0;36m<module>\u001b[1;34m\u001b[0m\n\u001b[0;32m      <a href='vscode-notebook-cell:/c%3A/Users/rakrpe/OneDrive%20-%20Roskilde%20Universitet/Documents/AdventOfCode2022/2022Day12.ipynb#W0sZmlsZQ%3D%3D?line=4'>5</a>\u001b[0m \u001b[39m# Download input file\u001b[39;00m\n\u001b[0;32m      <a href='vscode-notebook-cell:/c%3A/Users/rakrpe/OneDrive%20-%20Roskilde%20Universitet/Documents/AdventOfCode2022/2022Day12.ipynb#W0sZmlsZQ%3D%3D?line=5'>6</a>\u001b[0m \u001b[39mfrom\u001b[39;00m \u001b[39mdownload_inputs\u001b[39;00m \u001b[39mimport\u001b[39;00m download_inputs\n\u001b[1;32m----> <a href='vscode-notebook-cell:/c%3A/Users/rakrpe/OneDrive%20-%20Roskilde%20Universitet/Documents/AdventOfCode2022/2022Day12.ipynb#W0sZmlsZQ%3D%3D?line=7'>8</a>\u001b[0m download_inputs(curDay)\n",
      "File \u001b[1;32mc:\\Users\\rakrpe\\OneDrive - Roskilde Universitet\\Documents\\AdventOfCode2022\\download_inputs.py:14\u001b[0m, in \u001b[0;36mdownload_inputs\u001b[1;34m(curDay)\u001b[0m\n\u001b[0;32m     12\u001b[0m curYear \u001b[39m=\u001b[39m \u001b[39m2022\u001b[39m\n\u001b[0;32m     13\u001b[0m \u001b[39m# curDay = 5\u001b[39;00m\n\u001b[1;32m---> 14\u001b[0m response \u001b[39m=\u001b[39m requests\u001b[39m.\u001b[39;49mget(\u001b[39mf\u001b[39;49m\u001b[39m\"\u001b[39;49m\u001b[39mhttps://adventofcode.com/\u001b[39;49m\u001b[39m{\u001b[39;49;00mcurYear\u001b[39m}\u001b[39;49;00m\u001b[39m/day/\u001b[39;49m\u001b[39m{\u001b[39;49;00mcurDay\u001b[39m}\u001b[39;49;00m\u001b[39m/input\u001b[39;49m\u001b[39m\"\u001b[39;49m,\n\u001b[0;32m     15\u001b[0m             cookies\u001b[39m=\u001b[39;49m{\u001b[39m'\u001b[39;49m\u001b[39msession\u001b[39;49m\u001b[39m'\u001b[39;49m: session_id})\n\u001b[0;32m     16\u001b[0m \u001b[39mprint\u001b[39m(response\u001b[39m.\u001b[39mstatus_code)\n\u001b[0;32m     18\u001b[0m filename \u001b[39m=\u001b[39m \u001b[39mf\u001b[39m\u001b[39m'\u001b[39m\u001b[39minputs\u001b[39m\u001b[39m\\\\\u001b[39;00m\u001b[39mday\u001b[39m\u001b[39m{\u001b[39;00mcurDay\u001b[39m}\u001b[39;00m\u001b[39m.txt\u001b[39m\u001b[39m'\u001b[39m\n",
      "File \u001b[1;32mc:\\Users\\rakrpe\\Anaconda3\\envs\\main\\lib\\site-packages\\requests\\api.py:75\u001b[0m, in \u001b[0;36mget\u001b[1;34m(url, params, **kwargs)\u001b[0m\n\u001b[0;32m     64\u001b[0m \u001b[39mdef\u001b[39;00m \u001b[39mget\u001b[39m(url, params\u001b[39m=\u001b[39m\u001b[39mNone\u001b[39;00m, \u001b[39m*\u001b[39m\u001b[39m*\u001b[39mkwargs):\n\u001b[0;32m     65\u001b[0m     \u001b[39mr\u001b[39m\u001b[39m\"\"\"Sends a GET request.\u001b[39;00m\n\u001b[0;32m     66\u001b[0m \n\u001b[0;32m     67\u001b[0m \u001b[39m    :param url: URL for the new :class:`Request` object.\u001b[39;00m\n\u001b[1;32m   (...)\u001b[0m\n\u001b[0;32m     72\u001b[0m \u001b[39m    :rtype: requests.Response\u001b[39;00m\n\u001b[0;32m     73\u001b[0m \u001b[39m    \"\"\"\u001b[39;00m\n\u001b[1;32m---> 75\u001b[0m     \u001b[39mreturn\u001b[39;00m request(\u001b[39m'\u001b[39m\u001b[39mget\u001b[39m\u001b[39m'\u001b[39m, url, params\u001b[39m=\u001b[39mparams, \u001b[39m*\u001b[39m\u001b[39m*\u001b[39mkwargs)\n",
      "File \u001b[1;32mc:\\Users\\rakrpe\\Anaconda3\\envs\\main\\lib\\site-packages\\requests\\api.py:61\u001b[0m, in \u001b[0;36mrequest\u001b[1;34m(method, url, **kwargs)\u001b[0m\n\u001b[0;32m     57\u001b[0m \u001b[39m# By using the 'with' statement we are sure the session is closed, thus we\u001b[39;00m\n\u001b[0;32m     58\u001b[0m \u001b[39m# avoid leaving sockets open which can trigger a ResourceWarning in some\u001b[39;00m\n\u001b[0;32m     59\u001b[0m \u001b[39m# cases, and look like a memory leak in others.\u001b[39;00m\n\u001b[0;32m     60\u001b[0m \u001b[39mwith\u001b[39;00m sessions\u001b[39m.\u001b[39mSession() \u001b[39mas\u001b[39;00m session:\n\u001b[1;32m---> 61\u001b[0m     \u001b[39mreturn\u001b[39;00m session\u001b[39m.\u001b[39mrequest(method\u001b[39m=\u001b[39mmethod, url\u001b[39m=\u001b[39murl, \u001b[39m*\u001b[39m\u001b[39m*\u001b[39mkwargs)\n",
      "File \u001b[1;32mc:\\Users\\rakrpe\\Anaconda3\\envs\\main\\lib\\site-packages\\requests\\sessions.py:529\u001b[0m, in \u001b[0;36mSession.request\u001b[1;34m(self, method, url, params, data, headers, cookies, files, auth, timeout, allow_redirects, proxies, hooks, stream, verify, cert, json)\u001b[0m\n\u001b[0;32m    524\u001b[0m send_kwargs \u001b[39m=\u001b[39m {\n\u001b[0;32m    525\u001b[0m     \u001b[39m'\u001b[39m\u001b[39mtimeout\u001b[39m\u001b[39m'\u001b[39m: timeout,\n\u001b[0;32m    526\u001b[0m     \u001b[39m'\u001b[39m\u001b[39mallow_redirects\u001b[39m\u001b[39m'\u001b[39m: allow_redirects,\n\u001b[0;32m    527\u001b[0m }\n\u001b[0;32m    528\u001b[0m send_kwargs\u001b[39m.\u001b[39mupdate(settings)\n\u001b[1;32m--> 529\u001b[0m resp \u001b[39m=\u001b[39m \u001b[39mself\u001b[39m\u001b[39m.\u001b[39msend(prep, \u001b[39m*\u001b[39m\u001b[39m*\u001b[39msend_kwargs)\n\u001b[0;32m    531\u001b[0m \u001b[39mreturn\u001b[39;00m resp\n",
      "File \u001b[1;32mc:\\Users\\rakrpe\\Anaconda3\\envs\\main\\lib\\site-packages\\requests\\sessions.py:645\u001b[0m, in \u001b[0;36mSession.send\u001b[1;34m(self, request, **kwargs)\u001b[0m\n\u001b[0;32m    642\u001b[0m start \u001b[39m=\u001b[39m preferred_clock()\n\u001b[0;32m    644\u001b[0m \u001b[39m# Send the request\u001b[39;00m\n\u001b[1;32m--> 645\u001b[0m r \u001b[39m=\u001b[39m adapter\u001b[39m.\u001b[39msend(request, \u001b[39m*\u001b[39m\u001b[39m*\u001b[39mkwargs)\n\u001b[0;32m    647\u001b[0m \u001b[39m# Total elapsed time of the request (approximately)\u001b[39;00m\n\u001b[0;32m    648\u001b[0m elapsed \u001b[39m=\u001b[39m preferred_clock() \u001b[39m-\u001b[39m start\n",
      "File \u001b[1;32mc:\\Users\\rakrpe\\Anaconda3\\envs\\main\\lib\\site-packages\\requests\\adapters.py:519\u001b[0m, in \u001b[0;36mHTTPAdapter.send\u001b[1;34m(self, request, stream, timeout, verify, cert, proxies)\u001b[0m\n\u001b[0;32m    515\u001b[0m     \u001b[39mif\u001b[39;00m \u001b[39misinstance\u001b[39m(e\u001b[39m.\u001b[39mreason, _SSLError):\n\u001b[0;32m    516\u001b[0m         \u001b[39m# This branch is for urllib3 v1.22 and later.\u001b[39;00m\n\u001b[0;32m    517\u001b[0m         \u001b[39mraise\u001b[39;00m SSLError(e, request\u001b[39m=\u001b[39mrequest)\n\u001b[1;32m--> 519\u001b[0m     \u001b[39mraise\u001b[39;00m \u001b[39mConnectionError\u001b[39;00m(e, request\u001b[39m=\u001b[39mrequest)\n\u001b[0;32m    521\u001b[0m \u001b[39mexcept\u001b[39;00m ClosedPoolError \u001b[39mas\u001b[39;00m e:\n\u001b[0;32m    522\u001b[0m     \u001b[39mraise\u001b[39;00m \u001b[39mConnectionError\u001b[39;00m(e, request\u001b[39m=\u001b[39mrequest)\n",
      "\u001b[1;31mConnectionError\u001b[0m: HTTPSConnectionPool(host='adventofcode.com', port=443): Max retries exceeded with url: /2022/day/12/input (Caused by NewConnectionError('<urllib3.connection.HTTPSConnection object at 0x000002653EE03D60>: Failed to establish a new connection: [Errno 11001] getaddrinfo failed'))"
     ]
    }
   ],
   "source": [
    "# Import packages\n",
    "import numpy as np\n",
    "curDay = 12\n",
    "\n",
    "# Download input file\n",
    "from download_inputs import download_inputs\n",
    "\n",
    "# download_inputs(curDay)"
   ]
  },
  {
   "cell_type": "code",
   "execution_count": 5,
   "metadata": {},
   "outputs": [
    {
     "name": "stdout",
     "output_type": "stream",
     "text": [
      "Done loading input\n"
     ]
    }
   ],
   "source": [
    "# Load input into workspace\n",
    "filename = f'inputs\\\\day{curDay}.txt'\n",
    "# curIn = np.loadtxt(filename)\n",
    "\n",
    "inputFile = open(filename)\n",
    "inputs = []\n",
    "inputs = [s for s in inputFile.read().splitlines()]\n",
    "\n",
    "print('Done loading input')"
   ]
  },
  {
   "cell_type": "code",
   "execution_count": 11,
   "metadata": {},
   "outputs": [
    {
     "name": "stdout",
     "output_type": "stream",
     "text": [
      "Done loading test-input\n"
     ]
    }
   ],
   "source": [
    "# Load test-input into workspace\n",
    "filenameTest = f'inputs\\\\day{curDay}test.txt'\n",
    "\n",
    "inputFileTest = open(filenameTest)\n",
    "inputsTest = []\n",
    "inputsTest = [s for s in inputFileTest.read().splitlines()]\n",
    "\n",
    "print('Done loading test-input') "
   ]
  },
  {
   "cell_type": "code",
   "execution_count": 2,
   "metadata": {},
   "outputs": [
    {
     "ename": "NameError",
     "evalue": "name 'inputs' is not defined",
     "output_type": "error",
     "traceback": [
      "\u001b[1;31m---------------------------------------------------------------------------\u001b[0m",
      "\u001b[1;31mNameError\u001b[0m                                 Traceback (most recent call last)",
      "\u001b[1;32mc:\\Users\\rakrpe\\OneDrive - Roskilde Universitet\\Documents\\AdventOfCode2022\\2022Day12.ipynb Cell 4\u001b[0m in \u001b[0;36m<module>\u001b[1;34m\u001b[0m\n\u001b[1;32m----> <a href='vscode-notebook-cell:/c%3A/Users/rakrpe/OneDrive%20-%20Roskilde%20Universitet/Documents/AdventOfCode2022/2022Day12.ipynb#W3sZmlsZQ%3D%3D?line=0'>1</a>\u001b[0m curInput \u001b[39m=\u001b[39m inputs\n",
      "\u001b[1;31mNameError\u001b[0m: name 'inputs' is not defined"
     ]
    }
   ],
   "source": [
    "curInput = inputs\n",
    "# curInput = inputsTest"
   ]
  },
  {
   "cell_type": "code",
   "execution_count": 535,
   "metadata": {},
   "outputs": [],
   "source": [
    "curInput\n",
    "# Start by finding S\n",
    "# for curI in curInput:\n",
    "wi = len(curInput[0])\n",
    "he = len(curInput)\n",
    "for x in range(wi):\n",
    "    for y in range(he):\n",
    "        curVal = curInput[y][x]\n",
    "\n",
    "        if (curVal == 'S'):\n",
    "            startPos = np.array([x,y])\n",
    "        if (curVal == 'E'):\n",
    "            EndPos = np.array([x,y])"
   ]
  },
  {
   "cell_type": "code",
   "execution_count": 536,
   "metadata": {},
   "outputs": [],
   "source": [
    "# For testing\n",
    "# startPos = np.array([100,6])"
   ]
  },
  {
   "cell_type": "code",
   "execution_count": 537,
   "metadata": {},
   "outputs": [],
   "source": [
    "def getHeight(x,y):\n",
    "    thisHeight = curInput[y][x]\n",
    "    # print(thisHeight)\n",
    "\n",
    "    if (thisHeight == 'S'):\n",
    "        return ord('a')-1\n",
    "    if (thisHeight == 'E'):\n",
    "        return ord('z')\n",
    "    else:\n",
    "        return ord(thisHeight)\n",
    "\n",
    "def getNeighbors(x,y):\n",
    "    allNei = list()\n",
    "    if x > 0:\n",
    "        allNei.append([x-1,y])\n",
    "    if x < wi-1:\n",
    "        allNei.append([x+1,y])\n",
    "    if y > 0:\n",
    "        allNei.append([x,y-1])\n",
    "    if y < he-1:\n",
    "        allNei.append([x,y+1])\n",
    "    allNei = np.stack(allNei,axis=0)\n",
    "    return allNei\n",
    "\n",
    "def getAllowedNei(x,y):\n",
    "    thisHeight = getHeight(x,y)\n",
    "    # print(thisHeight)\n",
    "    curNei = getNeighbors(x,y)\n",
    "    allNei = list()\n",
    "    for nei in curNei:\n",
    "        neiHei = getHeight(nei[0],nei[1])\n",
    "        # print(neiHei)\n",
    "        if neiHei <= thisHeight + 1:\n",
    "            allNei.append(nei)\n",
    "    return np.stack(allNei,axis=0)\n",
    "\n",
    "# getAllowedNei(wi-1,0)\n",
    "# getNeighbors(wi-1,0)\n",
    "# getHeight(3,4)\n"
   ]
  },
  {
   "cell_type": "code",
   "execution_count": 538,
   "metadata": {},
   "outputs": [
    {
     "name": "stdout",
     "output_type": "stream",
     "text": [
      "asdf\n"
     ]
    }
   ],
   "source": [
    "curFront = list()\n",
    "curFront.append(startPos)\n",
    "curFront\n",
    "\n",
    "haveReached = list()\n",
    "haveReached.append(startPos)\n",
    "\n",
    "cameFrom = dict() \n",
    "# cameFrom[startPos] = None\n",
    "cameFrom[startPos[0],startPos[1]] = None\n",
    "\n",
    "# print(haveReached) \n",
    "# \n",
    "# for k in range(10):\n",
    "while (len(curFront) > 0):\n",
    "\n",
    "    curPos = curFront.pop(0)\n",
    "    \n",
    "    # # print(curPos)\n",
    "    if curInput[curPos[1]][curPos[0]] == 'E':\n",
    "    # if curInput[curPos[1]][curPos[0]] == 'E':\n",
    "        print('asdf')\n",
    "        break\n",
    "\n",
    "    curHeight = getHeight(curPos[0],curPos[1])\n",
    "    # print(curPos)\n",
    "    curNei = getNeighbors(curPos[0],curPos[1])\n",
    "    # print(curNei)\n",
    "    \n",
    "    for nei in curNei:\n",
    "        foundInFront = False\n",
    "        # print('-')\n",
    "        # print(nei)\n",
    "        # print('haveReached: ',haveReached)\n",
    "        # print(haveReached == nei)\n",
    "        # print((haveReached == nei).all(axis=1).any())\n",
    "        if ((haveReached == nei).all(axis=1).any()):\n",
    "            foundInFront = True\n",
    "\n",
    "        neiHeight= getHeight(nei[0],nei[1])\n",
    "        # print(neiHeight)\n",
    "        # print(foundInFront)\n",
    "        # print(curHeight)\n",
    "        if (foundInFront == False) :\n",
    "            # if np.abs(neiHeight - curHeight) <= 1:\n",
    "            \n",
    "            if neiHeight <= (curHeight +1):\n",
    "                curFront.append(nei)\n",
    "                haveReached.append(nei)\n",
    "\n",
    "                cameFrom[nei[0],nei[1]] = curPos\n",
    "            # if neiHeight > curHeight:\n",
    "            #     curFront.append(nei)\n",
    "            #     haveReached.append(nei)\n",
    "\n",
    "            #     cameFrom[nei[0],nei[1]] = curPos"
   ]
  },
  {
   "cell_type": "code",
   "execution_count": 539,
   "metadata": {},
   "outputs": [
    {
     "data": {
      "text/plain": [
       "472"
      ]
     },
     "execution_count": 539,
     "metadata": {},
     "output_type": "execute_result"
    }
   ],
   "source": [
    "cameFrom[(EndPos[0],EndPos[1])]\n",
    "\n",
    "numSteps = 0\n",
    "curStep = EndPos.copy()\n",
    "for k in range(1000):\n",
    "    prevStep = cameFrom[(curStep[0],curStep[1])]\n",
    "    # print(prevStep)\n",
    "    curStep = prevStep\n",
    "    numSteps += 1\n",
    "    # print(len(curStep))\n",
    "    if curStep is None:\n",
    "        break \n",
    "# numSteps -= 1\n",
    "p1 = numSteps - 1\n",
    "p1"
   ]
  },
  {
   "cell_type": "code",
   "execution_count": 540,
   "metadata": {},
   "outputs": [],
   "source": [
    "# cameFrom[(EndPos[0],EndPos[1])]\n",
    "cameBackup = cameFrom.copy()"
   ]
  },
  {
   "cell_type": "markdown",
   "metadata": {},
   "source": [
    "# Part 2"
   ]
  },
  {
   "cell_type": "code",
   "execution_count": 549,
   "metadata": {},
   "outputs": [],
   "source": [
    "def getCameFromList(startPos):\n",
    "    curFront = list()\n",
    "    curFront.append(startPos)\n",
    "    curFront\n",
    "\n",
    "    haveReached = list()\n",
    "    haveReached.append(startPos)\n",
    "\n",
    "    cameFrom = dict() \n",
    "    # cameFrom[startPos] = None\n",
    "    cameFrom[startPos[0],startPos[1]] = None\n",
    "\n",
    "    # print(haveReached) \n",
    "    # \n",
    "    # for k in range(10):\n",
    "    while (len(curFront) > 0):\n",
    "\n",
    "        curPos = curFront.pop(0)\n",
    "        \n",
    "        # # print(curPos)\n",
    "        if curInput[curPos[1]][curPos[0]] == 'E':\n",
    "        # if curInput[curPos[1]][curPos[0]] == 'E':\n",
    "            # print('asdf')\n",
    "            break\n",
    "\n",
    "        curHeight = getHeight(curPos[0],curPos[1])\n",
    "        # print(curPos)\n",
    "        curNei = getNeighbors(curPos[0],curPos[1])\n",
    "        # print(curNei)\n",
    "        \n",
    "        for nei in curNei:\n",
    "            foundInFront = False\n",
    "            \n",
    "            if ((haveReached == nei).all(axis=1).any()):\n",
    "                foundInFront = True\n",
    "\n",
    "            neiHeight= getHeight(nei[0],nei[1])\n",
    "            # print(neiHeight)\n",
    "            # print(foundInFront)\n",
    "            # print(curHeight)\n",
    "            if (foundInFront == False) :\n",
    "                # if np.abs(neiHeight - curHeight) <= 1:\n",
    "                \n",
    "                if neiHeight <= (curHeight +1):\n",
    "                    curFront.append(nei)\n",
    "                    haveReached.append(nei)\n",
    "\n",
    "                    cameFrom[nei[0],nei[1]] = curPos\n",
    "    return cameFrom\n",
    "# newCameFrom = getCameFromList(startPos)\n",
    "\n",
    "# newCameFrom ="
   ]
  },
  {
   "cell_type": "code",
   "execution_count": 542,
   "metadata": {},
   "outputs": [],
   "source": [
    "\n",
    "# testStart = np.array([150,20])\n",
    "# testStart = np.array([153,0])\n",
    "# startPos\n",
    "# testStart\n",
    "# testCameFrom = getCameFromList(testStart)"
   ]
  },
  {
   "cell_type": "code",
   "execution_count": 543,
   "metadata": {},
   "outputs": [],
   "source": [
    "def calcDistance(cameFrom):\n",
    "\n",
    "    \n",
    "    endFound = False\n",
    "    for k in cameFrom.keys():\n",
    "        # print(k == (EndPos[0],EndPos[1]))\n",
    "        if (k == (EndPos[0],EndPos[1])):\n",
    "            endFound = True \n",
    "    if endFound == False:\n",
    "        return 1000 \n",
    "    else: \n",
    "        numSteps = 0\n",
    "        curStep = EndPos.copy()\n",
    "        for k in range(1000):\n",
    "            prevStep = cameFrom[(curStep[0],curStep[1])]\n",
    "            # print(prevStep)\n",
    "            curStep = prevStep\n",
    "            numSteps += 1\n",
    "            # print(len(curStep))\n",
    "            if curStep is None:\n",
    "                break \n",
    "            \n",
    "        return numSteps -1 \n",
    "\n",
    "# calcDistance(cameBackup)\n",
    "# calcDistance(newCameFrom)\n",
    "# calcDistance(testCameFrom)"
   ]
  },
  {
   "cell_type": "code",
   "execution_count": 530,
   "metadata": {},
   "outputs": [],
   "source": [
    "# curInput[0][153]\n",
    "# # testCameFrom[EndPos[0],EndPos[1]]\n",
    "# endFound = False\n",
    "# for k in testCameFrom.keys():\n",
    "#     print(k == (EndPos[0],EndPos[1]))\n",
    "#     if (k == (EndPos[0],EndPos[1])):\n",
    "#         endFound = True \n",
    "# if endFound == False:\n",
    "#     return 1000\n"
   ]
  },
  {
   "cell_type": "code",
   "execution_count": 544,
   "metadata": {},
   "outputs": [
    {
     "name": "stdout",
     "output_type": "stream",
     "text": [
      "asdf\n"
     ]
    }
   ],
   "source": [
    "\n",
    "curCameFrom = getCameFromList(np.array([0,1]))\n",
    "# print(curCameFrom)\n",
    "curDist = calcDistance(curCameFrom)"
   ]
  },
  {
   "cell_type": "code",
   "execution_count": 547,
   "metadata": {},
   "outputs": [
    {
     "data": {
      "text/plain": [
       "array([ 0, 20])"
      ]
     },
     "execution_count": 547,
     "metadata": {},
     "output_type": "execute_result"
    }
   ],
   "source": [
    "curDist\n",
    "startPos"
   ]
  },
  {
   "cell_type": "code",
   "execution_count": 564,
   "metadata": {},
   "outputs": [
    {
     "name": "stdout",
     "output_type": "stream",
     "text": [
      "Shortest distance so far: 468\n",
      "Shortest distance so far: 467\n",
      "Shortest distance so far: 466\n",
      "Shortest distance so far: 465\n"
     ]
    }
   ],
   "source": [
    "curMin = 1001\n",
    "numA = 0\n",
    "# for x in range(wi):\n",
    "# for x in range(wi-1,0,-1):\n",
    "for x in range(0,3,1):\n",
    "    # Since we shouldn't start in the far left\n",
    "    # if x > 70:\n",
    "    # for y in range(he):\n",
    "    for y in range(24,he):\n",
    "        if curInput[y][x] == 'a':\n",
    "            numA += 1\n",
    "            # print(x,y)\n",
    "            curCameFrom = getCameFromList(np.array([x,y]))\n",
    "            # print(curCameFrom)\n",
    "            curDist = calcDistance(curCameFrom)\n",
    "\n",
    "            # print(curDist)\n",
    "            if curDist < curMin:\n",
    "                curMin = curDist\n",
    "                print('Shortest distance so far:' ,curDist)\n",
    "# numA "
   ]
  },
  {
   "cell_type": "markdown",
   "metadata": {},
   "source": [
    "# Old below"
   ]
  },
  {
   "cell_type": "code",
   "execution_count": 551,
   "metadata": {},
   "outputs": [],
   "source": [
    "# def getDistanceToEnd(startPos):\n",
    "#     curFront = list()\n",
    "#     curFront.append(startPos)\n",
    "#     curFront\n",
    "\n",
    "#     haveReached = list()\n",
    "#     haveReached.append(startPos)\n",
    "\n",
    "#     cameFrom = dict() \n",
    "#     # cameFrom[startPos] = None\n",
    "#     cameFrom[startPos[0],startPos[1]] = None\n",
    "\n",
    "#     # print(haveReached) \n",
    "#     # \n",
    "#     # for k in range(10):\n",
    "#     while (len(curFront) > 0):\n",
    "\n",
    "#         curPos = curFront.pop(0)\n",
    "        \n",
    "#         # # print(curPos)\n",
    "#         if curInput[curPos[1]][curPos[0]] == 'E':\n",
    "#         # if curInput[curPos[1]][curPos[0]] == 'E':\n",
    "#             print('asdf')\n",
    "#             break\n",
    "\n",
    "#         curHeight = getHeight(curPos[0],curPos[1])\n",
    "#         # print(curPos)\n",
    "#         curNei = getNeighbors(curPos[0],curPos[1])\n",
    "#         # print(curNei)\n",
    "        \n",
    "#         for nei in curNei:\n",
    "#             foundInFront = False\n",
    "#             # print('-')\n",
    "#             # print(nei)\n",
    "#             # print('haveReached: ',haveReached)\n",
    "#             # print(haveReached == nei)\n",
    "#             # print((haveReached == nei).all(axis=1).any())\n",
    "#             if ((haveReached == nei).all(axis=1).any()):\n",
    "#                 foundInFront = True\n",
    "\n",
    "#             neiHeight= getHeight(nei[0],nei[1])\n",
    "#             # print(neiHeight)\n",
    "#             # print(foundInFront)\n",
    "#             # print(curHeight)\n",
    "#             if (foundInFront == False) :\n",
    "#                 # if np.abs(neiHeight - curHeight) <= 1:\n",
    "                \n",
    "#                 if neiHeight <= (curHeight +1):\n",
    "#                     curFront.append(nei)\n",
    "#                 haveReached.append(nei)\n",
    "\n",
    "#                 cameFrom[nei[0],nei[1]] = curPos\n",
    "#             # if neiHeight > curHeight:\n",
    "#             #     curFront.append(nei)\n",
    "#             #     haveReached.append(nei)\n",
    "\n",
    "#             #     cameFrom[nei[0],nei[1]] = curPos\n",
    "\n",
    "#     print(cameFrom)\n",
    "#     numSteps = 0\n",
    "#     curStep = EndPos.copy()\n",
    "#     for k in range(1000):\n",
    "#         prevStep = cameFrom[(curStep[0],curStep[1])]\n",
    "#         # print(prevStep)\n",
    "#         curStep = prevStep\n",
    "#         numSteps += 1\n",
    "#         # print(len(curStep))\n",
    "#         if curStep is None:\n",
    "#             break \n",
    "#     # numSteps -= 1\n",
    "#     # p1 = numSteps - 1\n",
    "#     return numSteps-1\n",
    "\n",
    "# # getDistanceToEnd(np.array([153,0]))\n",
    "# getDistanceToEnd(startPos)"
   ]
  },
  {
   "cell_type": "code",
   "execution_count": 552,
   "metadata": {},
   "outputs": [],
   "source": [
    "# # curInput\n",
    "# # curInput[startP]\n",
    "# cameFrom[(EndPos[0],EndPos[1])]\n",
    "# cameFrom[(EndPos[0],20)]\n",
    "# # wi"
   ]
  },
  {
   "cell_type": "code",
   "execution_count": 553,
   "metadata": {},
   "outputs": [],
   "source": [
    "# print(EndPos)\n",
    "# print(cameFrom[(EndPos[0],EndPos[1])])\n",
    "\n",
    "# # curInput[20][131]\n",
    "# # haveReached[-5:]\n",
    "# # print(getHeight(131,20))\n",
    "# print(getHeight(4,2))\n",
    "# print(getHeight(EndPos[0],EndPos[1]))"
   ]
  },
  {
   "cell_type": "code",
   "execution_count": 554,
   "metadata": {},
   "outputs": [],
   "source": [
    "# # print(EndPos)\n",
    "# print(cameFrom[4,2])\n",
    "\n",
    "# # curInput[20][131]\n",
    "# # haveReached[-5:]\n",
    "# # print(getHeight(131,20))\n",
    "# print(getHeight(4,2))\n",
    "# print(getHeight(4,1))\n",
    "# # print(getHeight(EndPos[0],EndPos[1]))"
   ]
  },
  {
   "cell_type": "code",
   "execution_count": 555,
   "metadata": {},
   "outputs": [],
   "source": [
    "# # # cameFrom[(EndPos[0],EndPos[1])]\n",
    "# # curHeight = ord('x')\n",
    "# # neiHeight = ord('z')\n",
    "# # # neiHeight = getHeight(EndPos[0],EndPos[1])\n",
    "\n",
    "# if neiHeight <= (curHeight +1):\n",
    "#     print('asdf')\n",
    "# # if neiHeight > curHeight:\n",
    "# #     print('qwer')\n",
    "# # ord('z')\n",
    "# # ord('x')"
   ]
  },
  {
   "cell_type": "code",
   "execution_count": null,
   "metadata": {},
   "outputs": [],
   "source": []
  },
  {
   "cell_type": "code",
   "execution_count": 556,
   "metadata": {},
   "outputs": [],
   "source": [
    "\n",
    "# # for x in range(wi):\n",
    "# #     print('')\n",
    "# #     print(cameFrom[x,0])\n",
    "# #     if cameFrom[x,0] is not None:\n",
    "# #         # print(cameFrom[x,y])\n",
    "# #         if cameFrom[x,0][0] < x:\n",
    "# #             print('>',end='')\n",
    "\n",
    "# print('S',end='')\n",
    "# for y in range(he):\n",
    "#     for x in range(wi):\n",
    "#         # print(cameFrom[x,y])\n",
    "#         if cameFrom[x,y] is not None:\n",
    "#             # print(cameFrom[x,y])\n",
    "#             if cameFrom[x,y][0] < x:\n",
    "#                 print('<',end='')\n",
    "#             if cameFrom[x,y][0] > x:\n",
    "#                 print('>',end='')\n",
    "#             if cameFrom[x,y][1] < y:\n",
    "#                 print('^',end='')\n",
    "#             if cameFrom[x,y][1] > y:\n",
    "#                 print('v',end='')\n",
    "                \n",
    "#     print('')\n",
    "# # for y in range(he):\n",
    "# #     print('')\n",
    "# #     print(cameFrom[0,y])\n",
    "# #     # for x in range(wi):\n",
    "# #     #     # print(cameFrom[x,y])\n",
    "# #     #     if cameFrom[x,y] is not None:\n",
    "# #     #         # print(cameFrom[x,y])\n",
    "# #     #         if cameFrom[x,y][0] < x:\n",
    "# #     #             print('<',end='')\n"
   ]
  },
  {
   "cell_type": "code",
   "execution_count": 558,
   "metadata": {},
   "outputs": [],
   "source": [
    "# # curPos = [0,0]\n",
    "# x = 7\n",
    "# y = 0\n",
    "# cameFrom[x,y]\n"
   ]
  },
  {
   "cell_type": "code",
   "execution_count": 559,
   "metadata": {},
   "outputs": [],
   "source": [
    "# cameFrom[(EndPos[0],EndPos[1])]\n",
    "\n",
    "# numSteps = 0\n",
    "# curStep = EndPos.copy()\n",
    "# for k in range(100):\n",
    "#     prevStep = cameFrom[(curStep[0],curStep[1])]\n",
    "#     # print(prevStep)\n",
    "#     curStep = prevStep\n",
    "#     numSteps += 1\n",
    "#     # print(len(curStep))\n",
    "#     if curStep is None:\n",
    "#         break \n",
    "# # numSteps -= 1\n",
    "# p1 = numSteps - 1\n",
    "# p1"
   ]
  },
  {
   "cell_type": "code",
   "execution_count": 560,
   "metadata": {},
   "outputs": [],
   "source": [
    "\n",
    "                # cameFrom[curPos[0],curPos[1]] = \n",
    "                # print('asdf')\n",
    "    \n",
    "            # if (getHeight(nei[0],nei[1]) == ord('E')):\n",
    "            #     print(curPos)\n",
    "            #     print('done')\n",
    "            #     break\n",
    "    # print('--')\n",
    "    # print('fr: ',curFront)\n",
    "    # print('hr: ',haveReached)\n",
    "    # print('--')\n",
    "\n",
    "# print('fr: ',curFront)\n",
    "# print('hr: ',haveReached)\n",
    "# cameFrom\n",
    "\n",
    "# curPos\n",
    "# nei\n",
    "# curInput[0][5]"
   ]
  },
  {
   "cell_type": "code",
   "execution_count": 561,
   "metadata": {},
   "outputs": [],
   "source": [
    "# cameFrom[(EndPos[0],EndPos[1])]\n",
    "# curPos \n",
    "# for d in cameFrom:\n",
    "#     print(d)\n",
    "# EndPos"
   ]
  },
  {
   "cell_type": "code",
   "execution_count": 562,
   "metadata": {},
   "outputs": [],
   "source": [
    "# curInput[0][5]"
   ]
  },
  {
   "cell_type": "code",
   "execution_count": null,
   "metadata": {},
   "outputs": [],
   "source": []
  }
 ],
 "metadata": {
  "kernelspec": {
   "display_name": "Python 3.10.0 ('main')",
   "language": "python",
   "name": "python3"
  },
  "language_info": {
   "codemirror_mode": {
    "name": "ipython",
    "version": 3
   },
   "file_extension": ".py",
   "mimetype": "text/x-python",
   "name": "python",
   "nbconvert_exporter": "python",
   "pygments_lexer": "ipython3",
   "version": "3.10.0"
  },
  "orig_nbformat": 4,
  "vscode": {
   "interpreter": {
    "hash": "e6af94e5c5af6f455ad39eba9e20d9ee46a7c0c9ebf8b81ae3b0b6f1a6d45f70"
   }
  }
 },
 "nbformat": 4,
 "nbformat_minor": 2
}
