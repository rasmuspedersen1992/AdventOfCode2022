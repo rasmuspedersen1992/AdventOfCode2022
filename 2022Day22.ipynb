{
 "cells": [
  {
   "cell_type": "code",
   "execution_count": 231,
   "metadata": {},
   "outputs": [
    {
     "name": "stdout",
     "output_type": "stream",
     "text": [
      "200\n"
     ]
    }
   ],
   "source": [
    "# Import packages\n",
    "import numpy as np\n",
    "curDay = 22\n",
    "\n",
    "# Download input file\n",
    "from download_inputs import download_inputs\n",
    "\n",
    "download_inputs(curDay)"
   ]
  },
  {
   "cell_type": "code",
   "execution_count": 232,
   "metadata": {},
   "outputs": [
    {
     "name": "stdout",
     "output_type": "stream",
     "text": [
      "Done loading input\n"
     ]
    }
   ],
   "source": [
    "# Load input into workspace\n",
    "filename = f'inputs\\\\day{curDay}.txt'\n",
    "# curIn = np.loadtxt(filename)\n",
    "\n",
    "inputFile = open(filename)\n",
    "inputs = []\n",
    "inputs = [s for s in inputFile.read().splitlines()]\n",
    "\n",
    "print('Done loading input')"
   ]
  },
  {
   "cell_type": "code",
   "execution_count": 233,
   "metadata": {},
   "outputs": [
    {
     "name": "stdout",
     "output_type": "stream",
     "text": [
      "Done loading test-input\n"
     ]
    }
   ],
   "source": [
    "# Load test-input into workspace\n",
    "filenameTest = f'inputs\\\\day{curDay}test.txt'\n",
    "\n",
    "inputFileTest = open(filenameTest)\n",
    "inputsTest = []\n",
    "inputsTest = [s for s in inputFileTest.read().splitlines()]\n",
    "\n",
    "print('Done loading test-input') "
   ]
  },
  {
   "cell_type": "code",
   "execution_count": 222,
   "metadata": {},
   "outputs": [],
   "source": [
    "curIn = inputsTest \n",
    "# curIn = inputs \n"
   ]
  },
  {
   "cell_type": "code",
   "execution_count": 223,
   "metadata": {},
   "outputs": [],
   "source": [
    "\n",
    "curIns = curIn[-1]\n",
    "inputMap = curIn[:-2]\n",
    "\n",
    "# display(inputMap)\n",
    "he = len(inputMap)\n",
    "wi = 0\n",
    "for i in inputMap:\n",
    "    if len(i) > wi:\n",
    "        wi = len(i)\n",
    "curMap = np.zeros((he,wi))\n",
    "\n",
    "for i in range(he):\n",
    "    curL = inputMap[i]\n",
    "    for k in range(len(curL)):\n",
    "        curS = curL[k]\n",
    "        if curS == '.':\n",
    "            curMap[i,k] = 1\n",
    "        if curS == '#':\n",
    "            curMap[i,k] = 2\n",
    "# print(curMap)"
   ]
  },
  {
   "cell_type": "code",
   "execution_count": 224,
   "metadata": {},
   "outputs": [],
   "source": [
    "thisMap = curMap.copy()\n",
    "# Move right\n",
    "def moveRight(curPos,originalPos):\n",
    "    newX = curPos[1]+1\n",
    "    newX = newX % (wi-1)\n",
    "    newPos = [curPos[0],newX]\n",
    "    if (thisMap[newPos[0],newPos[1]]) == 1:\n",
    "        # Update position\n",
    "        curPos = newPos\n",
    "    elif (thisMap[newPos[0],newPos[1]]) == 0:\n",
    "        # Continue same direction, but starting at the current new position\n",
    "        curPos = moveRight(newPos,originalPos)\n",
    "    elif (thisMap[newPos[0],newPos[1]]) == 2:\n",
    "        # Stand still\n",
    "        return originalPos\n",
    "    return curPos  \n",
    "    \n",
    "# Move left\n",
    "def moveLeft(curPos,originalPos):\n",
    "    newX = curPos[1] - 1\n",
    "    newX = newX % (wi-1)\n",
    "    newPos = [curPos[0],newX]\n",
    "    if (thisMap[newPos[0],newPos[1]]) == 1:\n",
    "        # Update position\n",
    "        curPos = newPos\n",
    "    elif (thisMap[newPos[0],newPos[1]]) == 0:\n",
    "        # Continue same direction, but starting at the current new position\n",
    "        curPos = moveLeft(newPos,originalPos)\n",
    "    elif (thisMap[newPos[0],newPos[1]]) == 2:\n",
    "        # Stand still, return original position\n",
    "        return originalPos\n",
    "\n",
    "    return curPos  \n",
    "    \n",
    "# Move up\n",
    "def moveUp(curPos,originalPos):\n",
    "    newY = curPos[0] - 1\n",
    "    newY = newY % (he)\n",
    "    newPos = [newY,curPos[1]]\n",
    "    if (thisMap[newPos[0],newPos[1]]) == 1:\n",
    "        # Update position\n",
    "        curPos = newPos\n",
    "    elif (thisMap[newPos[0],newPos[1]]) == 0:\n",
    "        # Continue same direction, but starting at the current new position\n",
    "        curPos = moveUp(newPos,originalPos)\n",
    "    elif (thisMap[newPos[0],newPos[1]]) == 2:\n",
    "        # Stand still, return original position\n",
    "        return originalPos\n",
    "\n",
    "    return curPos  \n",
    "    \n",
    "# Move down\n",
    "def moveDown(curPos,originalPos):\n",
    "    newY = curPos[0] + 1\n",
    "    newY = newY % (he)\n",
    "    newPos = [newY,curPos[1]]\n",
    "    if (thisMap[newPos[0],newPos[1]]) == 1:\n",
    "        # Update position\n",
    "        curPos = newPos\n",
    "    elif (thisMap[newPos[0],newPos[1]]) == 0:\n",
    "        # Continue same direction, but starting at the current new position\n",
    "        curPos = moveDown(newPos,originalPos)\n",
    "    elif (thisMap[newPos[0],newPos[1]]) == 2:\n",
    "        # Stand still, return original position\n",
    "        return originalPos\n",
    "\n",
    "    return curPos  \n",
    "\n",
    "# curPos = [9,10]\n",
    "# curPos = moveDown(curPos,curPos)\n",
    "# curPos = moveDown(curPos,curPos)\n",
    "# printMap = thisMap.copy()\n",
    "# printMap[curPos[0],curPos[1]] = 3\n",
    "# print(printMap)\n",
    "# print('--')"
   ]
  },
  {
   "cell_type": "code",
   "execution_count": 225,
   "metadata": {},
   "outputs": [],
   "source": [
    "# [x.split['L'] for x in curIns.split('R')]\n",
    "curIns.split('R')\n",
    "\n",
    "insSplit = 'L_'.join('R_'.join(curIns.split('R')).split('L')).split('_')\n",
    "# print(insSplit)\n",
    "\n",
    "def MakeMoves(curPos,curFace,numMoves):\n",
    "    if curFace == 'E':\n",
    "        for i in range(numMoves):\n",
    "            curPos = moveRight(curPos,curPos)\n",
    "    if curFace == 'W':\n",
    "        for i in range(numMoves):\n",
    "            curPos = moveLeft(curPos,curPos)\n",
    "    if curFace == 'N':\n",
    "        for i in range(numMoves):\n",
    "            curPos = moveUp(curPos,curPos)\n",
    "    if curFace == 'S':\n",
    "        for i in range(numMoves):\n",
    "            curPos = moveDown(curPos,curPos)\n",
    "    return curPos \n",
    "\n",
    "def Rotate(curFace,rotateDirection):\n",
    "    if curFace == 'E':\n",
    "        if rotateDirection == 'R':\n",
    "            curFace = 'S'\n",
    "        if rotateDirection == 'L':\n",
    "            curFace = 'N'\n",
    "    elif curFace == 'W':\n",
    "        if rotateDirection == 'R':\n",
    "            curFace = 'N'\n",
    "        if rotateDirection == 'L':\n",
    "            curFace = 'S'\n",
    "    elif curFace == 'N':\n",
    "        if rotateDirection == 'R':\n",
    "            curFace = 'E'\n",
    "        if rotateDirection == 'L':\n",
    "            curFace = 'W'\n",
    "    elif curFace == 'S':\n",
    "        if rotateDirection == 'R':\n",
    "            curFace = 'W'\n",
    "        if rotateDirection == 'L':\n",
    "            curFace = 'E'\n",
    "    return curFace\n",
    "    "
   ]
  },
  {
   "cell_type": "code",
   "execution_count": 226,
   "metadata": {},
   "outputs": [
    {
     "name": "stdout",
     "output_type": "stream",
     "text": [
      "[0, 8] E\n",
      "[5, 7] E\n"
     ]
    }
   ],
   "source": [
    "\n",
    "curPos = [0,0]\n",
    "curFace = 'E'\n",
    "# # thisMap,curPos = moveDown(thisMap,curPos,curPos)\n",
    "\n",
    "curPos = moveRight(curPos,curPos)\n",
    "# printMap = thisMap.copy()\n",
    "# printMap[curPos[0],curPos[1]] = 3\n",
    "# print(printMap)\n",
    "\n",
    "print(curPos,curFace)\n",
    "\n",
    "for i in range(len(insSplit)-1):\n",
    "    numMoves = int(insSplit[i][:-1])\n",
    "    rotDir = insSplit[i][-1]\n",
    "    # print(numMoves,rotDir)\n",
    "\n",
    "    curPos = MakeMoves(curPos,curFace,numMoves)\n",
    "    curFace = Rotate(curFace,rotDir)\n",
    "    \n",
    "    # print(curPos,curFace)\n",
    "    \n",
    "    # printMap = thisMap.copy()\n",
    "    # printMap[curPos[0],curPos[1]] = 3\n",
    "    # print(printMap)\n",
    "    # print('--')\n",
    "\n",
    "# And make last move    \n",
    "numMoves = int(insSplit[-1])\n",
    "curPos = MakeMoves(curPos,curFace,numMoves)\n",
    "print(curPos,curFace)"
   ]
  },
  {
   "cell_type": "code",
   "execution_count": 227,
   "metadata": {},
   "outputs": [
    {
     "name": "stdout",
     "output_type": "stream",
     "text": [
      "6032\n"
     ]
    }
   ],
   "source": [
    "def calcScore(curPos,curFace):\n",
    "    \n",
    "    if curFace == 'E':\n",
    "        faceScore = 0\n",
    "    elif curFace == 'W':\n",
    "        faceScore = 2\n",
    "    elif curFace == 'N':\n",
    "        faceScore = 3\n",
    "    elif curFace == 'S':\n",
    "        faceScore = 1\n",
    "    \n",
    "    totScore = 1000 * (curPos[0]+1) + 4 * (curPos[1]+1) + faceScore\n",
    "    return totScore \n",
    "p1 = calcScore(curPos,curFace)\n",
    "print(p1)"
   ]
  },
  {
   "cell_type": "code",
   "execution_count": 228,
   "metadata": {},
   "outputs": [],
   "source": [
    "# print(thisMap)\n",
    "# inputs"
   ]
  },
  {
   "cell_type": "markdown",
   "metadata": {},
   "source": [
    "# Part 2"
   ]
  },
  {
   "cell_type": "code",
   "execution_count": 230,
   "metadata": {},
   "outputs": [
    {
     "data": {
      "text/plain": [
       "array([[0., 0., 0., 0., 0., 0., 0., 0., 1., 1., 1., 2., 0., 0., 0., 0.],\n",
       "       [0., 0., 0., 0., 0., 0., 0., 0., 1., 2., 1., 1., 0., 0., 0., 0.],\n",
       "       [0., 0., 0., 0., 0., 0., 0., 0., 2., 1., 1., 1., 0., 0., 0., 0.],\n",
       "       [0., 0., 0., 0., 0., 0., 0., 0., 1., 1., 1., 1., 0., 0., 0., 0.],\n",
       "       [1., 1., 1., 2., 1., 1., 1., 1., 1., 1., 1., 2., 0., 0., 0., 0.],\n",
       "       [1., 1., 1., 1., 1., 1., 1., 1., 2., 1., 1., 1., 0., 0., 0., 0.],\n",
       "       [1., 1., 2., 1., 1., 1., 1., 2., 1., 1., 1., 1., 0., 0., 0., 0.],\n",
       "       [1., 1., 1., 1., 1., 1., 1., 1., 1., 1., 2., 1., 0., 0., 0., 0.],\n",
       "       [0., 0., 0., 0., 0., 0., 0., 0., 1., 1., 1., 2., 1., 1., 1., 1.],\n",
       "       [0., 0., 0., 0., 0., 0., 0., 0., 1., 1., 1., 1., 1., 2., 1., 1.],\n",
       "       [0., 0., 0., 0., 0., 0., 0., 0., 1., 2., 1., 1., 1., 1., 1., 1.],\n",
       "       [0., 0., 0., 0., 0., 0., 0., 0., 1., 1., 1., 1., 1., 1., 2., 1.]])"
      ]
     },
     "execution_count": 230,
     "metadata": {},
     "output_type": "execute_result"
    }
   ],
   "source": [
    "thisMap"
   ]
  },
  {
   "cell_type": "markdown",
   "metadata": {},
   "source": [
    "# Old below"
   ]
  },
  {
   "cell_type": "code",
   "execution_count": null,
   "metadata": {},
   "outputs": [],
   "source": [
    "curPos = [10,11]\n",
    "\n",
    "thisMap = curMap.copy()\n",
    "\n",
    "\n",
    "# Move right\n",
    "def moveRight(thisMap,curPos,originalPos):\n",
    "    newX = curPos[1]+1\n",
    "    newX = newX % (wi-1)\n",
    "    newPos = [curPos[0],newX]\n",
    "    if (thisMap[newPos[0],newPos[1]]) == 1:\n",
    "        # Update position\n",
    "        curPos = newPos\n",
    "    elif (thisMap[newPos[0],newPos[1]]) == 0:\n",
    "        # Continue same direction, but starting at the current new position\n",
    "        thisMap,curPos = moveRight(thisMap,newPos,originalPos)\n",
    "    elif (thisMap[newPos[0],newPos[1]]) == 2:\n",
    "        # Stand still\n",
    "        return thisMap,originalPos\n",
    "    return thisMap,curPos  \n",
    "    \n",
    "# Move left\n",
    "def moveLeft(thisMap,curPos,originalPos):\n",
    "    newX = curPos[1] - 1\n",
    "    newX = newX % (wi-1)\n",
    "    newPos = [curPos[0],newX]\n",
    "    if (thisMap[newPos[0],newPos[1]]) == 1:\n",
    "        # Update position\n",
    "        curPos = newPos\n",
    "    elif (thisMap[newPos[0],newPos[1]]) == 0:\n",
    "        # Continue same direction, but starting at the current new position\n",
    "        thisMap,curPos = moveLeft(thisMap,newPos,originalPos)\n",
    "    elif (thisMap[newPos[0],newPos[1]]) == 2:\n",
    "        # Stand still, return original position\n",
    "        return thisMap,originalPos\n",
    "\n",
    "    return thisMap,curPos  \n",
    "    \n",
    "# Move up\n",
    "def moveUp(thisMap,curPos,originalPos):\n",
    "    newY = curPos[0] - 1\n",
    "    newY = newY % (he)\n",
    "    newPos = [newY,curPos[1]]\n",
    "    if (thisMap[newPos[0],newPos[1]]) == 1:\n",
    "        # Update position\n",
    "        curPos = newPos\n",
    "    elif (thisMap[newPos[0],newPos[1]]) == 0:\n",
    "        # Continue same direction, but starting at the current new position\n",
    "        thisMap,curPos = moveUp(thisMap,newPos,originalPos)\n",
    "    elif (thisMap[newPos[0],newPos[1]]) == 2:\n",
    "        # Stand still, return original position\n",
    "        return thisMap,originalPos\n",
    "\n",
    "    return thisMap,curPos  \n",
    "    \n",
    "# Move down\n",
    "def moveDown(thisMap,curPos,originalPos):\n",
    "    newY = curPos[0] + 1\n",
    "    newY = newY % (he)\n",
    "    newPos = [newY,curPos[1]]\n",
    "    if (thisMap[newPos[0],newPos[1]]) == 1:\n",
    "        # Update position\n",
    "        curPos = newPos\n",
    "    elif (thisMap[newPos[0],newPos[1]]) == 0:\n",
    "        # Continue same direction, but starting at the current new position\n",
    "        thisMap,curPos = moveDown(thisMap,newPos,originalPos)\n",
    "    elif (thisMap[newPos[0],newPos[1]]) == 2:\n",
    "        # Stand still, return original position\n",
    "        return thisMap,originalPos\n",
    "\n",
    "    return thisMap,curPos  \n",
    "\n",
    "# thisMap,curPos = moveDown(thisMap,curPos,curPos)\n",
    "# printMap = thisMap.copy()\n",
    "# printMap[curPos[0],curPos[1]] = 3\n",
    "# print(printMap)\n",
    "# print('--')\n",
    "# thisMap,curPos = moveDown(thisMap,curPos,curPos)\n",
    "# printMap = thisMap.copy()\n",
    "# printMap[curPos[0],curPos[1]] = 3\n",
    "# print(printMap)\n",
    "# print('--')\n",
    "# thisMap,curPos = moveDown(thisMap,curPos,curPos)\n",
    "# printMap = thisMap.copy()\n",
    "# printMap[curPos[0],curPos[1]] = 3\n",
    "# print(printMap)\n",
    "# # thisMap,curPos = moveLeft(thisMap,curPos)\n",
    "# # print(curPos)\n",
    "# # thisMap,curPos = moveLeft(thisMap,curPos)\n",
    "# # print(curPos)\n",
    "# # thisMap,curPos = moveLeft(thisMap,curPos)\n",
    "# # print(curPos)\n",
    "# # thisMap,curPos = moveLeft(thisMap,curPos)\n",
    "# # print(curPos)\n",
    "# # thisMap,curPos = moveLeft(thisMap,curPos)\n",
    "# # print(curPos)"
   ]
  },
  {
   "cell_type": "code",
   "execution_count": null,
   "metadata": {},
   "outputs": [],
   "source": [
    "curPos = [2,9]\n",
    "\n",
    "thisMap = curMap.copy()\n",
    "thisMap[curPos[0],curPos[1]] = 3\n",
    "# thisMap[0,0:5] \n",
    "display(thisMap)\n",
    "\n",
    "\n",
    "numMoves = 1 \n",
    "# Move right\n",
    "def moveRight(thisMap,curPos):\n",
    "    newX = curPos[1]+1\n",
    "    newX = newX % (wi-1)\n",
    "    # print(newX)\n",
    "    newPos = [curPos[0],newX]\n",
    "    # thisMap[newPos[0],newPos[1]]\n",
    "    if (thisMap[newPos[0],newPos[1]]) == 1:\n",
    "        # # While debugging\n",
    "        # thisMap[newPos[0],newPos[1]] = 3\n",
    "        # thisMap[curPos[0],curPos[1]] = 8\n",
    "        # Update position\n",
    "        curPos = newPos\n",
    "    elif (thisMap[newPos[0],newPos[1]]) == 0:\n",
    "        print(newPos)\n",
    "        # newPos = [newPos[0],newPos[1]+1]\n",
    "        thisMap,curPos = moveRight(thisMap,newPos)\n",
    "    elif (thisMap[newPos[0],newPos[1]]) == 2:\n",
    "        # Stand still\n",
    "        2+2\n",
    "    return thisMap,curPos  \n",
    "# thisMap,curPos = moveRight(thisMap,curPos)\n",
    "# thisMap,curPos = moveRight(thisMap,curPos)\n",
    "# thisMap,curPos = moveRight(thisMap,curPos)\n",
    "# thisMap,curPos = moveRight(thisMap,curPos)\n",
    "\n",
    "thisMap,curPos = moveRight(thisMap,curPos) \n",
    "thisMap = curMap.copy()\n",
    "thisMap[curPos[0],curPos[1]] = 3\n",
    "display(thisMap,curPos)\n",
    "\n",
    "thisMap,curPos = moveRight(thisMap,curPos) \n",
    "thisMap = curMap.copy()\n",
    "thisMap[curPos[0],curPos[1]] = 3\n",
    "display(thisMap,curPos)\n",
    "thisMap,curPos = moveRight(thisMap,curPos) \n",
    "thisMap = curMap.copy()\n",
    "thisMap[curPos[0],curPos[1]] = 3\n",
    "display(thisMap,curPos)"
   ]
  },
  {
   "cell_type": "code",
   "execution_count": null,
   "metadata": {},
   "outputs": [],
   "source": []
  }
 ],
 "metadata": {
  "kernelspec": {
   "display_name": "Python 3.10.0 ('main')",
   "language": "python",
   "name": "python3"
  },
  "language_info": {
   "codemirror_mode": {
    "name": "ipython",
    "version": 3
   },
   "file_extension": ".py",
   "mimetype": "text/x-python",
   "name": "python",
   "nbconvert_exporter": "python",
   "pygments_lexer": "ipython3",
   "version": "3.10.0"
  },
  "orig_nbformat": 4,
  "vscode": {
   "interpreter": {
    "hash": "e6af94e5c5af6f455ad39eba9e20d9ee46a7c0c9ebf8b81ae3b0b6f1a6d45f70"
   }
  }
 },
 "nbformat": 4,
 "nbformat_minor": 2
}
