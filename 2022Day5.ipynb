{
 "cells": [
  {
   "cell_type": "code",
   "execution_count": 1,
   "metadata": {},
   "outputs": [],
   "source": [
    "# Import packages\n",
    "import numpy as np\n",
    "curDay = 5\n",
    "\n",
    "# Download input file\n",
    "from download_inputs import download_inputs\n",
    "\n",
    "# download_inputs(curDay)"
   ]
  },
  {
   "cell_type": "code",
   "execution_count": 27,
   "metadata": {},
   "outputs": [
    {
     "name": "stdout",
     "output_type": "stream",
     "text": [
      "Done loading input\n"
     ]
    }
   ],
   "source": [
    "# Load input into workspace\n",
    "filename = f'inputs\\\\day{curDay}.txt'\n",
    "# filename = f'inputs\\\\day{curDay}test.txt'\n",
    "# filename = f'inputs\\\\day{curDay}test2.txt'\n",
    "# curIn = np.loadtxt(filename)\n",
    "\n",
    "\n",
    "# filename= 'inputs\\\\asdf.txt'\n",
    "\n",
    "# Start by loading the data\n",
    "inputFile = open(filename)\n",
    "inputs = []\n",
    "inputs = [s for s in inputFile.read().splitlines()]\n",
    "\n",
    "print('Done loading input')"
   ]
  },
  {
   "cell_type": "code",
   "execution_count": 28,
   "metadata": {},
   "outputs": [],
   "source": [
    "# Find start\n",
    "for i in range(len(inputs)):\n",
    "    if inputs[i] == '': \n",
    "        iniStack = inputs[:i-1]\n",
    "        instr = inputs[i+1:]\n",
    "        numStacks = int(inputs[i-1].split(' ')[-2])\n",
    "        break\n",
    "iniStack\n",
    "# print(iniStack)\n",
    "# print(numStacks)\n",
    "curSt = list()\n",
    "\n",
    "\n",
    "# # Hardcoded stacks\n",
    "# curSt.append('ZN')\n",
    "# curSt.append('MCD')\n",
    "# curSt.append('P')\n",
    "curSt\n",
    "\n",
    "# curSt = list()\n",
    "curSt.append('GFVHPS')\n",
    "curSt.append('GJFBVDZM')\n",
    "curSt.append('GMLJN')\n",
    "curSt.append('NGZVDWP')\n",
    "curSt.append('VRCB')\n",
    "curSt.append('VRSMPWLZ')\n",
    "curSt.append('THP')\n",
    "curSt.append('QRSNCHZV')\n",
    "curSt.append('FLGPVQJ')\n",
    "\n",
    "# for i in range(len(iniStack)):\n",
    "#     curL = iniStack[i]\n",
    "#     sp2 = curL.split('    ')\n",
    "#     sp1 = curL.split(' ')\n",
    "#     sp1 = curL.split('[')\n",
    "#     print(sp1)\n",
    "#     print(sp2)\n",
    "    \n",
    "#     for s in range(numStacks):\n",
    "#         print(s)\n",
    "#         print(sp1[s])\n",
    "        \n",
    "curStBackup = curSt.copy()\n",
    "\n"
   ]
  },
  {
   "cell_type": "code",
   "execution_count": 29,
   "metadata": {},
   "outputs": [
    {
     "name": "stdout",
     "output_type": "stream",
     "text": [
      "['GFVHPS', 'GJFBVDZM', 'GMLJN', 'NGZVDWP', 'VRCB', 'VRSMPWLZ', 'THP', 'QRSNCHZV', 'FLGPVQJ']\n",
      "['SF', 'NSGPVPHDZVRJGHC', 'HZNZCVPBSMLWV', 'GDWVMPLR', 'NRL', 'BJGJVQFFGZTM', 'V', 'Q', 'P']\n"
     ]
    }
   ],
   "source": [
    "# thisi = instr[0]\n",
    "# numMove,rem = thisi.split('move ')[1].split(' from ')\n",
    "# numMove = int(numMove)\n",
    "# staIni,staEnd = rem.split(' to ')\n",
    "# staIni = int(staIni)\n",
    "# staEnd = int(staEnd)\n",
    "\n",
    "curSt = curStBackup.copy()\n",
    "print(curSt)\n",
    "\n",
    "def makeMove(stacks,ini,end):\n",
    "    \n",
    "    toMove = stacks[ini-1][-1]\n",
    "    stacks[ini-1] = stacks[ini-1][:-1]\n",
    "\n",
    "    stacks[end-1] = stacks[end-1] + toMove\n",
    "\n",
    "    return stacks \n",
    "\n",
    "\n",
    "\n",
    "for li in range(len(instr)):\n",
    "    thisi = instr[li]\n",
    "    numMove,rem = thisi.split('move ')[1].split(' from ')\n",
    "    numMove = int(numMove)\n",
    "    staIni,staEnd = rem.split(' to ')\n",
    "    staIni = int(staIni)\n",
    "    staEnd = int(staEnd)\n",
    "\n",
    "    for m in range(numMove):\n",
    "        curSt = makeMove(curSt,staIni,staEnd)\n",
    "\n",
    "\n",
    "print(curSt)\n",
    "\n",
    "\n"
   ]
  },
  {
   "cell_type": "code",
   "execution_count": null,
   "metadata": {},
   "outputs": [],
   "source": [
    "\n"
   ]
  },
  {
   "cell_type": "code",
   "execution_count": 30,
   "metadata": {},
   "outputs": [
    {
     "name": "stdout",
     "output_type": "stream",
     "text": [
      "FCVRLMVQP\n"
     ]
    }
   ],
   "source": [
    "# Print result\n",
    "p1 = ''\n",
    "for s in curSt:\n",
    "    p1 = p1 + s[-1]\n",
    "print(p1)"
   ]
  },
  {
   "cell_type": "code",
   "execution_count": 31,
   "metadata": {},
   "outputs": [
    {
     "name": "stdout",
     "output_type": "stream",
     "text": [
      "['GFVHPS', 'GJFBVDZM', 'GMLJN', 'NGZVDWP', 'VRCB', 'VRSMPWLZ', 'THP', 'QRSNCHZV', 'FLGPVQJ']\n",
      "['VR', 'VNZPVHBLGVSHJFW', 'NGPPRMNGZVDFL', 'CSZHCZJW', 'VMG', 'MQBQVRPLTPSJ', 'G', 'F', 'D']\n"
     ]
    }
   ],
   "source": [
    "\n",
    "curSt = curStBackup.copy()\n",
    "print(curSt)\n",
    "\n",
    "def makeMoveMulti(stacks,ini,end,num):\n",
    "    \n",
    "    toMove = stacks[ini-1][-num:]\n",
    "    stacks[ini-1] = stacks[ini-1][:-num]\n",
    "\n",
    "    stacks[end-1] = stacks[end-1] + toMove\n",
    "\n",
    "    return stacks \n",
    "\n",
    "\n",
    "thisi = instr[0]\n",
    "numMove,rem = thisi.split('move ')[1].split(' from ')\n",
    "numMove = int(numMove)\n",
    "staIni,staEnd = rem.split(' to ')\n",
    "staIni = int(staIni)\n",
    "staEnd = int(staEnd)\n",
    "\n",
    "\n",
    "numMove = 2\n",
    "\n",
    "# makeMoveMulti(curSt.copy(),staIni,staEnd,numMove)\n",
    "\n",
    "for li in range(len(instr)):\n",
    "    thisi = instr[li]\n",
    "    numMove,rem = thisi.split('move ')[1].split(' from ')\n",
    "    numMove = int(numMove)\n",
    "    staIni,staEnd = rem.split(' to ')\n",
    "    staIni = int(staIni)\n",
    "    staEnd = int(staEnd)\n",
    "\n",
    "    curSt = makeMoveMulti(curSt,staIni,staEnd,numMove)\n",
    "\n",
    "#     for m in range(numMove):\n",
    "#         curSt = makeMove(curSt,staIni,staEnd)\n",
    "\n",
    "\n",
    "print(curSt)\n",
    "\n",
    "\n"
   ]
  },
  {
   "cell_type": "code",
   "execution_count": 32,
   "metadata": {},
   "outputs": [
    {
     "name": "stdout",
     "output_type": "stream",
     "text": [
      "RWLWGJGFD\n"
     ]
    }
   ],
   "source": [
    "# Print result\n",
    "p2 = ''\n",
    "for s in curSt:\n",
    "    p2 = p2 + s[-1]\n",
    "print(p2)"
   ]
  }
 ],
 "metadata": {
  "kernelspec": {
   "display_name": "Python 3.10.0 ('main')",
   "language": "python",
   "name": "python3"
  },
  "language_info": {
   "codemirror_mode": {
    "name": "ipython",
    "version": 3
   },
   "file_extension": ".py",
   "mimetype": "text/x-python",
   "name": "python",
   "nbconvert_exporter": "python",
   "pygments_lexer": "ipython3",
   "version": "3.10.0"
  },
  "orig_nbformat": 4,
  "vscode": {
   "interpreter": {
    "hash": "e6af94e5c5af6f455ad39eba9e20d9ee46a7c0c9ebf8b81ae3b0b6f1a6d45f70"
   }
  }
 },
 "nbformat": 4,
 "nbformat_minor": 2
}
