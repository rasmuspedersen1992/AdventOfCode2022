{
 "cells": [
  {
   "cell_type": "code",
   "execution_count": 1,
   "metadata": {},
   "outputs": [
    {
     "name": "stdout",
     "output_type": "stream",
     "text": [
      "200\n"
     ]
    }
   ],
   "source": [
    "# Import packages\n",
    "import numpy as np\n",
    "curDay = 18\n",
    "\n",
    "# Download input file\n",
    "from download_inputs import download_inputs\n",
    "\n",
    "download_inputs(curDay)"
   ]
  },
  {
   "cell_type": "code",
   "execution_count": 351,
   "metadata": {},
   "outputs": [
    {
     "name": "stdout",
     "output_type": "stream",
     "text": [
      "Done loading input\n"
     ]
    }
   ],
   "source": [
    "# Load input into workspace\n",
    "filename = f'inputs\\\\day{curDay}.txt'\n",
    "# curIn = np.loadtxt(filename)\n",
    "\n",
    "inputFile = open(filename)\n",
    "inputs = []\n",
    "inputs = [s for s in inputFile.read().splitlines()]\n",
    "\n",
    "print('Done loading input')"
   ]
  },
  {
   "cell_type": "code",
   "execution_count": 352,
   "metadata": {},
   "outputs": [
    {
     "name": "stdout",
     "output_type": "stream",
     "text": [
      "Done loading test-input\n"
     ]
    }
   ],
   "source": [
    "# Load test-input into workspace\n",
    "filenameTest = f'inputs\\\\day{curDay}test.txt'\n",
    "\n",
    "inputFileTest = open(filenameTest)\n",
    "inputsTest = []\n",
    "inputsTest = [s for s in inputFileTest.read().splitlines()]\n",
    "\n",
    "print('Done loading test-input') "
   ]
  },
  {
   "cell_type": "code",
   "execution_count": 353,
   "metadata": {},
   "outputs": [],
   "source": [
    "curInput = inputsTest\n",
    "curInput = inputs\n",
    "# curInput = ['1,1,1','2,1,1']\n",
    "\n",
    "curAr = list()\n",
    "\n",
    "for ci in curInput:\n",
    "# for ci in inputs:\n",
    "    (x,y,z) = [int(s) for s in ci.split(',')]\n",
    "    \n",
    "    curAr.append([x,y,z])"
   ]
  },
  {
   "cell_type": "code",
   "execution_count": 354,
   "metadata": {},
   "outputs": [],
   "source": [
    "allX = list()\n",
    "allY = list()\n",
    "allZ = list()\n",
    "for c in curAr:\n",
    "    allX.append(c[0])\n",
    "    allY.append(c[1])\n",
    "    allZ.append(c[2])\n",
    "\n",
    "minX = np.min(allX)\n",
    "maxX = np.max(allX)\n",
    "minY = np.min(allY)\n",
    "maxY = np.max(allY)\n",
    "minZ = np.min(allZ)\n",
    "maxZ = np.max(allZ)\n",
    "\n",
    "# newAr = np.zeros((np.abs(maxX-minX)+1,np.abs(maxY-minY)+1,np.abs(maxZ-minZ)+1))\n",
    "# for c in curAr:\n",
    "#     newAr[c[0]-minX][c[1]-minY][c[2]-minZ] = 1\n",
    "newAr = np.zeros((maxX+2,maxY+2,maxZ+2))\n",
    "for c in curAr:\n",
    "    newAr[c[0]][c[1]][c[2]] = 1\n"
   ]
  },
  {
   "cell_type": "code",
   "execution_count": 355,
   "metadata": {},
   "outputs": [],
   "source": [
    "# newAr"
   ]
  },
  {
   "cell_type": "code",
   "execution_count": 356,
   "metadata": {},
   "outputs": [
    {
     "name": "stdout",
     "output_type": "stream",
     "text": [
      "Part 1, faster: 4512\n"
     ]
    }
   ],
   "source": [
    "totSides = 0\n",
    "for c in curAr:\n",
    "    # Check neighbours\n",
    "    # print(c)\n",
    "    curSides = 0\n",
    "    \n",
    "    if (newAr[c[0]][c[1]][c[2]+1] != 1):\n",
    "        newAr[c[0]][c[1]][c[2]+1] = 2\n",
    "        curSides += 1\n",
    "    if (newAr[c[0]][c[1]][c[2]-1] != 1):\n",
    "        newAr[c[0]][c[1]][c[2]-1] = 2\n",
    "        curSides += 1\n",
    "    if (newAr[c[0]][c[1]+1][c[2]] != 1):\n",
    "        newAr[c[0]][c[1]+1][c[2]] = 2\n",
    "        curSides += 1\n",
    "    if (newAr[c[0]][c[1]-1][c[2]] != 1):\n",
    "        newAr[c[0]][c[1]-1][c[2]] = 2\n",
    "        curSides += 1\n",
    "    if (newAr[c[0]+1][c[1]][c[2]] != 1):\n",
    "        newAr[c[0]+1][c[1]][c[2]] = 2\n",
    "        curSides += 1\n",
    "    if (newAr[c[0]-1][c[1]][c[2]] != 1):\n",
    "        newAr[c[0]-1][c[1]][c[2]] = 2\n",
    "        curSides += 1\n",
    "    totSides += curSides\n",
    "p1 = totSides \n",
    "print('Part 1, faster:',p1)"
   ]
  },
  {
   "cell_type": "code",
   "execution_count": null,
   "metadata": {},
   "outputs": [],
   "source": []
  },
  {
   "cell_type": "code",
   "execution_count": 359,
   "metadata": {},
   "outputs": [
    {
     "name": "stdout",
     "output_type": "stream",
     "text": [
      "Part 2: 2554\n"
     ]
    }
   ],
   "source": [
    "numIter = 10\n",
    "for i in range(numIter):\n",
    "        \n",
    "    for x in range(maxX+1):\n",
    "        for y in range(maxY+1):\n",
    "            for z in range(maxZ+1):\n",
    "                if newAr[x][y][z] == 2:\n",
    "                    # Check if neighbours are zeros\n",
    "                    if (newAr[x+1][y][z] == 0) :\n",
    "                        newAr[x+1][y][z] = 2\n",
    "                    if (newAr[x-1][y][z] == 0) :\n",
    "                        newAr[x-1][y][z] = 2\n",
    "                    if (newAr[x][y+1][z] == 0) :\n",
    "                        newAr[x][y+1][z] = 2\n",
    "                    if (newAr[x][y-1][z] == 0) :\n",
    "                        newAr[x][y-1][z] = 2\n",
    "                    if (newAr[x][y][z+1] == 0) :\n",
    "                        newAr[x][y][z+1] = 2\n",
    "                    if (newAr[x][y][z-1] == 0) :\n",
    "                        newAr[x][y][z-1] = 2\n",
    "\n",
    "\n",
    "# Make a single 0, just to avoid trouble\n",
    "newAr[0][0][0] = 0\n",
    "\n",
    "numIter = 100\n",
    "for i in range(numIter):\n",
    "        \n",
    "    for x in range(maxX+1):\n",
    "        for y in range(maxY+1):\n",
    "            for z in range(maxZ+1):\n",
    "                if newAr[x][y][z] == 0:\n",
    "                    # Check if neighbours are twos\n",
    "                    if (newAr[x+1][y][z] == 2) :\n",
    "                        newAr[x+1][y][z] = 0\n",
    "                    if (newAr[x-1][y][z] == 2) :\n",
    "                        newAr[x-1][y][z] = 0\n",
    "                    if (newAr[x][y+1][z] == 2) :\n",
    "                        newAr[x][y+1][z] = 0\n",
    "                    if (newAr[x][y-1][z] == 2) :\n",
    "                        newAr[x][y-1][z] = 0\n",
    "                    if (newAr[x][y][z+1] == 2) :\n",
    "                        newAr[x][y][z+1] = 0\n",
    "                    if (newAr[x][y][z-1] == 2) :\n",
    "                        newAr[x][y][z-1] = 0\n",
    "                        # \n",
    "\n",
    "\n",
    "curTotSides = 0\n",
    "\n",
    "for x in range(maxX+1):\n",
    "    for y in range(maxY+1):\n",
    "        for z in range(maxZ+1):\n",
    "            if newAr[x][y][z] == 1:\n",
    "                toAdd = 0\n",
    "                # Check if neighbours are zeros\n",
    "                if (newAr[x+1][y][z] == 0) :\n",
    "                    toAdd += 1\n",
    "                if (newAr[x-1][y][z] == 0) :\n",
    "                    toAdd += 1\n",
    "                if (newAr[x][y+1][z] == 0) :\n",
    "                    toAdd += 1\n",
    "                if (newAr[x][y-1][z] == 0) :\n",
    "                    toAdd += 1\n",
    "                if (newAr[x][y][z+1] == 0) :\n",
    "                    toAdd += 1\n",
    "                if (newAr[x][y][z-1] == 0) :\n",
    "                    toAdd += 1\n",
    "                    \n",
    "                curTotSides += toAdd\n",
    "curTotSides\n",
    "print('Part 2:',curTotSides)"
   ]
  },
  {
   "cell_type": "markdown",
   "metadata": {},
   "source": [
    "# Old ideas below"
   ]
  },
  {
   "cell_type": "code",
   "execution_count": 360,
   "metadata": {},
   "outputs": [
    {
     "ename": "NameError",
     "evalue": "name 'qwerqwerqwer' is not defined",
     "output_type": "error",
     "traceback": [
      "\u001b[1;31m---------------------------------------------------------------------------\u001b[0m",
      "\u001b[1;31mNameError\u001b[0m                                 Traceback (most recent call last)",
      "\u001b[1;32mc:\\Users\\rakrpe\\OneDrive - Roskilde Universitet\\Documents\\AdventOfCode2022\\2022Day18.ipynb Cell 11\u001b[0m in \u001b[0;36m<module>\u001b[1;34m\u001b[0m\n\u001b[1;32m----> <a href='vscode-notebook-cell:/c%3A/Users/rakrpe/OneDrive%20-%20Roskilde%20Universitet/Documents/AdventOfCode2022/2022Day18.ipynb#X42sZmlsZQ%3D%3D?line=0'>1</a>\u001b[0m qwerqwerqwer\n",
      "\u001b[1;31mNameError\u001b[0m: name 'qwerqwerqwer' is not defined"
     ]
    }
   ],
   "source": [
    "qwerqwerqwer # To stop when clicking \"Run All\""
   ]
  },
  {
   "cell_type": "code",
   "execution_count": 339,
   "metadata": {},
   "outputs": [],
   "source": [
    "newAr\n",
    "\n",
    "numIter = 1000\n",
    "for i in range(numIter):\n",
    "        \n",
    "    for x in range(maxX+1):\n",
    "        for y in range(maxY+1):\n",
    "            for z in range(maxZ+1):\n",
    "                if newAr[x][y][z] == 0:\n",
    "                    # Check if neighbours are twos\n",
    "                    if (newAr[x+1][y][z] == 2) :\n",
    "                        newAr[x+1][y][z] = 0\n",
    "                    if (newAr[x-1][y][z] == 2) :\n",
    "                        newAr[x-1][y][z] = 0\n",
    "                    if (newAr[x][y+1][z] == 2) :\n",
    "                        newAr[x][y+1][z] = 0\n",
    "                    if (newAr[x][y-1][z] == 2) :\n",
    "                        newAr[x][y-1][z] = 0\n",
    "                    if (newAr[x][y][z+1] == 2) :\n",
    "                        newAr[x][y][z+1] = 0\n",
    "                    if (newAr[x][y][z-1] == 2) :\n",
    "                        newAr[x][y][z-1] = 0\n",
    "                        # "
   ]
  },
  {
   "cell_type": "code",
   "execution_count": 343,
   "metadata": {},
   "outputs": [
    {
     "data": {
      "text/plain": [
       "array([[[0., 0., 0., 0., 0., 0., 0., 0.],\n",
       "        [0., 0., 0., 0., 0., 0., 0., 0.],\n",
       "        [0., 0., 0., 0., 0., 0., 0., 0.],\n",
       "        [0., 0., 0., 0., 0., 0., 0., 0.],\n",
       "        [0., 0., 0., 0., 0., 0., 0., 0.]],\n",
       "\n",
       "       [[0., 0., 0., 0., 0., 0., 0., 0.],\n",
       "        [0., 0., 0., 0., 0., 0., 0., 0.],\n",
       "        [0., 0., 1., 0., 0., 1., 0., 0.],\n",
       "        [0., 0., 0., 0., 0., 0., 0., 0.],\n",
       "        [0., 0., 0., 0., 0., 0., 0., 0.]],\n",
       "\n",
       "       [[0., 0., 0., 0., 0., 0., 0., 0.],\n",
       "        [0., 0., 1., 0., 0., 1., 0., 0.],\n",
       "        [0., 1., 1., 1., 1., 2., 1., 0.],\n",
       "        [0., 0., 1., 0., 0., 1., 0., 0.],\n",
       "        [0., 0., 0., 0., 0., 0., 0., 0.]],\n",
       "\n",
       "       [[0., 0., 0., 0., 0., 0., 0., 0.],\n",
       "        [0., 0., 0., 0., 0., 0., 0., 0.],\n",
       "        [0., 0., 1., 0., 0., 1., 0., 0.],\n",
       "        [0., 0., 0., 0., 0., 0., 0., 0.],\n",
       "        [0., 0., 0., 0., 0., 0., 0., 0.]],\n",
       "\n",
       "       [[0., 0., 0., 0., 0., 0., 0., 0.],\n",
       "        [0., 0., 0., 0., 0., 0., 0., 0.],\n",
       "        [0., 0., 0., 0., 0., 0., 0., 0.],\n",
       "        [0., 0., 0., 0., 0., 0., 0., 0.],\n",
       "        [0., 0., 0., 0., 0., 0., 0., 0.]]])"
      ]
     },
     "execution_count": 343,
     "metadata": {},
     "output_type": "execute_result"
    }
   ],
   "source": [
    "# newAr == 0\n",
    "# newAr[0][3][7]\n",
    "# newAr[0][2][7]\n",
    "newAr"
   ]
  },
  {
   "cell_type": "code",
   "execution_count": 297,
   "metadata": {},
   "outputs": [
    {
     "data": {
      "text/plain": [
       "-212"
      ]
     },
     "execution_count": 297,
     "metadata": {},
     "output_type": "execute_result"
    }
   ],
   "source": [
    "# # Idea: For each two, check if it's connected to a zero. If it is, it's on the outside. PROBLEM: If there is a larger empty space in the middle there could be zeros in there as well\n",
    "curTotSides = totSides \n",
    "for x in range(maxX):\n",
    "    for y in range(maxY):\n",
    "        for z in range(maxZ):\n",
    "            if newAr[x][y][z] == 2:\n",
    "                hasZeroNeighbour = False \n",
    "                # Check if neighbours are zeros\n",
    "                if (newAr[x+1][y][z] == 0) :\n",
    "                    hasZeroNeighbour = True\n",
    "                if (newAr[x-1][y][z] == 0) :\n",
    "                    hasZeroNeighbour = True\n",
    "                if (newAr[x][y+1][z] == 0) :\n",
    "                    hasZeroNeighbour = True\n",
    "                if (newAr[x][y-1][z] == 0) :\n",
    "                    hasZeroNeighbour = True\n",
    "                if (newAr[x][y][z+1] == 0) :\n",
    "                    hasZeroNeighbour = True\n",
    "                if (newAr[x][y][z-1] == 0) :\n",
    "                    hasZeroNeighbour = True\n",
    "                # print(hasZeroNeighbour)\n",
    "\n",
    "                if hasZeroNeighbour == False:\n",
    "                    curTotSides -= 6\n",
    "curTotSides\n",
    "\n",
    "# Doesn't work...\n",
    "# Oh, wait, of course not, shouldn't subtract 6 always. Should remove number of \"1\" neighbours# # Idea: For each two, check if it's connected to a zero. If it is, it's on the outside. PROBLEM: If there is a larger empty space in the middle there could be zeros in there as well\n",
    "curTotSides = totSides \n",
    "for x in range(maxX):\n",
    "    for y in range(maxY):\n",
    "        for z in range(maxZ):\n",
    "            if newAr[x][y][z] == 2:\n",
    "                hasZeroNeighbour = False \n",
    "                # Check if neighbours are zeros\n",
    "                if (newAr[x+1][y][z] == 0) :\n",
    "                    hasZeroNeighbour = True\n",
    "                if (newAr[x-1][y][z] == 0) :\n",
    "                    hasZeroNeighbour = True\n",
    "                if (newAr[x][y+1][z] == 0) :\n",
    "                    hasZeroNeighbour = True\n",
    "                if (newAr[x][y-1][z] == 0) :\n",
    "                    hasZeroNeighbour = True\n",
    "                if (newAr[x][y][z+1] == 0) :\n",
    "                    hasZeroNeighbour = True\n",
    "                if (newAr[x][y][z-1] == 0) :\n",
    "                    hasZeroNeighbour = True\n",
    "                # print(hasZeroNeighbour)\n",
    "\n",
    "                if hasZeroNeighbour == False:\n",
    "                    curTotSides -= 6\n",
    "curTotSides\n",
    "\n",
    "# Doesn't work... Answer too low\n",
    "# Oh, wait, of course not, shouldn't subtract 6 always. Should remove number of \"1\" neighbours"
   ]
  },
  {
   "cell_type": "code",
   "execution_count": 281,
   "metadata": {},
   "outputs": [
    {
     "data": {
      "text/plain": [
       "2971"
      ]
     },
     "execution_count": 281,
     "metadata": {},
     "output_type": "execute_result"
    }
   ],
   "source": [
    "# Attempt at only subtracting when neighbour is 1\n",
    "curTotSides = totSides \n",
    "for x in range(maxX):\n",
    "    for y in range(maxY):\n",
    "        for z in range(maxZ):\n",
    "            if newAr[x][y][z] == 2:\n",
    "                hasZeroNeighbour = False \n",
    "                # Check if neighbours are zeros\n",
    "                if (newAr[x+1][y][z] == 0) :\n",
    "                    hasZeroNeighbour = True\n",
    "                if (newAr[x-1][y][z] == 0) :\n",
    "                    hasZeroNeighbour = True\n",
    "                if (newAr[x][y+1][z] == 0) :\n",
    "                    hasZeroNeighbour = True\n",
    "                if (newAr[x][y-1][z] == 0) :\n",
    "                    hasZeroNeighbour = True\n",
    "                if (newAr[x][y][z+1] == 0) :\n",
    "                    hasZeroNeighbour = True\n",
    "                if (newAr[x][y][z-1] == 0) :\n",
    "                    hasZeroNeighbour = True\n",
    "                # print(hasZeroNeighbour)\n",
    "\n",
    "                if hasZeroNeighbour == False:\n",
    "                    toRemove = 0\n",
    "                    # Check if neighbours are ones\n",
    "                    if (newAr[x+1][y][z] == 1) :\n",
    "                        toRemove += 1\n",
    "                    if (newAr[x-1][y][z] == 1) :\n",
    "                        toRemove += 1\n",
    "                    if (newAr[x][y+1][z] == 1) :\n",
    "                        toRemove += 1\n",
    "                    if (newAr[x][y-1][z] == 1) :\n",
    "                        toRemove += 1\n",
    "                    if (newAr[x][y][z+1] == 1) :\n",
    "                        toRemove += 1\n",
    "                    if (newAr[x][y][z-1] == 1) :\n",
    "                        toRemove += 1\n",
    "                    curTotSides -= toRemove\n",
    "curTotSides\n",
    "\n",
    "# Answer too high..."
   ]
  },
  {
   "cell_type": "code",
   "execution_count": 283,
   "metadata": {},
   "outputs": [],
   "source": []
  },
  {
   "cell_type": "code",
   "execution_count": 291,
   "metadata": {},
   "outputs": [
    {
     "data": {
      "text/plain": [
       "2386"
      ]
     },
     "execution_count": 291,
     "metadata": {},
     "output_type": "execute_result"
    }
   ],
   "source": [
    "numIter = 10\n",
    "for i in range(numIter):\n",
    "        \n",
    "    for x in range(maxX):\n",
    "        for y in range(maxY):\n",
    "            for z in range(maxZ):\n",
    "                if newAr[x][y][z] == 2:\n",
    "                    # Check if neighbours are zeros\n",
    "                    if (newAr[x+1][y][z] == 0) :\n",
    "                        newAr[x+1][y][z] = 2\n",
    "                    if (newAr[x-1][y][z] == 0) :\n",
    "                        newAr[x-1][y][z] = 2\n",
    "                    if (newAr[x][y+1][z] == 0) :\n",
    "                        newAr[x][y+1][z] = 2\n",
    "                    if (newAr[x][y-1][z] == 0) :\n",
    "                        newAr[x][y-1][z] = 2\n",
    "                    if (newAr[x][y][z+1] == 0) :\n",
    "                        newAr[x][y][z+1] = 2\n",
    "                    if (newAr[x][y][z-1] == 0) :\n",
    "                        newAr[x][y][z-1] = 2\n",
    "\n",
    "numIter = 100\n",
    "for i in range(numIter):\n",
    "        \n",
    "    for x in range(maxX):\n",
    "        for y in range(maxY):\n",
    "            for z in range(maxZ):\n",
    "                if newAr[x][y][z] == 0:\n",
    "                    # Check if neighbours are zeros\n",
    "                    if (newAr[x+1][y][z] == 2) :\n",
    "                        newAr[x+1][y][z] = 0\n",
    "                    if (newAr[x-1][y][z] == 2) :\n",
    "                        newAr[x-1][y][z] = 0\n",
    "                    if (newAr[x][y+1][z] == 2) :\n",
    "                        newAr[x][y+1][z] = 0\n",
    "                    if (newAr[x][y-1][z] == 2) :\n",
    "                        newAr[x][y-1][z] = 0\n",
    "                    if (newAr[x][y][z+1] == 2) :\n",
    "                        newAr[x][y][z+1] = 0\n",
    "                    if (newAr[x][y][z-1] == 2) :\n",
    "                        newAr[x][y][z-1] = 0\n",
    "                        # \n",
    "curTotSides = 0\n",
    "\n",
    "for x in range(maxX):\n",
    "    for y in range(maxY):\n",
    "        for z in range(maxZ):\n",
    "            if newAr[x][y][z] == 1:\n",
    "                toAdd = 0\n",
    "                # Check if neighbours are zeros\n",
    "                if (newAr[x+1][y][z] == 0) :\n",
    "                    toAdd += 1\n",
    "                if (newAr[x-1][y][z] == 0) :\n",
    "                    toAdd += 1\n",
    "                if (newAr[x][y+1][z] == 0) :\n",
    "                    toAdd += 1\n",
    "                if (newAr[x][y-1][z] == 0) :\n",
    "                    toAdd += 1\n",
    "                if (newAr[x][y][z+1] == 0) :\n",
    "                    toAdd += 1\n",
    "                if (newAr[x][y][z-1] == 0) :\n",
    "                    toAdd += 1\n",
    "                    \n",
    "                curTotSides += toAdd\n",
    "curTotSides\n",
    "\n",
    "# Gives 2386, still wrong"
   ]
  },
  {
   "cell_type": "code",
   "execution_count": 290,
   "metadata": {},
   "outputs": [
    {
     "data": {
      "text/plain": [
       "2386"
      ]
     },
     "execution_count": 290,
     "metadata": {},
     "output_type": "execute_result"
    }
   ],
   "source": []
  },
  {
   "cell_type": "code",
   "execution_count": null,
   "metadata": {},
   "outputs": [],
   "source": [
    "qwerqwer"
   ]
  },
  {
   "cell_type": "code",
   "execution_count": 247,
   "metadata": {},
   "outputs": [],
   "source": [
    "# Set all zeros next to 2's to 3\n",
    "curTotSides = totSides \n",
    "for x in range(maxX):\n",
    "    for y in range(maxY):\n",
    "        for z in range(maxZ):\n",
    "            if newAr[x][y][z] == 2:\n",
    "                # Check if neighbours are zeros\n",
    "                if (newAr[x+1][y][z] == 0) :\n",
    "                    newAr[x+1][y][z] = 3\n",
    "                if (newAr[x-1][y][z] == 0) :\n",
    "                    newAr[x-1][y][z] = 3\n",
    "                if (newAr[x][y+1][z] == 0) :\n",
    "                    newAr[x][y+1][z] = 3\n",
    "                if (newAr[x][y-1][z] == 0) :\n",
    "                    newAr[x][y-1][z] = 3\n",
    "                if (newAr[x][y][z+1] == 0) :\n",
    "                    newAr[x][y][z+1] = 3\n",
    "                if (newAr[x][y][z-1] == 0) :\n",
    "                    newAr[x][y][z-1] = 3\n",
    "# And all zeros next to 3's to 4\n",
    "curTotSides = totSides \n",
    "for x in range(maxX):\n",
    "    for y in range(maxY):\n",
    "        for z in range(maxZ):\n",
    "            if newAr[x][y][z] == 3:\n",
    "                # Check if neighbours are zeros\n",
    "                if (newAr[x+1][y][z] == 0) :\n",
    "                    newAr[x+1][y][z] = 4\n",
    "                if (newAr[x-1][y][z] == 0) :\n",
    "                    newAr[x-1][y][z] = 4\n",
    "                if (newAr[x][y+1][z] == 0) :\n",
    "                    newAr[x][y+1][z] = 4\n",
    "                if (newAr[x][y-1][z] == 0) :\n",
    "                    newAr[x][y-1][z] = 4\n",
    "                if (newAr[x][y][z+1] == 0) :\n",
    "                    newAr[x][y][z+1] = 4\n",
    "                if (newAr[x][y][z-1] == 0) :\n",
    "                    newAr[x][y][z-1] = 4"
   ]
  },
  {
   "cell_type": "code",
   "execution_count": 267,
   "metadata": {},
   "outputs": [],
   "source": [
    "# And then go the other way: 4's next to 0's turn into 0, 3's next to 0's turn into 0, 2's turn into zero\n",
    "for x in range(maxX):\n",
    "    for y in range(maxY):\n",
    "        for z in range(maxZ):\n",
    "            if newAr[x][y][z] == 0:\n",
    "                # Check if neighbours are zeros\n",
    "                if (newAr[x+1][y][z] == 4) :\n",
    "                    newAr[x+1][y][z] = 0\n",
    "                if (newAr[x-1][y][z] == 4) :\n",
    "                    newAr[x-1][y][z] = 0\n",
    "                if (newAr[x][y+1][z] == 4) :\n",
    "                    newAr[x][y+1][z] = 0\n",
    "                if (newAr[x][y-1][z] == 4) :\n",
    "                    newAr[x][y-1][z] = 0\n",
    "                if (newAr[x][y][z+1] == 4) :\n",
    "                    newAr[x][y][z+1] = 0\n",
    "                if (newAr[x][y][z-1] == 4) :\n",
    "                    newAr[x][y][z-1] = 0\n",
    "                    \n",
    "for x in range(maxX):\n",
    "    for y in range(maxY):\n",
    "        for z in range(maxZ):\n",
    "            if newAr[x][y][z] == 0:\n",
    "                # Check if neighbours are zeros\n",
    "                if (newAr[x+1][y][z] == 3) :\n",
    "                    newAr[x+1][y][z] = 0\n",
    "                if (newAr[x-1][y][z] == 3) :\n",
    "                    newAr[x-1][y][z] = 0\n",
    "                if (newAr[x][y+1][z] == 3) :\n",
    "                    newAr[x][y+1][z] = 0\n",
    "                if (newAr[x][y-1][z] == 3) :\n",
    "                    newAr[x][y-1][z] = 0\n",
    "                if (newAr[x][y][z+1] == 3) :\n",
    "                    newAr[x][y][z+1] = 0\n",
    "                if (newAr[x][y][z-1] == 3) :\n",
    "                    newAr[x][y][z-1] = 0\n",
    "                    \n",
    "for x in range(maxX):\n",
    "    for y in range(maxY):\n",
    "        for z in range(maxZ):\n",
    "            if newAr[x][y][z] == 0:\n",
    "                # Check if neighbours are zeros\n",
    "                if (newAr[x+1][y][z] == 2) :\n",
    "                    newAr[x+1][y][z] = 0\n",
    "                if (newAr[x-1][y][z] == 2) :\n",
    "                    newAr[x-1][y][z] = 0\n",
    "                if (newAr[x][y+1][z] == 2) :\n",
    "                    newAr[x][y+1][z] = 0\n",
    "                if (newAr[x][y-1][z] == 2) :\n",
    "                    newAr[x][y-1][z] = 0\n",
    "                if (newAr[x][y][z+1] == 2) :\n",
    "                    newAr[x][y][z+1] = 0\n",
    "                if (newAr[x][y][z-1] == 2) :\n",
    "                    newAr[x][y][z-1] = 0"
   ]
  },
  {
   "cell_type": "code",
   "execution_count": 274,
   "metadata": {},
   "outputs": [],
   "source": [
    "# newAr[2]"
   ]
  },
  {
   "cell_type": "code",
   "execution_count": 288,
   "metadata": {},
   "outputs": [
    {
     "data": {
      "text/plain": [
       "2386"
      ]
     },
     "execution_count": 288,
     "metadata": {},
     "output_type": "execute_result"
    }
   ],
   "source": [
    "# \n",
    "curTotSides = 0\n",
    "\n",
    "for x in range(maxX):\n",
    "    for y in range(maxY):\n",
    "        for z in range(maxZ):\n",
    "            if newAr[x][y][z] == 1:\n",
    "                toAdd = 0\n",
    "                # Check if neighbours are zeros\n",
    "                if (newAr[x+1][y][z] == 0) :\n",
    "                    toAdd += 1\n",
    "                if (newAr[x-1][y][z] == 0) :\n",
    "                    toAdd += 1\n",
    "                if (newAr[x][y+1][z] == 0) :\n",
    "                    toAdd += 1\n",
    "                if (newAr[x][y-1][z] == 0) :\n",
    "                    toAdd += 1\n",
    "                if (newAr[x][y][z+1] == 0) :\n",
    "                    toAdd += 1\n",
    "                if (newAr[x][y][z-1] == 0) :\n",
    "                    toAdd += 1\n",
    "                    \n",
    "                curTotSides += toAdd\n",
    "curTotSides\n"
   ]
  },
  {
   "cell_type": "code",
   "execution_count": 273,
   "metadata": {},
   "outputs": [
    {
     "data": {
      "text/plain": [
       "4512"
      ]
     },
     "execution_count": 273,
     "metadata": {},
     "output_type": "execute_result"
    }
   ],
   "source": []
  },
  {
   "cell_type": "code",
   "execution_count": 250,
   "metadata": {},
   "outputs": [],
   "source": [
    "\n",
    "# # Slow solution to part 1, used initially\n",
    "\n",
    "# totFreeSides = 0\n",
    "# for c in curAr:\n",
    "#     curFreeSides = 6\n",
    "#     # Check neighbours\n",
    "#     for other in curAr:\n",
    "#         if other != c:\n",
    "#             # print(c)\n",
    "#             # print(np.abs(c[0] - other[0]))\n",
    "#             curDiff = np.abs(np.array(c)-np.array(other))\n",
    "#             if (curDiff[0] == 1) & (curDiff[1] == 0) & (curDiff[2] == 0):\n",
    "#                 curFreeSides -= 1\n",
    "#             if (curDiff[0] == 0) & (curDiff[1] == 1) & (curDiff[2] == 0):\n",
    "#                 curFreeSides -= 1\n",
    "#             if (curDiff[0] == 0) & (curDiff[1] == 0) & (curDiff[2] == 1):\n",
    "#                 curFreeSides -= 1\n",
    "#             # if ((np.abs(c[0] - other[0]) <= 1) & (np.abs(c[1] - other[1]) <= 1) & (np.abs(c[2] - other[2]) <= 1)):\n",
    "#             #     curFreeSides -= 1\n",
    "                \n",
    "#             # print(other,c,curFreeSides) \n",
    "#     # print(c,curFreeSides)\n",
    "#     totFreeSides += curFreeSides\n",
    "\n",
    "\n",
    "# p1 = totFreeSides\n",
    "# print('Part 1:',str(p1))"
   ]
  },
  {
   "cell_type": "code",
   "execution_count": 110,
   "metadata": {},
   "outputs": [],
   "source": [
    "\n",
    "# import matplotlib.pyplot as plt \n",
    "# %matplotlib widget\n",
    "\n",
    "# fig = plt.figure()\n",
    "# ax = fig.add_subplot(projection='3d')\n",
    "# ax.scatter(allX,allY,allZ)\n",
    "# # fig,allAxes = plt.subplots(1,3,figsize=(15,10))\n",
    "\n",
    "# # allAxes.flatten()[0].plot(allX,allY,'*')\n",
    "# # allAxes.flatten()[1].plot(allX,allZ,'*')\n",
    "# # allAxes.flatten()[2].plot(allY,allZ,'*')\n",
    "# # allAxes.flatten()[0].plot(allX,allY,'*')\n",
    "# # allAxes.flatten()[0].plot(allX,allY,'*')"
   ]
  }
 ],
 "metadata": {
  "kernelspec": {
   "display_name": "Python 3.10.0 ('main')",
   "language": "python",
   "name": "python3"
  },
  "language_info": {
   "codemirror_mode": {
    "name": "ipython",
    "version": 3
   },
   "file_extension": ".py",
   "mimetype": "text/x-python",
   "name": "python",
   "nbconvert_exporter": "python",
   "pygments_lexer": "ipython3",
   "version": "3.10.0"
  },
  "orig_nbformat": 4,
  "vscode": {
   "interpreter": {
    "hash": "e6af94e5c5af6f455ad39eba9e20d9ee46a7c0c9ebf8b81ae3b0b6f1a6d45f70"
   }
  }
 },
 "nbformat": 4,
 "nbformat_minor": 2
}
