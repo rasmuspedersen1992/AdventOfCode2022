{
 "cells": [
  {
   "cell_type": "code",
   "execution_count": 5,
   "metadata": {},
   "outputs": [
    {
     "name": "stdout",
     "output_type": "stream",
     "text": [
      "200\n"
     ]
    }
   ],
   "source": [
    "# Import packages\n",
    "import numpy as np\n",
    "curDay = 8\n",
    "\n",
    "# Download input file\n",
    "from download_inputs import download_inputs\n",
    "\n",
    "download_inputs(curDay)"
   ]
  },
  {
   "cell_type": "code",
   "execution_count": 6,
   "metadata": {},
   "outputs": [
    {
     "name": "stdout",
     "output_type": "stream",
     "text": [
      "Done loading input\n"
     ]
    }
   ],
   "source": [
    "# Load input into workspace\n",
    "filename = f'inputs\\\\day{curDay}.txt'\n",
    "# curIn = np.loadtxt(filename)\n",
    "\n",
    "inputFile = open(filename)\n",
    "inputs = []\n",
    "inputs = [s for s in inputFile.read().splitlines()]\n",
    "\n",
    "print('Done loading input')"
   ]
  },
  {
   "cell_type": "code",
   "execution_count": 8,
   "metadata": {},
   "outputs": [
    {
     "name": "stdout",
     "output_type": "stream",
     "text": [
      "Done loading test-input\n"
     ]
    }
   ],
   "source": [
    "# Load test-input into workspace\n",
    "filenameTest = f'inputs\\\\day{curDay}test.txt'\n",
    "\n",
    "inputFileTest = open(filenameTest)\n",
    "inputsTest = []\n",
    "inputsTest = [s for s in inputFileTest.read().splitlines()]\n",
    "\n",
    "print('Done loading test-input')"
   ]
  },
  {
   "cell_type": "code",
   "execution_count": 88,
   "metadata": {},
   "outputs": [
    {
     "name": "stdout",
     "output_type": "stream",
     "text": [
      "Solution to part 1: 1719\n"
     ]
    }
   ],
   "source": [
    "curInput = inputsTest \n",
    "curInput = inputs\n",
    "\n",
    "he = len(curInput)\n",
    "wi = len(curInput[0])\n",
    "\n",
    "visGrid = np.ones((he,wi))\n",
    "\n",
    "for x in range(1,wi-1):\n",
    "    for y in range(1,he-1):\n",
    "        curH = int(curInput[y][x])\n",
    "\n",
    "        curVi = True \n",
    "        curVi_n = True\n",
    "        curVi_e = True\n",
    "        curVi_s = True\n",
    "        curVi_w = True\n",
    "        \n",
    "        # From left\n",
    "        for x2 in range(0,x):\n",
    "            h2 = int(curInput[y][x2])\n",
    "            if h2 >= curH:\n",
    "                curVi_w = False \n",
    "\n",
    "        # From right\n",
    "        for x2 in range(x+1,wi):\n",
    "            h2 = int(curInput[y][x2])\n",
    "            if h2 >= curH:\n",
    "                curVi_e = False \n",
    "\n",
    "        # From top\n",
    "        for y2 in range(0,y):\n",
    "            h2 = int(curInput[y2][x])\n",
    "            if h2 >= curH:\n",
    "                curVi_n = False \n",
    "\n",
    "        # From bottom\n",
    "        for y2 in range(y+1,he):\n",
    "            h2 = int(curInput[y2][x])\n",
    "            if h2 >= curH:\n",
    "                curVi_s= False \n",
    "\n",
    "        visGrid[y][x] = (curVi_n | curVi_s | curVi_e | curVi_w)\n",
    "\n",
    "p1 = np.sum(visGrid)\n",
    "print(f'Solution to part 1: {p1:.0f}')"
   ]
  },
  {
   "cell_type": "code",
   "execution_count": 84,
   "metadata": {},
   "outputs": [
    {
     "name": "stdout",
     "output_type": "stream",
     "text": [
      "Solution to part 2: 590824\n"
     ]
    }
   ],
   "source": [
    "# Prt 2\n",
    "curInput = inputsTest \n",
    "curInput = inputs\n",
    "\n",
    "he = len(curInput)\n",
    "wi = len(curInput[0])\n",
    "\n",
    "scoreGrid = np.ones((he,wi))\n",
    "\n",
    "# Solutions could be on the edge... Lets hope they aren't\n",
    "for x in range(1,wi-1):\n",
    "    for y in range(1,he-1):\n",
    "        curH = int(curInput[y][x])\n",
    "        \n",
    "        curVi = True \n",
    "        curVi_n = True\n",
    "        curVi_e = True\n",
    "        curVi_s = True\n",
    "        curVi_w = True\n",
    "\n",
    "        num_n = 0\n",
    "        num_e = 0\n",
    "        num_s = 0\n",
    "        num_w = 0\n",
    "\n",
    "        # print('-')\n",
    "        # print(f'({x},{y}): {curH}')\n",
    "\n",
    "        # From left\n",
    "        for x2 in range(x-1,-1,-1):\n",
    "            if curVi_w:\n",
    "                num_w += 1 \n",
    "            # else:\n",
    "            h2 = int(curInput[y][x2])\n",
    "            if h2 >= curH:\n",
    "                curVi_w = False \n",
    "\n",
    "        # From right\n",
    "        for x2 in range(x+1,wi):\n",
    "            if curVi_e:\n",
    "                num_e += 1 \n",
    "            # else: \n",
    "            h2 = int(curInput[y][x2])\n",
    "            if h2 >= curH:\n",
    "                curVi_e = False \n",
    "\n",
    "        # From top\n",
    "        for y2 in range(y-1,-1,-1):\n",
    "            if curVi_n:\n",
    "                num_n += 1\n",
    "            h2 = int(curInput[y2][x])\n",
    "            if h2 >= curH:\n",
    "                curVi_n = False \n",
    "        # From bottom\n",
    "        for y2 in range(y+1,he):\n",
    "            if curVi_s:\n",
    "                num_s += 1\n",
    "            h2 = int(curInput[y2][x])\n",
    "            if h2 >= curH:\n",
    "                curVi_s= False \n",
    "\n",
    "        scoreGrid[y][x] = num_n * num_s * num_e * num_w \n",
    "\n",
    "p2 = np.max(scoreGrid)\n",
    "print(f'Solution to part 2: {p2:.0f}')"
   ]
  }
 ],
 "metadata": {
  "kernelspec": {
   "display_name": "Python 3.10.0 ('main')",
   "language": "python",
   "name": "python3"
  },
  "language_info": {
   "codemirror_mode": {
    "name": "ipython",
    "version": 3
   },
   "file_extension": ".py",
   "mimetype": "text/x-python",
   "name": "python",
   "nbconvert_exporter": "python",
   "pygments_lexer": "ipython3",
   "version": "3.10.0"
  },
  "orig_nbformat": 4,
  "vscode": {
   "interpreter": {
    "hash": "e6af94e5c5af6f455ad39eba9e20d9ee46a7c0c9ebf8b81ae3b0b6f1a6d45f70"
   }
  }
 },
 "nbformat": 4,
 "nbformat_minor": 2
}
