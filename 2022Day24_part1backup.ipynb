{
 "cells": [
  {
   "cell_type": "code",
   "execution_count": 1,
   "metadata": {},
   "outputs": [],
   "source": [
    "# Import packages\n",
    "import numpy as np\n",
    "curDay = 24\n",
    "\n",
    "# Download input file\n",
    "from download_inputs import download_inputs\n",
    "\n",
    "# download_inputs(curDay)"
   ]
  },
  {
   "cell_type": "code",
   "execution_count": 2,
   "metadata": {},
   "outputs": [
    {
     "name": "stdout",
     "output_type": "stream",
     "text": [
      "Done loading input\n"
     ]
    }
   ],
   "source": [
    "# Load input into workspace\n",
    "filename = f'inputs\\\\day{curDay}.txt'\n",
    "# curIn = np.loadtxt(filename)\n",
    "\n",
    "inputFile = open(filename)\n",
    "inputs = []\n",
    "inputs = [s for s in inputFile.read().splitlines()]\n",
    "\n",
    "print('Done loading input')"
   ]
  },
  {
   "cell_type": "code",
   "execution_count": 3,
   "metadata": {},
   "outputs": [
    {
     "name": "stdout",
     "output_type": "stream",
     "text": [
      "Done loading test-input\n"
     ]
    }
   ],
   "source": [
    "# Load test-input into workspace\n",
    "filenameTest = f'inputs\\\\day{curDay}test.txt'\n",
    "\n",
    "inputFileTest = open(filenameTest)\n",
    "inputsTest = []\n",
    "inputsTest = [s for s in inputFileTest.read().splitlines()]\n",
    "\n",
    "print('Done loading test-input') "
   ]
  },
  {
   "cell_type": "code",
   "execution_count": 30,
   "metadata": {},
   "outputs": [],
   "source": [
    "# for p in inputsTest:\n",
    "# # for p in inputs:\n",
    "#     print(p)"
   ]
  },
  {
   "cell_type": "code",
   "execution_count": 31,
   "metadata": {},
   "outputs": [],
   "source": [
    "# Both left and right edge can be ignored, but start and end should be included\n",
    "curIn = inputsTest \n",
    "# curIn = inputs\n",
    "# he = len(curIn) \n",
    "he = len(curIn) - 2 # For the storms, edges doesn't matter. Edgecases for start and end can be handled seperately\n",
    "wi = len(curIn[0]) - 2"
   ]
  },
  {
   "cell_type": "code",
   "execution_count": 32,
   "metadata": {},
   "outputs": [],
   "source": [
    "\n",
    "class Storm:\n",
    "    def __init__(self,x,y,dir):\n",
    "        self.x = x\n",
    "        self.y = y\n",
    "        self.dir = dir \n",
    "    def update(self):\n",
    "        if self.dir == '>':\n",
    "            self.x += 1\n",
    "            self.x = (self.x % wi)\n",
    "        elif self.dir == '<':\n",
    "            self.x -= 1\n",
    "            self.x = (self.x % wi)\n",
    "        elif self.dir == '^':\n",
    "            self.y -= 1\n",
    "            self.y = (self.y % he)\n",
    "        elif self.dir == 'v':\n",
    "            self.y += 1\n",
    "            self.y = (self.y % he)\n"
   ]
  },
  {
   "cell_type": "code",
   "execution_count": 33,
   "metadata": {},
   "outputs": [],
   "source": [
    "# testStorm = Storm(2,2,'^')\n",
    "\n",
    "# for k in range(10):\n",
    "#     testStorm.update()\n",
    "#     print(testStorm.y)"
   ]
  },
  {
   "cell_type": "code",
   "execution_count": 34,
   "metadata": {},
   "outputs": [],
   "source": [
    "allStorms = list()\n",
    "curMap = np.zeros((he,wi))\n",
    "for y,a in enumerate(curIn[1:-1]):\n",
    "    for x,b in enumerate(a[1:-1]):\n",
    "        # print(x,y,b)\n",
    "        if (b == '>') | (b == '<') | (b == 'v') | (b == '^'):\n",
    "            # print(x,y,b)\n",
    "            curMap[y,x] += 1\n",
    "            newStorm = Storm(x,y,b)\n",
    "            allStorms.append(newStorm)\n"
   ]
  },
  {
   "cell_type": "code",
   "execution_count": 35,
   "metadata": {},
   "outputs": [],
   "source": [
    "def getIniStorms():\n",
    "    iniStorms = list()\n",
    "    curMap = np.zeros((he,wi))\n",
    "    for y,a in enumerate(curIn[1:-1]):\n",
    "        for x,b in enumerate(a[1:-1]):\n",
    "            # print(x,y,b)\n",
    "            if (b == '>') | (b == '<') | (b == 'v') | (b == '^'):\n",
    "                # print(x,y,b)\n",
    "                curMap[y,x] += 1\n",
    "                newStorm = Storm(x,y,b)\n",
    "                iniStorms.append(newStorm)\n",
    "\n",
    "    return iniStorms"
   ]
  },
  {
   "cell_type": "code",
   "execution_count": 36,
   "metadata": {},
   "outputs": [],
   "source": [
    "# curMap \n",
    "def showStorms(st):\n",
    "    curMap = np.array( [['    ' for x in range(wi)] for y in range(he)] ) \n",
    "    for s in st:\n",
    "        curText = curMap[s.y][s.x]\n",
    "        \n",
    "        newText = s.dir+curText\n",
    "        curMap[s.y][s.x] = newText\n",
    "        # print(curMap[s.y][s.x])\n",
    "        # curMap[s.y][s.x] += s.dir\n",
    "    \n",
    "    curMap[curMap == ''] = '.'\n",
    "\n",
    "    for a in curMap:\n",
    "        print(a)\n",
    "\n",
    "# for a in curMap:\n",
    "#     print(a)\n",
    "    \n",
    "# showStorms(allStorms)\n",
    "\n",
    "\n",
    "# showStorms(allStorms)\n"
   ]
  },
  {
   "cell_type": "code",
   "execution_count": 37,
   "metadata": {},
   "outputs": [],
   "source": [
    "def countStorms(st):\n",
    "    \n",
    "    curMap = np.array( [[0 for x in range(wi)] for y in range(he)] ) \n",
    "    for s in st:\n",
    "        curMap[s.y][s.x] += 1\n",
    "\n",
    "    return curMap\n",
    "# countStorms(allStorms)"
   ]
  },
  {
   "cell_type": "code",
   "execution_count": 38,
   "metadata": {},
   "outputs": [],
   "source": [
    "# def getPosNei(x,y):\n",
    "def getPosNei(pos):\n",
    "    x,y = pos\n",
    "    curCount = countStorms(allStorms)\n",
    "\n",
    "    allNei = []\n",
    "    if x > 0:\n",
    "        if (curCount[y][x-1] == 0):\n",
    "            newNei = [x-1,y]\n",
    "            allNei.append(newNei) \n",
    "    if x < (wi-1):\n",
    "        if (curCount[y][x+1] == 0):\n",
    "            newNei = [x+1,y]\n",
    "            allNei.append(newNei) \n",
    "    if y > 0:\n",
    "        if (curCount[y-1][x] == 0):\n",
    "            newNei = [x,y-1]\n",
    "            allNei.append(newNei)\n",
    "    if y < (he-1):\n",
    "        if (curCount[y+1][x] == 0):\n",
    "            newNei = [x,y+1]\n",
    "            allNei.append(newNei)\n",
    "\n",
    "    # Edge cases\n",
    "    if (x==0) & (y==0):\n",
    "        newNei = [0,-1]\n",
    "        allNei.append(newNei)\n",
    "    if (x==(wi-1)) & (y==(he-1)):\n",
    "        newNei = [wi,he+1]\n",
    "        allNei.append(newNei)\n",
    "    return allNei \n",
    "\n"
   ]
  },
  {
   "cell_type": "code",
   "execution_count": 39,
   "metadata": {},
   "outputs": [],
   "source": [
    "# showStorms(allStorms)"
   ]
  },
  {
   "cell_type": "code",
   "execution_count": 40,
   "metadata": {},
   "outputs": [
    {
     "data": {
      "text/plain": [
       "[[6, 5]]"
      ]
     },
     "execution_count": 40,
     "metadata": {},
     "output_type": "execute_result"
    }
   ],
   "source": [
    "curPos = [5,3]\n",
    "\n",
    "getPosNei(curPos)\n"
   ]
  },
  {
   "cell_type": "code",
   "execution_count": 41,
   "metadata": {},
   "outputs": [],
   "source": [
    "# for i in range(wi*he):\n",
    "#     print('--------------')\n",
    "#     for s in allStorms:\n",
    "#         s.update()\n",
    "#     showStorms(allStorms)"
   ]
  },
  {
   "cell_type": "code",
   "execution_count": 42,
   "metadata": {},
   "outputs": [],
   "source": [
    "\n",
    "# curMap = np.array( [['' for x in range(wi)] for y in range(he)] ) \n",
    "# for s in allStorms:\n",
    "#     curMap[s.x][s.y] = s.dir\n",
    "\n",
    "# curMap[curMap == ''] = '.'\n",
    "\n",
    "# for a in curMap:\n",
    "#     print(a)\n"
   ]
  },
  {
   "cell_type": "markdown",
   "metadata": {},
   "source": [
    "# As a 3D map"
   ]
  },
  {
   "cell_type": "code",
   "execution_count": 43,
   "metadata": {},
   "outputs": [],
   "source": [
    "zMax = wi*he \n",
    "zMax = np.lcm(wi,he)\n",
    "\n",
    "fullMap = np.zeros((he,wi,zMax))\n",
    "fullMap = np.zeros((he+1,wi,zMax))\n",
    "\n",
    "allStorms = getIniStorms()\n",
    "curLayer = countStorms(allStorms)\n",
    "\n",
    "topEdge = np.ones(wi)\n",
    "topEdge[0] = 0\n",
    "curLayer = np.vstack([topEdge,curLayer])\n",
    "fullMap[:,:,0] = curLayer\n",
    "\n",
    "\n",
    "# Go through all possible forms \n",
    "for z in range(1,zMax):\n",
    "    for s in allStorms:\n",
    "        s.update()\n",
    "    curLayer = countStorms(allStorms)\n",
    "    \n",
    "    topEdge = np.ones(wi)\n",
    "    topEdge[0] = 0\n",
    "    curLayer = np.vstack([topEdge,curLayer])\n",
    "    fullMap[:,:,z] = curLayer\n",
    "    "
   ]
  },
  {
   "cell_type": "code",
   "execution_count": 44,
   "metadata": {},
   "outputs": [
    {
     "data": {
      "text/plain": [
       "array([[0., 1., 1., 1., 1., 1.],\n",
       "       [1., 1., 0., 1., 1., 1.],\n",
       "       [0., 1., 0., 0., 1., 1.],\n",
       "       [1., 1., 0., 1., 1., 1.],\n",
       "       [1., 1., 1., 1., 1., 1.]])"
      ]
     },
     "execution_count": 44,
     "metadata": {},
     "output_type": "execute_result"
    }
   ],
   "source": [
    "fullMap[:,:,0]\n",
    "# # curLayer\n",
    "# topEdge = np.ones(wi)\n",
    "# topEdge[0] = 0\n",
    "# np.vstack([topEdge,curLayer])\n",
    "# fullMap[:,:,4]"
   ]
  },
  {
   "cell_type": "code",
   "execution_count": 45,
   "metadata": {},
   "outputs": [
    {
     "data": {
      "text/plain": [
       "[[0, 0, 1], [0, 1, 1]]"
      ]
     },
     "execution_count": 45,
     "metadata": {},
     "output_type": "execute_result"
    }
   ],
   "source": [
    "# def getPosMoves(x,y,z):\n",
    "def getPosMoves(pos):\n",
    "    x,y,z = pos\n",
    "    # Always move +1 in z direction \n",
    "    # nextZ = (z+1) % zMax\n",
    "    # nextLayer = fullMap[:,:,nextZ]\n",
    "    nextZ = (z+1) \n",
    "    nextLayer = fullMap[:,:,nextZ % zMax]\n",
    "\n",
    "    # print(nextLayer)\n",
    "\n",
    "    allNei = []\n",
    "    # Staying in place\n",
    "    # print(nextLayer[x,y])\n",
    "    if nextLayer[y,x] == 0:\n",
    "        curNei = [x,y,nextZ]\n",
    "        allNei.append(curNei)\n",
    "    # Moving right\n",
    "    if x < (wi-1):\n",
    "        if nextLayer[y,x+1] == 0:\n",
    "            curNei = [x+1,y,nextZ]\n",
    "            allNei.append(curNei)\n",
    "    # Moving left\n",
    "    if x > 0:\n",
    "        if nextLayer[y,x-1] == 0:\n",
    "            curNei = [x-1,y,nextZ]\n",
    "            allNei.append(curNei)\n",
    "            \n",
    "    # Moving up\n",
    "    if y > 0:\n",
    "        if nextLayer[y-1,x] == 0:\n",
    "            curNei = [x,y-1,nextZ]\n",
    "            allNei.append(curNei)\n",
    "    # Moving down\n",
    "    # if y < (he-1):\n",
    "    if y < (he):\n",
    "        # print(y)\n",
    "        if nextLayer[y+1,x] == 0:\n",
    "            curNei = [x,y+1,nextZ]\n",
    "            allNei.append(curNei)\n",
    "\n",
    "    # # Next to start: Allow moving to start\n",
    "    # if (x == 0) & (y == 0):\n",
    "    #     curNei = [0,-1,nextZ]\n",
    "    #     allNei.append(curNei)\n",
    "    # # On start: Stay or move to space below\n",
    "    # if (x == 0) & (y == -1):\n",
    "    #     # Staying\n",
    "    #     curNei = [0,-1,nextZ]\n",
    "    #     allNei.append(curNei)\n",
    "    #     # Moving down\n",
    "    #     if nextLayer[0,0] == 0:\n",
    "    #         curNei = [0,0,nextZ]\n",
    "    #         allNei.append(curNei)\n",
    "\n",
    "    # Next to finish\n",
    "    # if (x == (wi-1)) & (y == (he-1)):\n",
    "        # curNei = [wi-1,he,nextZ]\n",
    "        # allNei.append(curNei) \n",
    "    if (x == (wi-1)) & (y == (he)):\n",
    "        curNei = [wi-1,he+1,nextZ]\n",
    "        allNei.append(curNei) \n",
    "\n",
    "\n",
    "    return allNei \n",
    "\n",
    "curPos = [5,2,16]\n",
    "curPos = [5,3,17]\n",
    "curPos = [4,2,15]\n",
    "# getPosMoves(curPos)\n",
    "getPosMoves([0,0,0])"
   ]
  },
  {
   "cell_type": "code",
   "execution_count": 46,
   "metadata": {},
   "outputs": [
    {
     "data": {
      "text/plain": [
       "[[4, 4, 18], [5, 5, 18]]"
      ]
     },
     "execution_count": 46,
     "metadata": {},
     "output_type": "execute_result"
    }
   ],
   "source": [
    "# nextLayer\n",
    "startPos = [0,0,0]\n",
    "getPosMoves(startPos)\n",
    "\n",
    "curPos = [0,0,0]\n",
    "curPos = [0,1,1]\n",
    "curPos = [0,2,2]\n",
    "curPos = [0,2,3]\n",
    "curPos = [0,1,4]\n",
    "curPos = [1,1,5]\n",
    "curPos = [2,1,6]\n",
    "curPos = [2,2,7]\n",
    "curPos = [1,2,8]\n",
    "curPos = [5,3,16]\n",
    "curPos = [5,4,17]\n",
    "# curPos = [5,4,18]\n",
    "getPosMoves(curPos)"
   ]
  },
  {
   "cell_type": "code",
   "execution_count": 47,
   "metadata": {},
   "outputs": [],
   "source": [
    "endPos = [wi-1,he+1]\n"
   ]
  },
  {
   "cell_type": "code",
   "execution_count": 48,
   "metadata": {},
   "outputs": [],
   "source": [
    "def heuristic(pos):\n",
    "    x,y,z = pos \n",
    "    return (wi-x) + (he-y)\n",
    "    # return x + y\n",
    "    # return -(wi-x) - (he-y) \n",
    "    # return x - wi"
   ]
  },
  {
   "cell_type": "code",
   "execution_count": 49,
   "metadata": {},
   "outputs": [
    {
     "data": {
      "text/plain": [
       "[5, 4, 17]"
      ]
     },
     "execution_count": 49,
     "metadata": {},
     "output_type": "execute_result"
    }
   ],
   "source": [
    "# from queue import PriorityQueue\n",
    "# testQueue = PriorityQueue()\n",
    "# testQueue.put((0,'a'))\n",
    "# testQueue.put((2,'b'))\n",
    "# testQueue.put((10,'c'))\n",
    "# # # testQueue.put('b',10)\n",
    "# # testQueue.put('c',20)\n",
    "# # testQueue.put('b',10)\n",
    "\n",
    "# testQueue.get()\n",
    "# testQueue.get()\n",
    "curPos"
   ]
  },
  {
   "cell_type": "code",
   "execution_count": 50,
   "metadata": {},
   "outputs": [
    {
     "name": "stdout",
     "output_type": "stream",
     "text": [
      "[5, 4, 17]\n",
      "Done!\n"
     ]
    }
   ],
   "source": [
    "from queue import PriorityQueue\n",
    "\n",
    "curFront = PriorityQueue()\n",
    "curFront.put((0,startPos))\n",
    "# curFront = list()\n",
    "# curFront.append(startPos)\n",
    "\n",
    "cameFrom = dict()\n",
    "# cameFrom[startPos] = None\n",
    "cameFrom[startPos[0],startPos[1],startPos[2]] = None\n",
    "\n",
    "costSoFar = dict()\n",
    "# costSoFar[startPos] = 0 \n",
    "costSoFar[startPos[0],startPos[1],startPos[2]] = 0\n",
    "\n",
    "\n",
    "haveReached = list()\n",
    "# haveReached.append(startPos)\n",
    "# haveReached.append((startPos[0],startPos[1]))\n",
    "# haveReached.append(startPos[0:2]) # Add the first to\n",
    "haveReached.append((startPos[0],startPos[1],startPos[2] % zMax))\n",
    "haveReached\n",
    "\n",
    "\n",
    "maxIter = 20000\n",
    "curIter = 0\n",
    "# while (len(curFront) > 0):\n",
    "while not curFront.empty():\n",
    "\n",
    "    # print(cameFrom)\n",
    "\n",
    "    curPrio,curPos = curFront.get()\n",
    "    # curPos = curFront.pop(0)\n",
    "\n",
    "    # curIter += 1\n",
    "    # if curIter > maxIter:\n",
    "    #     break\n",
    "\n",
    "    \n",
    "    # if (curPos[0] == (wi-2)) & (curPos[1] == (he-2)):\n",
    "    if (curPos[0] == (wi-1)) & (curPos[1] == (he)):\n",
    "        print(curPos)\n",
    "        cameFrom[curPos[0],curPos[1]+1,curPos[2]+1] = curPos\n",
    "        print('Done!')\n",
    "        break \n",
    "\n",
    "\n",
    "    curNei = getPosMoves(curPos)\n",
    "    # print(curPos,curNei)\n",
    "\n",
    "    for nei in curNei:\n",
    "\n",
    "        # if (nei[0] == 5) & (nei[1] == 5):\n",
    "        #     print('Done')\n",
    "        #     break\n",
    "        \n",
    "        toAddToHaveReached = nei.copy()\n",
    "        toAddToHaveReached[2] = toAddToHaveReached[2] % zMax\n",
    "        \n",
    "        newCost = costSoFar[curPos[0],curPos[1],curPos[2]] + 1 \n",
    "        foundInFront = False \n",
    "        # if nei in haveReached:\n",
    "        if toAddToHaveReached in haveReached:\n",
    "            foundInFront = True \n",
    "        if (foundInFront == False):\n",
    "            costSoFar[nei[0],nei[1],nei[2]] = newCost \n",
    "            curPrio = newCost + heuristic(nei)*2 # Actually works... \n",
    "            # curPrio = newCost \n",
    "            # curPrio = newCost +heuristic(nei)\n",
    "            # curPrio = heuristic(nei)\n",
    "\n",
    "            curFront.put((curPrio,nei))\n",
    "            # curFront.append(nei)\n",
    "            # haveReached.append(nei)\n",
    "            haveReached.append(toAddToHaveReached)\n",
    "            \n",
    "\n",
    "            cameFrom[nei[0],nei[1],nei[2]] = curPos \n"
   ]
  },
  {
   "cell_type": "code",
   "execution_count": 51,
   "metadata": {},
   "outputs": [],
   "source": [
    "# # cameFrom\n",
    "# print(curPos)\n",
    "# haveReached\n",
    "# # curPos \n",
    "# # toAddToHaveReached = nei.copy()\n",
    "# # toAddToHaveReached[2] = toAddToHaveReached[2] % zMax\n",
    "# # toAddToHaveReached"
   ]
  },
  {
   "cell_type": "code",
   "execution_count": 52,
   "metadata": {},
   "outputs": [
    {
     "name": "stdout",
     "output_type": "stream",
     "text": [
      "Solution to part 1: 18\n"
     ]
    }
   ],
   "source": [
    "# cameFrom\n",
    "endPos = [wi-1,he+1]\n",
    "thisPos = curPos.copy()\n",
    "stillGoing = True \n",
    "part1 = 0\n",
    "# for k in range(100):\n",
    "while stillGoing:\n",
    "    # print(thisPos)\n",
    "    if thisPos == [0,0,0]:\n",
    "        stillGoing =False\n",
    "    thisPos = cameFrom[thisPos[0],thisPos[1],thisPos[2]]\n",
    "    part1 += 1 \n",
    "print(f'Solution to part 1: {part1}')"
   ]
  },
  {
   "cell_type": "code",
   "execution_count": 53,
   "metadata": {},
   "outputs": [],
   "source": [
    "# curPos\n",
    "# allVisited.T[-1,:]\n",
    "\n",
    "# len(cameFrom)\n",
    "\n",
    "# getPosMoves(curPos)\n",
    "# (119,26,436)\n"
   ]
  },
  {
   "cell_type": "code",
   "execution_count": 54,
   "metadata": {},
   "outputs": [
    {
     "data": {
      "text/plain": [
       "<matplotlib.image.AxesImage at 0x2434094abf0>"
      ]
     },
     "execution_count": 54,
     "metadata": {},
     "output_type": "execute_result"
    },
    {
     "data": {
      "image/png": "[encoded data removed]",
      "text/plain": [
       "<Figure size 432x288 with 1 Axes>"
      ]
     },
     "metadata": {
      "needs_background": "light"
     },
     "output_type": "display_data"
    }
   ],
   "source": [
    "# haveReached\n",
    "# asdfasdf\n",
    "allVisited = np.zeros((wi,he+1))\n",
    "# for p in haveReached:\n",
    "for p in costSoFar.keys():\n",
    "    allVisited[p[0],p[1]] += 1 \n",
    "    \n",
    "import matplotlib.pyplot as plt\n",
    "\n",
    "fig,ax = plt.subplots()\n",
    "\n",
    "ax.imshow(allVisited.T)\n",
    "\n",
    "\n"
   ]
  },
  {
   "cell_type": "markdown",
   "metadata": {},
   "source": [
    "# Part 2\n",
    "Move to end, move to start, move to end"
   ]
  },
  {
   "cell_type": "code",
   "execution_count": 55,
   "metadata": {},
   "outputs": [],
   "source": [
    "def heuristic(pos):\n",
    "    x,y,z = pos \n",
    "    return (wi-x) + (he-y)\n",
    "def heuristicBack(pos):\n",
    "    x,y,z = pos \n",
    "    return x + y"
   ]
  },
  {
   "cell_type": "code",
   "execution_count": 63,
   "metadata": {},
   "outputs": [
    {
     "ename": "IndexError",
     "evalue": "index 5 is out of bounds for axis 0 with size 5",
     "output_type": "error",
     "traceback": [
      "\u001b[1;31m---------------------------------------------------------------------------\u001b[0m",
      "\u001b[1;31mIndexError\u001b[0m                                Traceback (most recent call last)",
      "\u001b[1;32mc:\\Users\\rakrpe\\OneDrive - Roskilde Universitet\\Documents\\AdventOfCode2022\\2022Day24.ipynb Cell 32\u001b[0m in \u001b[0;36m<module>\u001b[1;34m\u001b[0m\n\u001b[0;32m      <a href='vscode-notebook-cell:/c%3A/Users/rakrpe/OneDrive%20-%20Roskilde%20Universitet/Documents/AdventOfCode2022/2022Day24.ipynb#Y140sZmlsZQ%3D%3D?line=0'>1</a>\u001b[0m endPoint \u001b[39m=\u001b[39m [wi\u001b[39m-\u001b[39m\u001b[39m1\u001b[39m,he\u001b[39m+\u001b[39m\u001b[39m1\u001b[39m,part1]\n\u001b[1;32m----> <a href='vscode-notebook-cell:/c%3A/Users/rakrpe/OneDrive%20-%20Roskilde%20Universitet/Documents/AdventOfCode2022/2022Day24.ipynb#Y140sZmlsZQ%3D%3D?line=2'>3</a>\u001b[0m getPosMoves(endPoint)\n",
      "\u001b[1;32mc:\\Users\\rakrpe\\OneDrive - Roskilde Universitet\\Documents\\AdventOfCode2022\\2022Day24.ipynb Cell 32\u001b[0m in \u001b[0;36mgetPosMoves\u001b[1;34m(pos)\u001b[0m\n\u001b[0;32m     <a href='vscode-notebook-cell:/c%3A/Users/rakrpe/OneDrive%20-%20Roskilde%20Universitet/Documents/AdventOfCode2022/2022Day24.ipynb#Y140sZmlsZQ%3D%3D?line=11'>12</a>\u001b[0m allNei \u001b[39m=\u001b[39m []\n\u001b[0;32m     <a href='vscode-notebook-cell:/c%3A/Users/rakrpe/OneDrive%20-%20Roskilde%20Universitet/Documents/AdventOfCode2022/2022Day24.ipynb#Y140sZmlsZQ%3D%3D?line=12'>13</a>\u001b[0m \u001b[39m# Staying in place\u001b[39;00m\n\u001b[0;32m     <a href='vscode-notebook-cell:/c%3A/Users/rakrpe/OneDrive%20-%20Roskilde%20Universitet/Documents/AdventOfCode2022/2022Day24.ipynb#Y140sZmlsZQ%3D%3D?line=13'>14</a>\u001b[0m \u001b[39m# print(nextLayer[x,y])\u001b[39;00m\n\u001b[1;32m---> <a href='vscode-notebook-cell:/c%3A/Users/rakrpe/OneDrive%20-%20Roskilde%20Universitet/Documents/AdventOfCode2022/2022Day24.ipynb#Y140sZmlsZQ%3D%3D?line=14'>15</a>\u001b[0m \u001b[39mif\u001b[39;00m nextLayer[y,x] \u001b[39m==\u001b[39m \u001b[39m0\u001b[39m:\n\u001b[0;32m     <a href='vscode-notebook-cell:/c%3A/Users/rakrpe/OneDrive%20-%20Roskilde%20Universitet/Documents/AdventOfCode2022/2022Day24.ipynb#Y140sZmlsZQ%3D%3D?line=15'>16</a>\u001b[0m     curNei \u001b[39m=\u001b[39m [x,y,nextZ]\n\u001b[0;32m     <a href='vscode-notebook-cell:/c%3A/Users/rakrpe/OneDrive%20-%20Roskilde%20Universitet/Documents/AdventOfCode2022/2022Day24.ipynb#Y140sZmlsZQ%3D%3D?line=16'>17</a>\u001b[0m     allNei\u001b[39m.\u001b[39mappend(curNei)\n",
      "\u001b[1;31mIndexError\u001b[0m: index 5 is out of bounds for axis 0 with size 5"
     ]
    }
   ],
   "source": [
    "endPoint = [wi-1,he+1,part1]\n",
    "\n"
   ]
  },
  {
   "cell_type": "code",
   "execution_count": 62,
   "metadata": {},
   "outputs": [
    {
     "ename": "IndexError",
     "evalue": "index 5 is out of bounds for axis 0 with size 5",
     "output_type": "error",
     "traceback": [
      "\u001b[1;31m---------------------------------------------------------------------------\u001b[0m",
      "\u001b[1;31mIndexError\u001b[0m                                Traceback (most recent call last)",
      "\u001b[1;32mc:\\Users\\rakrpe\\OneDrive - Roskilde Universitet\\Documents\\AdventOfCode2022\\2022Day24.ipynb Cell 33\u001b[0m in \u001b[0;36m<module>\u001b[1;34m\u001b[0m\n\u001b[0;32m     <a href='vscode-notebook-cell:/c%3A/Users/rakrpe/OneDrive%20-%20Roskilde%20Universitet/Documents/AdventOfCode2022/2022Day24.ipynb#Y136sZmlsZQ%3D%3D?line=44'>45</a>\u001b[0m     \u001b[39mprint\u001b[39m(\u001b[39m'\u001b[39m\u001b[39mDone!\u001b[39m\u001b[39m'\u001b[39m)\n\u001b[0;32m     <a href='vscode-notebook-cell:/c%3A/Users/rakrpe/OneDrive%20-%20Roskilde%20Universitet/Documents/AdventOfCode2022/2022Day24.ipynb#Y136sZmlsZQ%3D%3D?line=45'>46</a>\u001b[0m     \u001b[39mbreak\u001b[39;00m \n\u001b[1;32m---> <a href='vscode-notebook-cell:/c%3A/Users/rakrpe/OneDrive%20-%20Roskilde%20Universitet/Documents/AdventOfCode2022/2022Day24.ipynb#Y136sZmlsZQ%3D%3D?line=48'>49</a>\u001b[0m curNei \u001b[39m=\u001b[39m getPosMoves(curPos)\n\u001b[0;32m     <a href='vscode-notebook-cell:/c%3A/Users/rakrpe/OneDrive%20-%20Roskilde%20Universitet/Documents/AdventOfCode2022/2022Day24.ipynb#Y136sZmlsZQ%3D%3D?line=49'>50</a>\u001b[0m \u001b[39m# print(curPos,curNei)\u001b[39;00m\n\u001b[0;32m     <a href='vscode-notebook-cell:/c%3A/Users/rakrpe/OneDrive%20-%20Roskilde%20Universitet/Documents/AdventOfCode2022/2022Day24.ipynb#Y136sZmlsZQ%3D%3D?line=51'>52</a>\u001b[0m \u001b[39mfor\u001b[39;00m nei \u001b[39min\u001b[39;00m curNei:\n\u001b[0;32m     <a href='vscode-notebook-cell:/c%3A/Users/rakrpe/OneDrive%20-%20Roskilde%20Universitet/Documents/AdventOfCode2022/2022Day24.ipynb#Y136sZmlsZQ%3D%3D?line=52'>53</a>\u001b[0m \n\u001b[0;32m     <a href='vscode-notebook-cell:/c%3A/Users/rakrpe/OneDrive%20-%20Roskilde%20Universitet/Documents/AdventOfCode2022/2022Day24.ipynb#Y136sZmlsZQ%3D%3D?line=53'>54</a>\u001b[0m     \u001b[39m# if (nei[0] == 5) & (nei[1] == 5):\u001b[39;00m\n\u001b[0;32m     <a href='vscode-notebook-cell:/c%3A/Users/rakrpe/OneDrive%20-%20Roskilde%20Universitet/Documents/AdventOfCode2022/2022Day24.ipynb#Y136sZmlsZQ%3D%3D?line=54'>55</a>\u001b[0m     \u001b[39m#     print('Done')\u001b[39;00m\n\u001b[0;32m     <a href='vscode-notebook-cell:/c%3A/Users/rakrpe/OneDrive%20-%20Roskilde%20Universitet/Documents/AdventOfCode2022/2022Day24.ipynb#Y136sZmlsZQ%3D%3D?line=55'>56</a>\u001b[0m     \u001b[39m#     break\u001b[39;00m\n",
      "\u001b[1;32mc:\\Users\\rakrpe\\OneDrive - Roskilde Universitet\\Documents\\AdventOfCode2022\\2022Day24.ipynb Cell 33\u001b[0m in \u001b[0;36mgetPosMoves\u001b[1;34m(pos)\u001b[0m\n\u001b[0;32m     <a href='vscode-notebook-cell:/c%3A/Users/rakrpe/OneDrive%20-%20Roskilde%20Universitet/Documents/AdventOfCode2022/2022Day24.ipynb#Y136sZmlsZQ%3D%3D?line=11'>12</a>\u001b[0m allNei \u001b[39m=\u001b[39m []\n\u001b[0;32m     <a href='vscode-notebook-cell:/c%3A/Users/rakrpe/OneDrive%20-%20Roskilde%20Universitet/Documents/AdventOfCode2022/2022Day24.ipynb#Y136sZmlsZQ%3D%3D?line=12'>13</a>\u001b[0m \u001b[39m# Staying in place\u001b[39;00m\n\u001b[0;32m     <a href='vscode-notebook-cell:/c%3A/Users/rakrpe/OneDrive%20-%20Roskilde%20Universitet/Documents/AdventOfCode2022/2022Day24.ipynb#Y136sZmlsZQ%3D%3D?line=13'>14</a>\u001b[0m \u001b[39m# print(nextLayer[x,y])\u001b[39;00m\n\u001b[1;32m---> <a href='vscode-notebook-cell:/c%3A/Users/rakrpe/OneDrive%20-%20Roskilde%20Universitet/Documents/AdventOfCode2022/2022Day24.ipynb#Y136sZmlsZQ%3D%3D?line=14'>15</a>\u001b[0m \u001b[39mif\u001b[39;00m nextLayer[y,x] \u001b[39m==\u001b[39m \u001b[39m0\u001b[39m:\n\u001b[0;32m     <a href='vscode-notebook-cell:/c%3A/Users/rakrpe/OneDrive%20-%20Roskilde%20Universitet/Documents/AdventOfCode2022/2022Day24.ipynb#Y136sZmlsZQ%3D%3D?line=15'>16</a>\u001b[0m     curNei \u001b[39m=\u001b[39m [x,y,nextZ]\n\u001b[0;32m     <a href='vscode-notebook-cell:/c%3A/Users/rakrpe/OneDrive%20-%20Roskilde%20Universitet/Documents/AdventOfCode2022/2022Day24.ipynb#Y136sZmlsZQ%3D%3D?line=16'>17</a>\u001b[0m     allNei\u001b[39m.\u001b[39mappend(curNei)\n",
      "\u001b[1;31mIndexError\u001b[0m: index 5 is out of bounds for axis 0 with size 5"
     ]
    }
   ],
   "source": [
    "from queue import PriorityQueue\n",
    "\n",
    "curFront = PriorityQueue()\n",
    "# curFront.put((0,startPos))\n",
    "curFront.put((0,endPoint))\n",
    "# curFront = list()\n",
    "# curFront.append(startPos)\n",
    "\n",
    "cameFrom = dict()\n",
    "# cameFrom[startPos] = None\n",
    "cameFrom[startPos[0],startPos[1],startPos[2]] = None\n",
    "\n",
    "costSoFar = dict()\n",
    "# costSoFar[startPos] = 0 \n",
    "costSoFar[startPos[0],startPos[1],startPos[2]] = 0\n",
    "\n",
    "\n",
    "haveReached = list()\n",
    "# haveReached.append(startPos)\n",
    "# haveReached.append((startPos[0],startPos[1]))\n",
    "# haveReached.append(startPos[0:2]) # Add the first to\n",
    "haveReached.append((startPos[0],startPos[1],startPos[2] % zMax))\n",
    "haveReached\n",
    "\n",
    "\n",
    "maxIter = 20000\n",
    "curIter = 0\n",
    "# while (len(curFront) > 0):\n",
    "while not curFront.empty():\n",
    "\n",
    "    # print(cameFrom)\n",
    "\n",
    "    curPrio,curPos = curFront.get()\n",
    "    # curPos = curFront.pop(0)\n",
    "\n",
    "    # curIter += 1\n",
    "    # if curIter > maxIter:\n",
    "    #     break\n",
    "\n",
    "    \n",
    "    # if (curPos[0] == (wi-2)) & (curPos[1] == (he-2)):\n",
    "    if (curPos[0] == (wi-1)) & (curPos[1] == (he)):\n",
    "        print(curPos)\n",
    "        cameFrom[curPos[0],curPos[1]+1,curPos[2]+1] = curPos\n",
    "        print('Done!')\n",
    "        break \n",
    "\n",
    "\n",
    "    curNei = getPosMoves(curPos)\n",
    "    # print(curPos,curNei)\n",
    "\n",
    "    for nei in curNei:\n",
    "\n",
    "        # if (nei[0] == 5) & (nei[1] == 5):\n",
    "        #     print('Done')\n",
    "        #     break\n",
    "        \n",
    "        toAddToHaveReached = nei.copy()\n",
    "        toAddToHaveReached[2] = toAddToHaveReached[2] % zMax\n",
    "        \n",
    "        newCost = costSoFar[curPos[0],curPos[1],curPos[2]] + 1 \n",
    "        foundInFront = False \n",
    "        # if nei in haveReached:\n",
    "        if toAddToHaveReached in haveReached:\n",
    "            foundInFront = True \n",
    "        if (foundInFront == False):\n",
    "            costSoFar[nei[0],nei[1],nei[2]] = newCost \n",
    "            # curPrio = newCost + heuristic(nei)*2 # Actually works... \n",
    "            curPrio = newCost + heuristicBack(nei)*2 # Actually works... \n",
    "            # curPrio = newCost \n",
    "            # curPrio = newCost +heuristic(nei)\n",
    "            # curPrio = heuristic(nei)\n",
    "\n",
    "            curFront.put((curPrio,nei))\n",
    "            # curFront.append(nei)\n",
    "            # haveReached.append(nei)\n",
    "            haveReached.append(toAddToHaveReached)\n",
    "            \n",
    "\n",
    "            cameFrom[nei[0],nei[1],nei[2]] = curPos \n"
   ]
  },
  {
   "cell_type": "markdown",
   "metadata": {},
   "source": [
    "# Old below"
   ]
  },
  {
   "cell_type": "code",
   "execution_count": 28,
   "metadata": {},
   "outputs": [
    {
     "ename": "NameError",
     "evalue": "name 'asdfasdfas' is not defined",
     "output_type": "error",
     "traceback": [
      "\u001b[1;31m---------------------------------------------------------------------------\u001b[0m",
      "\u001b[1;31mNameError\u001b[0m                                 Traceback (most recent call last)",
      "\u001b[1;32mc:\\Users\\rakrpe\\OneDrive - Roskilde Universitet\\Documents\\AdventOfCode2022\\2022Day24.ipynb Cell 29\u001b[0m in \u001b[0;36m<module>\u001b[1;34m\u001b[0m\n\u001b[1;32m----> <a href='vscode-notebook-cell:/c%3A/Users/rakrpe/OneDrive%20-%20Roskilde%20Universitet/Documents/AdventOfCode2022/2022Day24.ipynb#Y126sZmlsZQ%3D%3D?line=0'>1</a>\u001b[0m asdfasdfas\n",
      "\u001b[1;31mNameError\u001b[0m: name 'asdfasdfas' is not defined"
     ]
    }
   ],
   "source": [
    "asdfasdfas"
   ]
  },
  {
   "cell_type": "code",
   "execution_count": null,
   "metadata": {},
   "outputs": [],
   "source": [
    "# from queue import PriorityQueue\n",
    "\n",
    "# # curFront = PriorityQueue()\n",
    "# # curFront.put(startPos,0)\n",
    "# curFront = list()\n",
    "# curFront.append(startPos)\n",
    "\n",
    "# cameFrom = dict()\n",
    "# # cameFrom[startPos] = None\n",
    "# cameFrom[startPos[0],startPos[1],startPos[2]] = None\n",
    "\n",
    "# costSoFar = dict()\n",
    "# # costSoFar[startPos] = 0 \n",
    "# costSoFar[startPos[0],startPos[1],startPos[2]] = 0\n",
    "\n",
    "\n",
    "# haveReached = list()\n",
    "# # haveReached.append(startPos)\n",
    "# # haveReached.append((startPos[0],startPos[1]))\n",
    "# # haveReached.append(startPos[0:2]) # Add the first to\n",
    "# haveReached.append((startPos[0],startPos[1],startPos[2] % zMax))\n",
    "# haveReached\n",
    "\n",
    "\n",
    "# maxIter = 200\n",
    "# curIter = 0\n",
    "# while (len(curFront) > 0):\n",
    "# # while not curFront.empty():\n",
    "\n",
    "#     # print(cameFrom)\n",
    "\n",
    "#     # curPos = curFront.get()\n",
    "#     curPos = curFront.pop(0)\n",
    "\n",
    "#     curIter += 1\n",
    "#     if curIter > maxIter:\n",
    "#         break\n",
    "\n",
    "    \n",
    "#     # if (curPos[0] == (wi-2)) & (curPos[1] == (he-2)):\n",
    "#     if (curPos[0] == (wi-1)) & (curPos[1] == (he)):\n",
    "#         print(curPos)\n",
    "#         cameFrom[curPos[0],curPos[1]+1,curPos[2]+1] = curPos\n",
    "#         print('Done!')\n",
    "#         break \n",
    "\n",
    "\n",
    "#     curNei = getPosMoves(curPos)\n",
    "#     # print(curPos,curNei)\n",
    "\n",
    "#     for nei in curNei:\n",
    "\n",
    "#         # if (nei[0] == 5) & (nei[1] == 5):\n",
    "#         #     print('Done')\n",
    "#         #     break\n",
    "        \n",
    "#         newCost = costSoFar[curPos[0],curPos[1],curPos[2]] + 1 \n",
    "#         foundInFront = False \n",
    "#         if nei in haveReached:\n",
    "#             foundInFront = True \n",
    "#         if (foundInFront == False):\n",
    "#             costSoFar[nei[0],nei[1],nei[2]] = newCost \n",
    "#             # curPrio = newCost + heuristic(nei)\n",
    "#             curPrio = newCost \n",
    "#             # curPrio = -heuristic(nei)\n",
    "\n",
    "#             # curFront.put(nei,curPrio)\n",
    "#             curFront.append(nei)\n",
    "#             haveReached.append(nei)\n",
    "\n",
    "#             cameFrom[nei[0],nei[1],nei[2]] = curPos \n"
   ]
  },
  {
   "cell_type": "code",
   "execution_count": null,
   "metadata": {},
   "outputs": [
    {
     "name": "stdout",
     "output_type": "stream",
     "text": [
      "[5, 5, 18]\n",
      "[4, 5, 17]\n",
      "[4, 4, 16]\n",
      "[5, 4, 15]\n",
      "[5, 5, 14]\n",
      "[4, 5, 13]\n",
      "[4, 5, 12]\n",
      "[3, 5, 11]\n",
      "[2, 5, 10]\n",
      "[2, 5, 9]\n",
      "[2, 4, 8]\n",
      "[1, 4, 7]\n",
      "[0, 4, 6]\n",
      "[0, 3, 5]\n",
      "[0, 3, 4]\n",
      "[0, 2, 3]\n",
      "[0, 2, 2]\n",
      "[0, 1, 1]\n"
     ]
    },
    {
     "data": {
      "image/png": "[encoded data removed]",
      "text/plain": [
       "<Figure size 432x288 with 1 Axes>"
      ]
     },
     "metadata": {
      "needs_background": "light"
     },
     "output_type": "display_data"
    }
   ],
   "source": [
    "# getPosMoves(curPos)\n",
    "import matplotlib.pyplot as plt \n",
    "fig,ax = plt.subplots()\n",
    "curPos = [5,5,18]\n",
    "for k in range(curPos[2]):\n",
    "    print(curPos)\n",
    "    curPos = cameFrom[curPos[0],curPos[1],curPos[2]]\n",
    "    ax.plot(curPos[0],-curPos[1],'*')\n",
    "\n",
    "# cameFrom[(5,5,18)]\n",
    "cameFrom[curPos[0],curPos[1],curPos[2]]"
   ]
  },
  {
   "cell_type": "code",
   "execution_count": null,
   "metadata": {},
   "outputs": [
    {
     "name": "stdout",
     "output_type": "stream",
     "text": [
      "[0, 0, 0] [[0, 0, 1], [0, 1, 1]]\n",
      "[0, 0, 1] [[0, 0, 2], [0, 1, 2]]\n",
      "[0, 0, 2] [[0, 0, 3], [0, 1, 3]]\n",
      "[0, 0, 3] [[0, 0, 4], [0, 1, 4]]\n",
      "[0, 0, 4] [[0, 0, 5]]\n",
      "[0, 0, 5] [[0, 0, 6], [0, 1, 6]]\n",
      "[0, 0, 6] [[0, 0, 7], [0, 1, 7]]\n",
      "[0, 0, 7] [[0, 0, 8], [0, 1, 8]]\n",
      "[0, 0, 8] [[0, 0, 9], [0, 1, 9]]\n",
      "[0, 0, 9] [[0, 0, 10], [0, 1, 10]]\n",
      "[0, 0, 10] [[0, 0, 11], [0, 1, 11]]\n",
      "[0, 0, 11] [[0, 0, 12], [0, 1, 12]]\n",
      "[0, 0, 12] [[0, 0, 13], [0, 1, 13]]\n",
      "[0, 0, 13] [[0, 0, 14], [0, 1, 14]]\n",
      "[0, 0, 14] [[0, 0, 15], [0, 1, 15]]\n",
      "[0, 0, 15] [[0, 0, 16]]\n",
      "[0, 0, 16] [[0, 0, 17], [0, 1, 17]]\n",
      "[0, 0, 17] [[0, 0, 18]]\n",
      "[0, 0, 18] [[0, 0, 19]]\n",
      "[0, 0, 19] [[0, 0, 20], [0, 1, 20]]\n"
     ]
    }
   ],
   "source": [
    "from queue import PriorityQueue\n",
    "\n",
    "curFront = PriorityQueue()\n",
    "curFront.put(startPos,0)\n",
    "\n",
    "cameFrom = dict()\n",
    "# cameFrom[startPos] = None\n",
    "cameFrom[startPos[0],startPos[1],startPos[2]] = None\n",
    "\n",
    "costSoFar = dict()\n",
    "# costSoFar[startPos] = 0 \n",
    "costSoFar[startPos[0],startPos[1],startPos[2]] = 0\n",
    "\n",
    "\n",
    "haveReached = list()\n",
    "# haveReached.append(startPos)\n",
    "haveReached.append((startPos[0],startPos[1]))\n",
    "\n",
    "maxIter = 20\n",
    "curIter = 0\n",
    "# while (len(curFront) > 0):\n",
    "while not curFront.empty():\n",
    "\n",
    "    # print(cameFrom)\n",
    "\n",
    "    curPos = curFront.get()\n",
    "\n",
    "    curIter += 1\n",
    "    if curIter > maxIter:\n",
    "        break\n",
    "\n",
    "    \n",
    "    if (curPos[0] == (wi-2)) & (curPos[1] == (he-2)):\n",
    "        print('Done!')\n",
    "        break \n",
    "\n",
    "\n",
    "    curNei = getPosMoves(curPos)\n",
    "    print(curPos,curNei)\n",
    "\n",
    "    for nei in curNei:\n",
    "        \n",
    "        newCost = costSoFar[curPos[0],curPos[1],curPos[2]] + 1 \n",
    "        foundInFront = False \n",
    "        if nei in haveReached:\n",
    "            foundInFront = True \n",
    "        if (foundInFront == False):\n",
    "            costSoFar[nei[0],nei[1],nei[2]] = newCost \n",
    "            # curPrio = newCost + heuristic(nei)\n",
    "            # curPrio = newCost \n",
    "            # curPrio = -heuristic(nei)\n",
    "\n",
    "            curFront.put(nei,curPrio)\n",
    "            haveReached.append(nei)\n",
    "\n",
    "            cameFrom[nei[0],nei[1],nei[2]] = curPos \n"
   ]
  },
  {
   "cell_type": "code",
   "execution_count": null,
   "metadata": {},
   "outputs": [],
   "source": [
    "# # fullMap[:,:,3]\n",
    "# fullMap[:,:,0]\n",
    "\n",
    "\n",
    "# for s in allStorms:\n",
    "#     s.update()\n",
    "# curLayer = countStorms(allStorms)\n",
    "# curLayer\n",
    "# np.lcm(wi,he)\n",
    "# fullMap[:,:,3]\n",
    "# fullMap"
   ]
  },
  {
   "cell_type": "markdown",
   "metadata": {},
   "source": [
    "# Old below"
   ]
  },
  {
   "cell_type": "code",
   "execution_count": null,
   "metadata": {},
   "outputs": [],
   "source": [
    "# def getPosMoves(x,y,z):\n",
    "def getPosMoves(pos):\n",
    "    x,y,z = pos\n",
    "    # Always move +1 in z direction \n",
    "    # nextZ = (z+1) % zMax\n",
    "    # nextLayer = fullMap[:,:,nextZ]\n",
    "    nextZ = (z+1) \n",
    "    nextLayer = fullMap[:,:,nextZ % zMax]\n",
    "\n",
    "    # print(nextLayer)\n",
    "\n",
    "    allNei = []\n",
    "    # Staying in place\n",
    "    # print(nextLayer[x,y])\n",
    "    if nextLayer[y,x] == 0:\n",
    "        curNei = [x,y,nextZ]\n",
    "        allNei.append(curNei)\n",
    "    # Moving right\n",
    "    if x < (wi-1):\n",
    "        if nextLayer[y,x+1] == 0:\n",
    "            curNei = [x+1,y,nextZ]\n",
    "            allNei.append(curNei)\n",
    "    # Moving left\n",
    "    if x > 0:\n",
    "        if nextLayer[y,x-1] == 0:\n",
    "            curNei = [x-1,y,nextZ]\n",
    "            allNei.append(curNei)\n",
    "            \n",
    "    # Moving up\n",
    "    if y > 0:\n",
    "        if nextLayer[y-1,x] == 0:\n",
    "            curNei = [x,y-1,nextZ]\n",
    "            allNei.append(curNei)\n",
    "    # Moving down\n",
    "    if y < (he-1):\n",
    "        # print(y)\n",
    "        if nextLayer[y+1,x] == 0:\n",
    "            curNei = [x,y+1,nextZ]\n",
    "            allNei.append(curNei)\n",
    "\n",
    "    # Next to start: Allow moving to start\n",
    "    if (x == 0) & (y == 0):\n",
    "        curNei = [0,-1,nextZ]\n",
    "        allNei.append(curNei)\n",
    "    # On start: Stay or move to space below\n",
    "    if (x == 0) & (y == -1):\n",
    "        # Staying\n",
    "        curNei = [0,-1,nextZ]\n",
    "        allNei.append(curNei)\n",
    "        # Moving down\n",
    "        if nextLayer[0,0] == 0:\n",
    "            curNei = [0,0,nextZ]\n",
    "            allNei.append(curNei)\n",
    "\n",
    "    # # Next to finish\n",
    "    # if (x == (wi-1)) & (y == (he-1)):\n",
    "    #     curNei = [wi-1,he,nextZ]\n",
    "    #     allNei.append(curNei) \n",
    "\n",
    "\n",
    "    return allNei \n",
    "\n",
    "curPos = [5,2,16]\n",
    "curPos = [5,3,17]\n",
    "curPos = [4,2,15]\n",
    "# getPosMoves(curPos)\n",
    "# getPosMoves([0,-1,0]) "
   ]
  },
  {
   "cell_type": "code",
   "execution_count": null,
   "metadata": {},
   "outputs": [],
   "source": []
  },
  {
   "cell_type": "code",
   "execution_count": null,
   "metadata": {},
   "outputs": [],
   "source": [
    "# fullMap\n",
    "# fullMap[:,:,0]\n",
    "# nextLayer = fullMap[:,:,17]\n",
    "# nextLayer[4]"
   ]
  },
  {
   "cell_type": "code",
   "execution_count": null,
   "metadata": {},
   "outputs": [],
   "source": [
    "startPos = [0,-1,0]\n",
    "# startPos = [wi-3,he-1,0]\n",
    "# startPos = [0,0,1]"
   ]
  },
  {
   "cell_type": "code",
   "execution_count": null,
   "metadata": {},
   "outputs": [],
   "source": [
    "# haveReached == nei\n",
    "# curPos[2] = \n"
   ]
  },
  {
   "cell_type": "code",
   "execution_count": null,
   "metadata": {},
   "outputs": [],
   "source": [
    "curFront = list()\n",
    "curFront.append(startPos)\n",
    "curFront\n",
    "\n",
    "haveReached = list()\n",
    "haveReached.append(startPos)\n",
    "# haveReached.append([0,-1,2])\n",
    "\n",
    "cameFrom = dict() \n",
    "# cameFrom[startPos] = None\n",
    "cameFrom[startPos[0],startPos[1],startPos[2]] = None\n",
    "\n",
    "maxIter = 20000\n",
    "curIter = 0\n",
    "while (len(curFront) > 0):\n",
    "\n",
    "    curIter += 1\n",
    "    if curIter > maxIter:\n",
    "        break\n",
    "\n",
    "\n",
    "    curPos = curFront.pop(0)\n",
    "    curPos\n",
    "    \n",
    "    if (curPos[0] == (wi-2)) & (curPos[1] == (he-2)):\n",
    "        print('Done!')\n",
    "        break \n",
    "\n",
    "    curNei = getPosMoves(curPos)\n",
    "    # print(curNei)\n",
    "\n",
    "    for nei in curNei:\n",
    "\n",
    "        foundInFront = False \n",
    "\n",
    "        # if ((haveReached == nei).all(axis=1).any()):\n",
    "        if nei in haveReached:           \n",
    "            # print('asdfasdf',nei)\n",
    "            foundInFront=True\n",
    "\n",
    "        if (foundInFront == False):\n",
    "            curFront.append(nei)\n",
    "            haveReached.append(nei)\n",
    "\n",
    "            cameFrom[nei[0],nei[1]] = curPos"
   ]
  },
  {
   "cell_type": "code",
   "execution_count": null,
   "metadata": {},
   "outputs": [],
   "source": [
    "# len(curFront)\n",
    "# len(haveReached)\n",
    "endPos = curPos.copy()\n",
    "# for k in range(10):\n",
    "#     prevPos = cameFrom[curPos[0],curPos[1]]\n",
    "\n",
    "# fullMap.shape\n",
    "# cameFrom\n",
    "# fullMap"
   ]
  },
  {
   "cell_type": "code",
   "execution_count": null,
   "metadata": {},
   "outputs": [],
   "source": [
    "\n",
    "# for k in range(10):\n",
    "#     print(curPos)\n",
    "#     curPos = cameFrom[curPos[0],curPos[1]]\n",
    "# cameFrom"
   ]
  },
  {
   "cell_type": "code",
   "execution_count": null,
   "metadata": {},
   "outputs": [],
   "source": []
  },
  {
   "cell_type": "code",
   "execution_count": null,
   "metadata": {},
   "outputs": [],
   "source": [
    "# asdfasdf\n",
    "maxIter = 2000\n",
    "curIter = 0\n",
    "while (len(curFront) > 0):\n",
    "\n",
    "    curIter += 1\n",
    "    if curIter > maxIter:\n",
    "        break\n",
    "\n",
    "\n",
    "    curPos = curFront.pop(-1)\n",
    "    curPos\n",
    "    \n",
    "    if (curPos[0] == (wi-2)) & (curPos[1] == (he-2)):\n",
    "        print('Done!')\n",
    "        break \n",
    "\n",
    "    curNei = getPosMoves(curPos)\n",
    "    # print(curNei)\n",
    "\n",
    "    for nei in curNei:\n",
    "\n",
    "        foundInFront = False \n",
    "\n",
    "        # if ((haveReached == nei).all(axis=1).any()):\n",
    "        if nei in haveReached:           \n",
    "            # print('asdfasdf',nei)\n",
    "            foundInFront=True\n",
    "\n",
    "        if (foundInFront == False):\n",
    "            curFront.append(nei)\n",
    "            haveReached.append(nei)\n",
    "\n",
    "            cameFrom[nei[0],nei[1]] = curPos"
   ]
  },
  {
   "cell_type": "code",
   "execution_count": null,
   "metadata": {},
   "outputs": [],
   "source": [
    "# b = np.int64(43)\n",
    "# type(b) == int\n",
    "\n",
    "# # np.issubdtype(b,np.integer)\n",
    "# # isinstance(b,int)\n",
    "\n",
    "# import queue\n",
    "\n",
    "from collections import deque  \n",
    "\n",
    "\n",
    "thisQueue = deque()  "
   ]
  },
  {
   "cell_type": "code",
   "execution_count": null,
   "metadata": {},
   "outputs": [],
   "source": [
    "# tp = [50,50,0]\n",
    "# heuristic(tp)\n",
    "# tp = [100,20,0]\n",
    "# heuristic(tp)"
   ]
  },
  {
   "cell_type": "code",
   "execution_count": null,
   "metadata": {},
   "outputs": [],
   "source": [
    "def heuristic(pos):\n",
    "    x,y,z = pos \n",
    "    return (wi-x) + (he-y)\n",
    "    # return x + y\n",
    "    # return -(wi-x) - (he-y) \n",
    "    # return x - wi"
   ]
  },
  {
   "cell_type": "code",
   "execution_count": null,
   "metadata": {},
   "outputs": [],
   "source": [
    "# curFront.put(startPos,heuristic([50,50,30]))\n",
    "# curFront.get()\n"
   ]
  },
  {
   "cell_type": "code",
   "execution_count": null,
   "metadata": {},
   "outputs": [],
   "source": [
    "from queue import PriorityQueue\n",
    "\n",
    "curFront = PriorityQueue()\n",
    "curFront.put(startPos,0)\n",
    "\n",
    "cameFrom = dict()\n",
    "# cameFrom[startPos] = None\n",
    "cameFrom[startPos[0],startPos[1],startPos[2]] = None\n",
    "\n",
    "costSoFar = dict()\n",
    "# costSoFar[startPos] = 0 \n",
    "costSoFar[startPos[0],startPos[1],startPos[2]] = 0\n",
    "\n",
    "\n",
    "haveReached = list()\n",
    "haveReached.append(startPos)\n",
    "\n",
    "maxIter = 20000\n",
    "curIter = 0\n",
    "# while (len(curFront) > 0):\n",
    "while not curFront.empty():\n",
    "\n",
    "    # print(cameFrom)\n",
    "\n",
    "    curPos = curFront.get()\n",
    "\n",
    "    curIter += 1\n",
    "    if curIter > maxIter:\n",
    "        break\n",
    "\n",
    "    \n",
    "    if (curPos[0] == (wi-2)) & (curPos[1] == (he-2)):\n",
    "        print('Done!')\n",
    "        break \n",
    "\n",
    "\n",
    "    curNei = getPosMoves(curPos)\n",
    "    # print(curNei)\n",
    "\n",
    "    for nei in curNei:\n",
    "        \n",
    "        newCost = costSoFar[curPos[0],curPos[1],curPos[2]] + 1 \n",
    "        foundInFront = False \n",
    "        if nei in haveReached:\n",
    "            foundInFront = True \n",
    "        if (foundInFront == False):\n",
    "            costSoFar[nei[0],nei[1],nei[2]] = newCost \n",
    "            # curPrio = newCost + heuristic(nei)\n",
    "            curPrio = newCost \n",
    "            # curPrio = heuristic(nei)\n",
    "\n",
    "            curFront.put(nei,curPrio)\n",
    "            haveReached.append(nei)\n",
    "\n",
    "            cameFrom[nei[0],nei[1],nei[2]] = curPos \n",
    "\n",
    "        # foundInFront = False \n",
    "        # # if ((haveReached == nei).all(axis=1).any()):\n",
    "        # if nei in haveReached:           \n",
    "        #     # print('asdfasdf',nei)\n",
    "        #     foundInFront=True\n",
    "\n",
    "        # if (foundInFront == False):\n",
    "        #     curFront.append(nei)\n",
    "        #     haveReached.append(nei)\n",
    "\n",
    "        #     cameFrom[nei[0],nei[1]] = curPos\n",
    "    "
   ]
  },
  {
   "cell_type": "code",
   "execution_count": null,
   "metadata": {},
   "outputs": [],
   "source": [
    "# haveReached"
   ]
  },
  {
   "cell_type": "code",
   "execution_count": null,
   "metadata": {},
   "outputs": [
    {
     "name": "stdout",
     "output_type": "stream",
     "text": [
      "[0, -1, 0] [[0, 0, 1], [0, -1, 1], [0, 0, 1]]\n",
      "[0, -1, 1] [[0, -1, 2], [0, 0, 2], [0, -1, 2], [0, 0, 2]]\n",
      "[0, -1, 2] [[0, -1, 3], [1, -1, 3], [0, -1, 3]]\n",
      "[0, -1, 3] [[0, -1, 4], [0, 0, 4], [0, -1, 4], [0, 0, 4]]\n",
      "[0, -1, 4] [[0, -1, 5], [0, -1, 5]]\n",
      "[0, -1, 5] [[1, -1, 6], [0, -1, 6]]\n",
      "[0, -1, 6] [[1, -1, 7], [0, 0, 7], [0, -1, 7], [0, 0, 7]]\n",
      "[0, -1, 7] [[0, -1, 8], [0, 0, 8], [0, -1, 8], [0, 0, 8]]\n",
      "[0, -1, 8] [[0, -1, 9], [0, -1, 9]]\n",
      "[0, -1, 9] [[0, -1, 10], [1, -1, 10], [0, 0, 10], [0, -1, 10], [0, 0, 10]]\n",
      "[0, -1, 10] [[0, -1, 11], [0, -1, 11]]\n",
      "[0, -1, 11] [[0, -1, 0]]\n",
      "[0, 0, 1] [[0, 0, 2], [0, 1, 2], [0, -1, 2]]\n",
      "[0, 0, 2] [[0, 1, 3], [0, -1, 3]]\n",
      "[0, 0, 4] [[1, 0, 5], [0, -1, 5]]\n",
      "[0, 0, 7] [[0, 0, 8], [0, 1, 8], [0, -1, 8]]\n",
      "[0, 0, 8] [[1, 0, 9], [0, 1, 9], [0, -1, 9]]\n",
      "[0, 0, 10] [[0, -1, 11]]\n",
      "[0, 1, 2] [[0, 1, 3]]\n",
      "[0, 1, 3] [[0, 0, 4]]\n"
     ]
    }
   ],
   "source": [
    "from queue import PriorityQueue\n",
    "\n",
    "curFront = PriorityQueue()\n",
    "curFront.put(startPos,0)\n",
    "\n",
    "cameFrom = dict()\n",
    "# cameFrom[startPos] = None\n",
    "cameFrom[startPos[0],startPos[1],startPos[2]] = None\n",
    "\n",
    "costSoFar = dict()\n",
    "# costSoFar[startPos] = 0 \n",
    "costSoFar[startPos[0],startPos[1],startPos[2]] = 0\n",
    "\n",
    "\n",
    "haveReached = list()\n",
    "haveReached.append(startPos)\n",
    "\n",
    "maxIter = 20\n",
    "curIter = 0\n",
    "# while (len(curFront) > 0):\n",
    "while not curFront.empty():\n",
    "\n",
    "    # print(cameFrom)\n",
    "\n",
    "    curPos = curFront.get()\n",
    "\n",
    "    curIter += 1\n",
    "    if curIter > maxIter:\n",
    "        break\n",
    "\n",
    "    \n",
    "    if (curPos[0] == (wi-2)) & (curPos[1] == (he-2)):\n",
    "        print('Done!')\n",
    "        break \n",
    "\n",
    "\n",
    "    curNei = getPosMoves(curPos)\n",
    "    print(curPos,curNei)\n",
    "\n",
    "    for nei in curNei:\n",
    "        \n",
    "        newCost = costSoFar[curPos[0],curPos[1],curPos[2]] + 1 \n",
    "        foundInFront = False \n",
    "        if nei in haveReached:\n",
    "            foundInFront = True \n",
    "        if (foundInFront == False):\n",
    "            costSoFar[nei[0],nei[1],nei[2]] = newCost \n",
    "            # curPrio = newCost + heuristic(nei)\n",
    "            # curPrio = newCost \n",
    "            # curPrio = -heuristic(nei)\n",
    "\n",
    "            curFront.put(nei,curPrio)\n",
    "            haveReached.append(nei)\n",
    "\n",
    "            cameFrom[nei[0],nei[1],nei[2]] = curPos \n"
   ]
  },
  {
   "cell_type": "code",
   "execution_count": null,
   "metadata": {},
   "outputs": [
    {
     "data": {
      "text/plain": [
       "[[0, -1, 0], [0, 0, 1], [0, -1, 1], [0, -1, 2], [0, 0, 2]]"
      ]
     },
     "execution_count": 132,
     "metadata": {},
     "output_type": "execute_result"
    }
   ],
   "source": [
    "haveReached\n"
   ]
  },
  {
   "cell_type": "code",
   "execution_count": null,
   "metadata": {},
   "outputs": [],
   "source": [
    "endPos = curPos.copy()"
   ]
  },
  {
   "cell_type": "code",
   "execution_count": null,
   "metadata": {},
   "outputs": [
    {
     "name": "stdout",
     "output_type": "stream",
     "text": [
      "[4, 2, 3] 20\n",
      "[3, 2, 2] 19\n",
      "[2, 2, 1] 18\n",
      "[2, 1, 0] 17\n",
      "[2, 0, 11] 16\n",
      "[2, 0, 10] 15\n",
      "[1, 0, 9] 14\n",
      "[0, 0, 8] 13\n",
      "[0, -1, 7] 12\n",
      "[0, -1, 6] 11\n",
      "[0, -1, 5] 10\n",
      "[0, -1, 4] 9\n",
      "[0, -1, 3] 8\n",
      "[0, -1, 2] 7\n",
      "[0, -1, 1] 6\n",
      "[0, -1, 0] 5\n",
      "None 4\n"
     ]
    },
    {
     "ename": "TypeError",
     "evalue": "'NoneType' object is not subscriptable",
     "output_type": "error",
     "traceback": [
      "\u001b[1;31m---------------------------------------------------------------------------\u001b[0m",
      "\u001b[1;31mTypeError\u001b[0m                                 Traceback (most recent call last)",
      "\u001b[1;32mc:\\Users\\rakrpe\\OneDrive - Roskilde Universitet\\Documents\\AdventOfCode2022\\2022Day24.ipynb Cell 35\u001b[0m in \u001b[0;36m<module>\u001b[1;34m\u001b[0m\n\u001b[0;32m      <a href='vscode-notebook-cell:/c%3A/Users/rakrpe/OneDrive%20-%20Roskilde%20Universitet/Documents/AdventOfCode2022/2022Day24.ipynb#Y101sZmlsZQ%3D%3D?line=1'>2</a>\u001b[0m \u001b[39mfor\u001b[39;00m k \u001b[39min\u001b[39;00m \u001b[39mrange\u001b[39m(\u001b[39m18\u001b[39m):\n\u001b[0;32m      <a href='vscode-notebook-cell:/c%3A/Users/rakrpe/OneDrive%20-%20Roskilde%20Universitet/Documents/AdventOfCode2022/2022Day24.ipynb#Y101sZmlsZQ%3D%3D?line=2'>3</a>\u001b[0m     \u001b[39mprint\u001b[39m(curPos,\u001b[39m20\u001b[39m\u001b[39m-\u001b[39mk)\n\u001b[1;32m----> <a href='vscode-notebook-cell:/c%3A/Users/rakrpe/OneDrive%20-%20Roskilde%20Universitet/Documents/AdventOfCode2022/2022Day24.ipynb#Y101sZmlsZQ%3D%3D?line=3'>4</a>\u001b[0m     curPos \u001b[39m=\u001b[39m cameFrom[curPos[\u001b[39m0\u001b[39;49m],curPos[\u001b[39m1\u001b[39m],curPos[\u001b[39m2\u001b[39m]]\n",
      "\u001b[1;31mTypeError\u001b[0m: 'NoneType' object is not subscriptable"
     ]
    }
   ],
   "source": [
    "curPos = endPos.copy()\n",
    "for k in range(18):\n",
    "    print(curPos,20-k)\n",
    "    curPos = cameFrom[curPos[0],curPos[1],curPos[2]]\n"
   ]
  },
  {
   "cell_type": "code",
   "execution_count": null,
   "metadata": {},
   "outputs": [
    {
     "data": {
      "text/plain": [
       "{(0, -1, 0): None,\n",
       " (0, 0, 1): [0, -1, 0],\n",
       " (0, -1, 1): [0, -1, 0],\n",
       " (0, -1, 2): [0, -1, 1],\n",
       " (0, 0, 2): [0, -1, 1],\n",
       " (0, -1, 3): [0, -1, 2],\n",
       " (1, -1, 3): [0, -1, 2],\n",
       " (0, -1, 4): [0, -1, 3],\n",
       " (0, 0, 4): [0, -1, 3],\n",
       " (0, -1, 5): [0, -1, 4],\n",
       " (1, -1, 6): [0, -1, 5],\n",
       " (0, -1, 6): [0, -1, 5],\n",
       " (1, -1, 7): [0, -1, 6],\n",
       " (0, 0, 7): [0, -1, 6],\n",
       " (0, -1, 7): [0, -1, 6],\n",
       " (0, -1, 8): [0, -1, 7],\n",
       " (0, 0, 8): [0, -1, 7],\n",
       " (0, -1, 9): [0, -1, 8],\n",
       " (0, -1, 10): [0, -1, 9],\n",
       " (1, -1, 10): [0, -1, 9],\n",
       " (0, 0, 10): [0, -1, 9],\n",
       " (0, -1, 11): [0, -1, 10],\n",
       " (0, 1, 2): [0, 0, 1],\n",
       " (0, 1, 3): [0, 0, 2],\n",
       " (1, 0, 5): [0, 0, 4],\n",
       " (0, 1, 8): [0, 0, 7],\n",
       " (1, 0, 9): [0, 0, 8],\n",
       " (0, 1, 9): [0, 0, 8],\n",
       " (2, -1, 7): [1, -1, 6],\n",
       " (2, -1, 11): [1, -1, 10],\n",
       " (2, 0, 6): [1, 0, 5],\n",
       " (2, 0, 10): [1, 0, 9],\n",
       " (2, 0, 0): [2, -1, 11],\n",
       " (3, 0, 1): [2, 0, 0],\n",
       " (2, 1, 1): [2, 0, 0],\n",
       " (2, 1, 7): [2, 0, 6],\n",
       " (2, 0, 11): [2, 0, 10],\n",
       " (2, 1, 0): [2, 0, 11],\n",
       " (1, 1, 1): [2, 1, 0],\n",
       " (2, 2, 1): [2, 1, 0],\n",
       " (1, 1, 8): [2, 1, 7],\n",
       " (3, 2, 2): [2, 2, 1],\n",
       " (2, 3, 2): [2, 2, 1],\n",
       " (1, 3, 3): [2, 3, 2],\n",
       " (0, 3, 4): [1, 3, 3],\n",
       " (0, 3, 5): [0, 3, 4],\n",
       " (0, 2, 5): [0, 3, 4],\n",
       " (1, 2, 6): [0, 2, 5],\n",
       " (0, 1, 6): [0, 2, 5],\n",
       " (1, 3, 6): [0, 3, 5],\n",
       " (1, 3, 7): [1, 2, 6],\n",
       " (2, 3, 7): [1, 3, 6],\n",
       " (0, 3, 8): [1, 3, 7],\n",
       " (0, 3, 9): [0, 3, 8],\n",
       " (0, 3, 10): [0, 3, 9],\n",
       " (1, 3, 10): [0, 3, 9],\n",
       " (0, 3, 11): [0, 3, 10],\n",
       " (0, 2, 11): [0, 3, 10],\n",
       " (0, 1, 0): [0, 2, 11],\n",
       " (2, 3, 11): [1, 3, 10],\n",
       " (1, 2, 11): [1, 3, 10],\n",
       " (2, 2, 0): [1, 2, 11],\n",
       " (2, 3, 1): [2, 2, 0],\n",
       " (3, 3, 2): [2, 3, 1],\n",
       " (4, 0, 2): [3, 0, 1],\n",
       " (4, 2, 3): [3, 2, 2],\n",
       " (3, 1, 3): [3, 2, 2],\n",
       " (4, 1, 4): [3, 1, 3],\n",
       " (2, 1, 4): [3, 1, 3],\n",
       " (3, 0, 4): [3, 1, 3],\n",
       " (3, 1, 5): [2, 1, 4],\n",
       " (1, 1, 5): [2, 1, 4],\n",
       " (3, 0, 5): [3, 0, 4],\n",
       " (4, 0, 6): [3, 0, 5],\n",
       " (4, 3, 3): [3, 3, 2],\n",
       " (5, 0, 3): [4, 0, 2],\n",
       " (5, 0, 7): [4, 0, 6],\n",
       " (4, 1, 5): [4, 1, 4]}"
      ]
     },
     "execution_count": 100,
     "metadata": {},
     "output_type": "execute_result"
    }
   ],
   "source": [
    "# cameFrom(curPos)\n",
    "# curPos\n",
    "# he \n",
    "# fullMap\n",
    "cameFrom\n",
    "    # if (curPos[0] == (wi-2)) & (curPos[1] == (he-2)):\n",
    "    #     print('Done!')\n",
    "    #     break "
   ]
  },
  {
   "cell_type": "code",
   "execution_count": null,
   "metadata": {},
   "outputs": [],
   "source": [
    "# # curFront.empty()\n",
    "# # cameFrom\n",
    "# # costSoFar\n",
    "# asdf = curFront.get()\n",
    "# print(asdf)\n",
    "# heuristic(asdf)\n",
    "\n",
    "tp = [50,0,0]\n",
    "pr = heuristic(tp)\n",
    "curFront.put(tp,pr)\n",
    "tp = [150,0,0]\n",
    "pr = heuristic(tp)\n",
    "curFront.put(tp,pr)\n",
    "\n",
    "# curFront.get()\n",
    "\n",
    "# curFront.get()\n",
    "# curFront.put([50,0,0],)"
   ]
  },
  {
   "cell_type": "code",
   "execution_count": null,
   "metadata": {},
   "outputs": [
    {
     "data": {
      "text/plain": [
       "[4, 3, 3]"
      ]
     },
     "execution_count": 40,
     "metadata": {},
     "output_type": "execute_result"
    }
   ],
   "source": [
    "# heuristic([3,7,376])\n",
    "curFront.get(False)\n",
    "# curFront.get()"
   ]
  },
  {
   "cell_type": "code",
   "execution_count": null,
   "metadata": {},
   "outputs": [],
   "source": [
    "# curFront.put(startPos,300000)"
   ]
  },
  {
   "cell_type": "code",
   "execution_count": null,
   "metadata": {},
   "outputs": [],
   "source": [
    "# curFront.get()"
   ]
  },
  {
   "cell_type": "code",
   "execution_count": null,
   "metadata": {},
   "outputs": [],
   "source": [
    "# heuristic(asdf[0]+1,asdf[1]+4 + 3)"
   ]
  },
  {
   "cell_type": "code",
   "execution_count": null,
   "metadata": {},
   "outputs": [],
   "source": [
    "# curFront = deque()\n",
    "# curFront.append(startPos)\n",
    "# curFront\n",
    "\n",
    "# haveReached = list()\n",
    "# haveReached.append(startPos)\n",
    "# # haveReached.append([0,-1,2])\n",
    "\n",
    "# cameFrom = dict() \n",
    "# # cameFrom[startPos] = None\n",
    "# cameFrom[startPos[0],startPos[1],startPos[2]] = None\n",
    "\n",
    "# maxIter = 20000\n",
    "# curIter = 0\n",
    "# while (len(curFront) > 0):\n",
    "\n",
    "#     curIter += 1\n",
    "#     if curIter > maxIter:\n",
    "#         break\n",
    "\n",
    "\n",
    "#     # curPos = curFront.pop(0)\n",
    "#     curPos = curFront.popleft()\n",
    "#     curPos\n",
    "    \n",
    "#     if (curPos[0] == (wi-2)) & (curPos[1] == (he-2)):\n",
    "#         print('Done!')\n",
    "#         break \n",
    "\n",
    "#     curNei = getPosMoves(curPos)\n",
    "#     # print(curNei)\n",
    "\n",
    "#     for nei in curNei:\n",
    "\n",
    "#         foundInFront = False \n",
    "\n",
    "#         # if ((haveReached == nei).all(axis=1).any()):\n",
    "#         if nei in haveReached:           \n",
    "#             # print('asdfasdf',nei)\n",
    "#             foundInFront=True\n",
    "\n",
    "#         if (foundInFront == False):\n",
    "#             curFront.append(nei)\n",
    "#             haveReached.append(nei)\n",
    "\n",
    "#             cameFrom[nei[0],nei[1]] = curPos"
   ]
  },
  {
   "cell_type": "code",
   "execution_count": null,
   "metadata": {},
   "outputs": [],
   "source": [
    "\n",
    "# maxIter = 20000\n",
    "# curIter = 0\n",
    "# while (len(curFront) > 0):\n",
    "\n",
    "#     curIter += 1\n",
    "#     if curIter > maxIter:\n",
    "#         break\n",
    "\n",
    "\n",
    "#     # curPos = curFront.pop(0)\n",
    "#     curPos = curFront.popleft()\n",
    "#     curPos\n",
    "    \n",
    "#     if (curPos[0] == (wi-2)) & (curPos[1] == (he-2)):\n",
    "#         print('Done!')\n",
    "#         break \n",
    "\n",
    "#     curNei = getPosMoves(curPos)\n",
    "#     # print(curNei)\n",
    "\n",
    "#     for nei in curNei:\n",
    "\n",
    "#         foundInFront = False \n",
    "\n",
    "#         # if ((haveReached == nei).all(axis=1).any()):\n",
    "#         if nei in haveReached:           \n",
    "#             # print('asdfasdf',nei)\n",
    "#             foundInFront=True\n",
    "\n",
    "#         if (foundInFront == False):\n",
    "#             curFront.append(nei)\n",
    "#             haveReached.append(nei)\n",
    "\n",
    "#             cameFrom[nei[0],nei[1]] = curPos\n",
    "\n",
    "# print(len(haveReached))"
   ]
  },
  {
   "cell_type": "code",
   "execution_count": null,
   "metadata": {},
   "outputs": [],
   "source": [
    "# costSoFar"
   ]
  },
  {
   "cell_type": "code",
   "execution_count": null,
   "metadata": {},
   "outputs": [],
   "source": [
    "# haveReached\n",
    "# asdfasdf\n",
    "allVisited = np.zeros((wi,he))\n",
    "# for p in haveReached:\n",
    "for p in costSoFar.keys():\n",
    "    allVisited[p[0],p[1]] += 1 "
   ]
  },
  {
   "cell_type": "code",
   "execution_count": null,
   "metadata": {},
   "outputs": [
    {
     "data": {
      "text/plain": [
       "array([[ 6.,  6.,  2., 18.],\n",
       "       [ 2.,  3.,  2.,  8.],\n",
       "       [ 4.,  4.,  2.,  6.],\n",
       "       [ 3.,  2.,  1.,  1.],\n",
       "       [ 2.,  2.,  1.,  1.],\n",
       "       [ 2.,  0.,  0.,  0.]])"
      ]
     },
     "execution_count": 50,
     "metadata": {},
     "output_type": "execute_result"
    }
   ],
   "source": [
    "# allVisited\n",
    "# fullMap.shape \n",
    "# # haveReached\n",
    "# # inputs"
   ]
  },
  {
   "cell_type": "code",
   "execution_count": null,
   "metadata": {},
   "outputs": [
    {
     "data": {
      "text/plain": [
       "<matplotlib.image.AxesImage at 0x19319fff4f0>"
      ]
     },
     "execution_count": 49,
     "metadata": {},
     "output_type": "execute_result"
    },
    {
     "data": {
      "image/png": "[encoded data removed]",
      "text/plain": [
       "<Figure size 432x288 with 1 Axes>"
      ]
     },
     "metadata": {
      "needs_background": "light"
     },
     "output_type": "display_data"
    }
   ],
   "source": [
    "# haveReached\n",
    "# asdfasdf\n",
    "allVisited = np.zeros((wi,he))\n",
    "# for p in haveReached:\n",
    "for p in costSoFar.keys():\n",
    "    allVisited[p[0],p[1]] += 1 \n",
    "    \n",
    "import matplotlib.pyplot as plt\n",
    "\n",
    "fig,ax = plt.subplots()\n",
    "\n",
    "ax.imshow(allVisited.T)\n",
    "\n"
   ]
  },
  {
   "cell_type": "code",
   "execution_count": null,
   "metadata": {},
   "outputs": [
    {
     "ename": "NameError",
     "evalue": "name 'asasdfasdfasdf' is not defined",
     "output_type": "error",
     "traceback": [
      "\u001b[1;31m---------------------------------------------------------------------------\u001b[0m",
      "\u001b[1;31mNameError\u001b[0m                                 Traceback (most recent call last)",
      "\u001b[1;32mc:\\Users\\rakrpe\\OneDrive - Roskilde Universitet\\Documents\\AdventOfCode2022\\2022Day24.ipynb Cell 24\u001b[0m in \u001b[0;36m<module>\u001b[1;34m\u001b[0m\n\u001b[1;32m----> <a href='vscode-notebook-cell:/c%3A/Users/rakrpe/OneDrive%20-%20Roskilde%20Universitet/Documents/AdventOfCode2022/2022Day24.ipynb#X32sZmlsZQ%3D%3D?line=0'>1</a>\u001b[0m asasdfasdfasdf\n",
      "\u001b[1;31mNameError\u001b[0m: name 'asasdfasdfasdf' is not defined"
     ]
    }
   ],
   "source": [
    "# asasdfasdfasdf\n",
    "# for s in allStorms:\n",
    "#     s.update()\n",
    "# curLayer = countStorms(allStorms)\n",
    "# fullMap[:,:,0] = curLayer\n",
    "\n",
    "# # for i in range(wi*he):\n",
    "# #     print('--------------')\n",
    "# #     for s in allStorms:\n",
    "# #         s.update()\n",
    "# #     showStorms(allStorms)\n"
   ]
  },
  {
   "cell_type": "code",
   "execution_count": null,
   "metadata": {},
   "outputs": [
    {
     "data": {
      "text/plain": [
       "array([[1., 2., 0., 1., 0., 1.],\n",
       "       [0., 2., 1., 1., 2., 1.],\n",
       "       [1., 0., 0., 1., 2., 1.],\n",
       "       [1., 0., 0., 0., 0., 1.]])"
      ]
     },
     "execution_count": 300,
     "metadata": {},
     "output_type": "execute_result"
    }
   ],
   "source": [
    "\n",
    "# for s in allStorms:\n",
    "#     s.update()\n",
    "\n",
    "# curLayer = countStorms(allStorms)\n",
    "# curLayer\n",
    "# fullMap[:,:,0] = curLayer\n",
    "# fullMap[:,:,]\n"
   ]
  },
  {
   "cell_type": "code",
   "execution_count": null,
   "metadata": {},
   "outputs": [],
   "source": [
    "# zMax = wi*he \n",
    "\n",
    "# fullMap = np.zeros((he,wi,zMax))\n",
    "# # fullMap\n",
    "# curLayer = countStorms(allStorms)\n",
    "\n",
    "# fullMap[:,:,0] = curLayer"
   ]
  },
  {
   "cell_type": "code",
   "execution_count": null,
   "metadata": {},
   "outputs": [
    {
     "data": {
      "text/plain": [
       "array([[0., 0., 0., 0., 0., 0.],\n",
       "       [0., 0., 0., 0., 0., 0.],\n",
       "       [0., 0., 0., 0., 0., 0.],\n",
       "       [0., 0., 0., 0., 0., 0.]])"
      ]
     },
     "execution_count": 266,
     "metadata": {},
     "output_type": "execute_result"
    }
   ],
   "source": [
    "fullMap[:,:,1]"
   ]
  }
 ],
 "metadata": {
  "kernelspec": {
   "display_name": "Python 3.10.0 ('main')",
   "language": "python",
   "name": "python3"
  },
  "language_info": {
   "codemirror_mode": {
    "name": "ipython",
    "version": 3
   },
   "file_extension": ".py",
   "mimetype": "text/x-python",
   "name": "python",
   "nbconvert_exporter": "python",
   "pygments_lexer": "ipython3",
   "version": "3.10.0"
  },
  "orig_nbformat": 4,
  "vscode": {
   "interpreter": {
    "hash": "e6af94e5c5af6f455ad39eba9e20d9ee46a7c0c9ebf8b81ae3b0b6f1a6d45f70"
   }
  }
 },
 "nbformat": 4,
 "nbformat_minor": 2
}
